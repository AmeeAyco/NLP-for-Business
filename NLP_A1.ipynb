{
  "nbformat": 4,
  "nbformat_minor": 0,
  "metadata": {
    "colab": {
      "name": "NLP A1.ipynb",
      "provenance": [],
      "authorship_tag": "ABX9TyNYA3ZaKfWfTiCplvoSepcb",
      "include_colab_link": true
    },
    "kernelspec": {
      "name": "python3",
      "display_name": "Python 3"
    },
    "language_info": {
      "name": "python"
    }
  },
  "cells": [
    {
      "cell_type": "markdown",
      "metadata": {
        "id": "view-in-github",
        "colab_type": "text"
      },
      "source": [
        "<a href=\"https://colab.research.google.com/github/QasimKhan5x/NLP-for-Business/blob/main/NLP_A1.ipynb\" target=\"_parent\"><img src=\"https://colab.research.google.com/assets/colab-badge.svg\" alt=\"Open In Colab\"/></a>"
      ]
    },
    {
      "cell_type": "code",
      "source": [
        "from google.colab import auth\n",
        "auth.authenticate_user()"
      ],
      "metadata": {
        "id": "TviLZx7f02ez"
      },
      "execution_count": null,
      "outputs": []
    },
    {
      "cell_type": "markdown",
      "source": [
        "Download the data from google spreadsheets"
      ],
      "metadata": {
        "id": "4ZxTOOG14vWr"
      }
    },
    {
      "cell_type": "code",
      "source": [
        "import gspread\n",
        "from oauth2client.client import GoogleCredentials\n",
        "\n",
        "gc = gspread.authorize(GoogleCredentials.get_application_default())\n",
        "wb = gc.open_by_url('https://docs.google.com/spreadsheets/d/1lInyxuxoW8KDKOLmrmVRuEPSNDHWXOZ6mx0LDWPzCXc')\n",
        "sheet = wb.worksheet('game_reviews')\n",
        "data = sheet.get_all_values()"
      ],
      "metadata": {
        "id": "d5KYc5P503u9"
      },
      "execution_count": null,
      "outputs": []
    },
    {
      "cell_type": "code",
      "execution_count": null,
      "metadata": {
        "id": "bgsnjKJ-zKMH"
      },
      "outputs": [],
      "source": [
        "import numpy as np\n",
        "import pandas as pd"
      ]
    },
    {
      "cell_type": "code",
      "source": [
        "df = pd.DataFrame(data)\n",
        "df.columns = df.iloc[0]\n",
        "df = df.iloc[1:]\n",
        "df.head()"
      ],
      "metadata": {
        "colab": {
          "base_uri": "https://localhost:8080/",
          "height": 206
        },
        "id": "XDFCNofG0_DE",
        "outputId": "53e7cc1d-f262-4310-f595-73fb1a916750"
      },
      "execution_count": null,
      "outputs": [
        {
          "output_type": "execute_result",
          "data": {
            "text/html": [
              "\n",
              "  <div id=\"df-7389330c-a10c-4f31-aa81-c45005e68003\">\n",
              "    <div class=\"colab-df-container\">\n",
              "      <div>\n",
              "<style scoped>\n",
              "    .dataframe tbody tr th:only-of-type {\n",
              "        vertical-align: middle;\n",
              "    }\n",
              "\n",
              "    .dataframe tbody tr th {\n",
              "        vertical-align: top;\n",
              "    }\n",
              "\n",
              "    .dataframe thead th {\n",
              "        text-align: right;\n",
              "    }\n",
              "</style>\n",
              "<table border=\"1\" class=\"dataframe\">\n",
              "  <thead>\n",
              "    <tr style=\"text-align: right;\">\n",
              "      <th></th>\n",
              "      <th>author age</th>\n",
              "      <th>recommended age</th>\n",
              "      <th>review</th>\n",
              "    </tr>\n",
              "  </thead>\n",
              "  <tbody>\n",
              "    <tr>\n",
              "      <th>1</th>\n",
              "      <td>Teen, 17 years old</td>\n",
              "      <td>age 7+</td>\n",
              "      <td>Kids dont listent to the parents saying ''ThIs...</td>\n",
              "    </tr>\n",
              "    <tr>\n",
              "      <th>2</th>\n",
              "      <td>Kid, 11 years old</td>\n",
              "      <td>age 2+</td>\n",
              "      <td>I have been playing this game for many years a...</td>\n",
              "    </tr>\n",
              "    <tr>\n",
              "      <th>3</th>\n",
              "      <td>Kid, 12 years old</td>\n",
              "      <td>age 7+</td>\n",
              "      <td>The game is great with no true inappropriate t...</td>\n",
              "    </tr>\n",
              "    <tr>\n",
              "      <th>4</th>\n",
              "      <td>Teen, 13 years old</td>\n",
              "      <td>age 5+</td>\n",
              "      <td>Are you sure you got common sense. I would giv...</td>\n",
              "    </tr>\n",
              "    <tr>\n",
              "      <th>5</th>\n",
              "      <td>Kid, 10 years old</td>\n",
              "      <td>age 5+</td>\n",
              "      <td>IDK WHAT TO SAY BUT DIS IS DA BEST GAME EVA</td>\n",
              "    </tr>\n",
              "  </tbody>\n",
              "</table>\n",
              "</div>\n",
              "      <button class=\"colab-df-convert\" onclick=\"convertToInteractive('df-7389330c-a10c-4f31-aa81-c45005e68003')\"\n",
              "              title=\"Convert this dataframe to an interactive table.\"\n",
              "              style=\"display:none;\">\n",
              "        \n",
              "  <svg xmlns=\"http://www.w3.org/2000/svg\" height=\"24px\"viewBox=\"0 0 24 24\"\n",
              "       width=\"24px\">\n",
              "    <path d=\"M0 0h24v24H0V0z\" fill=\"none\"/>\n",
              "    <path d=\"M18.56 5.44l.94 2.06.94-2.06 2.06-.94-2.06-.94-.94-2.06-.94 2.06-2.06.94zm-11 1L8.5 8.5l.94-2.06 2.06-.94-2.06-.94L8.5 2.5l-.94 2.06-2.06.94zm10 10l.94 2.06.94-2.06 2.06-.94-2.06-.94-.94-2.06-.94 2.06-2.06.94z\"/><path d=\"M17.41 7.96l-1.37-1.37c-.4-.4-.92-.59-1.43-.59-.52 0-1.04.2-1.43.59L10.3 9.45l-7.72 7.72c-.78.78-.78 2.05 0 2.83L4 21.41c.39.39.9.59 1.41.59.51 0 1.02-.2 1.41-.59l7.78-7.78 2.81-2.81c.8-.78.8-2.07 0-2.86zM5.41 20L4 18.59l7.72-7.72 1.47 1.35L5.41 20z\"/>\n",
              "  </svg>\n",
              "      </button>\n",
              "      \n",
              "  <style>\n",
              "    .colab-df-container {\n",
              "      display:flex;\n",
              "      flex-wrap:wrap;\n",
              "      gap: 12px;\n",
              "    }\n",
              "\n",
              "    .colab-df-convert {\n",
              "      background-color: #E8F0FE;\n",
              "      border: none;\n",
              "      border-radius: 50%;\n",
              "      cursor: pointer;\n",
              "      display: none;\n",
              "      fill: #1967D2;\n",
              "      height: 32px;\n",
              "      padding: 0 0 0 0;\n",
              "      width: 32px;\n",
              "    }\n",
              "\n",
              "    .colab-df-convert:hover {\n",
              "      background-color: #E2EBFA;\n",
              "      box-shadow: 0px 1px 2px rgba(60, 64, 67, 0.3), 0px 1px 3px 1px rgba(60, 64, 67, 0.15);\n",
              "      fill: #174EA6;\n",
              "    }\n",
              "\n",
              "    [theme=dark] .colab-df-convert {\n",
              "      background-color: #3B4455;\n",
              "      fill: #D2E3FC;\n",
              "    }\n",
              "\n",
              "    [theme=dark] .colab-df-convert:hover {\n",
              "      background-color: #434B5C;\n",
              "      box-shadow: 0px 1px 3px 1px rgba(0, 0, 0, 0.15);\n",
              "      filter: drop-shadow(0px 1px 2px rgba(0, 0, 0, 0.3));\n",
              "      fill: #FFFFFF;\n",
              "    }\n",
              "  </style>\n",
              "\n",
              "      <script>\n",
              "        const buttonEl =\n",
              "          document.querySelector('#df-7389330c-a10c-4f31-aa81-c45005e68003 button.colab-df-convert');\n",
              "        buttonEl.style.display =\n",
              "          google.colab.kernel.accessAllowed ? 'block' : 'none';\n",
              "\n",
              "        async function convertToInteractive(key) {\n",
              "          const element = document.querySelector('#df-7389330c-a10c-4f31-aa81-c45005e68003');\n",
              "          const dataTable =\n",
              "            await google.colab.kernel.invokeFunction('convertToInteractive',\n",
              "                                                     [key], {});\n",
              "          if (!dataTable) return;\n",
              "\n",
              "          const docLinkHtml = 'Like what you see? Visit the ' +\n",
              "            '<a target=\"_blank\" href=https://colab.research.google.com/notebooks/data_table.ipynb>data table notebook</a>'\n",
              "            + ' to learn more about interactive tables.';\n",
              "          element.innerHTML = '';\n",
              "          dataTable['output_type'] = 'display_data';\n",
              "          await google.colab.output.renderOutput(dataTable, element);\n",
              "          const docLink = document.createElement('div');\n",
              "          docLink.innerHTML = docLinkHtml;\n",
              "          element.appendChild(docLink);\n",
              "        }\n",
              "      </script>\n",
              "    </div>\n",
              "  </div>\n",
              "  "
            ],
            "text/plain": [
              "0          author age  ...                                             review\n",
              "1  Teen, 17 years old  ...  Kids dont listent to the parents saying ''ThIs...\n",
              "2   Kid, 11 years old  ...  I have been playing this game for many years a...\n",
              "3   Kid, 12 years old  ...  The game is great with no true inappropriate t...\n",
              "4  Teen, 13 years old  ...  Are you sure you got common sense. I would giv...\n",
              "5   Kid, 10 years old  ...        IDK WHAT TO SAY BUT DIS IS DA BEST GAME EVA\n",
              "\n",
              "[5 rows x 3 columns]"
            ]
          },
          "metadata": {},
          "execution_count": 21
        }
      ]
    },
    {
      "cell_type": "markdown",
      "source": [
        "Featurize the 'author age' column and then drop it"
      ],
      "metadata": {
        "id": "XJNW9ZDo4zaC"
      }
    },
    {
      "cell_type": "code",
      "source": [
        "df['author_age_cat'] = df['author age'].str.split(', ', expand=True).loc[:, 0]\n",
        "df['author_age'] = df['author age'].str.split(', ', expand=True).loc[:, 1].str.extract('(\\d{2})')\n",
        "df['author_age'] = pd.to_numeric(df['author_age'])\n",
        "df.drop('author age', axis=1, inplace=True)\n",
        "df.head()"
      ],
      "metadata": {
        "colab": {
          "base_uri": "https://localhost:8080/",
          "height": 206
        },
        "id": "K8n1NWoi1RHb",
        "outputId": "619fed22-bb3e-488b-ae06-d5ba7fe989f1"
      },
      "execution_count": null,
      "outputs": [
        {
          "output_type": "execute_result",
          "data": {
            "text/html": [
              "\n",
              "  <div id=\"df-e412500f-7341-4375-bee4-6c93fadec2e9\">\n",
              "    <div class=\"colab-df-container\">\n",
              "      <div>\n",
              "<style scoped>\n",
              "    .dataframe tbody tr th:only-of-type {\n",
              "        vertical-align: middle;\n",
              "    }\n",
              "\n",
              "    .dataframe tbody tr th {\n",
              "        vertical-align: top;\n",
              "    }\n",
              "\n",
              "    .dataframe thead th {\n",
              "        text-align: right;\n",
              "    }\n",
              "</style>\n",
              "<table border=\"1\" class=\"dataframe\">\n",
              "  <thead>\n",
              "    <tr style=\"text-align: right;\">\n",
              "      <th></th>\n",
              "      <th>recommended age</th>\n",
              "      <th>review</th>\n",
              "      <th>author_age_cat</th>\n",
              "      <th>author_age</th>\n",
              "    </tr>\n",
              "  </thead>\n",
              "  <tbody>\n",
              "    <tr>\n",
              "      <th>1</th>\n",
              "      <td>age 7+</td>\n",
              "      <td>Kids dont listent to the parents saying ''ThIs...</td>\n",
              "      <td>Teen</td>\n",
              "      <td>17.0</td>\n",
              "    </tr>\n",
              "    <tr>\n",
              "      <th>2</th>\n",
              "      <td>age 2+</td>\n",
              "      <td>I have been playing this game for many years a...</td>\n",
              "      <td>Kid</td>\n",
              "      <td>11.0</td>\n",
              "    </tr>\n",
              "    <tr>\n",
              "      <th>3</th>\n",
              "      <td>age 7+</td>\n",
              "      <td>The game is great with no true inappropriate t...</td>\n",
              "      <td>Kid</td>\n",
              "      <td>12.0</td>\n",
              "    </tr>\n",
              "    <tr>\n",
              "      <th>4</th>\n",
              "      <td>age 5+</td>\n",
              "      <td>Are you sure you got common sense. I would giv...</td>\n",
              "      <td>Teen</td>\n",
              "      <td>13.0</td>\n",
              "    </tr>\n",
              "    <tr>\n",
              "      <th>5</th>\n",
              "      <td>age 5+</td>\n",
              "      <td>IDK WHAT TO SAY BUT DIS IS DA BEST GAME EVA</td>\n",
              "      <td>Kid</td>\n",
              "      <td>10.0</td>\n",
              "    </tr>\n",
              "  </tbody>\n",
              "</table>\n",
              "</div>\n",
              "      <button class=\"colab-df-convert\" onclick=\"convertToInteractive('df-e412500f-7341-4375-bee4-6c93fadec2e9')\"\n",
              "              title=\"Convert this dataframe to an interactive table.\"\n",
              "              style=\"display:none;\">\n",
              "        \n",
              "  <svg xmlns=\"http://www.w3.org/2000/svg\" height=\"24px\"viewBox=\"0 0 24 24\"\n",
              "       width=\"24px\">\n",
              "    <path d=\"M0 0h24v24H0V0z\" fill=\"none\"/>\n",
              "    <path d=\"M18.56 5.44l.94 2.06.94-2.06 2.06-.94-2.06-.94-.94-2.06-.94 2.06-2.06.94zm-11 1L8.5 8.5l.94-2.06 2.06-.94-2.06-.94L8.5 2.5l-.94 2.06-2.06.94zm10 10l.94 2.06.94-2.06 2.06-.94-2.06-.94-.94-2.06-.94 2.06-2.06.94z\"/><path d=\"M17.41 7.96l-1.37-1.37c-.4-.4-.92-.59-1.43-.59-.52 0-1.04.2-1.43.59L10.3 9.45l-7.72 7.72c-.78.78-.78 2.05 0 2.83L4 21.41c.39.39.9.59 1.41.59.51 0 1.02-.2 1.41-.59l7.78-7.78 2.81-2.81c.8-.78.8-2.07 0-2.86zM5.41 20L4 18.59l7.72-7.72 1.47 1.35L5.41 20z\"/>\n",
              "  </svg>\n",
              "      </button>\n",
              "      \n",
              "  <style>\n",
              "    .colab-df-container {\n",
              "      display:flex;\n",
              "      flex-wrap:wrap;\n",
              "      gap: 12px;\n",
              "    }\n",
              "\n",
              "    .colab-df-convert {\n",
              "      background-color: #E8F0FE;\n",
              "      border: none;\n",
              "      border-radius: 50%;\n",
              "      cursor: pointer;\n",
              "      display: none;\n",
              "      fill: #1967D2;\n",
              "      height: 32px;\n",
              "      padding: 0 0 0 0;\n",
              "      width: 32px;\n",
              "    }\n",
              "\n",
              "    .colab-df-convert:hover {\n",
              "      background-color: #E2EBFA;\n",
              "      box-shadow: 0px 1px 2px rgba(60, 64, 67, 0.3), 0px 1px 3px 1px rgba(60, 64, 67, 0.15);\n",
              "      fill: #174EA6;\n",
              "    }\n",
              "\n",
              "    [theme=dark] .colab-df-convert {\n",
              "      background-color: #3B4455;\n",
              "      fill: #D2E3FC;\n",
              "    }\n",
              "\n",
              "    [theme=dark] .colab-df-convert:hover {\n",
              "      background-color: #434B5C;\n",
              "      box-shadow: 0px 1px 3px 1px rgba(0, 0, 0, 0.15);\n",
              "      filter: drop-shadow(0px 1px 2px rgba(0, 0, 0, 0.3));\n",
              "      fill: #FFFFFF;\n",
              "    }\n",
              "  </style>\n",
              "\n",
              "      <script>\n",
              "        const buttonEl =\n",
              "          document.querySelector('#df-e412500f-7341-4375-bee4-6c93fadec2e9 button.colab-df-convert');\n",
              "        buttonEl.style.display =\n",
              "          google.colab.kernel.accessAllowed ? 'block' : 'none';\n",
              "\n",
              "        async function convertToInteractive(key) {\n",
              "          const element = document.querySelector('#df-e412500f-7341-4375-bee4-6c93fadec2e9');\n",
              "          const dataTable =\n",
              "            await google.colab.kernel.invokeFunction('convertToInteractive',\n",
              "                                                     [key], {});\n",
              "          if (!dataTable) return;\n",
              "\n",
              "          const docLinkHtml = 'Like what you see? Visit the ' +\n",
              "            '<a target=\"_blank\" href=https://colab.research.google.com/notebooks/data_table.ipynb>data table notebook</a>'\n",
              "            + ' to learn more about interactive tables.';\n",
              "          element.innerHTML = '';\n",
              "          dataTable['output_type'] = 'display_data';\n",
              "          await google.colab.output.renderOutput(dataTable, element);\n",
              "          const docLink = document.createElement('div');\n",
              "          docLink.innerHTML = docLinkHtml;\n",
              "          element.appendChild(docLink);\n",
              "        }\n",
              "      </script>\n",
              "    </div>\n",
              "  </div>\n",
              "  "
            ],
            "text/plain": [
              "0 recommended age  ... author_age\n",
              "1          age 7+  ...       17.0\n",
              "2          age 2+  ...       11.0\n",
              "3          age 7+  ...       12.0\n",
              "4          age 5+  ...       13.0\n",
              "5          age 5+  ...       10.0\n",
              "\n",
              "[5 rows x 4 columns]"
            ]
          },
          "metadata": {},
          "execution_count": 22
        }
      ]
    },
    {
      "cell_type": "markdown",
      "source": [
        "Re-order the columns"
      ],
      "metadata": {
        "id": "TcPh6XDl43la"
      }
    },
    {
      "cell_type": "code",
      "source": [
        "cols = df.columns.tolist()\n",
        "cols = cols[2:] + cols[:2]\n",
        "df = df[cols]\n",
        "df.head()"
      ],
      "metadata": {
        "colab": {
          "base_uri": "https://localhost:8080/",
          "height": 206
        },
        "id": "t0Kqxu4B1i8k",
        "outputId": "d01d84dd-0b78-419c-ee66-ac38b2a4cbde"
      },
      "execution_count": null,
      "outputs": [
        {
          "output_type": "execute_result",
          "data": {
            "text/html": [
              "\n",
              "  <div id=\"df-da5888f0-97f3-40d3-ae23-7c5e979bbf9f\">\n",
              "    <div class=\"colab-df-container\">\n",
              "      <div>\n",
              "<style scoped>\n",
              "    .dataframe tbody tr th:only-of-type {\n",
              "        vertical-align: middle;\n",
              "    }\n",
              "\n",
              "    .dataframe tbody tr th {\n",
              "        vertical-align: top;\n",
              "    }\n",
              "\n",
              "    .dataframe thead th {\n",
              "        text-align: right;\n",
              "    }\n",
              "</style>\n",
              "<table border=\"1\" class=\"dataframe\">\n",
              "  <thead>\n",
              "    <tr style=\"text-align: right;\">\n",
              "      <th></th>\n",
              "      <th>author_age_cat</th>\n",
              "      <th>author_age</th>\n",
              "      <th>recommended age</th>\n",
              "      <th>review</th>\n",
              "    </tr>\n",
              "  </thead>\n",
              "  <tbody>\n",
              "    <tr>\n",
              "      <th>1</th>\n",
              "      <td>Teen</td>\n",
              "      <td>17.0</td>\n",
              "      <td>age 7+</td>\n",
              "      <td>Kids dont listent to the parents saying ''ThIs...</td>\n",
              "    </tr>\n",
              "    <tr>\n",
              "      <th>2</th>\n",
              "      <td>Kid</td>\n",
              "      <td>11.0</td>\n",
              "      <td>age 2+</td>\n",
              "      <td>I have been playing this game for many years a...</td>\n",
              "    </tr>\n",
              "    <tr>\n",
              "      <th>3</th>\n",
              "      <td>Kid</td>\n",
              "      <td>12.0</td>\n",
              "      <td>age 7+</td>\n",
              "      <td>The game is great with no true inappropriate t...</td>\n",
              "    </tr>\n",
              "    <tr>\n",
              "      <th>4</th>\n",
              "      <td>Teen</td>\n",
              "      <td>13.0</td>\n",
              "      <td>age 5+</td>\n",
              "      <td>Are you sure you got common sense. I would giv...</td>\n",
              "    </tr>\n",
              "    <tr>\n",
              "      <th>5</th>\n",
              "      <td>Kid</td>\n",
              "      <td>10.0</td>\n",
              "      <td>age 5+</td>\n",
              "      <td>IDK WHAT TO SAY BUT DIS IS DA BEST GAME EVA</td>\n",
              "    </tr>\n",
              "  </tbody>\n",
              "</table>\n",
              "</div>\n",
              "      <button class=\"colab-df-convert\" onclick=\"convertToInteractive('df-da5888f0-97f3-40d3-ae23-7c5e979bbf9f')\"\n",
              "              title=\"Convert this dataframe to an interactive table.\"\n",
              "              style=\"display:none;\">\n",
              "        \n",
              "  <svg xmlns=\"http://www.w3.org/2000/svg\" height=\"24px\"viewBox=\"0 0 24 24\"\n",
              "       width=\"24px\">\n",
              "    <path d=\"M0 0h24v24H0V0z\" fill=\"none\"/>\n",
              "    <path d=\"M18.56 5.44l.94 2.06.94-2.06 2.06-.94-2.06-.94-.94-2.06-.94 2.06-2.06.94zm-11 1L8.5 8.5l.94-2.06 2.06-.94-2.06-.94L8.5 2.5l-.94 2.06-2.06.94zm10 10l.94 2.06.94-2.06 2.06-.94-2.06-.94-.94-2.06-.94 2.06-2.06.94z\"/><path d=\"M17.41 7.96l-1.37-1.37c-.4-.4-.92-.59-1.43-.59-.52 0-1.04.2-1.43.59L10.3 9.45l-7.72 7.72c-.78.78-.78 2.05 0 2.83L4 21.41c.39.39.9.59 1.41.59.51 0 1.02-.2 1.41-.59l7.78-7.78 2.81-2.81c.8-.78.8-2.07 0-2.86zM5.41 20L4 18.59l7.72-7.72 1.47 1.35L5.41 20z\"/>\n",
              "  </svg>\n",
              "      </button>\n",
              "      \n",
              "  <style>\n",
              "    .colab-df-container {\n",
              "      display:flex;\n",
              "      flex-wrap:wrap;\n",
              "      gap: 12px;\n",
              "    }\n",
              "\n",
              "    .colab-df-convert {\n",
              "      background-color: #E8F0FE;\n",
              "      border: none;\n",
              "      border-radius: 50%;\n",
              "      cursor: pointer;\n",
              "      display: none;\n",
              "      fill: #1967D2;\n",
              "      height: 32px;\n",
              "      padding: 0 0 0 0;\n",
              "      width: 32px;\n",
              "    }\n",
              "\n",
              "    .colab-df-convert:hover {\n",
              "      background-color: #E2EBFA;\n",
              "      box-shadow: 0px 1px 2px rgba(60, 64, 67, 0.3), 0px 1px 3px 1px rgba(60, 64, 67, 0.15);\n",
              "      fill: #174EA6;\n",
              "    }\n",
              "\n",
              "    [theme=dark] .colab-df-convert {\n",
              "      background-color: #3B4455;\n",
              "      fill: #D2E3FC;\n",
              "    }\n",
              "\n",
              "    [theme=dark] .colab-df-convert:hover {\n",
              "      background-color: #434B5C;\n",
              "      box-shadow: 0px 1px 3px 1px rgba(0, 0, 0, 0.15);\n",
              "      filter: drop-shadow(0px 1px 2px rgba(0, 0, 0, 0.3));\n",
              "      fill: #FFFFFF;\n",
              "    }\n",
              "  </style>\n",
              "\n",
              "      <script>\n",
              "        const buttonEl =\n",
              "          document.querySelector('#df-da5888f0-97f3-40d3-ae23-7c5e979bbf9f button.colab-df-convert');\n",
              "        buttonEl.style.display =\n",
              "          google.colab.kernel.accessAllowed ? 'block' : 'none';\n",
              "\n",
              "        async function convertToInteractive(key) {\n",
              "          const element = document.querySelector('#df-da5888f0-97f3-40d3-ae23-7c5e979bbf9f');\n",
              "          const dataTable =\n",
              "            await google.colab.kernel.invokeFunction('convertToInteractive',\n",
              "                                                     [key], {});\n",
              "          if (!dataTable) return;\n",
              "\n",
              "          const docLinkHtml = 'Like what you see? Visit the ' +\n",
              "            '<a target=\"_blank\" href=https://colab.research.google.com/notebooks/data_table.ipynb>data table notebook</a>'\n",
              "            + ' to learn more about interactive tables.';\n",
              "          element.innerHTML = '';\n",
              "          dataTable['output_type'] = 'display_data';\n",
              "          await google.colab.output.renderOutput(dataTable, element);\n",
              "          const docLink = document.createElement('div');\n",
              "          docLink.innerHTML = docLinkHtml;\n",
              "          element.appendChild(docLink);\n",
              "        }\n",
              "      </script>\n",
              "    </div>\n",
              "  </div>\n",
              "  "
            ],
            "text/plain": [
              "0 author_age_cat  ...                                             review\n",
              "1           Teen  ...  Kids dont listent to the parents saying ''ThIs...\n",
              "2            Kid  ...  I have been playing this game for many years a...\n",
              "3            Kid  ...  The game is great with no true inappropriate t...\n",
              "4           Teen  ...  Are you sure you got common sense. I would giv...\n",
              "5            Kid  ...        IDK WHAT TO SAY BUT DIS IS DA BEST GAME EVA\n",
              "\n",
              "[5 rows x 4 columns]"
            ]
          },
          "metadata": {},
          "execution_count": 23
        }
      ]
    },
    {
      "cell_type": "markdown",
      "source": [
        "Classify review as safe if the recommended age is less than 10"
      ],
      "metadata": {
        "id": "I58Y89o945oz"
      }
    },
    {
      "cell_type": "code",
      "source": [
        "rec_ages = pd.to_numeric(df['recommended age'].str.extract('(\\d+)').loc[:, 0])\n",
        "df['safe'] = rec_ages.apply(lambda age: 0 if age >= 10 else 1)\n",
        "df.head()"
      ],
      "metadata": {
        "colab": {
          "base_uri": "https://localhost:8080/",
          "height": 206
        },
        "id": "BYpcmByZ4E3r",
        "outputId": "06161105-cc4f-431b-8c39-b2a6c7d9e2e8"
      },
      "execution_count": null,
      "outputs": [
        {
          "output_type": "execute_result",
          "data": {
            "text/html": [
              "\n",
              "  <div id=\"df-656a76dd-a1d5-4ccc-aedb-4080eb036e54\">\n",
              "    <div class=\"colab-df-container\">\n",
              "      <div>\n",
              "<style scoped>\n",
              "    .dataframe tbody tr th:only-of-type {\n",
              "        vertical-align: middle;\n",
              "    }\n",
              "\n",
              "    .dataframe tbody tr th {\n",
              "        vertical-align: top;\n",
              "    }\n",
              "\n",
              "    .dataframe thead th {\n",
              "        text-align: right;\n",
              "    }\n",
              "</style>\n",
              "<table border=\"1\" class=\"dataframe\">\n",
              "  <thead>\n",
              "    <tr style=\"text-align: right;\">\n",
              "      <th></th>\n",
              "      <th>author_age_cat</th>\n",
              "      <th>author_age</th>\n",
              "      <th>recommended age</th>\n",
              "      <th>review</th>\n",
              "      <th>safe</th>\n",
              "    </tr>\n",
              "  </thead>\n",
              "  <tbody>\n",
              "    <tr>\n",
              "      <th>1</th>\n",
              "      <td>Teen</td>\n",
              "      <td>17.0</td>\n",
              "      <td>age 7+</td>\n",
              "      <td>Kids dont listent to the parents saying ''ThIs...</td>\n",
              "      <td>1</td>\n",
              "    </tr>\n",
              "    <tr>\n",
              "      <th>2</th>\n",
              "      <td>Kid</td>\n",
              "      <td>11.0</td>\n",
              "      <td>age 2+</td>\n",
              "      <td>I have been playing this game for many years a...</td>\n",
              "      <td>1</td>\n",
              "    </tr>\n",
              "    <tr>\n",
              "      <th>3</th>\n",
              "      <td>Kid</td>\n",
              "      <td>12.0</td>\n",
              "      <td>age 7+</td>\n",
              "      <td>The game is great with no true inappropriate t...</td>\n",
              "      <td>1</td>\n",
              "    </tr>\n",
              "    <tr>\n",
              "      <th>4</th>\n",
              "      <td>Teen</td>\n",
              "      <td>13.0</td>\n",
              "      <td>age 5+</td>\n",
              "      <td>Are you sure you got common sense. I would giv...</td>\n",
              "      <td>1</td>\n",
              "    </tr>\n",
              "    <tr>\n",
              "      <th>5</th>\n",
              "      <td>Kid</td>\n",
              "      <td>10.0</td>\n",
              "      <td>age 5+</td>\n",
              "      <td>IDK WHAT TO SAY BUT DIS IS DA BEST GAME EVA</td>\n",
              "      <td>1</td>\n",
              "    </tr>\n",
              "  </tbody>\n",
              "</table>\n",
              "</div>\n",
              "      <button class=\"colab-df-convert\" onclick=\"convertToInteractive('df-656a76dd-a1d5-4ccc-aedb-4080eb036e54')\"\n",
              "              title=\"Convert this dataframe to an interactive table.\"\n",
              "              style=\"display:none;\">\n",
              "        \n",
              "  <svg xmlns=\"http://www.w3.org/2000/svg\" height=\"24px\"viewBox=\"0 0 24 24\"\n",
              "       width=\"24px\">\n",
              "    <path d=\"M0 0h24v24H0V0z\" fill=\"none\"/>\n",
              "    <path d=\"M18.56 5.44l.94 2.06.94-2.06 2.06-.94-2.06-.94-.94-2.06-.94 2.06-2.06.94zm-11 1L8.5 8.5l.94-2.06 2.06-.94-2.06-.94L8.5 2.5l-.94 2.06-2.06.94zm10 10l.94 2.06.94-2.06 2.06-.94-2.06-.94-.94-2.06-.94 2.06-2.06.94z\"/><path d=\"M17.41 7.96l-1.37-1.37c-.4-.4-.92-.59-1.43-.59-.52 0-1.04.2-1.43.59L10.3 9.45l-7.72 7.72c-.78.78-.78 2.05 0 2.83L4 21.41c.39.39.9.59 1.41.59.51 0 1.02-.2 1.41-.59l7.78-7.78 2.81-2.81c.8-.78.8-2.07 0-2.86zM5.41 20L4 18.59l7.72-7.72 1.47 1.35L5.41 20z\"/>\n",
              "  </svg>\n",
              "      </button>\n",
              "      \n",
              "  <style>\n",
              "    .colab-df-container {\n",
              "      display:flex;\n",
              "      flex-wrap:wrap;\n",
              "      gap: 12px;\n",
              "    }\n",
              "\n",
              "    .colab-df-convert {\n",
              "      background-color: #E8F0FE;\n",
              "      border: none;\n",
              "      border-radius: 50%;\n",
              "      cursor: pointer;\n",
              "      display: none;\n",
              "      fill: #1967D2;\n",
              "      height: 32px;\n",
              "      padding: 0 0 0 0;\n",
              "      width: 32px;\n",
              "    }\n",
              "\n",
              "    .colab-df-convert:hover {\n",
              "      background-color: #E2EBFA;\n",
              "      box-shadow: 0px 1px 2px rgba(60, 64, 67, 0.3), 0px 1px 3px 1px rgba(60, 64, 67, 0.15);\n",
              "      fill: #174EA6;\n",
              "    }\n",
              "\n",
              "    [theme=dark] .colab-df-convert {\n",
              "      background-color: #3B4455;\n",
              "      fill: #D2E3FC;\n",
              "    }\n",
              "\n",
              "    [theme=dark] .colab-df-convert:hover {\n",
              "      background-color: #434B5C;\n",
              "      box-shadow: 0px 1px 3px 1px rgba(0, 0, 0, 0.15);\n",
              "      filter: drop-shadow(0px 1px 2px rgba(0, 0, 0, 0.3));\n",
              "      fill: #FFFFFF;\n",
              "    }\n",
              "  </style>\n",
              "\n",
              "      <script>\n",
              "        const buttonEl =\n",
              "          document.querySelector('#df-656a76dd-a1d5-4ccc-aedb-4080eb036e54 button.colab-df-convert');\n",
              "        buttonEl.style.display =\n",
              "          google.colab.kernel.accessAllowed ? 'block' : 'none';\n",
              "\n",
              "        async function convertToInteractive(key) {\n",
              "          const element = document.querySelector('#df-656a76dd-a1d5-4ccc-aedb-4080eb036e54');\n",
              "          const dataTable =\n",
              "            await google.colab.kernel.invokeFunction('convertToInteractive',\n",
              "                                                     [key], {});\n",
              "          if (!dataTable) return;\n",
              "\n",
              "          const docLinkHtml = 'Like what you see? Visit the ' +\n",
              "            '<a target=\"_blank\" href=https://colab.research.google.com/notebooks/data_table.ipynb>data table notebook</a>'\n",
              "            + ' to learn more about interactive tables.';\n",
              "          element.innerHTML = '';\n",
              "          dataTable['output_type'] = 'display_data';\n",
              "          await google.colab.output.renderOutput(dataTable, element);\n",
              "          const docLink = document.createElement('div');\n",
              "          docLink.innerHTML = docLinkHtml;\n",
              "          element.appendChild(docLink);\n",
              "        }\n",
              "      </script>\n",
              "    </div>\n",
              "  </div>\n",
              "  "
            ],
            "text/plain": [
              "0 author_age_cat  ...  safe\n",
              "1           Teen  ...     1\n",
              "2            Kid  ...     1\n",
              "3            Kid  ...     1\n",
              "4           Teen  ...     1\n",
              "5            Kid  ...     1\n",
              "\n",
              "[5 rows x 5 columns]"
            ]
          },
          "metadata": {},
          "execution_count": 31
        }
      ]
    },
    {
      "cell_type": "code",
      "source": [
        "y = df['safe'].values"
      ],
      "metadata": {
        "id": "h_S2FQCg4do8"
      },
      "execution_count": null,
      "outputs": []
    },
    {
      "cell_type": "code",
      "source": [
        "reviews = df['review'].values\n",
        "reviews"
      ],
      "metadata": {
        "id": "F94-8kRj4kQ7"
      },
      "execution_count": null,
      "outputs": []
    },
    {
      "cell_type": "markdown",
      "source": [
        "## NLP Part"
      ],
      "metadata": {
        "id": "RfNfwsI05GIS"
      }
    },
    {
      "cell_type": "code",
      "source": [
        "import nltk\n",
        "nltk.download('punkt')\n",
        "nltk.download('averaged_perceptron_tagger')\n",
        "nltk.download('wordnet')"
      ],
      "metadata": {
        "colab": {
          "base_uri": "https://localhost:8080/"
        },
        "id": "Sjyt6o8t5Qcr",
        "outputId": "8ab309ac-94b0-4ba8-d130-eca4b0bfe937"
      },
      "execution_count": 144,
      "outputs": [
        {
          "output_type": "stream",
          "name": "stdout",
          "text": [
            "[nltk_data] Downloading package punkt to /root/nltk_data...\n",
            "[nltk_data]   Package punkt is already up-to-date!\n",
            "[nltk_data] Downloading package averaged_perceptron_tagger to\n",
            "[nltk_data]     /root/nltk_data...\n",
            "[nltk_data]   Unzipping taggers/averaged_perceptron_tagger.zip.\n",
            "[nltk_data] Downloading package wordnet to /root/nltk_data...\n",
            "[nltk_data]   Package wordnet is already up-to-date!\n"
          ]
        },
        {
          "output_type": "execute_result",
          "data": {
            "text/plain": [
              "True"
            ]
          },
          "metadata": {},
          "execution_count": 144
        }
      ]
    },
    {
      "cell_type": "code",
      "source": [
        "import re\n",
        "\n",
        "from nltk.tokenize import word_tokenize\n",
        "from nltk.stem import WordNetLemmatizer\n",
        "from nltk.corpus import wordnet\n",
        "from nltk.stem.snowball import SnowballStemmer\n",
        "\n",
        "import gensim\n",
        "from gensim.parsing.preprocessing import remove_stopwords\n",
        "\n",
        "# library that contains punctuation\n",
        "import string"
      ],
      "metadata": {
        "id": "oNR1hjRp53oP"
      },
      "execution_count": null,
      "outputs": []
    },
    {
      "cell_type": "code",
      "source": [
        "lower_vectorized = np.vectorize(lambda x: x.lower().strip())\n",
        "lower_vectorized.__name__= \"lower, strip\"\n",
        "reviews_lower = lower_vectorized(reviews)"
      ],
      "metadata": {
        "id": "cYfRUGJ3CFTN"
      },
      "execution_count": 225,
      "outputs": []
    },
    {
      "cell_type": "code",
      "source": [
        "def remove_words(text):\n",
        "    # remove url\n",
        "    text = re.sub(r'http[^\\s]+', '', text)\n",
        "    # remove non word\n",
        "    text = re.sub(r'[^a-zA-Z ]', '', text)\n",
        "    # remove long words\n",
        "    text = re.sub(r'\\w{20,}', '', text)\n",
        "    # remove minecraft word\n",
        "    text = re.sub(r'minecraft', '', text, flags=re.IGNORECASE)\n",
        "    # remove multiple spaces\n",
        "    return re.sub(r' +', ' ', text).strip()\n",
        "\n",
        "remove_words_vectorized = np.vectorize(remove_words)\n",
        "remove_words_vectorized.__name__= \"garbage remover\"\n",
        "reviews_pp = remove_words_vectorized(reviews_lower)"
      ],
      "metadata": {
        "id": "a47auDqS9Wnm"
      },
      "execution_count": 226,
      "outputs": []
    },
    {
      "cell_type": "code",
      "source": [
        "remove_stopwords_vectorized = np.vectorize(remove_stopwords)\n",
        "remove_stopwords_vectorized.__name__= \"stopwords remover\"\n",
        "reviews_without_sw = remove_stopwords_vectorized(reviews_pp)"
      ],
      "metadata": {
        "id": "aduOkydK6rVL"
      },
      "execution_count": 227,
      "outputs": []
    },
    {
      "cell_type": "code",
      "source": [
        "punc = string.punctuation + '“”’━•'\n",
        "\n",
        "# defining the function to remove punctuation\n",
        "def remove_punctuation(text):\n",
        "    punctuationfree= \"\".join([i for i in text if i not in punc])\n",
        "    return punctuationfree\n",
        "\n",
        "remove_punctuation_vectorized = np.vectorize(remove_punctuation)\n",
        "remove_punctuation_vectorized.__name__= \"punctuation remover\"\n",
        "reviews_without_punc = remove_punctuation_vectorized(reviews_without_sw)"
      ],
      "metadata": {
        "id": "8iZ2ebTT7ERP"
      },
      "execution_count": 228,
      "outputs": []
    },
    {
      "cell_type": "code",
      "source": [
        "reviews_pp = remove_words_vectorized(reviews_without_punc)"
      ],
      "metadata": {
        "id": "4Gv5Eyfa5pS3"
      },
      "execution_count": 229,
      "outputs": []
    },
    {
      "cell_type": "code",
      "source": [
        "lemmatizer = WordNetLemmatizer()\n",
        "stemmer = SnowballStemmer('english')"
      ],
      "metadata": {
        "id": "YSO8QCZLJx6N"
      },
      "execution_count": 230,
      "outputs": []
    },
    {
      "cell_type": "code",
      "source": [
        "def get_wordnet_pos(word):\n",
        "    \"\"\"Map POS tag to first character lemmatize() accepts\"\"\"\n",
        "    tag = nltk.pos_tag([word])[0][1][0].upper()\n",
        "    tag_dict = {\"J\": wordnet.ADJ,\n",
        "                \"N\": wordnet.NOUN,\n",
        "                \"V\": wordnet.VERB,\n",
        "                \"R\": wordnet.ADV}\n",
        "\n",
        "    return tag_dict.get(tag, wordnet.NOUN)\n",
        "\n",
        "\n",
        "def lemmatize(word):\n",
        "    pos = get_wordnet_pos(word)\n",
        "    return lemmatizer.lemmatize(word, pos)\n",
        "\n",
        "def stem(word):\n",
        "    return stemmer.stem(word)\n",
        "\n",
        "\n",
        "def preprocess(text):\n",
        "    result = []\n",
        "    tokens = gensim.utils.simple_preprocess(text)\n",
        "    for token in tokens:\n",
        "        if token not in gensim.parsing.preprocessing.STOPWORDS:\n",
        "            result.append(lemmatize(token))\n",
        "    return ' '.join(result)"
      ],
      "metadata": {
        "id": "rr5D7I0sH-RK"
      },
      "execution_count": 245,
      "outputs": []
    },
    {
      "cell_type": "code",
      "source": [
        "stemmer_vectorized = np.vectorize(preprocess)\n",
        "stemmer_vectorized.__name__= \"lemmatize and stem\"\n",
        "reviews_preprocessed = stemmer_vectorized(reviews_pp)"
      ],
      "metadata": {
        "id": "HyG2ifC2I2wO"
      },
      "execution_count": 246,
      "outputs": []
    },
    {
      "cell_type": "code",
      "source": [
        "X_reviews = np.array([])\n",
        "y_labels = np.array([])\n",
        "\n",
        "for i, review in enumerate(reviews_preprocessed):\n",
        "    if review != '':\n",
        "        X_reviews = np.append(X_reviews, review)\n",
        "        y_labels = np.append(y_labels, y[i])"
      ],
      "metadata": {
        "id": "_DKCuZtSKSqR"
      },
      "execution_count": 247,
      "outputs": []
    },
    {
      "cell_type": "code",
      "source": [
        "X_reviews.shape, y_labels.shape"
      ],
      "metadata": {
        "colab": {
          "base_uri": "https://localhost:8080/"
        },
        "id": "mbiKy-zfMo2Z",
        "outputId": "a2c27fa8-acff-45bd-c639-effd6ef64150"
      },
      "execution_count": 248,
      "outputs": [
        {
          "output_type": "execute_result",
          "data": {
            "text/plain": [
              "((523,), (523,))"
            ]
          },
          "metadata": {},
          "execution_count": 248
        }
      ]
    },
    {
      "cell_type": "markdown",
      "source": [
        "## ML Part"
      ],
      "metadata": {
        "id": "n1PTx_JaL-dd"
      }
    },
    {
      "cell_type": "code",
      "source": [
        "from sklearn.model_selection import cross_val_score, cross_val_predict, train_test_split\n",
        "from sklearn.model_selection import KFold, RandomizedSearchCV\n",
        "\n",
        "from sklearn.feature_extraction.text import CountVectorizer, TfidfVectorizer\n",
        "\n",
        "from sklearn.naive_bayes import MultinomialNB\n",
        "from sklearn.svm import LinearSVC, SVC\n",
        "from sklearn.ensemble import RandomForestClassifier\n",
        "\n",
        "from sklearn.metrics import confusion_matrix\n",
        "from sklearn import metrics"
      ],
      "metadata": {
        "id": "3U1TKeSTMSL5"
      },
      "execution_count": 249,
      "outputs": []
    },
    {
      "cell_type": "code",
      "source": [
        "def crossvalidate_classifier(model, X, y, cm=False):\n",
        "    \n",
        "    scores = cross_val_score(model, X, y, scoring='f1_macro', cv=5)\n",
        "    print(\"%0.2f f-1 score with a standard deviation of %0.2f\" % (scores.mean(), scores.std()))\n",
        "    y_pred = cross_val_predict(model, X, y, cv=5)\n",
        "\n",
        "    if(cm):\n",
        "        conf_mat = confusion_matrix(y, y_pred, labels=['fulfillment','other'])\n",
        "        metrics.plot_confusion_matrix(conf_mat, classes = ['fulfillment','other'])\n",
        "    \n",
        "def evaluate_classifier(model, X_train, X_test, y_train, y_test):\n",
        "      \n",
        "    # ... fit your model here ...\n",
        "    model.fit(X_train,y_train)\n",
        "\n",
        "    # Run predict on your tfidf test data to get your predictions\n",
        "    pred = model.predict(X_test)\n",
        "\n",
        "    # Calculate your accuracy using the metrics module\n",
        "    acc_score = metrics.accuracy_score(pred, y_test)\n",
        "    print(\"Accuracy Score:   %0.3f\" % acc_score)\n",
        "    \n",
        "    f1score = metrics.f1_score(pred, y_test, average='macro')\n",
        "    print(\"F-1 Score:   %0.3f\" % f1score)\n",
        "    \n",
        "    return model\n",
        "\n",
        "def best_hyperparam(X_train_data, X_test_data, y_train_data, y_test_data, \n",
        "                       model, param_grid, cv=5, scoring_fit='f1_score',\n",
        "                       do_probabilities = False):\n",
        "    gs = RandomizedSearchCV(\n",
        "        estimator=model,\n",
        "        param_grid=param_grid, \n",
        "        cv=cv, \n",
        "        n_jobs=-1, \n",
        "        scoring=scoring_fit,\n",
        "        verbose=2\n",
        "    )\n",
        "    fitted_model = gs.fit(X_train_data, y_train_data, epochs=100)\n",
        "    \n",
        "    if do_probabilities:\n",
        "      pred = fitted_model.predict_proba(X_test_data)\n",
        "    else:\n",
        "      pred = fitted_model.predict(X_test_data)\n",
        "    \n",
        "    return fitted_model, pred"
      ],
      "metadata": {
        "id": "zDSmUJ_PMAsp"
      },
      "execution_count": 250,
      "outputs": []
    },
    {
      "cell_type": "code",
      "source": [
        "# Split training and testing data\n",
        "X_train, X_test, y_train, y_test = train_test_split(X_reviews, y_labels, \n",
        "                                                    random_state=42, \n",
        "                                                    test_size=0.25,\n",
        "                                                    shuffle=True, \n",
        "                                                    stratify=y_labels)"
      ],
      "metadata": {
        "id": "QoLn9gjQNAZr"
      },
      "execution_count": 251,
      "outputs": []
    },
    {
      "cell_type": "code",
      "source": [
        "# Initialize count vectorizer\n",
        "count_vectorizer = CountVectorizer(stop_words='english', max_df=0.9, min_df=0.05)\n",
        "\n",
        "# Create count train and test variables\n",
        "count_train = count_vectorizer.fit_transform(X_train)\n",
        "count_test = count_vectorizer.transform(X_test)\n",
        "\n",
        "# Initialize tfidf vectorizer\n",
        "tfidf_vectorizer = TfidfVectorizer(stop_words='english', max_df=0.9, min_df=0.05)\n",
        "\n",
        "# Create tfidf train and test variables\n",
        "tfidf_train = tfidf_vectorizer.fit_transform(X_train)\n",
        "tfidf_test = tfidf_vectorizer.transform(X_test)"
      ],
      "metadata": {
        "id": "zvqsJe3pNNTQ"
      },
      "execution_count": 252,
      "outputs": []
    },
    {
      "cell_type": "code",
      "source": [
        "print(count_train.shape, tfidf_train.shape)"
      ],
      "metadata": {
        "colab": {
          "base_uri": "https://localhost:8080/"
        },
        "id": "CKy5X8b2N33C",
        "outputId": "9a088683-54ef-4267-cdfe-cade42e542d5"
      },
      "execution_count": 253,
      "outputs": [
        {
          "output_type": "stream",
          "name": "stdout",
          "text": [
            "(392, 85) (392, 85)\n"
          ]
        }
      ]
    },
    {
      "cell_type": "code",
      "source": [
        "print(count_vectorizer.vocabulary_)"
      ],
      "metadata": {
        "colab": {
          "base_uri": "https://localhost:8080/"
        },
        "id": "z27jH6y9OJfa",
        "outputId": "072837a6-1cb3-42a0-8d7d-922e431c8b6b"
      },
      "execution_count": 254,
      "outputs": [
        {
          "output_type": "stream",
          "name": "stdout",
          "text": [
            "{'great': 29, 'little': 41, 'encourages': 22, 'violence': 77, 'kill': 35, 'animal': 2, 'monster': 46, 'red': 60, 'parent': 52, 'like': 40, 'violent': 78, 'thats': 69, 'game': 26, 'food': 23, 'building': 9, 'blood': 7, 'dont': 18, 'good': 27, 'learn': 37, 'survival': 66, 'build': 8, 'world': 81, 'mode': 45, 'fun': 25, 'bad': 3, 'im': 31, 'kid': 34, 'start': 64, 'play': 54, 'creativity': 16, 'doesnt': 17, 'people': 53, 'want': 79, 'thing': 70, 'year': 82, 'use': 75, 'age': 0, 'recommend': 59, 'think': 71, 'block': 6, 'edition': 20, 'come': 13, 'love': 43, 'server': 63, 'lot': 42, 'online': 51, 'chat': 11, 'inappropriate': 32, 'cool': 14, 'let': 38, 'best': 4, 'turn': 73, 'stuff': 65, 'pocket': 57, 'way': 80, 'buy': 10, 'know': 36, 'time': 72, 'played': 55, 'life': 39, 'creative': 15, 'easy': 19, 'sword': 68, 'child': 12, 'say': 61, 'need': 48, 'multiplayer': 47, 'mob': 44, 'amaze': 1, 'version': 76, 'old': 50, 'real': 58, 'new': 49, 'update': 74, 'educational': 21, 'friend': 24, 'gore': 28, 'house': 30, 'young': 83, 'player': 56, 'zombie': 84, 'scary': 62, 'survive': 67, 'join': 33, 'bit': 5}\n"
          ]
        }
      ]
    },
    {
      "cell_type": "code",
      "source": [
        "rf_model = RandomForestClassifier()\n",
        "fitted_model_bow = evaluate_classifier(rf_model, count_train, count_test, y_train, y_test)"
      ],
      "metadata": {
        "colab": {
          "base_uri": "https://localhost:8080/"
        },
        "id": "bOiiiQBUOKof",
        "outputId": "28b45abc-7b4f-4fbd-962c-64b3e2bec968"
      },
      "execution_count": 255,
      "outputs": [
        {
          "output_type": "stream",
          "name": "stdout",
          "text": [
            "Accuracy Score:   0.870\n",
            "F-1 Score:   0.595\n"
          ]
        }
      ]
    },
    {
      "cell_type": "code",
      "source": [
        "rf_model = RandomForestClassifier()\n",
        "fitted_model_tfidf = evaluate_classifier(rf_model, tfidf_train, tfidf_test, y_train, y_test)"
      ],
      "metadata": {
        "colab": {
          "base_uri": "https://localhost:8080/"
        },
        "id": "fgdsGe4WOMg-",
        "outputId": "f009ea56-c1ae-4696-fc0b-68e6f8739489"
      },
      "execution_count": 256,
      "outputs": [
        {
          "output_type": "stream",
          "name": "stdout",
          "text": [
            "Accuracy Score:   0.893\n",
            "F-1 Score:   0.653\n"
          ]
        }
      ]
    },
    {
      "cell_type": "code",
      "source": [
        "svm_model = LinearSVC()\n",
        "fitted_model_bow = evaluate_classifier(svm_model, count_train, count_test, y_train, y_test)"
      ],
      "metadata": {
        "colab": {
          "base_uri": "https://localhost:8080/"
        },
        "id": "tY6W-pqoO4K9",
        "outputId": "c0df8964-29ee-4c4e-f35c-fb5af2f03b78"
      },
      "execution_count": 257,
      "outputs": [
        {
          "output_type": "stream",
          "name": "stdout",
          "text": [
            "Accuracy Score:   0.817\n",
            "F-1 Score:   0.488\n"
          ]
        },
        {
          "output_type": "stream",
          "name": "stderr",
          "text": [
            "/usr/local/lib/python3.7/dist-packages/sklearn/svm/_base.py:1208: ConvergenceWarning: Liblinear failed to converge, increase the number of iterations.\n",
            "  ConvergenceWarning,\n"
          ]
        }
      ]
    },
    {
      "cell_type": "code",
      "source": [
        "svm_model = LinearSVC()\n",
        "fitted_model_bow = evaluate_classifier(svm_model, tfidf_train, tfidf_test, y_train, y_test)"
      ],
      "metadata": {
        "colab": {
          "base_uri": "https://localhost:8080/"
        },
        "id": "rcy9as-eRqB-",
        "outputId": "ad521de5-83be-44ce-d05b-36f5685bd7ec"
      },
      "execution_count": 258,
      "outputs": [
        {
          "output_type": "stream",
          "name": "stdout",
          "text": [
            "Accuracy Score:   0.870\n",
            "F-1 Score:   0.518\n"
          ]
        }
      ]
    },
    {
      "cell_type": "code",
      "source": [
        ""
      ],
      "metadata": {
        "id": "A-y6pkPXRtOO"
      },
      "execution_count": null,
      "outputs": []
    }
  ]
}