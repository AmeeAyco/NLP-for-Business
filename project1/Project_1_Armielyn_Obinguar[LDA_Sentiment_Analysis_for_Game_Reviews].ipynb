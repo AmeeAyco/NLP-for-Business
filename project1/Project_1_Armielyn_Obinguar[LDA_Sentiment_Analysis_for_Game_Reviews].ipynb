{
  "nbformat": 4,
  "nbformat_minor": 0,
  "metadata": {
    "colab": {
      "name": "Project 1:Armielyn Obinguar[LDA_Sentiment Analysis for Game Reviews].ipynb",
      "provenance": []
    },
    "kernelspec": {
      "name": "python3",
      "display_name": "Python 3"
    },
    "language_info": {
      "name": "python"
    }
  },
  "cells": [
    {
      "cell_type": "markdown",
      "source": [
        "#Import Libraries"
      ],
      "metadata": {
        "id": "FbFmlytlao6f"
      }
    },
    {
      "cell_type": "code",
      "source": [
        "!pip install pyLDAvis\n"
      ],
      "metadata": {
        "colab": {
          "base_uri": "https://localhost:8080/"
        },
        "id": "DNAOH_6aaq6l",
        "outputId": "83f4d6dc-088d-4e0d-d96d-334714dca8f0"
      },
      "execution_count": 1,
      "outputs": [
        {
          "output_type": "stream",
          "name": "stdout",
          "text": [
            "Collecting pyLDAvis\n",
            "  Downloading pyLDAvis-3.3.1.tar.gz (1.7 MB)\n",
            "\u001b[K     |████████████████████████████████| 1.7 MB 4.9 MB/s \n",
            "\u001b[?25h  Installing build dependencies ... \u001b[?25l\u001b[?25hdone\n",
            "  Getting requirements to build wheel ... \u001b[?25l\u001b[?25hdone\n",
            "  Installing backend dependencies ... \u001b[?25l\u001b[?25hdone\n",
            "    Preparing wheel metadata ... \u001b[?25l\u001b[?25hdone\n",
            "Requirement already satisfied: gensim in /usr/local/lib/python3.7/dist-packages (from pyLDAvis) (3.6.0)\n",
            "Requirement already satisfied: scipy in /usr/local/lib/python3.7/dist-packages (from pyLDAvis) (1.4.1)\n",
            "Requirement already satisfied: scikit-learn in /usr/local/lib/python3.7/dist-packages (from pyLDAvis) (1.0.2)\n",
            "Requirement already satisfied: setuptools in /usr/local/lib/python3.7/dist-packages (from pyLDAvis) (57.4.0)\n",
            "Requirement already satisfied: jinja2 in /usr/local/lib/python3.7/dist-packages (from pyLDAvis) (2.11.3)\n",
            "Requirement already satisfied: numpy>=1.20.0 in /usr/local/lib/python3.7/dist-packages (from pyLDAvis) (1.21.5)\n",
            "Requirement already satisfied: joblib in /usr/local/lib/python3.7/dist-packages (from pyLDAvis) (1.1.0)\n",
            "Requirement already satisfied: future in /usr/local/lib/python3.7/dist-packages (from pyLDAvis) (0.16.0)\n",
            "Requirement already satisfied: pandas>=1.2.0 in /usr/local/lib/python3.7/dist-packages (from pyLDAvis) (1.3.5)\n",
            "Collecting funcy\n",
            "  Downloading funcy-1.17-py2.py3-none-any.whl (33 kB)\n",
            "Requirement already satisfied: numexpr in /usr/local/lib/python3.7/dist-packages (from pyLDAvis) (2.8.1)\n",
            "Requirement already satisfied: sklearn in /usr/local/lib/python3.7/dist-packages (from pyLDAvis) (0.0)\n",
            "Requirement already satisfied: pytz>=2017.3 in /usr/local/lib/python3.7/dist-packages (from pandas>=1.2.0->pyLDAvis) (2018.9)\n",
            "Requirement already satisfied: python-dateutil>=2.7.3 in /usr/local/lib/python3.7/dist-packages (from pandas>=1.2.0->pyLDAvis) (2.8.2)\n",
            "Requirement already satisfied: six>=1.5 in /usr/local/lib/python3.7/dist-packages (from python-dateutil>=2.7.3->pandas>=1.2.0->pyLDAvis) (1.15.0)\n",
            "Requirement already satisfied: smart-open>=1.2.1 in /usr/local/lib/python3.7/dist-packages (from gensim->pyLDAvis) (5.2.1)\n",
            "Requirement already satisfied: MarkupSafe>=0.23 in /usr/local/lib/python3.7/dist-packages (from jinja2->pyLDAvis) (2.0.1)\n",
            "Requirement already satisfied: packaging in /usr/local/lib/python3.7/dist-packages (from numexpr->pyLDAvis) (21.3)\n",
            "Requirement already satisfied: pyparsing!=3.0.5,>=2.0.2 in /usr/local/lib/python3.7/dist-packages (from packaging->numexpr->pyLDAvis) (3.0.7)\n",
            "Requirement already satisfied: threadpoolctl>=2.0.0 in /usr/local/lib/python3.7/dist-packages (from scikit-learn->pyLDAvis) (3.1.0)\n",
            "Building wheels for collected packages: pyLDAvis\n",
            "  Building wheel for pyLDAvis (PEP 517) ... \u001b[?25l\u001b[?25hdone\n",
            "  Created wheel for pyLDAvis: filename=pyLDAvis-3.3.1-py2.py3-none-any.whl size=136898 sha256=3bbfd0bbc800c2eb25c9732276f7bc29a5015d39b978cb129177af66d732edae\n",
            "  Stored in directory: /root/.cache/pip/wheels/c9/21/f6/17bcf2667e8a68532ba2fbf6d5c72fdf4c7f7d9abfa4852d2f\n",
            "Successfully built pyLDAvis\n",
            "Installing collected packages: funcy, pyLDAvis\n",
            "Successfully installed funcy-1.17 pyLDAvis-3.3.1\n"
          ]
        }
      ]
    },
    {
      "cell_type": "code",
      "source": [
        "#https://www.machinelearningplus.com/nlp/topic-modeling-gensim-python/#1introduction\n",
        "import numpy as np\n",
        "import pandas as pd\n",
        "import json\n",
        "import glob\n",
        "\n",
        "#Gensim\n",
        "import gensim\n",
        "import gensim.corpora as corpora\n",
        "from gensim.utils import simple_preprocess\n",
        "from gensim.models import CoherenceModel\n",
        "\n",
        "#spacy\n",
        "import spacy\n",
        "from nltk.corpus import stopwords\n",
        "\n",
        "#vis\n",
        "import pyLDAvis\n",
        "import pyLDAvis.sklearn\n",
        "pyLDAvis.enable_notebook()\n",
        "\n",
        "import warnings\n",
        "warnings.filterwarnings(\"ignore\", category=DeprecationWarning)\n",
        "\n",
        "import nltk\n",
        "nltk.download('stopwords')\n",
        "\n",
        "import gensim\n",
        "from gensim.corpora import Dictionary\n",
        "\n",
        "from IPython.display import clear_output\n",
        "\n",
        "import pyLDAvis.gensim_models as gensim_models\n",
        "from gensim.models.coherencemodel import CoherenceModel\n"
      ],
      "metadata": {
        "colab": {
          "base_uri": "https://localhost:8080/"
        },
        "id": "2TNPW0ubavjJ",
        "outputId": "5f0476f6-7523-473c-9af6-396872feb9cf"
      },
      "execution_count": 2,
      "outputs": [
        {
          "output_type": "stream",
          "name": "stderr",
          "text": [
            "/usr/local/lib/python3.7/dist-packages/past/types/oldstr.py:5: DeprecationWarning: Using or importing the ABCs from 'collections' instead of from 'collections.abc' is deprecated since Python 3.3,and in 3.9 it will stop working\n",
            "  from collections import Iterable\n"
          ]
        },
        {
          "output_type": "stream",
          "name": "stdout",
          "text": [
            "[nltk_data] Downloading package stopwords to /root/nltk_data...\n",
            "[nltk_data]   Unzipping corpora/stopwords.zip.\n"
          ]
        }
      ]
    },
    {
      "cell_type": "markdown",
      "source": [
        "##Preparing data and storing in df dataframe\n"
      ],
      "metadata": {
        "id": "OjkzJA2-a4rB"
      }
    },
    {
      "cell_type": "code",
      "source": [
        "df = pd.read_csv('/content/game_reviews_game_reviews.csv')\n",
        "df.head()"
      ],
      "metadata": {
        "colab": {
          "base_uri": "https://localhost:8080/",
          "height": 207
        },
        "id": "XR6s01J1a5hU",
        "outputId": "044bfb94-6f1d-4edb-e55f-73698edea5ab"
      },
      "execution_count": 5,
      "outputs": [
        {
          "output_type": "execute_result",
          "data": {
            "text/html": [
              "\n",
              "  <div id=\"df-6bc11f6a-a531-4339-9290-98d64f6a9ebd\">\n",
              "    <div class=\"colab-df-container\">\n",
              "      <div>\n",
              "<style scoped>\n",
              "    .dataframe tbody tr th:only-of-type {\n",
              "        vertical-align: middle;\n",
              "    }\n",
              "\n",
              "    .dataframe tbody tr th {\n",
              "        vertical-align: top;\n",
              "    }\n",
              "\n",
              "    .dataframe thead th {\n",
              "        text-align: right;\n",
              "    }\n",
              "</style>\n",
              "<table border=\"1\" class=\"dataframe\">\n",
              "  <thead>\n",
              "    <tr style=\"text-align: right;\">\n",
              "      <th></th>\n",
              "      <th>author age</th>\n",
              "      <th>recommended age</th>\n",
              "      <th>review</th>\n",
              "    </tr>\n",
              "  </thead>\n",
              "  <tbody>\n",
              "    <tr>\n",
              "      <th>0</th>\n",
              "      <td>Teen, 17 years old</td>\n",
              "      <td>age 7+</td>\n",
              "      <td>Kids dont listent to the parents saying ''ThIs...</td>\n",
              "    </tr>\n",
              "    <tr>\n",
              "      <th>1</th>\n",
              "      <td>Kid, 11 years old</td>\n",
              "      <td>age 2+</td>\n",
              "      <td>I have been playing this game for many years a...</td>\n",
              "    </tr>\n",
              "    <tr>\n",
              "      <th>2</th>\n",
              "      <td>Kid, 12 years old</td>\n",
              "      <td>age 7+</td>\n",
              "      <td>The game is great with no true inappropriate t...</td>\n",
              "    </tr>\n",
              "    <tr>\n",
              "      <th>3</th>\n",
              "      <td>Teen, 13 years old</td>\n",
              "      <td>age 5+</td>\n",
              "      <td>Are you sure you got common sense. I would giv...</td>\n",
              "    </tr>\n",
              "    <tr>\n",
              "      <th>4</th>\n",
              "      <td>Kid, 10 years old</td>\n",
              "      <td>age 5+</td>\n",
              "      <td>IDK WHAT TO SAY BUT DIS IS DA BEST GAME EVA</td>\n",
              "    </tr>\n",
              "  </tbody>\n",
              "</table>\n",
              "</div>\n",
              "      <button class=\"colab-df-convert\" onclick=\"convertToInteractive('df-6bc11f6a-a531-4339-9290-98d64f6a9ebd')\"\n",
              "              title=\"Convert this dataframe to an interactive table.\"\n",
              "              style=\"display:none;\">\n",
              "        \n",
              "  <svg xmlns=\"http://www.w3.org/2000/svg\" height=\"24px\"viewBox=\"0 0 24 24\"\n",
              "       width=\"24px\">\n",
              "    <path d=\"M0 0h24v24H0V0z\" fill=\"none\"/>\n",
              "    <path d=\"M18.56 5.44l.94 2.06.94-2.06 2.06-.94-2.06-.94-.94-2.06-.94 2.06-2.06.94zm-11 1L8.5 8.5l.94-2.06 2.06-.94-2.06-.94L8.5 2.5l-.94 2.06-2.06.94zm10 10l.94 2.06.94-2.06 2.06-.94-2.06-.94-.94-2.06-.94 2.06-2.06.94z\"/><path d=\"M17.41 7.96l-1.37-1.37c-.4-.4-.92-.59-1.43-.59-.52 0-1.04.2-1.43.59L10.3 9.45l-7.72 7.72c-.78.78-.78 2.05 0 2.83L4 21.41c.39.39.9.59 1.41.59.51 0 1.02-.2 1.41-.59l7.78-7.78 2.81-2.81c.8-.78.8-2.07 0-2.86zM5.41 20L4 18.59l7.72-7.72 1.47 1.35L5.41 20z\"/>\n",
              "  </svg>\n",
              "      </button>\n",
              "      \n",
              "  <style>\n",
              "    .colab-df-container {\n",
              "      display:flex;\n",
              "      flex-wrap:wrap;\n",
              "      gap: 12px;\n",
              "    }\n",
              "\n",
              "    .colab-df-convert {\n",
              "      background-color: #E8F0FE;\n",
              "      border: none;\n",
              "      border-radius: 50%;\n",
              "      cursor: pointer;\n",
              "      display: none;\n",
              "      fill: #1967D2;\n",
              "      height: 32px;\n",
              "      padding: 0 0 0 0;\n",
              "      width: 32px;\n",
              "    }\n",
              "\n",
              "    .colab-df-convert:hover {\n",
              "      background-color: #E2EBFA;\n",
              "      box-shadow: 0px 1px 2px rgba(60, 64, 67, 0.3), 0px 1px 3px 1px rgba(60, 64, 67, 0.15);\n",
              "      fill: #174EA6;\n",
              "    }\n",
              "\n",
              "    [theme=dark] .colab-df-convert {\n",
              "      background-color: #3B4455;\n",
              "      fill: #D2E3FC;\n",
              "    }\n",
              "\n",
              "    [theme=dark] .colab-df-convert:hover {\n",
              "      background-color: #434B5C;\n",
              "      box-shadow: 0px 1px 3px 1px rgba(0, 0, 0, 0.15);\n",
              "      filter: drop-shadow(0px 1px 2px rgba(0, 0, 0, 0.3));\n",
              "      fill: #FFFFFF;\n",
              "    }\n",
              "  </style>\n",
              "\n",
              "      <script>\n",
              "        const buttonEl =\n",
              "          document.querySelector('#df-6bc11f6a-a531-4339-9290-98d64f6a9ebd button.colab-df-convert');\n",
              "        buttonEl.style.display =\n",
              "          google.colab.kernel.accessAllowed ? 'block' : 'none';\n",
              "\n",
              "        async function convertToInteractive(key) {\n",
              "          const element = document.querySelector('#df-6bc11f6a-a531-4339-9290-98d64f6a9ebd');\n",
              "          const dataTable =\n",
              "            await google.colab.kernel.invokeFunction('convertToInteractive',\n",
              "                                                     [key], {});\n",
              "          if (!dataTable) return;\n",
              "\n",
              "          const docLinkHtml = 'Like what you see? Visit the ' +\n",
              "            '<a target=\"_blank\" href=https://colab.research.google.com/notebooks/data_table.ipynb>data table notebook</a>'\n",
              "            + ' to learn more about interactive tables.';\n",
              "          element.innerHTML = '';\n",
              "          dataTable['output_type'] = 'display_data';\n",
              "          await google.colab.output.renderOutput(dataTable, element);\n",
              "          const docLink = document.createElement('div');\n",
              "          docLink.innerHTML = docLinkHtml;\n",
              "          element.appendChild(docLink);\n",
              "        }\n",
              "      </script>\n",
              "    </div>\n",
              "  </div>\n",
              "  "
            ],
            "text/plain": [
              "           author age  ...                                             review\n",
              "0  Teen, 17 years old  ...  Kids dont listent to the parents saying ''ThIs...\n",
              "1   Kid, 11 years old  ...  I have been playing this game for many years a...\n",
              "2   Kid, 12 years old  ...  The game is great with no true inappropriate t...\n",
              "3  Teen, 13 years old  ...  Are you sure you got common sense. I would giv...\n",
              "4   Kid, 10 years old  ...        IDK WHAT TO SAY BUT DIS IS DA BEST GAME EVA\n",
              "\n",
              "[5 rows x 3 columns]"
            ]
          },
          "metadata": {},
          "execution_count": 5
        }
      ]
    },
    {
      "cell_type": "code",
      "source": [
        "df.isnull().sum()\n"
      ],
      "metadata": {
        "colab": {
          "base_uri": "https://localhost:8080/"
        },
        "id": "wAc0ETBvavsI",
        "outputId": "00897846-95f8-4586-f293-b41b60c0c3e7"
      },
      "execution_count": 6,
      "outputs": [
        {
          "output_type": "execute_result",
          "data": {
            "text/plain": [
              "author age          0\n",
              "recommended age     0\n",
              "review             35\n",
              "dtype: int64"
            ]
          },
          "metadata": {},
          "execution_count": 6
        }
      ]
    },
    {
      "cell_type": "code",
      "source": [
        "df[df.duplicated() == True]\n"
      ],
      "metadata": {
        "colab": {
          "base_uri": "https://localhost:8080/",
          "height": 175
        },
        "id": "6bKbEwyvavxX",
        "outputId": "e8bb213d-7029-405f-8c9a-4a9e93b384b7"
      },
      "execution_count": 7,
      "outputs": [
        {
          "output_type": "execute_result",
          "data": {
            "text/html": [
              "\n",
              "  <div id=\"df-0944ae64-78b9-4129-b3a3-34ad775a458c\">\n",
              "    <div class=\"colab-df-container\">\n",
              "      <div>\n",
              "<style scoped>\n",
              "    .dataframe tbody tr th:only-of-type {\n",
              "        vertical-align: middle;\n",
              "    }\n",
              "\n",
              "    .dataframe tbody tr th {\n",
              "        vertical-align: top;\n",
              "    }\n",
              "\n",
              "    .dataframe thead th {\n",
              "        text-align: right;\n",
              "    }\n",
              "</style>\n",
              "<table border=\"1\" class=\"dataframe\">\n",
              "  <thead>\n",
              "    <tr style=\"text-align: right;\">\n",
              "      <th></th>\n",
              "      <th>author age</th>\n",
              "      <th>recommended age</th>\n",
              "      <th>review</th>\n",
              "    </tr>\n",
              "  </thead>\n",
              "  <tbody>\n",
              "    <tr>\n",
              "      <th>308</th>\n",
              "      <td>Teen, 13 years old</td>\n",
              "      <td>age 13+</td>\n",
              "      <td>NaN</td>\n",
              "    </tr>\n",
              "    <tr>\n",
              "      <th>424</th>\n",
              "      <td>Teen, 13 years old</td>\n",
              "      <td>age 7+</td>\n",
              "      <td>NaN</td>\n",
              "    </tr>\n",
              "    <tr>\n",
              "      <th>458</th>\n",
              "      <td>Teen, 16 years old</td>\n",
              "      <td>age 16+</td>\n",
              "      <td>NaN</td>\n",
              "    </tr>\n",
              "    <tr>\n",
              "      <th>470</th>\n",
              "      <td>Kid, 10 years old</td>\n",
              "      <td>age 7+</td>\n",
              "      <td>NaN</td>\n",
              "    </tr>\n",
              "  </tbody>\n",
              "</table>\n",
              "</div>\n",
              "      <button class=\"colab-df-convert\" onclick=\"convertToInteractive('df-0944ae64-78b9-4129-b3a3-34ad775a458c')\"\n",
              "              title=\"Convert this dataframe to an interactive table.\"\n",
              "              style=\"display:none;\">\n",
              "        \n",
              "  <svg xmlns=\"http://www.w3.org/2000/svg\" height=\"24px\"viewBox=\"0 0 24 24\"\n",
              "       width=\"24px\">\n",
              "    <path d=\"M0 0h24v24H0V0z\" fill=\"none\"/>\n",
              "    <path d=\"M18.56 5.44l.94 2.06.94-2.06 2.06-.94-2.06-.94-.94-2.06-.94 2.06-2.06.94zm-11 1L8.5 8.5l.94-2.06 2.06-.94-2.06-.94L8.5 2.5l-.94 2.06-2.06.94zm10 10l.94 2.06.94-2.06 2.06-.94-2.06-.94-.94-2.06-.94 2.06-2.06.94z\"/><path d=\"M17.41 7.96l-1.37-1.37c-.4-.4-.92-.59-1.43-.59-.52 0-1.04.2-1.43.59L10.3 9.45l-7.72 7.72c-.78.78-.78 2.05 0 2.83L4 21.41c.39.39.9.59 1.41.59.51 0 1.02-.2 1.41-.59l7.78-7.78 2.81-2.81c.8-.78.8-2.07 0-2.86zM5.41 20L4 18.59l7.72-7.72 1.47 1.35L5.41 20z\"/>\n",
              "  </svg>\n",
              "      </button>\n",
              "      \n",
              "  <style>\n",
              "    .colab-df-container {\n",
              "      display:flex;\n",
              "      flex-wrap:wrap;\n",
              "      gap: 12px;\n",
              "    }\n",
              "\n",
              "    .colab-df-convert {\n",
              "      background-color: #E8F0FE;\n",
              "      border: none;\n",
              "      border-radius: 50%;\n",
              "      cursor: pointer;\n",
              "      display: none;\n",
              "      fill: #1967D2;\n",
              "      height: 32px;\n",
              "      padding: 0 0 0 0;\n",
              "      width: 32px;\n",
              "    }\n",
              "\n",
              "    .colab-df-convert:hover {\n",
              "      background-color: #E2EBFA;\n",
              "      box-shadow: 0px 1px 2px rgba(60, 64, 67, 0.3), 0px 1px 3px 1px rgba(60, 64, 67, 0.15);\n",
              "      fill: #174EA6;\n",
              "    }\n",
              "\n",
              "    [theme=dark] .colab-df-convert {\n",
              "      background-color: #3B4455;\n",
              "      fill: #D2E3FC;\n",
              "    }\n",
              "\n",
              "    [theme=dark] .colab-df-convert:hover {\n",
              "      background-color: #434B5C;\n",
              "      box-shadow: 0px 1px 3px 1px rgba(0, 0, 0, 0.15);\n",
              "      filter: drop-shadow(0px 1px 2px rgba(0, 0, 0, 0.3));\n",
              "      fill: #FFFFFF;\n",
              "    }\n",
              "  </style>\n",
              "\n",
              "      <script>\n",
              "        const buttonEl =\n",
              "          document.querySelector('#df-0944ae64-78b9-4129-b3a3-34ad775a458c button.colab-df-convert');\n",
              "        buttonEl.style.display =\n",
              "          google.colab.kernel.accessAllowed ? 'block' : 'none';\n",
              "\n",
              "        async function convertToInteractive(key) {\n",
              "          const element = document.querySelector('#df-0944ae64-78b9-4129-b3a3-34ad775a458c');\n",
              "          const dataTable =\n",
              "            await google.colab.kernel.invokeFunction('convertToInteractive',\n",
              "                                                     [key], {});\n",
              "          if (!dataTable) return;\n",
              "\n",
              "          const docLinkHtml = 'Like what you see? Visit the ' +\n",
              "            '<a target=\"_blank\" href=https://colab.research.google.com/notebooks/data_table.ipynb>data table notebook</a>'\n",
              "            + ' to learn more about interactive tables.';\n",
              "          element.innerHTML = '';\n",
              "          dataTable['output_type'] = 'display_data';\n",
              "          await google.colab.output.renderOutput(dataTable, element);\n",
              "          const docLink = document.createElement('div');\n",
              "          docLink.innerHTML = docLinkHtml;\n",
              "          element.appendChild(docLink);\n",
              "        }\n",
              "      </script>\n",
              "    </div>\n",
              "  </div>\n",
              "  "
            ],
            "text/plain": [
              "             author age recommended age review\n",
              "308  Teen, 13 years old         age 13+    NaN\n",
              "424  Teen, 13 years old          age 7+    NaN\n",
              "458  Teen, 16 years old         age 16+    NaN\n",
              "470   Kid, 10 years old          age 7+    NaN"
            ]
          },
          "metadata": {},
          "execution_count": 7
        }
      ]
    },
    {
      "cell_type": "code",
      "source": [
        "df.dropna(inplace =True)\n"
      ],
      "metadata": {
        "id": "SNq_JR0aav3o"
      },
      "execution_count": 8,
      "outputs": []
    },
    {
      "cell_type": "code",
      "source": [
        "df"
      ],
      "metadata": {
        "colab": {
          "base_uri": "https://localhost:8080/",
          "height": 423
        },
        "id": "Kmm8Y0mcbnRG",
        "outputId": "13a66a46-e15a-448c-d012-c817764dea9d"
      },
      "execution_count": 9,
      "outputs": [
        {
          "output_type": "execute_result",
          "data": {
            "text/html": [
              "\n",
              "  <div id=\"df-fa801dde-8ff7-4e3f-bbc4-5cd99c47e09d\">\n",
              "    <div class=\"colab-df-container\">\n",
              "      <div>\n",
              "<style scoped>\n",
              "    .dataframe tbody tr th:only-of-type {\n",
              "        vertical-align: middle;\n",
              "    }\n",
              "\n",
              "    .dataframe tbody tr th {\n",
              "        vertical-align: top;\n",
              "    }\n",
              "\n",
              "    .dataframe thead th {\n",
              "        text-align: right;\n",
              "    }\n",
              "</style>\n",
              "<table border=\"1\" class=\"dataframe\">\n",
              "  <thead>\n",
              "    <tr style=\"text-align: right;\">\n",
              "      <th></th>\n",
              "      <th>author age</th>\n",
              "      <th>recommended age</th>\n",
              "      <th>review</th>\n",
              "    </tr>\n",
              "  </thead>\n",
              "  <tbody>\n",
              "    <tr>\n",
              "      <th>0</th>\n",
              "      <td>Teen, 17 years old</td>\n",
              "      <td>age 7+</td>\n",
              "      <td>Kids dont listent to the parents saying ''ThIs...</td>\n",
              "    </tr>\n",
              "    <tr>\n",
              "      <th>1</th>\n",
              "      <td>Kid, 11 years old</td>\n",
              "      <td>age 2+</td>\n",
              "      <td>I have been playing this game for many years a...</td>\n",
              "    </tr>\n",
              "    <tr>\n",
              "      <th>2</th>\n",
              "      <td>Kid, 12 years old</td>\n",
              "      <td>age 7+</td>\n",
              "      <td>The game is great with no true inappropriate t...</td>\n",
              "    </tr>\n",
              "    <tr>\n",
              "      <th>3</th>\n",
              "      <td>Teen, 13 years old</td>\n",
              "      <td>age 5+</td>\n",
              "      <td>Are you sure you got common sense. I would giv...</td>\n",
              "    </tr>\n",
              "    <tr>\n",
              "      <th>4</th>\n",
              "      <td>Kid, 10 years old</td>\n",
              "      <td>age 5+</td>\n",
              "      <td>IDK WHAT TO SAY BUT DIS IS DA BEST GAME EVA</td>\n",
              "    </tr>\n",
              "    <tr>\n",
              "      <th>...</th>\n",
              "      <td>...</td>\n",
              "      <td>...</td>\n",
              "      <td>...</td>\n",
              "    </tr>\n",
              "    <tr>\n",
              "      <th>556</th>\n",
              "      <td>Teen, 14 years old</td>\n",
              "      <td>age 7+</td>\n",
              "      <td>Wow. Just wow. Common Sense, THIS GAME IS IN A...</td>\n",
              "    </tr>\n",
              "    <tr>\n",
              "      <th>557</th>\n",
              "      <td>Teen, 13 years old</td>\n",
              "      <td>age 4+</td>\n",
              "      <td>A quite popular gem on the app store/google pl...</td>\n",
              "    </tr>\n",
              "    <tr>\n",
              "      <th>558</th>\n",
              "      <td>Kid, 12 years old</td>\n",
              "      <td>age 2+</td>\n",
              "      <td>It's a abhorrent try by Mojang, though a excel...</td>\n",
              "    </tr>\n",
              "    <tr>\n",
              "      <th>559</th>\n",
              "      <td>Teen, 15 years old</td>\n",
              "      <td>age 6+</td>\n",
              "      <td>Minecraft: Pocket Edition is an app which you ...</td>\n",
              "    </tr>\n",
              "    <tr>\n",
              "      <th>560</th>\n",
              "      <td>Kid, 11 years old</td>\n",
              "      <td>age 4+</td>\n",
              "      <td>Give it a little time CommonSense, the game is...</td>\n",
              "    </tr>\n",
              "  </tbody>\n",
              "</table>\n",
              "<p>526 rows × 3 columns</p>\n",
              "</div>\n",
              "      <button class=\"colab-df-convert\" onclick=\"convertToInteractive('df-fa801dde-8ff7-4e3f-bbc4-5cd99c47e09d')\"\n",
              "              title=\"Convert this dataframe to an interactive table.\"\n",
              "              style=\"display:none;\">\n",
              "        \n",
              "  <svg xmlns=\"http://www.w3.org/2000/svg\" height=\"24px\"viewBox=\"0 0 24 24\"\n",
              "       width=\"24px\">\n",
              "    <path d=\"M0 0h24v24H0V0z\" fill=\"none\"/>\n",
              "    <path d=\"M18.56 5.44l.94 2.06.94-2.06 2.06-.94-2.06-.94-.94-2.06-.94 2.06-2.06.94zm-11 1L8.5 8.5l.94-2.06 2.06-.94-2.06-.94L8.5 2.5l-.94 2.06-2.06.94zm10 10l.94 2.06.94-2.06 2.06-.94-2.06-.94-.94-2.06-.94 2.06-2.06.94z\"/><path d=\"M17.41 7.96l-1.37-1.37c-.4-.4-.92-.59-1.43-.59-.52 0-1.04.2-1.43.59L10.3 9.45l-7.72 7.72c-.78.78-.78 2.05 0 2.83L4 21.41c.39.39.9.59 1.41.59.51 0 1.02-.2 1.41-.59l7.78-7.78 2.81-2.81c.8-.78.8-2.07 0-2.86zM5.41 20L4 18.59l7.72-7.72 1.47 1.35L5.41 20z\"/>\n",
              "  </svg>\n",
              "      </button>\n",
              "      \n",
              "  <style>\n",
              "    .colab-df-container {\n",
              "      display:flex;\n",
              "      flex-wrap:wrap;\n",
              "      gap: 12px;\n",
              "    }\n",
              "\n",
              "    .colab-df-convert {\n",
              "      background-color: #E8F0FE;\n",
              "      border: none;\n",
              "      border-radius: 50%;\n",
              "      cursor: pointer;\n",
              "      display: none;\n",
              "      fill: #1967D2;\n",
              "      height: 32px;\n",
              "      padding: 0 0 0 0;\n",
              "      width: 32px;\n",
              "    }\n",
              "\n",
              "    .colab-df-convert:hover {\n",
              "      background-color: #E2EBFA;\n",
              "      box-shadow: 0px 1px 2px rgba(60, 64, 67, 0.3), 0px 1px 3px 1px rgba(60, 64, 67, 0.15);\n",
              "      fill: #174EA6;\n",
              "    }\n",
              "\n",
              "    [theme=dark] .colab-df-convert {\n",
              "      background-color: #3B4455;\n",
              "      fill: #D2E3FC;\n",
              "    }\n",
              "\n",
              "    [theme=dark] .colab-df-convert:hover {\n",
              "      background-color: #434B5C;\n",
              "      box-shadow: 0px 1px 3px 1px rgba(0, 0, 0, 0.15);\n",
              "      filter: drop-shadow(0px 1px 2px rgba(0, 0, 0, 0.3));\n",
              "      fill: #FFFFFF;\n",
              "    }\n",
              "  </style>\n",
              "\n",
              "      <script>\n",
              "        const buttonEl =\n",
              "          document.querySelector('#df-fa801dde-8ff7-4e3f-bbc4-5cd99c47e09d button.colab-df-convert');\n",
              "        buttonEl.style.display =\n",
              "          google.colab.kernel.accessAllowed ? 'block' : 'none';\n",
              "\n",
              "        async function convertToInteractive(key) {\n",
              "          const element = document.querySelector('#df-fa801dde-8ff7-4e3f-bbc4-5cd99c47e09d');\n",
              "          const dataTable =\n",
              "            await google.colab.kernel.invokeFunction('convertToInteractive',\n",
              "                                                     [key], {});\n",
              "          if (!dataTable) return;\n",
              "\n",
              "          const docLinkHtml = 'Like what you see? Visit the ' +\n",
              "            '<a target=\"_blank\" href=https://colab.research.google.com/notebooks/data_table.ipynb>data table notebook</a>'\n",
              "            + ' to learn more about interactive tables.';\n",
              "          element.innerHTML = '';\n",
              "          dataTable['output_type'] = 'display_data';\n",
              "          await google.colab.output.renderOutput(dataTable, element);\n",
              "          const docLink = document.createElement('div');\n",
              "          docLink.innerHTML = docLinkHtml;\n",
              "          element.appendChild(docLink);\n",
              "        }\n",
              "      </script>\n",
              "    </div>\n",
              "  </div>\n",
              "  "
            ],
            "text/plain": [
              "             author age  ...                                             review\n",
              "0    Teen, 17 years old  ...  Kids dont listent to the parents saying ''ThIs...\n",
              "1     Kid, 11 years old  ...  I have been playing this game for many years a...\n",
              "2     Kid, 12 years old  ...  The game is great with no true inappropriate t...\n",
              "3    Teen, 13 years old  ...  Are you sure you got common sense. I would giv...\n",
              "4     Kid, 10 years old  ...        IDK WHAT TO SAY BUT DIS IS DA BEST GAME EVA\n",
              "..                  ...  ...                                                ...\n",
              "556  Teen, 14 years old  ...  Wow. Just wow. Common Sense, THIS GAME IS IN A...\n",
              "557  Teen, 13 years old  ...  A quite popular gem on the app store/google pl...\n",
              "558   Kid, 12 years old  ...  It's a abhorrent try by Mojang, though a excel...\n",
              "559  Teen, 15 years old  ...  Minecraft: Pocket Edition is an app which you ...\n",
              "560   Kid, 11 years old  ...  Give it a little time CommonSense, the game is...\n",
              "\n",
              "[526 rows x 3 columns]"
            ]
          },
          "metadata": {},
          "execution_count": 9
        }
      ]
    },
    {
      "cell_type": "code",
      "source": [
        "stop_words = stopwords.words(\"english\")\n"
      ],
      "metadata": {
        "id": "e-ESP2KNbrPK"
      },
      "execution_count": 10,
      "outputs": []
    },
    {
      "cell_type": "code",
      "source": [
        "import re\n",
        "\"\"\"Functions to clean text using Regex\"\"\"\n",
        "ip_addr_regex = re.compile(r'\\b(?:[0-9]{1,3}\\.){3}[0-9]{1,3}\\b')\n",
        "emoji_pattern = re.compile(\"[\"\n",
        "        u\"\\U0001F600-\\U0001F64F\"  # emoticons\n",
        "        u\"\\U0001F300-\\U0001F5FF\"  # symbols & pictographs\n",
        "        u\"\\U0001F680-\\U0001F6FF\"  # transport & map symbols\n",
        "        u\"\\U0001F1E0-\\U0001F1FF\"  # flags (iOS)\n",
        "                           \"]+\", flags=re.UNICODE)\n",
        "\n",
        "def regex_cleaning(phrase):\n",
        "    # specific\n",
        "    phrase = re.sub(r\"won\\'t\", \"will not\", phrase)\n",
        "    phrase = re.sub(r\"can\\'t\", \"can not\", phrase)\n",
        "\n",
        "    # general\n",
        "    phrase = re.sub(r\"n\\'t\", \" not\", phrase)\n",
        "    phrase = re.sub(r\"\\'re\", \" are\", phrase)\n",
        "    phrase = re.sub(r\"\\'s\", \" is\", phrase)\n",
        "    phrase = re.sub(r\"\\'d\", \" would\", phrase)\n",
        "    phrase = re.sub(r\"\\'ll\", \" will\", phrase)\n",
        "    phrase = re.sub(r\"\\'t\", \" not\", phrase)\n",
        "    phrase = re.sub(r\"\\'ve\", \" have\", phrase)\n",
        "    phrase = re.sub(r\"\\'m\", \" am\", phrase)\n",
        "    phrase = re.sub(r\"[^a-zA-Z0-9]+\", \" \", phrase)\n",
        "    phrase = re.sub(r\"\\r\\n\", \"\", phrase)            # Removing additional line\n",
        "    phrase = re.sub(r\"\\n\", \"\", phrase)              # Removing additional line \n",
        "    phrase = re.sub(r\"\\S*@\\S*\\s?\", \"\", phrase)      # Removing email-addresses \n",
        "    phrase = re.sub(r'http\\S+', '', phrase)         # Removing website links\n",
        "    phrase = re.sub(ip_addr_regex, \"\", phrase)      # Removing IP address link.\n",
        "    phrase = emoji_pattern.sub(r'', phrase)         # Removing Emojis\n",
        "    \n",
        "    return phrase.lower() \n",
        "\n",
        "df['cleaned_text'] = df['review'].apply(regex_cleaning)"
      ],
      "metadata": {
        "id": "eV8Af1UbbrWn"
      },
      "execution_count": 13,
      "outputs": []
    },
    {
      "cell_type": "code",
      "source": [
        "df.head()\n"
      ],
      "metadata": {
        "colab": {
          "base_uri": "https://localhost:8080/",
          "height": 207
        },
        "id": "I2kFRTwTbrcU",
        "outputId": "ff2dcee2-51ff-4300-cc9c-4f96474d7e9d"
      },
      "execution_count": 14,
      "outputs": [
        {
          "output_type": "execute_result",
          "data": {
            "text/html": [
              "\n",
              "  <div id=\"df-8b487c61-3636-4ca3-8959-4db27ed33208\">\n",
              "    <div class=\"colab-df-container\">\n",
              "      <div>\n",
              "<style scoped>\n",
              "    .dataframe tbody tr th:only-of-type {\n",
              "        vertical-align: middle;\n",
              "    }\n",
              "\n",
              "    .dataframe tbody tr th {\n",
              "        vertical-align: top;\n",
              "    }\n",
              "\n",
              "    .dataframe thead th {\n",
              "        text-align: right;\n",
              "    }\n",
              "</style>\n",
              "<table border=\"1\" class=\"dataframe\">\n",
              "  <thead>\n",
              "    <tr style=\"text-align: right;\">\n",
              "      <th></th>\n",
              "      <th>author age</th>\n",
              "      <th>recommended age</th>\n",
              "      <th>review</th>\n",
              "      <th>cleaned_text</th>\n",
              "    </tr>\n",
              "  </thead>\n",
              "  <tbody>\n",
              "    <tr>\n",
              "      <th>0</th>\n",
              "      <td>Teen, 17 years old</td>\n",
              "      <td>age 7+</td>\n",
              "      <td>Kids dont listent to the parents saying ''ThIs...</td>\n",
              "      <td>kids dont listent to the parents saying this g...</td>\n",
              "    </tr>\n",
              "    <tr>\n",
              "      <th>1</th>\n",
              "      <td>Kid, 11 years old</td>\n",
              "      <td>age 2+</td>\n",
              "      <td>I have been playing this game for many years a...</td>\n",
              "      <td>i have been playing this game for many years a...</td>\n",
              "    </tr>\n",
              "    <tr>\n",
              "      <th>2</th>\n",
              "      <td>Kid, 12 years old</td>\n",
              "      <td>age 7+</td>\n",
              "      <td>The game is great with no true inappropriate t...</td>\n",
              "      <td>the game is great with no true inappropriate t...</td>\n",
              "    </tr>\n",
              "    <tr>\n",
              "      <th>3</th>\n",
              "      <td>Teen, 13 years old</td>\n",
              "      <td>age 5+</td>\n",
              "      <td>Are you sure you got common sense. I would giv...</td>\n",
              "      <td>are you sure you got common sense i would give...</td>\n",
              "    </tr>\n",
              "    <tr>\n",
              "      <th>4</th>\n",
              "      <td>Kid, 10 years old</td>\n",
              "      <td>age 5+</td>\n",
              "      <td>IDK WHAT TO SAY BUT DIS IS DA BEST GAME EVA</td>\n",
              "      <td>idk what to say but dis is da best game eva</td>\n",
              "    </tr>\n",
              "  </tbody>\n",
              "</table>\n",
              "</div>\n",
              "      <button class=\"colab-df-convert\" onclick=\"convertToInteractive('df-8b487c61-3636-4ca3-8959-4db27ed33208')\"\n",
              "              title=\"Convert this dataframe to an interactive table.\"\n",
              "              style=\"display:none;\">\n",
              "        \n",
              "  <svg xmlns=\"http://www.w3.org/2000/svg\" height=\"24px\"viewBox=\"0 0 24 24\"\n",
              "       width=\"24px\">\n",
              "    <path d=\"M0 0h24v24H0V0z\" fill=\"none\"/>\n",
              "    <path d=\"M18.56 5.44l.94 2.06.94-2.06 2.06-.94-2.06-.94-.94-2.06-.94 2.06-2.06.94zm-11 1L8.5 8.5l.94-2.06 2.06-.94-2.06-.94L8.5 2.5l-.94 2.06-2.06.94zm10 10l.94 2.06.94-2.06 2.06-.94-2.06-.94-.94-2.06-.94 2.06-2.06.94z\"/><path d=\"M17.41 7.96l-1.37-1.37c-.4-.4-.92-.59-1.43-.59-.52 0-1.04.2-1.43.59L10.3 9.45l-7.72 7.72c-.78.78-.78 2.05 0 2.83L4 21.41c.39.39.9.59 1.41.59.51 0 1.02-.2 1.41-.59l7.78-7.78 2.81-2.81c.8-.78.8-2.07 0-2.86zM5.41 20L4 18.59l7.72-7.72 1.47 1.35L5.41 20z\"/>\n",
              "  </svg>\n",
              "      </button>\n",
              "      \n",
              "  <style>\n",
              "    .colab-df-container {\n",
              "      display:flex;\n",
              "      flex-wrap:wrap;\n",
              "      gap: 12px;\n",
              "    }\n",
              "\n",
              "    .colab-df-convert {\n",
              "      background-color: #E8F0FE;\n",
              "      border: none;\n",
              "      border-radius: 50%;\n",
              "      cursor: pointer;\n",
              "      display: none;\n",
              "      fill: #1967D2;\n",
              "      height: 32px;\n",
              "      padding: 0 0 0 0;\n",
              "      width: 32px;\n",
              "    }\n",
              "\n",
              "    .colab-df-convert:hover {\n",
              "      background-color: #E2EBFA;\n",
              "      box-shadow: 0px 1px 2px rgba(60, 64, 67, 0.3), 0px 1px 3px 1px rgba(60, 64, 67, 0.15);\n",
              "      fill: #174EA6;\n",
              "    }\n",
              "\n",
              "    [theme=dark] .colab-df-convert {\n",
              "      background-color: #3B4455;\n",
              "      fill: #D2E3FC;\n",
              "    }\n",
              "\n",
              "    [theme=dark] .colab-df-convert:hover {\n",
              "      background-color: #434B5C;\n",
              "      box-shadow: 0px 1px 3px 1px rgba(0, 0, 0, 0.15);\n",
              "      filter: drop-shadow(0px 1px 2px rgba(0, 0, 0, 0.3));\n",
              "      fill: #FFFFFF;\n",
              "    }\n",
              "  </style>\n",
              "\n",
              "      <script>\n",
              "        const buttonEl =\n",
              "          document.querySelector('#df-8b487c61-3636-4ca3-8959-4db27ed33208 button.colab-df-convert');\n",
              "        buttonEl.style.display =\n",
              "          google.colab.kernel.accessAllowed ? 'block' : 'none';\n",
              "\n",
              "        async function convertToInteractive(key) {\n",
              "          const element = document.querySelector('#df-8b487c61-3636-4ca3-8959-4db27ed33208');\n",
              "          const dataTable =\n",
              "            await google.colab.kernel.invokeFunction('convertToInteractive',\n",
              "                                                     [key], {});\n",
              "          if (!dataTable) return;\n",
              "\n",
              "          const docLinkHtml = 'Like what you see? Visit the ' +\n",
              "            '<a target=\"_blank\" href=https://colab.research.google.com/notebooks/data_table.ipynb>data table notebook</a>'\n",
              "            + ' to learn more about interactive tables.';\n",
              "          element.innerHTML = '';\n",
              "          dataTable['output_type'] = 'display_data';\n",
              "          await google.colab.output.renderOutput(dataTable, element);\n",
              "          const docLink = document.createElement('div');\n",
              "          docLink.innerHTML = docLinkHtml;\n",
              "          element.appendChild(docLink);\n",
              "        }\n",
              "      </script>\n",
              "    </div>\n",
              "  </div>\n",
              "  "
            ],
            "text/plain": [
              "           author age  ...                                       cleaned_text\n",
              "0  Teen, 17 years old  ...  kids dont listent to the parents saying this g...\n",
              "1   Kid, 11 years old  ...  i have been playing this game for many years a...\n",
              "2   Kid, 12 years old  ...  the game is great with no true inappropriate t...\n",
              "3  Teen, 13 years old  ...  are you sure you got common sense i would give...\n",
              "4   Kid, 10 years old  ...        idk what to say but dis is da best game eva\n",
              "\n",
              "[5 rows x 4 columns]"
            ]
          },
          "metadata": {},
          "execution_count": 14
        }
      ]
    },
    {
      "cell_type": "code",
      "source": [
        "def lemmatization(texts, allowed_postags=[\"NOUN\", \"ADJ\", \"VERB\", \"ADV\"]):\n",
        "    nlp = spacy.load(\"en_core_web_sm\") #loading english words to nlp \n",
        "    texts_out = []\n",
        "    for text in texts:\n",
        "        doc = nlp(text)\n",
        "        new_text = []\n",
        "        for token in doc:\n",
        "            if token.pos_ in allowed_postags:\n",
        "                new_text.append(token.lemma_)\n",
        "        final = \" \".join(new_text)\n",
        "        texts_out.append(final)\n",
        "    return (texts_out)\n",
        "df['cleaned_text1'] = lemmatization(df.cleaned_text)"
      ],
      "metadata": {
        "id": "XzpZ3zSNbrh8"
      },
      "execution_count": 15,
      "outputs": []
    },
    {
      "cell_type": "code",
      "source": [
        "print (df['cleaned_text1'][0][0:70])\n"
      ],
      "metadata": {
        "colab": {
          "base_uri": "https://localhost:8080/"
        },
        "id": "BzHBFM52b8E3",
        "outputId": "47464f5c-8610-4a17-a33b-fbdcf0e062a6"
      },
      "execution_count": 16,
      "outputs": [
        {
          "output_type": "stream",
          "name": "stdout",
          "text": [
            "kid listent parent say game sword mean violance violance good play day\n"
          ]
        }
      ]
    },
    {
      "cell_type": "markdown",
      "source": [
        "#Bigrams and Trigrams"
      ],
      "metadata": {
        "id": "RPA85XigcAAH"
      }
    },
    {
      "cell_type": "code",
      "source": [
        "def gen_words(texts):\n",
        "    final = []\n",
        "    for text in texts:\n",
        "        new = gensim.utils.simple_preprocess(text, deacc=True)\n",
        "        final.append(new)\n",
        "    return (final)\n",
        "\n",
        "df['cleaned_text2'] = gen_words(df['cleaned_text1'])\n",
        "\n",
        "print (df['cleaned_text2'][0][0:40])"
      ],
      "metadata": {
        "colab": {
          "base_uri": "https://localhost:8080/"
        },
        "id": "Dgt6U1B-brnY",
        "outputId": "65b40f71-76a7-448f-b530-dc19d52cd045"
      },
      "execution_count": 19,
      "outputs": [
        {
          "output_type": "stream",
          "name": "stdout",
          "text": [
            "['kid', 'listent', 'parent', 'say', 'game', 'sword', 'mean', 'violance', 'violance', 'good', 'play', 'day', 'play', 'hour', 'think', 'minecraft', 'child', 'friendly', 'game', 'open', 'age', 'opinion']\n"
          ]
        }
      ]
    },
    {
      "cell_type": "code",
      "source": [
        "#BIGRAMS AND TRIGRAMS\n",
        "bigram_phrases = gensim.models.Phrases(df['cleaned_text2'], min_count=5, threshold=100)\n",
        "trigram_phrases = gensim.models.Phrases(bigram_phrases[df['cleaned_text2']], threshold=100)\n",
        "\n",
        "bigram = gensim.models.phrases.Phraser(bigram_phrases)\n",
        "trigram = gensim.models.phrases.Phraser(trigram_phrases)\n",
        "\n",
        "def make_bigrams(texts):\n",
        "    return([bigram[doc] for doc in texts])\n",
        "\n",
        "def make_trigrams(texts):\n",
        "    return ([trigram[bigram[doc]] for doc in texts])\n",
        "\n",
        "data_bigrams = make_bigrams(df['cleaned_text2'])\n",
        "df['cleaned_text2'] = make_trigrams(data_bigrams)"
      ],
      "metadata": {
        "colab": {
          "base_uri": "https://localhost:8080/"
        },
        "id": "ysPYNZQ0cSq1",
        "outputId": "f65e05ac-a6e5-4d8b-8fe2-5b6a209cb088"
      },
      "execution_count": 20,
      "outputs": [
        {
          "output_type": "stream",
          "name": "stderr",
          "text": [
            "/usr/local/lib/python3.7/dist-packages/gensim/models/phrases.py:598: UserWarning: For a faster implementation, use the gensim.models.phrases.Phraser class\n",
            "  warnings.warn(\"For a faster implementation, use the gensim.models.phrases.Phraser class\")\n"
          ]
        }
      ]
    },
    {
      "cell_type": "code",
      "source": [
        "print (df['cleaned_text2'])\n",
        "\n"
      ],
      "metadata": {
        "colab": {
          "base_uri": "https://localhost:8080/"
        },
        "id": "AH3RAOe0brr9",
        "outputId": "944e7b91-1667-4afd-a2e7-794586d970cc"
      },
      "execution_count": 21,
      "outputs": [
        {
          "output_type": "stream",
          "name": "stdout",
          "text": [
            "0      [kid, listent, parent, say, game, sword, mean,...\n",
            "1      [play, game, many, year, never, get, scared, n...\n",
            "2              [game, great, true, inappropriate, thing]\n",
            "3      [sure, got, common_sense, would, give, game, s...\n",
            "4                                      [say, good, game]\n",
            "                             ...                        \n",
            "556    [just, common_sense, game, alpha, give, time, ...\n",
            "557    [quite, popular, gem, app, store, play, basica...\n",
            "558    [abhorrent, try, excellent, idea, think, need,...\n",
            "559    [minecraft, pocket_edition, app, can, download...\n",
            "560    [give, little, time, commonsense, game, alpha,...\n",
            "Name: cleaned_text2, Length: 526, dtype: object\n"
          ]
        }
      ]
    },
    {
      "cell_type": "code",
      "source": [
        "nltk.download('vader_lexicon')\n",
        "from nltk.sentiment.vader import SentimentIntensityAnalyzer\n",
        "sentimentAnalyser = SentimentIntensityAnalyzer()"
      ],
      "metadata": {
        "colab": {
          "base_uri": "https://localhost:8080/"
        },
        "id": "HRYF5I0ebrym",
        "outputId": "5ed2c14f-ca99-4f3c-eae8-947369015bb3"
      },
      "execution_count": 22,
      "outputs": [
        {
          "output_type": "stream",
          "name": "stdout",
          "text": [
            "[nltk_data] Downloading package vader_lexicon to /root/nltk_data...\n"
          ]
        },
        {
          "output_type": "stream",
          "name": "stderr",
          "text": [
            "/usr/local/lib/python3.7/dist-packages/nltk/twitter/__init__.py:20: UserWarning: The twython library has not been installed. Some functionality from the twitter package will not be available.\n",
            "  warnings.warn(\"The twython library has not been installed. \"\n"
          ]
        }
      ]
    },
    {
      "cell_type": "code",
      "source": [
        "df['LabelFromVADER'] = df['cleaned_text1'].apply(lambda review: \"pos\" if sentimentAnalyser.polarity_scores(review)['compound'] > 0.5 else \"neg\")\n"
      ],
      "metadata": {
        "id": "ICi9wVUcceT5"
      },
      "execution_count": 23,
      "outputs": []
    },
    {
      "cell_type": "code",
      "source": [
        "#TF-IDF REMOVAL\n",
        "from gensim.models import TfidfModel\n",
        "\n",
        "id2word = corpora.Dictionary(df['cleaned_text2']) #converting trigram bigram cleaned data into corpora dictionary with tokens assigned unique id \n",
        "\n",
        "texts = df['cleaned_text2'].copy()\n",
        "\n",
        "corpus = [id2word.doc2bow(text) for text in texts] #collecting id2word in form of Bag Of Words (bow)\n",
        "print (corpus[0][0:20])\n",
        "\n",
        "tfidf = TfidfModel(corpus, id2word=id2word) #starting tf-idf model\n",
        "\n",
        "low_value = 0.03 #lowest threshold, if the word appears with this frequency, it is using a lot of space and maybe also delimitting words which are important to corpus \n",
        "words  = []\n",
        "words_missing_in_tfidf = []\n",
        "for i in range(0, len(corpus)):\n",
        "    bow = corpus[i]\n",
        "    low_value_words = [] #reinitialize to be safe. You can skip this.\n",
        "    tfidf_ids = [id for id, value in tfidf[bow]]\n",
        "    bow_ids = [id for id, value in bow]\n",
        "    low_value_words = [id for id, value in tfidf[bow] if value < low_value] \n",
        "    drops = low_value_words+words_missing_in_tfidf #drops words which are so frequent, present everywhere \n",
        "    for item in drops:\n",
        "        words.append(id2word[item])\n",
        "    words_missing_in_tfidf = [id for id in bow_ids if id not in tfidf_ids] # The words with tf-idf socre 0 will be missing\n",
        "\n",
        "    new_bow = [b for b in bow if b[0] not in low_value_words and b[0] not in words_missing_in_tfidf]\n",
        "    corpus[i] = new_bow"
      ],
      "metadata": {
        "colab": {
          "base_uri": "https://localhost:8080/"
        },
        "id": "nZMHW4Avchm0",
        "outputId": "5f1a0767-a5f3-4153-9d4c-0a699577a050"
      },
      "execution_count": 24,
      "outputs": [
        {
          "output_type": "stream",
          "name": "stdout",
          "text": [
            "[(0, 1), (1, 1), (2, 1), (3, 1), (4, 2), (5, 1), (6, 1), (7, 1), (8, 1), (9, 1), (10, 1), (11, 1), (12, 1), (13, 1), (14, 2), (15, 1), (16, 1), (17, 1), (18, 2)]\n"
          ]
        }
      ]
    },
    {
      "cell_type": "code",
      "source": [
        "#LDA MODEL generation/declaration\n",
        "lda_model = gensim.models.ldamodel.LdaModel(corpus=corpus[:-1], #running till 2nd last object in list \n",
        "                                           id2word=id2word,\n",
        "                                           num_topics=10,\n",
        "                                           random_state=100,\n",
        "                                           update_every=1,\n",
        "                                           chunksize=100,\n",
        "                                           passes=10,\n",
        "                                           alpha=\"auto\")\n",
        "# train model, this might takes time\n",
        "model = gensim.models.ldamodel.LdaModel(corpus=corpus[:-1], #running till 2nd last object in list \n",
        "                                           id2word=id2word,\n",
        "                                           num_topics=10,\n",
        "                                           random_state=100,\n",
        "                                           update_every=1,\n",
        "                                           chunksize=100,\n",
        "                                           passes=10,\n",
        "                                           alpha=\"auto\")\n",
        "# save model to disk (no need to use pickle module)\n",
        "model.save('lda.model')"
      ],
      "metadata": {
        "id": "Qiae80eFck-y"
      },
      "execution_count": 26,
      "outputs": []
    },
    {
      "cell_type": "code",
      "source": [
        "#testing on document till 2nd last word\n",
        "test_doc = corpus[-1]\n",
        "vector = lda_model[test_doc] #converting to vector\n",
        "print(vector) # stores output in different opics, degree to relevance to that topic \n",
        "\n",
        "def Sort(sub_li):\n",
        "  sub_li.sort(key = lambda x: x[1])\n",
        "  sub_li.reverse()\n",
        "  return (sub_li)\n",
        "\n",
        "new_vector = Sort(vector)\n",
        "for i in range(10):\n",
        "  print(\"\")\n",
        "  print(new_vector)"
      ],
      "metadata": {
        "colab": {
          "base_uri": "https://localhost:8080/"
        },
        "id": "UyChqWLLcw2b",
        "outputId": "a7f99e7a-8ba4-46fd-cb59-c51ab7d4e89c"
      },
      "execution_count": 27,
      "outputs": [
        {
          "output_type": "stream",
          "name": "stdout",
          "text": [
            "[(3, 0.050246123), (4, 0.1877749), (5, 0.043574583), (6, 0.32391736), (7, 0.17845847), (8, 0.095227316), (9, 0.10311297)]\n",
            "\n",
            "[(6, 0.32391736), (4, 0.1877749), (7, 0.17845847), (9, 0.10311297), (8, 0.095227316), (3, 0.050246123), (5, 0.043574583)]\n",
            "\n",
            "[(6, 0.32391736), (4, 0.1877749), (7, 0.17845847), (9, 0.10311297), (8, 0.095227316), (3, 0.050246123), (5, 0.043574583)]\n",
            "\n",
            "[(6, 0.32391736), (4, 0.1877749), (7, 0.17845847), (9, 0.10311297), (8, 0.095227316), (3, 0.050246123), (5, 0.043574583)]\n",
            "\n",
            "[(6, 0.32391736), (4, 0.1877749), (7, 0.17845847), (9, 0.10311297), (8, 0.095227316), (3, 0.050246123), (5, 0.043574583)]\n",
            "\n",
            "[(6, 0.32391736), (4, 0.1877749), (7, 0.17845847), (9, 0.10311297), (8, 0.095227316), (3, 0.050246123), (5, 0.043574583)]\n",
            "\n",
            "[(6, 0.32391736), (4, 0.1877749), (7, 0.17845847), (9, 0.10311297), (8, 0.095227316), (3, 0.050246123), (5, 0.043574583)]\n",
            "\n",
            "[(6, 0.32391736), (4, 0.1877749), (7, 0.17845847), (9, 0.10311297), (8, 0.095227316), (3, 0.050246123), (5, 0.043574583)]\n",
            "\n",
            "[(6, 0.32391736), (4, 0.1877749), (7, 0.17845847), (9, 0.10311297), (8, 0.095227316), (3, 0.050246123), (5, 0.043574583)]\n",
            "\n",
            "[(6, 0.32391736), (4, 0.1877749), (7, 0.17845847), (9, 0.10311297), (8, 0.095227316), (3, 0.050246123), (5, 0.043574583)]\n",
            "\n",
            "[(6, 0.32391736), (4, 0.1877749), (7, 0.17845847), (9, 0.10311297), (8, 0.095227316), (3, 0.050246123), (5, 0.043574583)]\n"
          ]
        }
      ]
    },
    {
      "cell_type": "code",
      "source": [
        "lda_model.save(\"/content/lda.model.state\") #saving MODEL for further use"
      ],
      "metadata": {
        "id": "ihQAH0Oscw8s"
      },
      "execution_count": 28,
      "outputs": []
    },
    {
      "cell_type": "code",
      "source": [
        "new_model = gensim.models.ldamodel.LdaModel.load(\"/content/lda.model.state\") #new model for this exercise\n"
      ],
      "metadata": {
        "id": "BkLo5Y9ec2N6"
      },
      "execution_count": 29,
      "outputs": []
    },
    {
      "cell_type": "code",
      "source": [
        "test_doc = corpus[-1]\n",
        "vector = new_model[test_doc] #converting to vector\n",
        "print(vector) # stores output in different opics, degree to relevance to that topic \n",
        "\n",
        "def Sort(sub_li):\n",
        "  sub_li.sort(key = lambda x: x[1])\n",
        "  sub_li.reverse()\n",
        "  return (sub_li)\n",
        "\n",
        "new_vector = Sort(vector)\n",
        "for i in range(10):\n",
        "  print(\"\")\n",
        "  print(new_vector)"
      ],
      "metadata": {
        "colab": {
          "base_uri": "https://localhost:8080/"
        },
        "id": "QLEM-52NcxDE",
        "outputId": "29c5a68f-e4dc-424b-fb0e-c4ca711631a6"
      },
      "execution_count": 30,
      "outputs": [
        {
          "output_type": "stream",
          "name": "stdout",
          "text": [
            "[(3, 0.050244816), (4, 0.18777286), (5, 0.043574955), (6, 0.3239602), (7, 0.17846361), (8, 0.09518268), (9, 0.10311257)]\n",
            "\n",
            "[(6, 0.3239602), (4, 0.18777286), (7, 0.17846361), (9, 0.10311257), (8, 0.09518268), (3, 0.050244816), (5, 0.043574955)]\n",
            "\n",
            "[(6, 0.3239602), (4, 0.18777286), (7, 0.17846361), (9, 0.10311257), (8, 0.09518268), (3, 0.050244816), (5, 0.043574955)]\n",
            "\n",
            "[(6, 0.3239602), (4, 0.18777286), (7, 0.17846361), (9, 0.10311257), (8, 0.09518268), (3, 0.050244816), (5, 0.043574955)]\n",
            "\n",
            "[(6, 0.3239602), (4, 0.18777286), (7, 0.17846361), (9, 0.10311257), (8, 0.09518268), (3, 0.050244816), (5, 0.043574955)]\n",
            "\n",
            "[(6, 0.3239602), (4, 0.18777286), (7, 0.17846361), (9, 0.10311257), (8, 0.09518268), (3, 0.050244816), (5, 0.043574955)]\n",
            "\n",
            "[(6, 0.3239602), (4, 0.18777286), (7, 0.17846361), (9, 0.10311257), (8, 0.09518268), (3, 0.050244816), (5, 0.043574955)]\n",
            "\n",
            "[(6, 0.3239602), (4, 0.18777286), (7, 0.17846361), (9, 0.10311257), (8, 0.09518268), (3, 0.050244816), (5, 0.043574955)]\n",
            "\n",
            "[(6, 0.3239602), (4, 0.18777286), (7, 0.17846361), (9, 0.10311257), (8, 0.09518268), (3, 0.050244816), (5, 0.043574955)]\n",
            "\n",
            "[(6, 0.3239602), (4, 0.18777286), (7, 0.17846361), (9, 0.10311257), (8, 0.09518268), (3, 0.050244816), (5, 0.043574955)]\n",
            "\n",
            "[(6, 0.3239602), (4, 0.18777286), (7, 0.17846361), (9, 0.10311257), (8, 0.09518268), (3, 0.050244816), (5, 0.043574955)]\n"
          ]
        }
      ]
    },
    {
      "cell_type": "markdown",
      "source": [
        "##Visualization of the textual data\n"
      ],
      "metadata": {
        "id": "PweVWaSddAJq"
      }
    },
    {
      "cell_type": "code",
      "source": [
        "pyLDAvis.enable_notebook()\n",
        "vis = gensim_models.prepare(new_model, corpus, id2word, mds=\"mmds\", R=30)\n",
        "vis"
      ],
      "metadata": {
        "colab": {
          "base_uri": "https://localhost:8080/",
          "height": 900
        },
        "id": "dWCBp7XkdA3x",
        "outputId": "bb791862-d92d-4346-999b-05b0a060873b"
      },
      "execution_count": 31,
      "outputs": [
        {
          "output_type": "stream",
          "name": "stderr",
          "text": [
            "/usr/local/lib/python3.7/dist-packages/pyLDAvis/_prepare.py:247: FutureWarning: In a future version of pandas all arguments of DataFrame.drop except for the argument 'labels' will be keyword-only\n",
            "  by='saliency', ascending=False).head(R).drop('saliency', 1)\n"
          ]
        },
        {
          "output_type": "execute_result",
          "data": {
            "text/html": [
              "\n",
              "<link rel=\"stylesheet\" type=\"text/css\" href=\"https://cdn.jsdelivr.net/gh/bmabey/pyLDAvis@3.3.1/pyLDAvis/js/ldavis.v1.0.0.css\">\n",
              "\n",
              "\n",
              "<div id=\"ldavis_el751406497915258405447816100\"></div>\n",
              "<script type=\"text/javascript\">\n",
              "\n",
              "var ldavis_el751406497915258405447816100_data = {\"mdsDat\": {\"x\": [0.32715994013774385, 0.12990760562627252, -0.29294114939704125, -0.20768472020003137, 0.13420117877908183, -0.03332899401026111, -0.08961970897720278, -0.27223447877358553, 0.06828304950602264, 0.23625727730900126], \"y\": [0.19207240036267278, 0.3363635025787459, 0.0396781610895638, 0.27812383611482244, -0.31397406769866926, 0.1381771243256582, -0.2530053929820315, -0.21143376290958216, -0.06971491260410559, -0.13628688827707458], \"topics\": [1, 2, 3, 4, 5, 6, 7, 8, 9, 10], \"cluster\": [1, 1, 1, 1, 1, 1, 1, 1, 1, 1], \"Freq\": [46.12313150790398, 18.281363240713702, 8.31775011366752, 6.5894494921104325, 5.050262331782163, 3.8413868718554385, 3.5015580792708376, 3.0430158256357136, 2.79560840830279, 2.4564741287574265]}, \"tinfo\": {\"Term\": [\"play\", \"make\", \"minecraft\", \"so\", \"game\", \"kid\", \"can\", \"mode\", \"well\", \"server\", \"kill\", \"update\", \"how\", \"know\", \"get\", \"player\", \"could\", \"say\", \"much\", \"more\", \"think\", \"fun\", \"use\", \"bad\", \"now\", \"online\", \"will\", \"word\", \"star\", \"pc\", \"world\", \"version\", \"great\", \"app\", \"age\", \"die\", \"little\", \"add\", \"worth\", \"bit\", \"build\", \"sword\", \"pocket_edition\", \"perfect\", \"food\", \"same\", \"long\", \"as\", \"better\", \"put\", \"resource\", \"other\", \"nether\", \"building\", \"feature\", \"limit\", \"reason\", \"sandbox\", \"definitely\", \"pretty\", \"creative\", \"monster\", \"violence\", \"violent\", \"survival\", \"game\", \"can\", \"where\", \"may\", \"stuff\", \"good\", \"block\", \"creativity\", \"mode\", \"animal\", \"people\", \"very\", \"only\", \"minecraft\", \"want\", \"just\", \"much\", \"kill\", \"thing\", \"fun\", \"love\", \"more\", \"kid\", \"also\", \"ipad\", \"opinion\", \"almost\", \"should\", \"idea\", \"account\", \"mind\", \"favorite\", \"mostly\", \"work\", \"let\", \"lose\", \"online\", \"do\", \"addictive\", \"encourage_creativity\", \"experience\", \"promote\", \"warn\", \"single\", \"stink\", \"internet\", \"grass\", \"chat\", \"worried\", \"stranger\", \"talk\", \"understand\", \"community\", \"swearing\", \"never\", \"parent\", \"ever\", \"play\", \"fine\", \"year_old\", \"think\", \"buy\", \"child\", \"bad\", \"kid\", \"teach\", \"cool\", \"say\", \"minecraft\", \"server\", \"fun\", \"so\", \"just\", \"really\", \"game\", \"want\", \"thing\", \"can\", \"good\", \"know\", \"would\", \"word\", \"change\", \"swear\", \"back\", \"video\", \"map\", \"sword_bow\", \"join\", \"easily\", \"language\", \"read\", \"sex\", \"encourage\", \"extremely\", \"death\", \"smoke\", \"simple\", \"ect\", \"split\", \"focus\", \"practice\", \"leave\", \"excellent\", \"load\", \"shelter\", \"cecerd\", \"skelatens\", \"tube\", \"tuber\", \"vid\", \"setting\", \"line\", \"hit\", \"creature\", \"take\", \"server\", \"turn\", \"filter\", \"say\", \"creeper\", \"mode\", \"bad\", \"only\", \"multiplayer\", \"can\", \"kill\", \"spider\", \"more\", \"survival\", \"try\", \"maybe\", \"point\", \"armor\", \"luck\", \"eat\", \"full\", \"tip\", \"bed\", \"likely\", \"noise\", \"alot\", \"bottom\", \"wear\", \"counterpart\", \"pigman\", \"strong\", \"atleast\", \"message\", \"meat\", \"improvement\", \"wait\", \"engaging\", \"flint\", \"lighting\", \"steel\", \"abhorrent\", \"improvment\", \"childern\", \"spook\", \"now\", \"inappropriate\", \"how\", \"review\", \"know\", \"creeper\", \"first\", \"craft\", \"sometimes\", \"start\", \"get\", \"update\", \"skeleton\", \"too\", \"kill\", \"hard\", \"time\", \"see\", \"need\", \"zombie\", \"animal\", \"when\", \"so\", \"think\", \"then\", \"end\", \"non\", \"chicken\", \"sheep\", \"careful\", \"herobrine\", \"cow\", \"life\", \"lava\", \"least\", \"various\", \"depend\", \"progress\", \"object\", \"stop\", \"enter\", \"couple\", \"bully\", \"pig\", \"type\", \"pay\", \"default\", \"drama\", \"glow\", \"screw\", \"steveskin\", \"minecoin\", \"spend\", \"gather\", \"sign\", \"fall\", \"skin\", \"family\", \"make\", \"bore\", \"such\", \"will\", \"also\", \"then\", \"money\", \"mob\", \"kill\", \"go\", \"way\", \"friend\", \"buy\", \"could\", \"new\", \"pe\", \"star\", \"super\", \"addict\", \"seed\", \"iphone\", \"out\", \"have\", \"design\", \"teen\", \"date\", \"rip\", \"plain\", \"android\", \"follower\", \"instagram\", \"rewarding\", \"ridiculously\", \"touch\", \"resturant\", \"personally\", \"fortnite\", \"void\", \"grow\", \"wish\", \"ago\", \"dumb\", \"computer\", \"chest\", \"update\", \"year\", \"download\", \"so\", \"use\", \"even\", \"always\", \"more\", \"make\", \"minecraft\", \"much\", \"totally\", \"give\", \"diamond\", \"control\", \"price\", \"concern\", \"connect\", \"dangerous\", \"else\", \"explode\", \"yet\", \"classic\", \"mad\", \"site\", \"rate\", \"potion\", \"decent\", \"liimit\", \"ruien\", \"creativy\", \"gamee\", \"supervise\", \"be\", \"privacy_concern\", \"stupid\", \"content\", \"huge\", \"kinda\", \"livestock\", \"hack\", \"report\", \"once\", \"well\", \"screen\", \"free\", \"already\", \"even\", \"pc\", \"easy\", \"computer\", \"still\", \"get\", \"much\", \"multiplayer\", \"may\", \"graphic\", \"alpha\", \"enderman\", \"release\", \"suck\", \"tool\", \"slightly\", \"eventually\", \"hotel\", \"device\", \"rather\", \"white\", \"improve\", \"blink\", \"lead\", \"officially\", \"discover\", \"space\", \"addicting\", \"engineering\", \"mindset\", \"restore\", \"gem\", \"quickly\", \"compatible\", \"smelt\", \"kind\", \"user\", \"man\", \"solve\", \"though\", \"rating\", \"health\", \"player\", \"builder\", \"popular\", \"remember\", \"cause\", \"learning\", \"school\", \"about\", \"count\", \"potentially\", \"console\", \"absolutely\", \"boring\", \"iron\", \"city\", \"month\", \"entertaining\", \"complain\", \"heart\", \"amount\", \"theme\", \"town\", \"write\", \"emerald\", \"coal\", \"opportunity\", \"tend\", \"dream\", \"conquer\", \"bypass\", \"nasty\", \"looking\", \"java\", \"castle\", \"self\", \"small\", \"agree\", \"mod\", \"year\", \"different\", \"most\", \"bedrock\", \"too\", \"now\", \"even\", \"like\", \"easy\", \"imagination\", \"ever\", \"start\", \"edition\", \"turn_red\", \"sure\", \"common_sense\", \"old\", \"sleep\", \"quite\", \"form\", \"second\", \"of\", \"redstone\", \"inspiring\", \"ghostly\", \"scare\", \"hate\", \"mineplex\", \"tap\", \"thank\", \"exist\", \"list\", \"aspect\", \"privacy\", \"raid\", \"care\", \"btw\", \"hold\", \"waste\", \"toddler\", \"figure\", \"actual\", \"harmful\", \"hand\", \"issue\", \"right\", \"sometimes\", \"real\", \"look\", \"attack\"], \"Freq\": [352.0, 117.0, 336.0, 129.0, 539.0, 212.0, 451.0, 160.0, 63.0, 141.0, 137.0, 52.0, 64.0, 77.0, 96.0, 58.0, 35.0, 96.0, 72.0, 84.0, 101.0, 162.0, 66.0, 84.0, 42.0, 74.0, 72.0, 37.0, 28.0, 45.0, 84.55883646142868, 80.35967216307145, 109.93790595064591, 62.631940046393545, 60.543571885943756, 50.993599509636326, 58.12113615807101, 41.03499780284987, 40.30970344985371, 36.67659634152562, 158.38525429939824, 35.36801579902427, 44.852303076386306, 34.69526140178133, 32.12947714890672, 26.663791227579175, 23.77855968662695, 40.86504882516361, 22.480196169747163, 21.889918314895247, 21.460481995121864, 84.123001115489, 19.538217119483434, 30.36891045812789, 18.921634208423352, 18.11887766822015, 18.088123202588793, 17.788221930097635, 25.95928909405356, 32.466901158790826, 146.315649677171, 90.72339167472576, 116.70002608061787, 40.47166933776989, 113.50820807567185, 458.35956356930393, 383.6994334866504, 41.17215777167475, 57.55614239535629, 65.90173533615204, 141.1495050138792, 55.285865392388935, 44.59153814453949, 127.4915978484418, 81.86046350019883, 86.24020366447466, 72.83074709028129, 79.03374077004763, 176.7912610349686, 87.34660378127724, 90.41247211367129, 57.64137535611612, 85.97525518003326, 74.4615128769493, 88.81869735073901, 58.95314248810478, 61.60042662877088, 84.42973343149295, 63.03201764888575, 26.4914199048735, 25.51914228813623, 24.277488104288796, 51.75287932446855, 21.02886448556846, 19.162813631473185, 17.179214031237272, 14.451830806177, 13.25481171856948, 13.144808993683117, 50.21202744684742, 11.82640887586701, 70.81447440862873, 11.623195372343504, 10.80981375144921, 10.29402066017635, 10.424673959131345, 9.97354526469487, 9.488109688136298, 9.538956055556032, 8.174452177355585, 7.735476733597064, 7.665285271348189, 55.66246181339297, 7.4584824316869565, 8.12651898978586, 23.04993953581156, 24.693330075402677, 6.258633586109081, 5.999156781269914, 19.420391125008486, 59.51897042435673, 31.37866877125246, 286.7651993301653, 11.925946545482093, 24.377376292152597, 73.27801910855443, 43.63430590283426, 60.35450055429905, 57.195849628097726, 123.06860507355894, 20.457421682857916, 21.109577349445924, 58.757196944362164, 136.41131710953184, 70.2934652545649, 70.00797509280585, 46.80387192339447, 49.434945320165546, 36.60481243778624, 75.97950057175314, 35.70503282509318, 28.380501051920156, 38.648051364265726, 30.848960325036682, 26.102902258200537, 24.564880870320636, 36.92040220035568, 33.02727442732996, 18.6899770531451, 14.794634530420565, 14.259193819863548, 13.258230834821344, 11.86469913738117, 18.38483568499108, 11.625496847451691, 10.863036967978248, 10.661757105994397, 10.081420102910988, 10.041926174878414, 10.228104986450484, 8.164140720984477, 7.99690780791827, 7.965580353218886, 7.408215884669212, 7.282390667114346, 6.7588347589098055, 6.560303690298379, 6.268673227552906, 6.245801242389142, 6.039668375052038, 5.740742422919871, 5.67522019175229, 5.67522019175229, 5.67522019175229, 5.67522019175229, 5.67522019175229, 13.155121784201281, 6.142031629020668, 19.40643592880222, 11.429568076441871, 14.603275095680505, 48.50569261761674, 17.49961234957285, 8.006526587052152, 30.42554416389014, 15.531847861463271, 32.287454803346435, 20.621015051510817, 19.537263311040626, 13.335765719195932, 28.946850479534742, 16.102315710822673, 9.723686753033606, 9.900104950930048, 9.876272752577565, 30.112851480729674, 19.070842454456926, 14.220573151845164, 8.843956269016317, 8.09846978668105, 6.727267349410911, 6.474123452746563, 6.233715141604216, 6.111351813158319, 5.981634214239298, 5.6387968098306285, 5.604883605189225, 5.236156172355046, 4.825606832280432, 4.825595226660289, 4.825384742913156, 4.633308564383084, 4.6332943211219995, 4.633291683481058, 4.62835296458217, 4.4906823506963, 4.49065122653319, 4.0801097993814, 4.0801097993814, 4.0801097993814, 4.0801097993814, 4.0801079530327415, 4.0801079530327415, 4.0800968749407875, 4.0800968749407875, 35.41523776206972, 14.638267861230336, 39.05879055416501, 22.52442179538071, 34.80916695686723, 19.826883193255558, 16.35234937763602, 20.302382331402168, 8.258419498543502, 15.754900493143147, 29.60541367595048, 19.586621534949558, 11.907803059704094, 18.946577914420388, 23.456697041214692, 9.007507943348495, 12.065967616177328, 12.290876094090972, 9.92832422187617, 10.734080272196808, 11.33035487894252, 10.203577879968652, 10.65731015000952, 8.9588835601199, 8.241140312735652, 20.67331482145965, 18.320486834029374, 14.433664259470362, 13.940375032446392, 13.198534483546249, 12.760757315856397, 11.74021794383241, 11.527615918162793, 9.055105189009268, 8.433827960886065, 7.82663110288398, 7.18733070990523, 7.169103774690152, 6.8124538943075885, 6.462371969263497, 6.27790036086595, 6.277634327341007, 5.742656676623279, 5.606647239148837, 5.605015459047509, 5.412769849711328, 5.30854535387365, 5.30854535387365, 5.30854535387365, 5.30854535387365, 5.30854535387365, 4.895428038443531, 4.851277389572101, 7.126866707389482, 4.549468015810994, 12.486862459819761, 10.341522832369908, 8.728816283584361, 41.60779532038552, 6.628328372076231, 9.056339131741986, 15.945467284111071, 12.373481235603771, 10.54042615303626, 7.625804092990148, 8.34825249600821, 11.449956770030228, 9.31231998561568, 7.53467912026521, 7.340206996306132, 7.302308943883422, 34.64252105178277, 25.27134255283884, 13.914109225341079, 26.71765877650021, 10.6349424444703, 9.616106670042909, 8.291452191524067, 7.850826767834376, 6.744172698546388, 6.347767948094679, 6.126972109849171, 5.962267523495735, 5.433585163260586, 5.287588116821285, 4.3532010535676315, 3.955398588608596, 3.9553696809818213, 3.9553696809818213, 3.9553696809818213, 3.9553696809818213, 3.9553696809818213, 3.9553204765107166, 5.224704187693162, 3.13638432403436, 2.8730315387301077, 2.7320678021569065, 2.6356685550635346, 2.59659128669575, 2.548508985059855, 21.87446514585526, 5.517208161903592, 32.35755890216009, 10.935194277712105, 8.209655908870836, 24.366956993257645, 15.101747703509066, 10.067588445226036, 6.238947339798786, 10.709378968357994, 9.94395114056864, 13.255969901628585, 7.8863327141837685, 4.6793372063621845, 4.585560557578711, 18.005544551875158, 14.420523234463234, 12.530006242697596, 9.637242323364166, 8.627523120714747, 8.1151301340155, 7.132422241476955, 6.8083577220473614, 6.680541339590534, 5.842752862495023, 5.748710288801126, 5.510582539259144, 5.381033203450177, 5.346168940377989, 5.263902151934281, 4.450743645783288, 4.450743645783288, 4.450637403576808, 4.450637403576808, 4.034323813453478, 3.9959115092007615, 3.3208446047111684, 3.175569460086016, 3.114223416000687, 3.0198609943975714, 2.9744190442031546, 2.954800397599658, 2.6178037628361532, 2.534770292506631, 4.8239932610092255, 25.86834355872878, 5.444507175212, 8.380158185980319, 5.9054873436481525, 9.859259942018499, 9.694195995066014, 7.312194146449505, 5.743361175914435, 6.513627825148982, 6.782906126017901, 6.15635967280865, 5.209765720800047, 4.922346633255241, 15.506563396340423, 14.639138781096243, 10.993155015052853, 10.065625186070028, 7.726653805129855, 6.26223321164363, 6.182765136576636, 6.182522497867456, 6.039585398523306, 5.956935248336525, 5.719000709311547, 5.457471748337282, 5.113372542293317, 5.07765300605357, 4.875344455814196, 4.875324479534926, 4.613038856080028, 4.612029810363739, 4.611451472717562, 4.293296581181866, 4.293296581181866, 4.293296581181866, 4.293223497233318, 4.293223497233318, 4.293202059275077, 4.293202059275077, 10.010713804941537, 3.138989208759422, 3.1187120672347373, 3.02759733412711, 6.368960625066436, 5.688226033030567, 6.53256927564427, 9.166201494793526, 4.5022318966492625, 17.928471143397548, 8.692174487116148, 7.346561967016127, 7.04471983436449, 6.91251951810126, 5.4360830922833365, 5.256527986676281, 5.162262887881804, 4.8684943542565255, 3.9152367242688078, 3.21919441614776, 2.9903311372554793, 2.659718890914222, 2.6596873341846465, 2.524866018913885, 2.4885256472249693, 2.3615973190602286, 2.2267815989542856, 2.2264042610389327, 2.2655952572995273, 1.933286556985331, 1.8615506131387345, 1.861349187205272, 1.7659356248801699, 1.7657096921248028, 1.6447945994936932, 1.6311251642291562, 1.6310839838160929, 1.6310658554820812, 1.6310085609943408, 3.7306757366020262, 5.372020245565397, 2.471068061571783, 3.1406347211919394, 2.3883511591558904, 3.9513770128638175, 5.699890637339046, 6.7766841351588125, 7.119748308900123, 4.325883327205424, 7.768269539378942, 5.981731174797866, 5.7334486454670675, 4.951932585320806, 4.387707660382818, 3.1580891735528276, 3.828139255413294, 3.312829275577093, 2.663352390947291, 11.881305168178015, 11.837620636989863, 11.702742464057147, 7.083604765477538, 6.83155224175567, 6.831501897642225, 6.600651325321558, 6.473432930586788, 6.234038411575803, 6.014871213394798, 5.397806168095978, 5.175288333177193, 4.367074948709699, 3.9253800827752525, 3.4273945983087604, 3.251003180736892, 3.07353369117321, 2.9289642764023776, 2.901905102052587, 2.7226165380773266, 2.6315060821139644, 2.6152046188492095, 2.562588727285246, 2.5314255244062416, 2.531376950203035, 2.273408796494714, 2.0014141041479236, 1.8659970918759956, 1.7764353073711392, 1.7764278344167996, 2.279019018636715, 3.8944947558036596, 2.8088969090003886, 4.056351080528589, 3.865708935688068, 3.689706701711931, 2.8296516630813806], \"Total\": [352.0, 117.0, 336.0, 129.0, 539.0, 212.0, 451.0, 160.0, 63.0, 141.0, 137.0, 52.0, 64.0, 77.0, 96.0, 58.0, 35.0, 96.0, 72.0, 84.0, 101.0, 162.0, 66.0, 84.0, 42.0, 74.0, 72.0, 37.0, 28.0, 45.0, 85.2369717276402, 81.03881377740927, 110.97380669089411, 63.3101090626475, 61.22200801153831, 51.72956431612127, 58.96517630279885, 41.713295749231, 40.98806129538966, 37.35471702346364, 161.38294734010645, 36.050239634986546, 45.724976692468516, 35.37333984924428, 32.80770733141395, 27.342016934470898, 24.456751560002207, 42.0451741253708, 23.15864157253753, 22.568117599995478, 22.139686551025903, 86.9392119669816, 20.2163882245311, 31.437711923606166, 19.599833395006563, 18.7970259443789, 18.766221296844936, 18.466281878068695, 26.951709855690595, 33.857833553953945, 154.8068188725519, 96.79061867308408, 126.68605193676159, 42.690129792555084, 123.99563266486851, 539.5475277457143, 451.80017013145107, 44.079500547239675, 63.345816822416126, 73.71596156445351, 173.0019371006926, 61.708436282646616, 48.42566536935717, 160.4291249695223, 101.01083989844247, 112.48825439266272, 91.15228426170076, 101.57284110701612, 336.52647130454153, 127.50390772098696, 147.43424157071277, 72.25068648321721, 137.4340985401376, 110.43887929487721, 162.19532390673882, 75.40700064804585, 84.83692190595656, 212.889440430822, 93.78057320804169, 27.15908882994858, 26.186291178830093, 24.944720926115913, 53.30469308265803, 21.69628069715428, 19.83017414710761, 17.846494648010413, 15.11906032210066, 13.922051253289387, 13.811942310734391, 52.85756724091953, 12.493720492744822, 74.83072738867814, 12.290335662685461, 11.477083808334767, 10.961090821692634, 11.11873262504354, 10.640876323620759, 10.156206360452137, 10.305682659149122, 8.841546299645385, 8.402973660685982, 8.332511003852536, 60.598510357802105, 8.164067137223551, 8.9042928871588, 25.440712346752257, 27.314037920026088, 6.926372488124566, 6.6663363909489775, 21.66751303417411, 67.91664733047682, 35.79983099623066, 352.2368210372024, 13.33845692139191, 28.783047491796072, 101.15271292106351, 58.185394091040585, 87.88088200839013, 84.81999276919235, 212.889440430822, 25.555989379128373, 26.625883273254214, 96.2522993421648, 336.52647130454153, 141.35974548805822, 162.19532390673882, 129.54831115134934, 147.43424157071277, 93.02815853798722, 539.5475277457143, 127.50390772098696, 110.43887929487721, 451.80017013145107, 173.0019371006926, 77.12902382984149, 75.71032305006985, 37.610628853925206, 33.717789563747296, 19.392253298171156, 15.48509163325709, 14.949593348415153, 13.948447575281234, 12.554945174598014, 19.46275795838306, 12.315763793207953, 11.553233649767076, 11.352129996517213, 10.771800751092384, 10.732497706228534, 10.934604033099426, 8.854382844620057, 8.687093472338072, 8.655943761480797, 8.098597370934979, 7.973117391712195, 7.449307229696208, 7.250865388394537, 6.958930113357091, 6.9363206524982015, 6.73008264700411, 6.431433655487367, 6.365364620847673, 6.365364620847673, 6.365364620847673, 6.365364620847673, 6.365364620847673, 15.369076736219844, 6.929600593954484, 24.651074734229496, 14.486437555683107, 20.17248536736507, 141.35974548805822, 32.55424891075381, 10.604221888124947, 96.2522993421648, 39.10408205933494, 160.4291249695223, 84.81999276919235, 101.57284110701612, 39.645782355668395, 451.80017013145107, 137.4340985401376, 21.457667231742825, 84.83692190595656, 123.99563266486851, 30.82729442153279, 19.785518190857925, 14.935205875215571, 9.558255587614838, 8.81278774962312, 7.4418323349039035, 7.188764948173894, 6.948148632800705, 6.825900784815835, 6.69593499040639, 6.353152263118664, 6.3192777752265705, 5.950460042983751, 5.539902039859011, 5.5399067480217346, 5.53998020333169, 5.3476561342049225, 5.34765018195173, 5.347659063972245, 5.342739892424849, 5.20498597597816, 5.204983405768422, 4.794436837874818, 4.794436837874818, 4.794436837874818, 4.794436837874818, 4.794440302568104, 4.794440302568104, 4.794449396021505, 4.794449396021505, 42.037342439977444, 19.154505873839202, 64.75268368424028, 36.29392703717442, 77.12902382984149, 39.10408205933494, 32.33987434302764, 45.07582100430761, 12.95490170344103, 35.93970599312826, 96.52895326305347, 52.59866532711033, 24.822760600863834, 56.89830721687877, 137.4340985401376, 20.563169503171466, 47.47963357141497, 53.042961652602365, 42.40174457467415, 74.14027477453509, 101.01083989844247, 87.63329902672368, 129.54831115134934, 101.15271292106351, 55.08605049678221, 21.36918734997145, 19.016589213784233, 15.12946356518975, 14.636289868178967, 13.894379737314976, 13.456468649624677, 12.436040717591746, 12.223511933524446, 9.751059920585183, 9.129680861502933, 8.522444917972797, 7.884134848944927, 7.865468131894407, 7.5083994019752645, 7.158287561169586, 6.974198741603621, 6.974060749319951, 6.438486712978287, 6.3024004015745785, 6.300751551925786, 6.108668389113046, 6.004312736753798, 6.004312736753798, 6.004312736753798, 6.004312736753798, 6.004312736753798, 5.5911711235145924, 5.547079269112228, 8.157580338139395, 5.245212990943861, 15.88615276597209, 14.841936587981307, 12.286146052051581, 117.29769339716181, 8.692747488564258, 16.278114161654287, 72.86569689415681, 93.78057320804169, 55.08605049678221, 19.797320661838462, 34.25190143408878, 137.4340985401376, 62.556585861398545, 44.012555344260186, 58.00634239122975, 58.185394091040585, 35.35889113999872, 26.050251835599987, 14.630695078307527, 28.122950855902328, 11.35119170579986, 10.332431339766533, 9.007737241819402, 8.567125201280719, 7.460442366057761, 7.064109406491846, 6.843200345507517, 6.678538508336594, 6.149807109933901, 6.003928546411001, 5.069654296852745, 4.671596637250896, 4.67158980766651, 4.67158980766651, 4.67158980766651, 4.67158980766651, 4.67158980766651, 4.671628352659913, 6.319691403625854, 3.852728028311443, 3.5895123805674505, 3.4483372620398005, 3.3521480663387733, 3.312860805904654, 3.2647899948102657, 28.26684152876365, 7.443494214408169, 52.59866532711033, 17.2772742205217, 13.782645360571149, 129.54831115134934, 66.3715137052469, 42.61518960984527, 14.424360964117918, 84.83692190595656, 117.29769339716181, 336.52647130454153, 72.25068648321721, 9.15573747103495, 30.38225075253071, 18.71515541415865, 15.129507635818157, 13.238919577866323, 10.34610242689251, 9.336329332497966, 8.823921136682996, 7.84113605884078, 7.517367442121491, 7.389299741311174, 6.55168505908398, 6.45742936262551, 6.2193049087348555, 6.08995372303838, 6.055202599993152, 5.97262071103638, 5.159448390296719, 5.159448390296719, 5.159453795688135, 5.159453795688135, 4.743245701190877, 4.704778145623959, 4.029672496935983, 3.8845005795459047, 3.823129944733024, 3.7288088815201172, 3.6832354245474277, 3.6634982447646127, 3.3265814154660314, 3.2440315268252817, 6.224341140819151, 63.17343421611004, 8.675227308779103, 16.63653656331371, 10.461579148672355, 42.61518960984527, 45.795526055329425, 35.22996613115408, 28.26684152876365, 49.27991858330947, 96.52895326305347, 72.25068648321721, 39.645782355668395, 63.345816822416126, 16.217808819453296, 15.3506730462446, 11.704439824859904, 10.776775984471286, 8.437954141347804, 6.97354483795843, 6.893951298065668, 6.894045586476575, 6.750858608994805, 6.6680657518628355, 6.430098162205458, 6.16872563510072, 5.8245290222620545, 5.788883656987559, 5.586597237007818, 5.586600766247589, 5.325191975664854, 5.3253127785423695, 5.325026107502267, 5.004446362080165, 5.004446362080165, 5.004446362080165, 5.004454375341652, 5.004454375341652, 5.0044428135384385, 5.0044428135384385, 11.90421141182449, 3.8502236915595907, 3.8298260388080383, 3.73884693862946, 9.282019330506397, 8.289466934476767, 10.664903741685535, 58.93091887693211, 7.864823164199277, 18.63071103703004, 9.394562421914785, 8.04913364171747, 7.746854368173784, 7.616371197596563, 6.138209707620909, 5.9592218363957326, 5.86503520391598, 5.570621647964918, 4.617370782437976, 3.9213486471312673, 3.6923477154326956, 3.3617555368186665, 3.36175093980149, 3.2269615773098423, 3.1907195597335467, 3.0638166681753414, 2.928999841982353, 2.928963196967208, 3.005762865933057, 2.635424141322227, 2.56365992289738, 2.563683622699552, 2.4679549376256187, 2.467986434733575, 2.3469109351252877, 2.333150838073433, 2.333156469657006, 2.333160541463289, 2.333167095980676, 5.54311817375352, 8.742028001388897, 3.738876512591536, 5.010535785472168, 3.907265629838712, 8.769410211340842, 17.2772742205217, 26.27070336303602, 30.14139441858838, 12.42496330058374, 56.89830721687877, 42.037342439977444, 42.61518960984527, 36.75765886452858, 35.22996613115408, 11.047283925415664, 35.79983099623066, 35.93970599312826, 6.4201936726276525, 12.583410646552107, 12.539590707045388, 12.40476128530805, 7.785772182300419, 7.533717401826942, 7.533741417811136, 7.302636643403349, 7.1754317395086, 6.936358689175387, 6.716736268292513, 6.099888672964303, 5.878282975981369, 5.069001851105999, 4.627315357409679, 4.12940655706281, 3.952872550419765, 3.775436550679281, 3.6308662993184058, 3.6039426457234063, 3.4245655454862565, 3.3336325242639697, 3.316983051247112, 3.264485337342384, 3.2332997677305206, 3.2332916343366946, 2.9752778035208793, 2.7034612798965467, 2.568271715985648, 2.4782472105455837, 2.478251423276348, 3.45091916341329, 8.46669374084601, 5.922710331051341, 12.95490170344103, 16.37990088275021, 20.651119617911743, 30.24988112720806], \"Category\": [\"Default\", \"Default\", \"Default\", \"Default\", \"Default\", \"Default\", \"Default\", \"Default\", \"Default\", \"Default\", \"Default\", \"Default\", \"Default\", \"Default\", \"Default\", \"Default\", \"Default\", \"Default\", \"Default\", \"Default\", \"Default\", \"Default\", \"Default\", \"Default\", \"Default\", \"Default\", \"Default\", \"Default\", \"Default\", \"Default\", \"Topic1\", \"Topic1\", \"Topic1\", \"Topic1\", \"Topic1\", \"Topic1\", \"Topic1\", \"Topic1\", \"Topic1\", \"Topic1\", \"Topic1\", \"Topic1\", \"Topic1\", \"Topic1\", \"Topic1\", \"Topic1\", \"Topic1\", \"Topic1\", \"Topic1\", \"Topic1\", \"Topic1\", \"Topic1\", \"Topic1\", \"Topic1\", \"Topic1\", \"Topic1\", \"Topic1\", \"Topic1\", \"Topic1\", \"Topic1\", \"Topic1\", \"Topic1\", \"Topic1\", \"Topic1\", \"Topic1\", \"Topic1\", \"Topic1\", \"Topic1\", \"Topic1\", \"Topic1\", \"Topic1\", \"Topic1\", \"Topic1\", \"Topic1\", \"Topic1\", \"Topic1\", \"Topic1\", \"Topic1\", \"Topic1\", \"Topic1\", \"Topic1\", \"Topic1\", \"Topic1\", \"Topic1\", \"Topic1\", \"Topic1\", \"Topic1\", \"Topic1\", \"Topic1\", \"Topic2\", \"Topic2\", \"Topic2\", \"Topic2\", \"Topic2\", \"Topic2\", \"Topic2\", \"Topic2\", \"Topic2\", \"Topic2\", \"Topic2\", \"Topic2\", \"Topic2\", \"Topic2\", \"Topic2\", \"Topic2\", \"Topic2\", \"Topic2\", \"Topic2\", \"Topic2\", \"Topic2\", \"Topic2\", \"Topic2\", \"Topic2\", \"Topic2\", \"Topic2\", \"Topic2\", \"Topic2\", \"Topic2\", \"Topic2\", \"Topic2\", \"Topic2\", \"Topic2\", \"Topic2\", \"Topic2\", \"Topic2\", \"Topic2\", \"Topic2\", \"Topic2\", \"Topic2\", \"Topic2\", \"Topic2\", \"Topic2\", \"Topic2\", \"Topic2\", \"Topic2\", \"Topic2\", \"Topic2\", \"Topic2\", \"Topic2\", \"Topic2\", \"Topic2\", \"Topic2\", \"Topic2\", \"Topic2\", \"Topic2\", \"Topic2\", \"Topic3\", \"Topic3\", \"Topic3\", \"Topic3\", \"Topic3\", \"Topic3\", \"Topic3\", \"Topic3\", \"Topic3\", \"Topic3\", \"Topic3\", \"Topic3\", \"Topic3\", \"Topic3\", \"Topic3\", \"Topic3\", \"Topic3\", \"Topic3\", \"Topic3\", \"Topic3\", \"Topic3\", \"Topic3\", \"Topic3\", \"Topic3\", \"Topic3\", \"Topic3\", \"Topic3\", \"Topic3\", \"Topic3\", \"Topic3\", \"Topic3\", \"Topic3\", \"Topic3\", \"Topic3\", \"Topic3\", \"Topic3\", \"Topic3\", \"Topic3\", \"Topic3\", \"Topic3\", \"Topic3\", \"Topic3\", \"Topic3\", \"Topic3\", \"Topic3\", \"Topic3\", \"Topic3\", \"Topic3\", \"Topic3\", \"Topic4\", \"Topic4\", \"Topic4\", \"Topic4\", \"Topic4\", \"Topic4\", \"Topic4\", \"Topic4\", \"Topic4\", \"Topic4\", \"Topic4\", \"Topic4\", \"Topic4\", \"Topic4\", \"Topic4\", \"Topic4\", \"Topic4\", \"Topic4\", \"Topic4\", \"Topic4\", \"Topic4\", \"Topic4\", \"Topic4\", \"Topic4\", \"Topic4\", \"Topic4\", \"Topic4\", \"Topic4\", \"Topic4\", \"Topic4\", \"Topic4\", \"Topic4\", \"Topic4\", \"Topic4\", \"Topic4\", \"Topic4\", \"Topic4\", \"Topic4\", \"Topic4\", \"Topic4\", \"Topic4\", \"Topic4\", \"Topic4\", \"Topic4\", \"Topic4\", \"Topic4\", \"Topic4\", \"Topic4\", \"Topic4\", \"Topic4\", \"Topic4\", \"Topic4\", \"Topic4\", \"Topic4\", \"Topic4\", \"Topic5\", \"Topic5\", \"Topic5\", \"Topic5\", \"Topic5\", \"Topic5\", \"Topic5\", \"Topic5\", \"Topic5\", \"Topic5\", \"Topic5\", \"Topic5\", \"Topic5\", \"Topic5\", \"Topic5\", \"Topic5\", \"Topic5\", \"Topic5\", \"Topic5\", \"Topic5\", \"Topic5\", \"Topic5\", \"Topic5\", \"Topic5\", \"Topic5\", \"Topic5\", \"Topic5\", \"Topic5\", \"Topic5\", \"Topic5\", \"Topic5\", \"Topic5\", \"Topic5\", \"Topic5\", \"Topic5\", \"Topic5\", \"Topic5\", \"Topic5\", \"Topic5\", \"Topic5\", \"Topic5\", \"Topic5\", \"Topic5\", \"Topic5\", \"Topic5\", \"Topic5\", \"Topic6\", \"Topic6\", \"Topic6\", \"Topic6\", \"Topic6\", \"Topic6\", \"Topic6\", \"Topic6\", \"Topic6\", \"Topic6\", \"Topic6\", \"Topic6\", \"Topic6\", \"Topic6\", \"Topic6\", \"Topic6\", \"Topic6\", \"Topic6\", \"Topic6\", \"Topic6\", \"Topic6\", \"Topic6\", \"Topic6\", \"Topic6\", \"Topic6\", \"Topic6\", \"Topic6\", \"Topic6\", \"Topic6\", \"Topic6\", \"Topic6\", \"Topic6\", \"Topic6\", \"Topic6\", \"Topic6\", \"Topic6\", \"Topic6\", \"Topic6\", \"Topic6\", \"Topic6\", \"Topic6\", \"Topic6\", \"Topic6\", \"Topic6\", \"Topic7\", \"Topic7\", \"Topic7\", \"Topic7\", \"Topic7\", \"Topic7\", \"Topic7\", \"Topic7\", \"Topic7\", \"Topic7\", \"Topic7\", \"Topic7\", \"Topic7\", \"Topic7\", \"Topic7\", \"Topic7\", \"Topic7\", \"Topic7\", \"Topic7\", \"Topic7\", \"Topic7\", \"Topic7\", \"Topic7\", \"Topic7\", \"Topic7\", \"Topic7\", \"Topic7\", \"Topic7\", \"Topic7\", \"Topic7\", \"Topic7\", \"Topic7\", \"Topic7\", \"Topic7\", \"Topic7\", \"Topic7\", \"Topic7\", \"Topic7\", \"Topic7\", \"Topic7\", \"Topic7\", \"Topic7\", \"Topic7\", \"Topic8\", \"Topic8\", \"Topic8\", \"Topic8\", \"Topic8\", \"Topic8\", \"Topic8\", \"Topic8\", \"Topic8\", \"Topic8\", \"Topic8\", \"Topic8\", \"Topic8\", \"Topic8\", \"Topic8\", \"Topic8\", \"Topic8\", \"Topic8\", \"Topic8\", \"Topic8\", \"Topic8\", \"Topic8\", \"Topic8\", \"Topic8\", \"Topic8\", \"Topic8\", \"Topic8\", \"Topic8\", \"Topic8\", \"Topic8\", \"Topic8\", \"Topic8\", \"Topic8\", \"Topic8\", \"Topic8\", \"Topic9\", \"Topic9\", \"Topic9\", \"Topic9\", \"Topic9\", \"Topic9\", \"Topic9\", \"Topic9\", \"Topic9\", \"Topic9\", \"Topic9\", \"Topic9\", \"Topic9\", \"Topic9\", \"Topic9\", \"Topic9\", \"Topic9\", \"Topic9\", \"Topic9\", \"Topic9\", \"Topic9\", \"Topic9\", \"Topic9\", \"Topic9\", \"Topic9\", \"Topic9\", \"Topic9\", \"Topic9\", \"Topic9\", \"Topic9\", \"Topic9\", \"Topic9\", \"Topic9\", \"Topic9\", \"Topic9\", \"Topic9\", \"Topic9\", \"Topic9\", \"Topic9\", \"Topic9\", \"Topic9\", \"Topic9\", \"Topic9\", \"Topic9\", \"Topic9\", \"Topic9\", \"Topic9\", \"Topic9\", \"Topic9\", \"Topic10\", \"Topic10\", \"Topic10\", \"Topic10\", \"Topic10\", \"Topic10\", \"Topic10\", \"Topic10\", \"Topic10\", \"Topic10\", \"Topic10\", \"Topic10\", \"Topic10\", \"Topic10\", \"Topic10\", \"Topic10\", \"Topic10\", \"Topic10\", \"Topic10\", \"Topic10\", \"Topic10\", \"Topic10\", \"Topic10\", \"Topic10\", \"Topic10\", \"Topic10\", \"Topic10\", \"Topic10\", \"Topic10\", \"Topic10\", \"Topic10\", \"Topic10\", \"Topic10\", \"Topic10\", \"Topic10\", \"Topic10\", \"Topic10\"], \"logprob\": [30.0, 29.0, 28.0, 27.0, 26.0, 25.0, 24.0, 23.0, 22.0, 21.0, 20.0, 19.0, 18.0, 17.0, 16.0, 15.0, 14.0, 13.0, 12.0, 11.0, 10.0, 9.0, 8.0, 7.0, 6.0, 5.0, 4.0, 3.0, 2.0, 1.0, -4.5409, -4.5918, -4.2784, -4.8411, -4.875, -5.0466, -4.9158, -5.2639, -5.2818, -5.3762, -3.9133, -5.4125, -5.175, -5.4317, -5.5086, -5.695, -5.8096, -5.2681, -5.8657, -5.8923, -5.9121, -4.5461, -6.006, -5.5649, -6.038, -6.0814, -6.0831, -6.0998, -5.7218, -5.4981, -3.9926, -4.4705, -4.2187, -5.2777, -4.2465, -2.8507, -3.0285, -5.2606, -4.9256, -4.7902, -4.0285, -4.9658, -5.1808, -4.1303, -4.5733, -4.5212, -4.6902, -4.6085, -3.8034, -4.5085, -4.474, -4.9241, -4.5243, -4.6681, -4.4917, -4.9016, -4.8577, -4.5424, -4.8347, -4.7761, -4.8135, -4.8634, -4.1064, -5.007, -5.0999, -5.2092, -5.3821, -5.4686, -5.4769, -4.1367, -5.5826, -3.7928, -5.5999, -5.6725, -5.7213, -5.7087, -5.753, -5.8029, -5.7975, -5.9519, -6.0071, -6.0162, -4.0336, -6.0436, -5.9578, -4.9152, -4.8464, -6.2189, -6.2613, -5.0866, -3.9666, -4.6068, -2.3942, -5.5742, -4.8593, -3.7587, -4.2771, -3.9527, -4.0064, -3.2402, -5.0346, -5.0032, -3.9795, -3.1372, -3.8002, -3.8043, -4.2069, -4.1523, -4.4527, -3.7224, -4.4776, -4.7072, -4.3984, -4.6238, -4.7909, -4.8516, -3.6567, -3.7681, -4.3374, -4.5712, -4.608, -4.6808, -4.7919, -4.3539, -4.8122, -4.8801, -4.8988, -4.9547, -4.9587, -4.9403, -5.1657, -5.1864, -5.1903, -5.2628, -5.28, -5.3546, -5.3844, -5.4299, -5.4335, -5.4671, -5.5178, -5.5293, -5.5293, -5.5293, -5.5293, -5.5293, -4.6886, -5.4503, -4.2998, -4.8292, -4.5842, -3.3837, -4.4032, -5.1852, -3.8501, -4.5225, -3.7907, -4.2391, -4.2931, -4.675, -3.9, -4.4865, -4.9909, -4.9729, -4.9753, -3.6275, -4.0843, -4.3778, -4.8528, -4.9408, -5.1263, -5.1647, -5.2025, -5.2224, -5.2438, -5.3028, -5.3089, -5.3769, -5.4586, -5.4586, -5.4586, -5.4992, -5.4992, -5.4992, -5.5003, -5.5305, -5.5305, -5.6264, -5.6264, -5.6264, -5.6264, -5.6264, -5.6264, -5.6264, -5.6264, -3.4654, -4.3489, -3.3674, -3.9179, -3.4826, -4.0455, -4.2381, -4.0218, -4.9213, -4.2753, -3.6445, -4.0577, -4.5553, -4.0909, -3.8773, -4.8344, -4.5421, -4.5236, -4.7371, -4.6591, -4.605, -4.7098, -4.6663, -4.8399, -4.9234, -3.7376, -3.8584, -4.0969, -4.1317, -4.1864, -4.2201, -4.3034, -4.3217, -4.5631, -4.6342, -4.7089, -4.7941, -4.7967, -4.8477, -4.9005, -4.9294, -4.9295, -5.0185, -5.0425, -5.0428, -5.0777, -5.0972, -5.0972, -5.0972, -5.0972, -5.0972, -5.1782, -5.1872, -4.8026, -5.2515, -4.2418, -4.4303, -4.5998, -3.0382, -4.8751, -4.563, -3.9973, -4.2509, -4.4113, -4.7349, -4.6444, -4.3285, -4.5351, -4.747, -4.7731, -4.7783, -2.9478, -3.2632, -3.86, -3.2075, -4.1287, -4.2294, -4.3776, -4.4322, -4.5842, -4.6448, -4.6802, -4.7074, -4.8003, -4.8275, -5.022, -5.1178, -5.1178, -5.1178, -5.1178, -5.1178, -5.1178, -5.1178, -4.8395, -5.3498, -5.4375, -5.4878, -5.5237, -5.5387, -5.5574, -3.4075, -4.785, -3.016, -4.1009, -4.3876, -3.2996, -3.7781, -4.1835, -4.6621, -4.1217, -4.1959, -3.9084, -4.4277, -4.9497, -4.97, -3.5096, -3.7316, -3.8721, -4.1346, -4.2453, -4.3065, -4.4356, -4.4821, -4.501, -4.635, -4.6513, -4.6936, -4.7174, -4.7239, -4.7394, -4.9072, -4.9072, -4.9072, -4.9072, -5.0054, -5.015, -5.2, -5.2448, -5.2643, -5.295, -5.3102, -5.3168, -5.4379, -5.4701, -4.8266, -3.1472, -4.7056, -4.2744, -4.6244, -4.1118, -4.1287, -4.4107, -4.6522, -4.5263, -4.4858, -4.5828, -4.7497, -4.8065, -3.5186, -3.5762, -3.8626, -3.9508, -4.2152, -4.4253, -4.4381, -4.4382, -4.4615, -4.4753, -4.5161, -4.5629, -4.628, -4.635, -4.6757, -4.6757, -4.731, -4.7312, -4.7313, -4.8028, -4.8028, -4.8028, -4.8028, -4.8028, -4.8028, -4.8028, -3.9562, -5.116, -5.1225, -5.1521, -4.4084, -4.5215, -4.3831, -4.0444, -4.7553, -3.2887, -4.0127, -4.1808, -4.2228, -4.2417, -4.482, -4.5156, -4.5337, -4.5923, -4.8102, -5.0059, -5.0797, -5.1969, -5.1969, -5.2489, -5.2634, -5.3157, -5.3745, -5.3747, -5.3572, -5.5159, -5.5537, -5.5538, -5.6064, -5.6065, -5.6775, -5.6858, -5.6858, -5.6858, -5.6859, -4.8585, -4.4939, -5.2704, -5.0307, -5.3045, -4.801, -4.4346, -4.2616, -4.2122, -4.7105, -4.125, -4.3864, -4.4288, -4.5753, -4.6963, -5.0251, -4.8327, -4.9773, -5.1955, -3.5708, -3.5745, -3.5859, -4.088, -4.1242, -4.1242, -4.1586, -4.178, -4.2157, -4.2515, -4.3598, -4.4019, -4.5717, -4.6783, -4.814, -4.8668, -4.9229, -4.9711, -4.9804, -5.0442, -5.0782, -5.0844, -5.1047, -5.117, -5.117, -5.2245, -5.3519, -5.422, -5.4711, -5.4712, -5.222, -4.6862, -5.013, -4.6455, -4.6936, -4.7402, -5.0056], \"loglift\": [30.0, 29.0, 28.0, 27.0, 26.0, 25.0, 24.0, 23.0, 22.0, 21.0, 20.0, 19.0, 18.0, 17.0, 16.0, 15.0, 14.0, 13.0, 12.0, 11.0, 10.0, 9.0, 8.0, 7.0, 6.0, 5.0, 4.0, 3.0, 2.0, 1.0, 0.7659, 0.7654, 0.7645, 0.7631, 0.7627, 0.7595, 0.7594, 0.7575, 0.7572, 0.7555, 0.7551, 0.7547, 0.7546, 0.7545, 0.753, 0.7487, 0.7457, 0.7454, 0.7441, 0.7433, 0.7427, 0.7409, 0.7397, 0.7393, 0.7386, 0.7371, 0.7371, 0.7364, 0.7363, 0.7319, 0.7174, 0.7091, 0.6918, 0.7205, 0.6855, 0.6108, 0.6105, 0.7056, 0.678, 0.6618, 0.5704, 0.664, 0.6914, 0.5441, 0.5636, 0.5081, 0.5495, 0.523, 0.1301, 0.3956, 0.2849, 0.548, 0.3048, 0.3797, 0.1717, 0.5277, 0.4538, -0.151, 0.3765, 1.6744, 1.6735, 1.6722, 1.6697, 1.668, 1.6651, 1.6612, 1.6542, 1.6502, 1.6498, 1.6479, 1.6444, 1.6441, 1.6435, 1.6394, 1.6365, 1.6348, 1.6345, 1.6312, 1.622, 1.6208, 1.6165, 1.6158, 1.6143, 1.6089, 1.6079, 1.6006, 1.5984, 1.5979, 1.5938, 1.5898, 1.5673, 1.5675, 1.4936, 1.5874, 1.5332, 1.3769, 1.4115, 1.3235, 1.3052, 1.1513, 1.4768, 1.4671, 1.2057, 0.7963, 1.0007, 0.8591, 0.6812, 0.6066, 0.7666, -0.261, 0.4264, 0.3405, -0.7595, -0.0249, 0.6159, 0.5737, 2.4683, 2.4661, 2.4499, 2.4412, 2.4395, 2.436, 2.4302, 2.4298, 2.4291, 2.4252, 2.424, 2.4205, 2.4203, 2.42, 2.4056, 2.404, 2.4037, 2.3977, 2.3962, 2.3895, 2.3867, 2.3823, 2.3819, 2.3785, 2.3732, 2.372, 2.372, 2.372, 2.372, 2.372, 2.3312, 2.3661, 2.2476, 2.2498, 2.1637, 1.4172, 1.866, 2.2058, 1.3351, 1.5634, 0.8836, 1.0726, 0.8383, 1.3972, -0.261, 0.3426, 1.6953, 0.3386, -0.0433, 2.6963, 2.6829, 2.6707, 2.642, 2.6352, 2.6188, 2.615, 2.6112, 2.6091, 2.6069, 2.6004, 2.5997, 2.5918, 2.5817, 2.5817, 2.5816, 2.5763, 2.5763, 2.5763, 2.5762, 2.5721, 2.5721, 2.5584, 2.5584, 2.5584, 2.5584, 2.5584, 2.5584, 2.5584, 2.5584, 2.5483, 2.4508, 2.2142, 2.2427, 1.9241, 2.0405, 2.0378, 1.9221, 2.2695, 1.895, 1.5378, 1.7319, 1.9851, 1.6201, 0.9517, 1.8943, 1.3498, 1.2575, 1.2679, 0.7872, 0.532, 0.5693, 0.2219, 0.2957, 0.8199, 2.9526, 2.9484, 2.9386, 2.937, 2.9344, 2.9326, 2.9282, 2.9271, 2.9117, 2.9064, 2.9006, 2.8932, 2.893, 2.8885, 2.8835, 2.8805, 2.8805, 2.8714, 2.8688, 2.8687, 2.8648, 2.8626, 2.8626, 2.8626, 2.8626, 2.8626, 2.8528, 2.8517, 2.8507, 2.8434, 2.745, 2.6244, 2.6439, 1.9493, 2.7146, 2.3994, 1.4663, 0.9603, 1.3321, 2.0317, 1.574, 0.5006, 1.081, 1.2208, 0.9185, 0.9103, 3.2389, 3.229, 3.2091, 3.2081, 3.1942, 3.1875, 3.1765, 3.172, 3.1584, 3.1524, 3.1488, 3.1459, 3.1355, 3.1323, 3.107, 3.0929, 3.0929, 3.0929, 3.0929, 3.0929, 3.0929, 3.0929, 3.0691, 3.0536, 3.0367, 3.0265, 3.0189, 3.0157, 3.0116, 3.003, 2.9599, 2.7735, 2.8019, 2.7412, 1.5885, 1.7789, 1.8164, 2.4212, 1.1897, 0.7916, 0.0251, 1.0443, 2.5881, 1.3684, 3.3133, 3.304, 3.2969, 3.281, 3.273, 3.2682, 3.2572, 3.2529, 3.2511, 3.2374, 3.2357, 3.231, 3.2282, 3.2274, 3.2256, 3.2042, 3.2042, 3.2042, 3.2042, 3.1901, 3.1887, 3.1585, 3.1505, 3.1469, 3.1411, 3.1382, 3.137, 3.1124, 3.1052, 3.0971, 2.4591, 2.8861, 2.6662, 2.7801, 1.8882, 1.7993, 1.7796, 1.7583, 1.3283, 0.6965, 0.8893, 1.3225, 0.7971, 3.4475, 3.4449, 3.4296, 3.4241, 3.4043, 3.3847, 3.3834, 3.3834, 3.381, 3.3795, 3.3751, 3.3698, 3.3621, 3.3612, 3.3561, 3.3561, 3.3488, 3.3485, 3.3484, 3.339, 3.339, 3.339, 3.339, 3.339, 3.339, 3.339, 3.3191, 3.2881, 3.2869, 3.2813, 3.1157, 3.1157, 3.0022, 1.6315, 2.9345, 3.5387, 3.4994, 3.4858, 3.4821, 3.4802, 3.4556, 3.4517, 3.4495, 3.4424, 3.4122, 3.3798, 3.3662, 3.3429, 3.3429, 3.3318, 3.3286, 3.3168, 3.303, 3.3029, 3.2944, 3.2673, 3.2571, 3.257, 3.2424, 3.2423, 3.2216, 3.2192, 3.2191, 3.2191, 3.2191, 3.1812, 3.0902, 3.163, 3.11, 3.0849, 2.7799, 2.4682, 2.2222, 2.1341, 2.522, 1.5859, 1.6273, 1.5712, 1.5726, 1.494, 2.3249, 1.3416, 1.1931, 2.6973, 3.649, 3.6488, 3.6482, 3.6119, 3.6086, 3.6086, 3.6054, 3.6035, 3.5997, 3.5961, 3.5842, 3.5791, 3.5574, 3.5419, 3.5201, 3.511, 3.5008, 3.4916, 3.4898, 3.4771, 3.4699, 3.4687, 3.4644, 3.4617, 3.4617, 3.4374, 3.4058, 3.387, 3.3735, 3.3735, 3.2915, 2.9299, 2.9604, 2.5453, 2.2625, 1.9842, 1.3371]}, \"token.table\": {\"Topic\": [4, 9, 9, 2, 10, 1, 6, 8, 2, 1, 6, 3, 9, 2, 4, 8, 4, 7, 1, 2, 3, 5, 1, 2, 6, 9, 6, 1, 3, 4, 5, 1, 4, 1, 7, 10, 4, 1, 10, 3, 1, 2, 3, 7, 4, 1, 9, 1, 1, 8, 1, 3, 10, 2, 5, 9, 4, 10, 1, 2, 5, 8, 1, 5, 2, 3, 5, 6, 9, 1, 2, 3, 10, 5, 3, 9, 9, 3, 3, 2, 3, 5, 5, 6, 5, 1, 2, 3, 4, 9, 7, 9, 10, 2, 8, 9, 6, 7, 7, 7, 9, 9, 7, 7, 2, 5, 6, 9, 4, 5, 5, 1, 3, 4, 1, 2, 3, 1, 2, 9, 7, 1, 3, 3, 4, 7, 7, 6, 3, 7, 5, 1, 5, 6, 8, 7, 1, 2, 9, 8, 2, 6, 7, 9, 5, 9, 6, 3, 2, 3, 7, 9, 4, 3, 7, 9, 7, 9, 3, 2, 5, 8, 4, 8, 5, 9, 2, 6, 7, 9, 8, 2, 9, 3, 10, 2, 7, 3, 3, 5, 4, 5, 2, 1, 10, 3, 10, 1, 2, 1, 4, 4, 3, 6, 1, 10, 6, 3, 4, 7, 1, 3, 5, 4, 1, 2, 6, 1, 2, 6, 9, 7, 5, 8, 1, 2, 4, 7, 9, 10, 1, 6, 7, 5, 1, 2, 5, 9, 1, 2, 9, 8, 2, 1, 6, 7, 4, 10, 1, 4, 7, 10, 10, 6, 3, 8, 9, 5, 1, 3, 6, 10, 8, 1, 2, 4, 7, 2, 2, 3, 9, 8, 4, 4, 4, 7, 10, 6, 2, 2, 6, 9, 1, 10, 5, 9, 3, 1, 2, 4, 1, 2, 5, 1, 3, 4, 5, 4, 8, 7, 1, 2, 4, 3, 5, 8, 9, 5, 3, 2, 3, 5, 4, 7, 1, 9, 4, 1, 3, 10, 1, 7, 3, 1, 1, 10, 9, 2, 1, 2, 6, 4, 7, 1, 4, 5, 6, 8, 3, 1, 7, 4, 4, 4, 2, 8, 5, 1, 2, 3, 4, 6, 10, 1, 3, 5, 3, 9, 1, 3, 1, 5, 1, 3, 9, 1, 3, 5, 6, 1, 9, 2, 1, 6, 7, 2, 3, 7, 9, 1, 2, 4, 1, 2, 6, 7, 6, 4, 5, 4, 9, 5, 10, 8, 10, 4, 7, 2, 3, 4, 7, 1, 2, 3, 7, 2, 9, 1, 2, 6, 2, 3, 4, 5, 1, 4, 7, 6, 1, 2, 3, 1, 6, 5, 4, 6, 1, 2, 3, 6, 1, 8, 1, 4, 9, 9, 7, 3, 1, 7, 7, 10, 7, 5, 2, 1, 8, 10, 10, 7, 8, 8, 9, 3, 1, 10, 1, 2, 1, 10, 8, 9, 7, 1, 8, 6, 1, 3, 4, 10, 6, 6, 4, 10, 6, 7, 1, 1, 1, 2, 3, 4, 10, 9, 7, 9, 5, 10, 1, 2, 3, 4, 7, 6, 8, 9, 1, 2, 3, 5, 1, 3, 3, 5, 3, 2, 6, 5, 3, 2, 7, 3, 1, 3, 4, 4, 5, 10, 8, 5, 9, 8, 3, 1, 2, 4, 5, 6, 8, 4, 10, 8, 5, 1, 3, 3, 4, 6, 7, 2, 4, 9, 4, 5, 1, 7, 2, 5, 2, 4, 1, 2, 5, 7, 3, 5, 8, 6, 7, 10, 1, 3, 3, 2, 1, 3, 1, 3, 2, 3, 10, 1, 2, 6, 9, 10, 9, 1, 2, 3, 4, 5, 10, 1, 2, 3, 1, 2, 4, 7, 8, 1, 4, 4, 10, 2, 4, 6, 9, 10, 8, 5, 6, 6, 9, 4, 3, 3, 1, 3, 5, 10, 5, 2, 3, 4, 6, 1, 2, 5, 6, 7, 8, 5, 1, 1, 2, 3, 3, 1, 3, 7, 1, 9, 6, 4, 1, 2, 3, 2, 10, 1, 5, 4, 1, 4, 7, 1, 2, 3, 4, 10, 1, 3, 8, 1, 3, 4, 5, 6, 3, 2, 1, 2, 1, 1, 2, 4, 9, 6, 9, 2, 3, 4, 7, 1, 3, 4], \"Freq\": [0.8342996778701013, 0.8145697586369911, 0.866293869059395, 0.9581358115693251, 0.8070219917889878, 0.9829000385507982, 0.9678264167614546, 0.9389625325884604, 0.9584316176215161, 0.9963737221507588, 0.9055617412759907, 0.2559334569841567, 0.5118669139683134, 0.9621274205105724, 0.9494755909483464, 0.9771558520471264, 0.3823514541308639, 0.5735271811962959, 0.6717809226889834, 0.13862146023740926, 0.05331594624515741, 0.12795827098837778, 0.13865432270969963, 0.4159629681290989, 0.4159629681290989, 0.682826940218063, 0.8562383079276058, 0.811794061730838, 0.01979985516416678, 0.1088992034029173, 0.04949963791041695, 0.9951017449308035, 0.9415944067934111, 0.9751416387941625, 0.02378394240961372, 0.8760235306210289, 0.9349901040413888, 0.892565490967005, 0.09917394344077833, 0.9686736349551032, 0.0825277127651735, 0.6720113753735557, 0.2475831382955205, 0.8501994942568137, 0.8790048653134477, 0.5633819457375083, 0.3219325404214333, 0.9499693637509596, 0.9905040901998847, 0.8637243890650099, 0.891288182187609, 0.08102619838069174, 0.016205239676138346, 0.11503842729994743, 0.805268991099632, 0.765042915068188, 0.8402711662429447, 0.9278446836080789, 0.9790377645478424, 0.012392883095542309, 0.381445321448042, 0.6357422024134034, 0.954267921052912, 0.9318959978445845, 0.7562035230208253, 0.05155933111505627, 0.12030510593513129, 0.06874577482007503, 0.8572078323979776, 0.8499332788836166, 0.0863213486366173, 0.06418766949902312, 0.9189810000624168, 0.9356301069767788, 0.3431697999049388, 0.5719496665082313, 0.8696588119397142, 0.9426011481493077, 0.9787118440136702, 0.9241151254271708, 0.016502055811199477, 0.04950616743359843, 0.13434550645103308, 0.8060730387061984, 0.9253467540125845, 0.29585501881419146, 0.6827423511096725, 0.01137903918516121, 0.8342980954850104, 0.8923908854000113, 0.9157949360952472, 0.7801274628005797, 0.9673704897660996, 0.8662543070398171, 0.7992897809080493, 0.6268178580279296, 0.7782970721229443, 0.2122628378517121, 0.9665475545657763, 0.9639762779867599, 0.8572099014616098, 0.8975658940733517, 0.7846973666518927, 0.9253440585770207, 0.7887062293664664, 0.1877871974682063, 0.9898500453937388, 0.8390357226614187, 0.9025422678433113, 0.860330905575359, 0.9649373359661864, 0.465881697373702, 0.06655452819624315, 0.44369685464162095, 0.9431109111556494, 0.02583865510015478, 0.02583865510015478, 0.9292593019997023, 0.04130041342220899, 0.020650206711104496, 0.7752758641511404, 0.1380601678164408, 0.7593309229904243, 0.4091644441550182, 0.5114555551937727, 0.07671833327906591, 0.9066264165419868, 0.8130336302618995, 0.9035073522781792, 0.8371534443432607, 0.8327347723568485, 0.9646883310637284, 0.8878589894916316, 0.8767827474083718, 0.899811163128348, 0.9617873643935859, 0.985896569480793, 0.7232391054566812, 0.2664565125366721, 0.9389332859451975, 0.9763769134827663, 0.580440096273977, 0.21766503610274138, 0.14511002406849424, 0.8327347723568485, 0.8521840220124212, 0.9188952443400102, 0.9743610060642691, 0.5393136039151109, 0.11353970608739175, 0.19869448565293557, 0.11353970608739175, 0.9406285555733891, 0.8643472047545258, 0.46727562328694705, 0.46727562328694705, 0.8927277817233626, 0.7801346747035205, 0.9317495585577034, 0.9123179583741264, 0.9827233790445501, 0.9398143067587316, 0.8343002807756333, 0.7992892141494242, 0.8603138829709323, 0.929667096470653, 0.37545298158907087, 0.2346581134931693, 0.2346581134931693, 0.14079486809590158, 0.8703162641932128, 0.8659258755513111, 0.11173237103887886, 0.8650119134615015, 0.8262490966861453, 0.8993830805388974, 0.9311770448757679, 0.914527857591336, 0.1888437083663174, 0.7553748334652696, 0.24417746519455139, 0.7325323955836541, 0.9259834739553988, 0.9693959952149704, 0.7787338027948661, 0.7544165035775737, 0.18860412589439343, 0.07497119088762232, 0.8996542906514678, 0.4638236945788859, 0.4947452742174783, 0.8343002807756333, 0.9396846960607192, 0.8562395596967077, 0.9753805615474825, 0.9585578937880296, 0.778669030867156, 0.12021732963400132, 0.36065198890200395, 0.4808693185360053, 0.8102562247935521, 0.05171848243363098, 0.12067645901180563, 0.8346357188273534, 0.5487211212770498, 0.4315784099931852, 0.01849621757113651, 0.8488594172853903, 0.1408587679338202, 0.0055602145237034295, 0.003706809682468953, 0.7752758641511404, 0.8580975865199485, 0.7992879343069087, 0.5076197176454289, 0.08287668859517205, 0.31078758223189523, 0.07251710252077555, 0.020719172148793014, 0.8505885171622346, 0.6911930314527732, 0.16456976939351742, 0.13165581551481395, 0.8327347723568485, 0.5435079221767471, 0.2717539610883736, 0.14386974410560954, 0.03197105424569101, 0.8150197758648999, 0.17918874504831134, 0.005780282098332624, 0.9865697751232563, 0.9600947417052554, 0.991224896036895, 0.8699845090631898, 0.9018267179791, 0.2897778686333829, 0.5795557372667658, 0.3890450836757513, 0.4376757191352202, 0.14589190637840674, 0.8070206199482051, 0.8644321147455047, 0.8493639685826582, 0.3750619880763987, 0.6563584791336977, 0.6527805729287, 0.9660781248401743, 0.04056618264239165, 0.7707574702054414, 0.1622647305695666, 0.9278470176153615, 0.8887758354182733, 0.046330126093756786, 0.3397542580208831, 0.6022916392188382, 0.8045464638501384, 0.9679078314447874, 0.5431199234588555, 0.09051998724314257, 0.27155996172942776, 0.8584385073693332, 0.7684939053554874, 0.8342996778701013, 0.7831055574493658, 0.2088281486531642, 0.8196870907104931, 0.8562395596967077, 0.9520439219545186, 0.9573222490192512, 0.933802157905205, 0.8124911929234266, 0.47243943414449185, 0.47243943414449185, 0.18040387533770555, 0.7216155013508222, 0.9248432333428358, 0.610441638530992, 0.33235155875576233, 0.047478794107966044, 0.3945710028172846, 0.5777646826967381, 0.023486369215314558, 0.6257544591445311, 0.11641943425944766, 0.167352936747956, 0.08003836105337027, 0.0840038844577892, 0.8400388445778919, 0.8145012887327507, 0.1944793186167157, 0.33709748560230723, 0.45378507677233665, 0.952114389223122, 0.9229765864734722, 0.8949991896458962, 0.9035925638098906, 0.8762628312380062, 0.8622015025676858, 0.9459383511182983, 0.03783753404473193, 0.9817145894944123, 0.8343002807756333, 0.7752766763832211, 0.8433616546214601, 0.13602607332604194, 0.8960660473252068, 0.9575982952442941, 0.8658507685471101, 0.8324216822817447, 0.9836314183503418, 0.8188894328766783, 0.8915195124194937, 0.9813241117128081, 0.7747763945022335, 0.19369409862555836, 0.8572039282764533, 0.9604825085504731, 0.7824207234468351, 0.17239778652218402, 0.039784104582042464, 0.9077717774766698, 0.9291623125956231, 0.4944683763185014, 0.06820253466462088, 0.35806330698925964, 0.0852531683307761, 0.7833253964019979, 0.9320033595020261, 0.9156090000796326, 0.07893181035169247, 0.9602983261150633, 0.9358494144716274, 0.9349885510999641, 0.9525680160330654, 0.7992892141494242, 0.8942670309216034, 0.5259615961676395, 0.40412868406101116, 0.01485767220812541, 0.01485767220812541, 0.03862994774112607, 0.7264966426880135, 0.5255182704130325, 0.20436821627173482, 0.2335636757391255, 0.45613101720650384, 0.45613101720650384, 0.7916268322483649, 0.1994650285980132, 0.6061426293473811, 0.4040950862315874, 0.9401737611302782, 0.0516578989632021, 0.8923921056974996, 0.7308138792297091, 0.11787320632737244, 0.023574641265474486, 0.12966052696010968, 0.7298932389946918, 0.23223875786194742, 0.9337704454240152, 0.8027605386624604, 0.11072559153964973, 0.0830441936547373, 0.5296906443062664, 0.3279037321895935, 0.12611682007292058, 0.857206336408235, 0.6839341232511743, 0.07075180585356976, 0.23583935284523252, 0.9892963954724351, 0.8768888229135067, 0.04615204331123719, 0.04615204331123719, 0.959683620633382, 0.9444130648074052, 0.9465419796181245, 0.8325930700774999, 0.14273024058471426, 0.932289243717973, 0.8650071700247232, 0.8949986242454198, 0.8990758830464198, 0.16065957462421404, 0.8032978731210703, 0.9488080963214354, 0.013363494314386413, 0.026726988628772826, 0.013363494314386413, 0.7777669615125405, 0.01969030282310229, 0.19690302823102293, 0.009845151411551145, 0.9928859273137275, 0.810387568066445, 0.9661923325449755, 0.02300457934630894, 0.9382821629783507, 0.8834358343403633, 0.014723930572339389, 0.10306751400637572, 0.8185089910775103, 0.6987582140958073, 0.06550858257148194, 0.2183619419049398, 0.9568923366298134, 0.7645242649050257, 0.168906523641808, 0.05333890220267621, 0.9894457280303359, 0.7911778725668953, 0.9520182180905188, 0.9025303009193153, 0.789008434457397, 0.15898394675236244, 0.8147927271058575, 0.014194995245746645, 0.008516997147447988, 0.8314820290233169, 0.1527211890042827, 0.9841448428209275, 0.9373824583986813, 0.9661467006934705, 0.8525098019295074, 0.82573620245269, 0.9654020072147439, 0.945128398395798, 0.029535262449868687, 0.9819532419952332, 0.8999192256988097, 0.7444773743476899, 0.8899661002521971, 0.939772223252127, 0.9748265402518289, 0.7992879343069087, 0.9291532071237175, 0.9044363367705682, 0.8210243012331818, 0.933111726857691, 0.7238101131745115, 0.24127003772483718, 0.9689811518520978, 0.7326051656782175, 0.2442017218927392, 0.6019682736935279, 0.39772903797608095, 0.9591701875020648, 0.893290991388781, 0.927921301733415, 0.958000979269201, 0.9247752295847448, 0.9485229138904366, 0.7992892141494242, 0.8562324949762958, 0.19286973252660644, 0.1102112757294894, 0.633714835444564, 0.08265845679711704, 0.8562395596967077, 0.8562395596967077, 0.3376832376073641, 0.506524856411046, 0.8327880589100074, 0.7752766763832211, 0.9874911592919209, 0.9747495526631991, 0.020778724390679248, 0.6129723695250379, 0.3116808658601887, 0.05194681097669812, 0.7891099899928513, 0.9190728522014439, 0.5763537740319646, 0.3458122644191788, 0.8327347723568485, 0.8361866181463949, 0.13196849840032585, 0.45246342308683146, 0.09426321314308989, 0.22623171154341573, 0.0754105705144719, 0.8881253732468047, 0.267460023521041, 0.534920047042082, 0.14148299383921542, 0.49519047843725394, 0.34663333490607773, 0.014148299383921542, 0.13013143432921118, 0.8458543231398727, 0.9283498860657895, 0.9565265600838956, 0.9329179653249998, 0.9755238608984227, 0.01876007424804659, 0.9532501365783936, 0.9242204224570213, 0.9703384366412889, 0.9647380355275961, 0.9426011481493077, 0.24171364726416447, 0.28199925514152524, 0.48342729452832894, 0.26950660894475975, 0.6737665223618994, 0.929156169078294, 0.8703281674884336, 0.19957945473604974, 0.5987383642081492, 0.7992897809080493, 0.9209064027541601, 0.34736076140295785, 0.3627990174653115, 0.08491040834294525, 0.023157384093530523, 0.18525907274824419, 0.8023864173214063, 0.6175268777126323, 0.30876343885631613, 0.938911986568531, 0.901375256676333, 0.5126372723185606, 0.4660338839259641, 0.8779501989116929, 0.8342980954850104, 0.9600699492149257, 0.035558146267219475, 0.44519006368775615, 0.44519006368775615, 0.08347313694145428, 0.8343002807756333, 0.8327347723568485, 0.8522741353356235, 0.1420456892226039, 0.9048191039072953, 0.8381892943987382, 0.8984430433029766, 0.9349890633428675, 0.8953284824521069, 0.040696749202368494, 0.05426233226982466, 0.7723000521088088, 0.4300252431261125, 0.5528895983050018, 0.9480971176174408, 0.9690612479374814, 0.8433044063046804, 0.9569690335473057, 0.9193872199363312, 0.08064800174880099, 0.9797726807638105, 0.900044589430909, 0.9708673327661519, 0.9557986779806242, 0.24786236841638618, 0.7435871052491585, 0.904062735607172, 0.07861415092236278, 0.7589417472317499, 0.19564885263583298, 0.7825954105433319, 0.898400150348823, 0.810377225681917, 0.7946100960060464, 0.6828354832422948, 0.308608074942549, 0.29045465876945786, 0.03630683234618223, 0.14522732938472893, 0.19968757790400227, 0.03630683234618223, 0.6700538838538589, 0.2535339019987574, 0.06338347549968935, 0.17794876163179776, 0.7216810888400687, 0.08897438081589888, 0.21547035497187295, 0.6464110649156188, 0.7371581743013216, 0.2527399454747388, 0.8635393853947366, 0.7397923598434278, 0.4218051673931074, 0.3339290908528767, 0.07030086123218457, 0.14060172246436914, 0.035150430616092285, 0.8603945539061818, 0.43688452324614835, 0.5461056540576854, 0.8562395596967077, 0.6653884851222801, 0.9731635734806838, 0.9426011481493077, 0.9426011481493077, 0.33789752084761854, 0.5222052594917741, 0.12287182576277038, 0.9536365248707859, 0.9522673526408348, 0.9152802699182941, 0.07322242159346354, 0.3802377850392266, 0.6083804560627626, 0.36160091370799513, 0.3013340947566626, 0.06026681895133252, 0.22600057106749696, 0.04520011421349939, 0.779175507796225, 0.9386977653711761, 0.9871812810554877, 0.8008576042967279, 0.1974717380457685, 0.9426011481493077, 0.9364803224887839, 0.9235428700422631, 0.04736117282268016, 0.02368058641134008, 0.9369847361526592, 0.046849236807632956, 0.8357681160931789, 0.7684942848361439, 0.6823320285240162, 0.28234428766511016, 0.031371587518345574, 0.8861576538111358, 0.6722061374011002, 0.817948417637034, 0.18176631503045199, 0.9025430348813982, 0.5382009134360083, 0.04748831589141249, 0.4115654043922416, 0.616204121033179, 0.17116781139810527, 0.0684671245592421, 0.1141118742654035, 0.022822374853080703, 0.9301375807573092, 0.04537256491499069, 0.8105401821649282, 0.5626790348214983, 0.10979103118468259, 0.10979103118468259, 0.21958206236936517, 0.8949485346799163, 0.9837644604056792, 0.9412144727752473, 0.9972198481147665, 0.857415780926634, 0.9758939246170006, 0.607578968717101, 0.330205961259294, 0.06604119225185881, 0.7588911282403954, 0.636674504299663, 0.3472770023452707, 0.8338241462041375, 0.10422801827551718, 0.034742672758505726, 0.9473157464252363, 0.7283490675508981, 0.10790356556309601, 0.14836740264925702], \"Term\": [\"abhorrent\", \"about\", \"absolutely\", \"account\", \"actual\", \"add\", \"addict\", \"addicting\", \"addictive\", \"age\", \"ago\", \"agree\", \"agree\", \"almost\", \"alot\", \"alpha\", \"already\", \"already\", \"also\", \"also\", \"also\", \"also\", \"always\", \"always\", \"always\", \"amount\", \"android\", \"animal\", \"animal\", \"animal\", \"animal\", \"app\", \"armor\", \"as\", \"as\", \"aspect\", \"atleast\", \"attack\", \"attack\", \"back\", \"bad\", \"bad\", \"bad\", \"be\", \"bed\", \"bedrock\", \"bedrock\", \"better\", \"bit\", \"blink\", \"block\", \"block\", \"block\", \"bore\", \"bore\", \"boring\", \"bottom\", \"btw\", \"build\", \"build\", \"builder\", \"builder\", \"building\", \"bully\", \"buy\", \"buy\", \"buy\", \"buy\", \"bypass\", \"can\", \"can\", \"can\", \"care\", \"careful\", \"castle\", \"castle\", \"cause\", \"cecerd\", \"change\", \"chat\", \"chat\", \"chat\", \"chest\", \"chest\", \"chicken\", \"child\", \"child\", \"child\", \"childern\", \"city\", \"classic\", \"coal\", \"common_sense\", \"community\", \"compatible\", \"complain\", \"computer\", \"computer\", \"concern\", \"connect\", \"conquer\", \"console\", \"content\", \"control\", \"cool\", \"cool\", \"could\", \"count\", \"counterpart\", \"couple\", \"cow\", \"craft\", \"craft\", \"craft\", \"creative\", \"creative\", \"creative\", \"creativity\", \"creativity\", \"creativity\", \"creativy\", \"creature\", \"creature\", \"creeper\", \"creeper\", \"creeper\", \"dangerous\", \"date\", \"death\", \"decent\", \"default\", \"definitely\", \"depend\", \"design\", \"device\", \"diamond\", \"die\", \"different\", \"different\", \"discover\", \"do\", \"download\", \"download\", \"download\", \"drama\", \"dream\", \"dumb\", \"easily\", \"easy\", \"easy\", \"easy\", \"easy\", \"eat\", \"ect\", \"edition\", \"edition\", \"else\", \"emerald\", \"encourage\", \"encourage_creativity\", \"end\", \"enderman\", \"engaging\", \"engineering\", \"enter\", \"entertaining\", \"even\", \"even\", \"even\", \"even\", \"eventually\", \"ever\", \"ever\", \"excellent\", \"exist\", \"experience\", \"explode\", \"extremely\", \"fall\", \"fall\", \"family\", \"family\", \"favorite\", \"feature\", \"figure\", \"filter\", \"filter\", \"fine\", \"fine\", \"first\", \"first\", \"flint\", \"focus\", \"follower\", \"food\", \"form\", \"fortnite\", \"free\", \"free\", \"free\", \"friend\", \"friend\", \"friend\", \"full\", \"fun\", \"fun\", \"fun\", \"game\", \"game\", \"game\", \"game\", \"gamee\", \"gather\", \"gem\", \"get\", \"get\", \"get\", \"get\", \"get\", \"ghostly\", \"give\", \"give\", \"give\", \"glow\", \"go\", \"go\", \"go\", \"go\", \"good\", \"good\", \"good\", \"graphic\", \"grass\", \"great\", \"grow\", \"hack\", \"hand\", \"hand\", \"hard\", \"hard\", \"hard\", \"harmful\", \"hate\", \"have\", \"health\", \"health\", \"heart\", \"herobrine\", \"hit\", \"hit\", \"hit\", \"hold\", \"hotel\", \"how\", \"how\", \"how\", \"huge\", \"idea\", \"imagination\", \"imagination\", \"imagination\", \"improve\", \"improvement\", \"improvment\", \"inappropriate\", \"inappropriate\", \"inspiring\", \"instagram\", \"internet\", \"ipad\", \"iphone\", \"iron\", \"issue\", \"issue\", \"java\", \"java\", \"join\", \"just\", \"just\", \"just\", \"kid\", \"kid\", \"kid\", \"kill\", \"kill\", \"kill\", \"kill\", \"kind\", \"kind\", \"kinda\", \"know\", \"know\", \"know\", \"language\", \"lava\", \"lead\", \"learning\", \"least\", \"leave\", \"let\", \"let\", \"life\", \"lighting\", \"liimit\", \"like\", \"like\", \"likely\", \"limit\", \"line\", \"list\", \"little\", \"livestock\", \"load\", \"long\", \"look\", \"look\", \"looking\", \"lose\", \"love\", \"love\", \"love\", \"luck\", \"mad\", \"make\", \"make\", \"make\", \"make\", \"man\", \"map\", \"may\", \"may\", \"maybe\", \"meat\", \"message\", \"mind\", \"mindset\", \"minecoin\", \"minecraft\", \"minecraft\", \"minecraft\", \"minecraft\", \"minecraft\", \"mineplex\", \"mob\", \"mob\", \"mob\", \"mod\", \"mod\", \"mode\", \"mode\", \"money\", \"money\", \"monster\", \"monster\", \"month\", \"more\", \"more\", \"more\", \"more\", \"most\", \"most\", \"mostly\", \"much\", \"much\", \"much\", \"multiplayer\", \"multiplayer\", \"multiplayer\", \"nasty\", \"need\", \"need\", \"need\", \"nether\", \"never\", \"never\", \"never\", \"new\", \"noise\", \"non\", \"now\", \"now\", \"object\", \"of\", \"officially\", \"old\", \"once\", \"once\", \"online\", \"online\", \"online\", \"online\", \"only\", \"only\", \"only\", \"only\", \"opinion\", \"opportunity\", \"other\", \"other\", \"out\", \"parent\", \"parent\", \"parent\", \"pay\", \"pc\", \"pc\", \"pc\", \"pe\", \"people\", \"people\", \"people\", \"perfect\", \"personally\", \"pig\", \"pigman\", \"plain\", \"play\", \"play\", \"play\", \"play\", \"player\", \"player\", \"pocket_edition\", \"point\", \"popular\", \"potentially\", \"potion\", \"practice\", \"pretty\", \"pretty\", \"price\", \"privacy\", \"privacy_concern\", \"progress\", \"promote\", \"put\", \"quickly\", \"quite\", \"raid\", \"rate\", \"rather\", \"rating\", \"rating\", \"read\", \"real\", \"real\", \"really\", \"really\", \"reason\", \"redstone\", \"release\", \"remember\", \"report\", \"resource\", \"restore\", \"resturant\", \"review\", \"review\", \"review\", \"review\", \"rewarding\", \"ridiculously\", \"right\", \"right\", \"rip\", \"ruien\", \"same\", \"sandbox\", \"say\", \"say\", \"say\", \"say\", \"scare\", \"school\", \"screen\", \"screen\", \"screw\", \"second\", \"see\", \"see\", \"see\", \"see\", \"see\", \"seed\", \"self\", \"self\", \"server\", \"server\", \"server\", \"server\", \"setting\", \"setting\", \"sex\", \"sheep\", \"shelter\", \"should\", \"should\", \"sign\", \"simple\", \"single\", \"site\", \"skelatens\", \"skeleton\", \"skeleton\", \"skeleton\", \"skin\", \"skin\", \"sleep\", \"slightly\", \"small\", \"small\", \"smelt\", \"smoke\", \"so\", \"so\", \"so\", \"so\", \"so\", \"solve\", \"sometimes\", \"sometimes\", \"space\", \"spend\", \"spider\", \"spider\", \"split\", \"spook\", \"star\", \"star\", \"start\", \"start\", \"start\", \"steel\", \"steveskin\", \"still\", \"still\", \"stink\", \"stop\", \"stranger\", \"strong\", \"stuff\", \"stuff\", \"stuff\", \"stupid\", \"such\", \"such\", \"suck\", \"super\", \"supervise\", \"sure\", \"survival\", \"survival\", \"swear\", \"swearing\", \"sword\", \"sword_bow\", \"take\", \"take\", \"talk\", \"talk\", \"tap\", \"teach\", \"teach\", \"teen\", \"tend\", \"thank\", \"theme\", \"then\", \"then\", \"then\", \"then\", \"then\", \"then\", \"thing\", \"thing\", \"thing\", \"think\", \"think\", \"think\", \"though\", \"though\", \"time\", \"time\", \"tip\", \"toddler\", \"too\", \"too\", \"too\", \"too\", \"too\", \"tool\", \"totally\", \"totally\", \"touch\", \"town\", \"try\", \"tube\", \"tuber\", \"turn\", \"turn\", \"turn\", \"turn_red\", \"type\", \"understand\", \"understand\", \"update\", \"update\", \"use\", \"use\", \"use\", \"use\", \"use\", \"user\", \"various\", \"version\", \"very\", \"very\", \"vid\", \"video\", \"violence\", \"violence\", \"violence\", \"violent\", \"violent\", \"void\", \"wait\", \"want\", \"want\", \"want\", \"warn\", \"waste\", \"way\", \"way\", \"wear\", \"well\", \"well\", \"well\", \"when\", \"when\", \"when\", \"when\", \"when\", \"where\", \"where\", \"white\", \"will\", \"will\", \"will\", \"will\", \"wish\", \"word\", \"work\", \"world\", \"worried\", \"worth\", \"would\", \"would\", \"would\", \"write\", \"year\", \"year\", \"year_old\", \"year_old\", \"year_old\", \"yet\", \"zombie\", \"zombie\", \"zombie\"]}, \"R\": 30, \"lambda.step\": 0.01, \"plot.opts\": {\"xlab\": \"PC1\", \"ylab\": \"PC2\"}, \"topic.order\": [7, 9, 1, 5, 4, 10, 8, 6, 2, 3]};\n",
              "\n",
              "function LDAvis_load_lib(url, callback){\n",
              "  var s = document.createElement('script');\n",
              "  s.src = url;\n",
              "  s.async = true;\n",
              "  s.onreadystatechange = s.onload = callback;\n",
              "  s.onerror = function(){console.warn(\"failed to load library \" + url);};\n",
              "  document.getElementsByTagName(\"head\")[0].appendChild(s);\n",
              "}\n",
              "\n",
              "if(typeof(LDAvis) !== \"undefined\"){\n",
              "   // already loaded: just create the visualization\n",
              "   !function(LDAvis){\n",
              "       new LDAvis(\"#\" + \"ldavis_el751406497915258405447816100\", ldavis_el751406497915258405447816100_data);\n",
              "   }(LDAvis);\n",
              "}else if(typeof define === \"function\" && define.amd){\n",
              "   // require.js is available: use it to load d3/LDAvis\n",
              "   require.config({paths: {d3: \"https://d3js.org/d3.v5\"}});\n",
              "   require([\"d3\"], function(d3){\n",
              "      window.d3 = d3;\n",
              "      LDAvis_load_lib(\"https://cdn.jsdelivr.net/gh/bmabey/pyLDAvis@3.3.1/pyLDAvis/js/ldavis.v3.0.0.js\", function(){\n",
              "        new LDAvis(\"#\" + \"ldavis_el751406497915258405447816100\", ldavis_el751406497915258405447816100_data);\n",
              "      });\n",
              "    });\n",
              "}else{\n",
              "    // require.js not available: dynamically load d3 & LDAvis\n",
              "    LDAvis_load_lib(\"https://d3js.org/d3.v5.js\", function(){\n",
              "         LDAvis_load_lib(\"https://cdn.jsdelivr.net/gh/bmabey/pyLDAvis@3.3.1/pyLDAvis/js/ldavis.v3.0.0.js\", function(){\n",
              "                 new LDAvis(\"#\" + \"ldavis_el751406497915258405447816100\", ldavis_el751406497915258405447816100_data);\n",
              "            })\n",
              "         });\n",
              "}\n",
              "</script>"
            ],
            "text/plain": [
              "PreparedData(topic_coordinates=              x         y  topics  cluster       Freq\n",
              "topic                                                \n",
              "6      0.327160  0.192072       1        1  46.123132\n",
              "8      0.129908  0.336364       2        1  18.281363\n",
              "0     -0.292941  0.039678       3        1   8.317750\n",
              "4     -0.207685  0.278124       4        1   6.589449\n",
              "3      0.134201 -0.313974       5        1   5.050262\n",
              "9     -0.033329  0.138177       6        1   3.841387\n",
              "7     -0.089620 -0.253005       7        1   3.501558\n",
              "5     -0.272234 -0.211434       8        1   3.043016\n",
              "1      0.068283 -0.069715       9        1   2.795608\n",
              "2      0.236257 -0.136287      10        1   2.456474, topic_info=          Term        Freq       Total Category  logprob  loglift\n",
              "14        play  352.000000  352.000000  Default  30.0000  30.0000\n",
              "234       make  117.000000  117.000000  Default  29.0000  29.0000\n",
              "10   minecraft  336.000000  336.000000  Default  28.0000  28.0000\n",
              "66          so  129.000000  129.000000  Default  27.0000  27.0000\n",
              "4         game  539.000000  539.000000  Default  26.0000  26.0000\n",
              "..         ...         ...         ...      ...      ...      ...\n",
              "292      right    2.808897    5.922710  Topic10  -5.0130   2.9604\n",
              "566  sometimes    4.056351   12.954902  Topic10  -4.6455   2.5453\n",
              "291       real    3.865709   16.379901  Topic10  -4.6936   2.2625\n",
              "278       look    3.689707   20.651120  Topic10  -4.7402   1.9842\n",
              "251     attack    2.829652   30.249881  Topic10  -5.0056   1.3371\n",
              "\n",
              "[504 rows x 6 columns], token_table=      Topic      Freq        Term\n",
              "term                             \n",
              "2215      4  0.834300   abhorrent\n",
              "102       9  0.814570       about\n",
              "509       9  0.866294  absolutely\n",
              "544       2  0.958136     account\n",
              "249      10  0.807022      actual\n",
              "...     ...       ...         ...\n",
              "191       4  0.034743    year_old\n",
              "1846      7  0.947316         yet\n",
              "192       1  0.728349      zombie\n",
              "192       3  0.107904      zombie\n",
              "192       4  0.148367      zombie\n",
              "\n",
              "[668 rows x 3 columns], R=30, lambda_step=0.01, plot_opts={'xlab': 'PC1', 'ylab': 'PC2'}, topic_order=[7, 9, 1, 5, 4, 10, 8, 6, 2, 3])"
            ]
          },
          "metadata": {},
          "execution_count": 31
        }
      ]
    },
    {
      "cell_type": "code",
      "source": [
        "#Finding out coherence of the model\n",
        "coherence_model_lda = CoherenceModel(model=new_model,texts=df['cleaned_text2'],\\\n",
        "                                     dictionary=id2word , coherence='c_v')\n",
        "print('\\nCoherence Score: ', coherence_model_lda.get_coherence())"
      ],
      "metadata": {
        "colab": {
          "base_uri": "https://localhost:8080/"
        },
        "id": "lGfC6yMNcxH7",
        "outputId": "056d8d9b-6632-48eb-95c7-59a9541523a4"
      },
      "execution_count": 32,
      "outputs": [
        {
          "output_type": "stream",
          "name": "stdout",
          "text": [
            "\n",
            "Coherence Score:  0.40585823079636185\n"
          ]
        }
      ]
    },
    {
      "cell_type": "code",
      "source": [
        "%%time\n",
        "# Computing coherence score via coherence model for different sizes of topics in the new_model created above, to use further for graphical visualizations\n",
        "def calculate_topic_cv(ldamodel,texts,dictionary,topic_range):\n",
        "  cv_score =[]\n",
        "  topic_num = []\n",
        "  for i in range(2,topic_range):\n",
        "    topic_num.append(i)\n",
        "    Lda = gensim.models.ldamodel.LdaModel\n",
        "    ldamodel = Lda(corpus=corpus[:-1],id2word=id2word,num_topics=i,random_state=100,update_every=1,chunksize=100,passes=10,alpha=\"auto\")\n",
        "    cv_score.append(CoherenceModel(model=ldamodel,texts=texts, dictionary=dictionary, coherence='c_v').get_coherence())\n",
        "    clear_output()\n",
        "  return topic_num,cv_score\n",
        "\n",
        "topic_num,cv_score = calculate_topic_cv(lda_model,df['cleaned_text2'],id2word,10)\n",
        "print(topic_num)\n",
        "print(cv_score)"
      ],
      "metadata": {
        "colab": {
          "base_uri": "https://localhost:8080/"
        },
        "id": "eijTPThEcxMA",
        "outputId": "8026c790-344d-4566-dca8-18edc2ecf8a6"
      },
      "execution_count": 33,
      "outputs": [
        {
          "output_type": "stream",
          "name": "stdout",
          "text": [
            "[2, 3, 4, 5, 6, 7, 8, 9]\n",
            "[0.369300290852068, 0.36272937260386057, 0.3838045504051327, 0.35680067861267184, 0.3911612929566404, 0.3624621329618658, 0.33749516339549895, 0.3914745681200324]\n",
            "CPU times: user 24.2 s, sys: 371 ms, total: 24.5 s\n",
            "Wall time: 25.3 s\n"
          ]
        }
      ]
    },
    {
      "cell_type": "code",
      "source": [
        "pd.DataFrame(zip(topic_num,cv_score),columns=['Topic','Coherence_Score']).set_index('Topic').sort_values('Coherence_Score',ascending=False)\n"
      ],
      "metadata": {
        "colab": {
          "base_uri": "https://localhost:8080/",
          "height": 331
        },
        "id": "YWuNfOiPdTPQ",
        "outputId": "094f0736-b8cb-479d-e0d6-341dd7dcb5fa"
      },
      "execution_count": 34,
      "outputs": [
        {
          "output_type": "execute_result",
          "data": {
            "text/html": [
              "\n",
              "  <div id=\"df-65ec786d-f0e4-49cc-8407-a5c8ecd59a30\">\n",
              "    <div class=\"colab-df-container\">\n",
              "      <div>\n",
              "<style scoped>\n",
              "    .dataframe tbody tr th:only-of-type {\n",
              "        vertical-align: middle;\n",
              "    }\n",
              "\n",
              "    .dataframe tbody tr th {\n",
              "        vertical-align: top;\n",
              "    }\n",
              "\n",
              "    .dataframe thead th {\n",
              "        text-align: right;\n",
              "    }\n",
              "</style>\n",
              "<table border=\"1\" class=\"dataframe\">\n",
              "  <thead>\n",
              "    <tr style=\"text-align: right;\">\n",
              "      <th></th>\n",
              "      <th>Coherence_Score</th>\n",
              "    </tr>\n",
              "    <tr>\n",
              "      <th>Topic</th>\n",
              "      <th></th>\n",
              "    </tr>\n",
              "  </thead>\n",
              "  <tbody>\n",
              "    <tr>\n",
              "      <th>9</th>\n",
              "      <td>0.391475</td>\n",
              "    </tr>\n",
              "    <tr>\n",
              "      <th>6</th>\n",
              "      <td>0.391161</td>\n",
              "    </tr>\n",
              "    <tr>\n",
              "      <th>4</th>\n",
              "      <td>0.383805</td>\n",
              "    </tr>\n",
              "    <tr>\n",
              "      <th>2</th>\n",
              "      <td>0.369300</td>\n",
              "    </tr>\n",
              "    <tr>\n",
              "      <th>3</th>\n",
              "      <td>0.362729</td>\n",
              "    </tr>\n",
              "    <tr>\n",
              "      <th>7</th>\n",
              "      <td>0.362462</td>\n",
              "    </tr>\n",
              "    <tr>\n",
              "      <th>5</th>\n",
              "      <td>0.356801</td>\n",
              "    </tr>\n",
              "    <tr>\n",
              "      <th>8</th>\n",
              "      <td>0.337495</td>\n",
              "    </tr>\n",
              "  </tbody>\n",
              "</table>\n",
              "</div>\n",
              "      <button class=\"colab-df-convert\" onclick=\"convertToInteractive('df-65ec786d-f0e4-49cc-8407-a5c8ecd59a30')\"\n",
              "              title=\"Convert this dataframe to an interactive table.\"\n",
              "              style=\"display:none;\">\n",
              "        \n",
              "  <svg xmlns=\"http://www.w3.org/2000/svg\" height=\"24px\"viewBox=\"0 0 24 24\"\n",
              "       width=\"24px\">\n",
              "    <path d=\"M0 0h24v24H0V0z\" fill=\"none\"/>\n",
              "    <path d=\"M18.56 5.44l.94 2.06.94-2.06 2.06-.94-2.06-.94-.94-2.06-.94 2.06-2.06.94zm-11 1L8.5 8.5l.94-2.06 2.06-.94-2.06-.94L8.5 2.5l-.94 2.06-2.06.94zm10 10l.94 2.06.94-2.06 2.06-.94-2.06-.94-.94-2.06-.94 2.06-2.06.94z\"/><path d=\"M17.41 7.96l-1.37-1.37c-.4-.4-.92-.59-1.43-.59-.52 0-1.04.2-1.43.59L10.3 9.45l-7.72 7.72c-.78.78-.78 2.05 0 2.83L4 21.41c.39.39.9.59 1.41.59.51 0 1.02-.2 1.41-.59l7.78-7.78 2.81-2.81c.8-.78.8-2.07 0-2.86zM5.41 20L4 18.59l7.72-7.72 1.47 1.35L5.41 20z\"/>\n",
              "  </svg>\n",
              "      </button>\n",
              "      \n",
              "  <style>\n",
              "    .colab-df-container {\n",
              "      display:flex;\n",
              "      flex-wrap:wrap;\n",
              "      gap: 12px;\n",
              "    }\n",
              "\n",
              "    .colab-df-convert {\n",
              "      background-color: #E8F0FE;\n",
              "      border: none;\n",
              "      border-radius: 50%;\n",
              "      cursor: pointer;\n",
              "      display: none;\n",
              "      fill: #1967D2;\n",
              "      height: 32px;\n",
              "      padding: 0 0 0 0;\n",
              "      width: 32px;\n",
              "    }\n",
              "\n",
              "    .colab-df-convert:hover {\n",
              "      background-color: #E2EBFA;\n",
              "      box-shadow: 0px 1px 2px rgba(60, 64, 67, 0.3), 0px 1px 3px 1px rgba(60, 64, 67, 0.15);\n",
              "      fill: #174EA6;\n",
              "    }\n",
              "\n",
              "    [theme=dark] .colab-df-convert {\n",
              "      background-color: #3B4455;\n",
              "      fill: #D2E3FC;\n",
              "    }\n",
              "\n",
              "    [theme=dark] .colab-df-convert:hover {\n",
              "      background-color: #434B5C;\n",
              "      box-shadow: 0px 1px 3px 1px rgba(0, 0, 0, 0.15);\n",
              "      filter: drop-shadow(0px 1px 2px rgba(0, 0, 0, 0.3));\n",
              "      fill: #FFFFFF;\n",
              "    }\n",
              "  </style>\n",
              "\n",
              "      <script>\n",
              "        const buttonEl =\n",
              "          document.querySelector('#df-65ec786d-f0e4-49cc-8407-a5c8ecd59a30 button.colab-df-convert');\n",
              "        buttonEl.style.display =\n",
              "          google.colab.kernel.accessAllowed ? 'block' : 'none';\n",
              "\n",
              "        async function convertToInteractive(key) {\n",
              "          const element = document.querySelector('#df-65ec786d-f0e4-49cc-8407-a5c8ecd59a30');\n",
              "          const dataTable =\n",
              "            await google.colab.kernel.invokeFunction('convertToInteractive',\n",
              "                                                     [key], {});\n",
              "          if (!dataTable) return;\n",
              "\n",
              "          const docLinkHtml = 'Like what you see? Visit the ' +\n",
              "            '<a target=\"_blank\" href=https://colab.research.google.com/notebooks/data_table.ipynb>data table notebook</a>'\n",
              "            + ' to learn more about interactive tables.';\n",
              "          element.innerHTML = '';\n",
              "          dataTable['output_type'] = 'display_data';\n",
              "          await google.colab.output.renderOutput(dataTable, element);\n",
              "          const docLink = document.createElement('div');\n",
              "          docLink.innerHTML = docLinkHtml;\n",
              "          element.appendChild(docLink);\n",
              "        }\n",
              "      </script>\n",
              "    </div>\n",
              "  </div>\n",
              "  "
            ],
            "text/plain": [
              "       Coherence_Score\n",
              "Topic                 \n",
              "9             0.391475\n",
              "6             0.391161\n",
              "4             0.383805\n",
              "2             0.369300\n",
              "3             0.362729\n",
              "7             0.362462\n",
              "5             0.356801\n",
              "8             0.337495"
            ]
          },
          "metadata": {},
          "execution_count": 34
        }
      ]
    },
    {
      "cell_type": "code",
      "source": [
        "import matplotlib.pyplot as plt\n",
        "\n",
        "plt.figure(figsize = (16,8))\n",
        "plt.plot(topic_num,cv_score,color='RED', marker='*', linestyle='dashed')\n",
        "plt.xticks(range(2,10))\n",
        "plt.xlabel('Number of topics')\n",
        "plt.ylabel('Coherence score')\n",
        "plt.show()"
      ],
      "metadata": {
        "colab": {
          "base_uri": "https://localhost:8080/",
          "height": 496
        },
        "id": "9nHiBkqydTXI",
        "outputId": "356b4714-be2c-4c51-94d0-5528d1bc608c"
      },
      "execution_count": 35,
      "outputs": [
        {
          "output_type": "display_data",
          "data": {
            "image/png": "[encoded data removed]",
            "text/plain": [
              "<Figure size 1152x576 with 1 Axes>"
            ]
          },
          "metadata": {
            "needs_background": "light"
          }
        }
      ]
    },
    {
      "cell_type": "code",
      "source": [
        "# Creating LDA model with number of topics as 2\n",
        "Lda2 = gensim.models.ldamodel.LdaModel\n",
        "ldamodel2 = Lda2(corpus=corpus,id2word=id2word,num_topics=2,random_state=100,update_every=1,chunksize=100,passes=10,alpha=\"auto\")\n",
        "clear_output()"
      ],
      "metadata": {
        "id": "ODLeI5FDdTdc"
      },
      "execution_count": 36,
      "outputs": []
    },
    {
      "cell_type": "code",
      "source": [
        "print(CoherenceModel(model=ldamodel2,texts=df['cleaned_text2'],dictionary=id2word , coherence='c_v').get_coherence())\n"
      ],
      "metadata": {
        "colab": {
          "base_uri": "https://localhost:8080/"
        },
        "id": "DR1ZnA9hdf6J",
        "outputId": "5b3f82c9-4935-4e5e-d9e4-83d8ba5f6e9f"
      },
      "execution_count": 37,
      "outputs": [
        {
          "output_type": "stream",
          "name": "stdout",
          "text": [
            "0.3746652348804843\n"
          ]
        }
      ]
    },
    {
      "cell_type": "code",
      "source": [
        "ldamodel2.print_topics()\n"
      ],
      "metadata": {
        "colab": {
          "base_uri": "https://localhost:8080/"
        },
        "id": "VDr6e0fwdgBG",
        "outputId": "8e95612d-4766-4779-d214-1433bc213db5"
      },
      "execution_count": 38,
      "outputs": [
        {
          "output_type": "execute_result",
          "data": {
            "text/plain": [
              "[(0,\n",
              "  '0.016*\"kill\" + 0.012*\"can\" + 0.012*\"mode\" + 0.010*\"then\" + 0.010*\"also\" + 0.009*\"will\" + 0.009*\"animal\" + 0.007*\"creeper\" + 0.007*\"player\" + 0.007*\"multiplayer\"'),\n",
              " (1,\n",
              "  '0.037*\"game\" + 0.027*\"can\" + 0.023*\"play\" + 0.023*\"minecraft\" + 0.013*\"kid\" + 0.012*\"good\" + 0.011*\"build\" + 0.011*\"fun\" + 0.010*\"creative\" + 0.009*\"just\"')]"
            ]
          },
          "metadata": {},
          "execution_count": 38
        }
      ]
    },
    {
      "cell_type": "code",
      "source": [
        "vis2 = gensim_models.prepare(ldamodel2, corpus, id2word, mds=\"mmds\", R=30)\n",
        "vis2"
      ],
      "metadata": {
        "colab": {
          "base_uri": "https://localhost:8080/",
          "height": 900
        },
        "id": "olKLAlYLdgJE",
        "outputId": "5710b530-9d8f-4756-f757-23af86a0f6c6"
      },
      "execution_count": 39,
      "outputs": [
        {
          "output_type": "stream",
          "name": "stderr",
          "text": [
            "/usr/local/lib/python3.7/dist-packages/pyLDAvis/_prepare.py:247: FutureWarning: In a future version of pandas all arguments of DataFrame.drop except for the argument 'labels' will be keyword-only\n",
            "  by='saliency', ascending=False).head(R).drop('saliency', 1)\n"
          ]
        },
        {
          "output_type": "execute_result",
          "data": {
            "text/html": [
              "\n",
              "<link rel=\"stylesheet\" type=\"text/css\" href=\"https://cdn.jsdelivr.net/gh/bmabey/pyLDAvis@3.3.1/pyLDAvis/js/ldavis.v1.0.0.css\">\n",
              "\n",
              "\n",
              "<div id=\"ldavis_el751406497784072482572582956\"></div>\n",
              "<script type=\"text/javascript\">\n",
              "\n",
              "var ldavis_el751406497784072482572582956_data = {\"mdsDat\": {\"x\": [-0.03734994695994168, 0.03734994695994168], \"y\": [0.11790439278539919, -0.11790439278539919], \"topics\": [1, 2], \"cluster\": [1, 1], \"Freq\": [77.43272236232058, 22.567277637679425]}, \"tinfo\": {\"Term\": [\"game\", \"kill\", \"then\", \"play\", \"mode\", \"will\", \"also\", \"animal\", \"creeper\", \"multiplayer\", \"player\", \"good\", \"night\", \"fun\", \"say\", \"turn\", \"monster\", \"take\", \"see\", \"non\", \"attack\", \"spider\", \"nether\", \"look\", \"mob\", \"fall\", \"when\", \"end\", \"chicken\", \"peaceful\", \"game\", \"fun\", \"good\", \"great\", \"think\", \"update\", \"really\", \"play\", \"would\", \"age\", \"too\", \"much\", \"well\", \"creativity\", \"pc\", \"amazing\", \"version\", \"could\", \"time\", \"stuff\", \"pocket_edition\", \"worth\", \"love\", \"scary\", \"come\", \"new\", \"perfect\", \"ever\", \"computer\", \"alpha\", \"build\", \"minecraft\", \"star\", \"use\", \"kid\", \"thing\", \"little\", \"even\", \"can\", \"just\", \"very\", \"make\", \"so\", \"creative\", \"people\", \"survival\", \"more\", \"server\", \"want\", \"get\", \"only\", \"violence\", \"mode\", \"chicken\", \"fall\", \"health\", \"armor\", \"nether\", \"take\", \"red\", \"luck\", \"turn_red\", \"cow\", \"eat\", \"bed\", \"likely\", \"teleport\", \"depend\", \"bottom\", \"lava\", \"order\", \"sword_bow\", \"focus\", \"form\", \"wear\", \"blink\", \"breed\", \"second\", \"hotel\", \"smoke\", \"line\", \"non\", \"strong\", \"language\", \"tip\", \"spider\", \"look\", \"then\", \"multiplayer\", \"sheep\", \"creeper\", \"kill\", \"will\", \"player\", \"attack\", \"also\", \"turn\", \"end\", \"night\", \"animal\", \"mode\", \"back\", \"say\", \"mob\", \"see\", \"monster\", \"can\", \"when\", \"violence\", \"peaceful\", \"zombie\", \"block\", \"go\", \"server\", \"know\"], \"Freq\": [488.0, 133.0, 51.0, 304.0, 145.0, 76.0, 83.0, 95.0, 45.0, 35.0, 55.0, 161.0, 40.0, 143.0, 85.0, 30.0, 86.0, 18.0, 58.0, 18.0, 26.0, 18.0, 16.0, 18.0, 32.0, 15.0, 83.0, 21.0, 14.0, 35.0, 487.73519036258733, 143.06751215990275, 160.66873122805242, 101.13550427096423, 90.15100850796384, 81.1638899063418, 81.67810247861917, 302.7495374584964, 74.30474882622322, 55.76379358980084, 63.89129799270673, 71.99336173309347, 68.56790422412128, 43.80049871143601, 46.824016688875375, 39.580500920607996, 72.56609898735022, 51.647694001738984, 54.81273806242483, 66.89276925566038, 41.0084262934058, 36.61224695543917, 68.53837842597831, 36.776607025135284, 38.56558027978082, 37.85986535202756, 31.444658873674754, 30.523460790505247, 39.86493236278578, 25.700744321377137, 144.33085429929812, 301.9635052929436, 45.777140245103205, 67.55601798980071, 175.18181092830682, 95.69249808116017, 58.1143893063306, 53.64916249773298, 363.2969504758785, 124.41030722946924, 77.98639827003741, 114.87925808867975, 120.34365699933021, 126.62030981102473, 94.36978819689492, 103.19983054423508, 78.9940567919218, 113.05555188274406, 99.23375895673087, 92.7612118038405, 82.99643587464404, 93.83350101466854, 99.95594150631213, 14.391668878261736, 14.900563505688101, 11.300193297579428, 11.324476574331166, 15.643192575974325, 17.391321116863317, 11.655549179767604, 10.34824314048916, 12.943173497676101, 11.599332337192983, 8.943539318953103, 8.175839269462664, 7.822998253820013, 8.543119087858075, 7.223024175333121, 6.868591043208255, 8.960432465241857, 7.470129686658097, 10.858694202921969, 6.37193606530007, 7.131330460892219, 6.3226527206314085, 6.321916507903461, 7.3159762263752866, 7.183445288745849, 7.423064916786782, 7.607665515844821, 5.892324186211729, 17.0487500429434, 6.046548106117582, 9.791444099350223, 7.9097801195391835, 15.84505216936384, 15.512226203307836, 39.03114793099318, 27.60349317532939, 12.489558057840789, 28.71792412648477, 62.539766293801264, 36.303677602891796, 28.673001600152507, 16.9016158967741, 37.15701951753371, 18.50722630013159, 14.821932373029377, 21.689370769070933, 36.08538646407731, 45.111000403933225, 11.129101072918587, 27.016329649973024, 16.426680097668847, 21.326870461771918, 25.115921603775607, 45.59144108692082, 22.44037459788574, 21.35639665714084, 14.95986160177809, 17.465892691240576, 16.292275656729274, 14.994356103900026, 15.355202416714535, 14.980978712135407], \"Total\": [488.0, 133.0, 51.0, 304.0, 145.0, 76.0, 83.0, 95.0, 45.0, 35.0, 55.0, 161.0, 40.0, 143.0, 85.0, 30.0, 86.0, 18.0, 58.0, 18.0, 26.0, 18.0, 16.0, 18.0, 32.0, 15.0, 83.0, 21.0, 14.0, 35.0, 488.8596219506562, 143.56944590727798, 161.3183124380174, 101.72907335517601, 90.72269643528094, 81.71347897459557, 82.23833512784672, 304.854627096319, 74.83198520010502, 56.24240175800901, 64.4621243140084, 72.66543525814177, 69.21392208544174, 44.24114023682728, 47.321725568853545, 40.01803211659778, 73.36994809802741, 52.233032972898336, 55.47016129293518, 67.7333356776092, 41.539058279121164, 37.08884053171702, 69.43471905953648, 37.26010033741639, 39.07548996615164, 38.38416590828259, 31.902023888970763, 30.97530147212714, 40.53691894246591, 26.140853137014222, 147.3566734804072, 311.05109569789363, 46.579591624299894, 69.35390694572271, 183.74131007186534, 99.36703088166747, 59.53785097001267, 55.006738429318744, 408.8883915627993, 132.90073335923333, 81.71413169925601, 123.93374963404119, 132.2690692453371, 140.0018803732874, 102.02920359587915, 113.53607748223696, 84.26617730954112, 128.4107542994586, 112.23805617739657, 104.2383228915808, 94.06138888075319, 115.18989767180938, 145.06694191024536, 14.953153121999737, 15.541991158959828, 11.804511988299396, 11.831212581291732, 16.34488445488143, 18.193437390053546, 12.223321719573727, 10.867100016826342, 13.59883689356463, 12.286078834206261, 9.498402845685462, 8.696072854714608, 8.324203016591149, 9.101678327609552, 7.734599125011398, 7.357205847266989, 9.60866675684486, 8.016380779677858, 11.661134034428573, 6.8706083461852945, 7.69674699636143, 6.82720120991614, 6.827298422583562, 7.9044605665176695, 7.762752118325548, 8.022553097033645, 8.24017340101154, 6.393099620368189, 18.52750327447487, 6.581863838520867, 10.745679612681887, 8.682995046155272, 18.721108141431117, 18.289888096209083, 51.40895312147222, 35.16269647751539, 14.647991613700505, 45.203478088140656, 133.72814554328124, 76.24872573624228, 55.14017067588654, 26.26715737950275, 83.96815470136161, 30.33684534354373, 21.92935857389562, 40.362108823312276, 95.28993667471615, 145.06694191024536, 14.486338289233684, 85.483900317504, 32.04609542169497, 58.30496641824037, 86.09803272507904, 408.8883915627993, 83.13831153517283, 115.18989767180938, 35.30492803092391, 71.44520729548125, 55.53020479067432, 56.831882058680236, 128.4107542994586, 83.90316151901307], \"Category\": [\"Default\", \"Default\", \"Default\", \"Default\", \"Default\", \"Default\", \"Default\", \"Default\", \"Default\", \"Default\", \"Default\", \"Default\", \"Default\", \"Default\", \"Default\", \"Default\", \"Default\", \"Default\", \"Default\", \"Default\", \"Default\", \"Default\", \"Default\", \"Default\", \"Default\", \"Default\", \"Default\", \"Default\", \"Default\", \"Default\", \"Topic1\", \"Topic1\", \"Topic1\", \"Topic1\", \"Topic1\", \"Topic1\", \"Topic1\", \"Topic1\", \"Topic1\", \"Topic1\", \"Topic1\", \"Topic1\", \"Topic1\", \"Topic1\", \"Topic1\", \"Topic1\", \"Topic1\", \"Topic1\", \"Topic1\", \"Topic1\", \"Topic1\", \"Topic1\", \"Topic1\", \"Topic1\", \"Topic1\", \"Topic1\", \"Topic1\", \"Topic1\", \"Topic1\", \"Topic1\", \"Topic1\", \"Topic1\", \"Topic1\", \"Topic1\", \"Topic1\", \"Topic1\", \"Topic1\", \"Topic1\", \"Topic1\", \"Topic1\", \"Topic1\", \"Topic1\", \"Topic1\", \"Topic1\", \"Topic1\", \"Topic1\", \"Topic1\", \"Topic1\", \"Topic1\", \"Topic1\", \"Topic1\", \"Topic1\", \"Topic1\", \"Topic2\", \"Topic2\", \"Topic2\", \"Topic2\", \"Topic2\", \"Topic2\", \"Topic2\", \"Topic2\", \"Topic2\", \"Topic2\", \"Topic2\", \"Topic2\", \"Topic2\", \"Topic2\", \"Topic2\", \"Topic2\", \"Topic2\", \"Topic2\", \"Topic2\", \"Topic2\", \"Topic2\", \"Topic2\", \"Topic2\", \"Topic2\", \"Topic2\", \"Topic2\", \"Topic2\", \"Topic2\", \"Topic2\", \"Topic2\", \"Topic2\", \"Topic2\", \"Topic2\", \"Topic2\", \"Topic2\", \"Topic2\", \"Topic2\", \"Topic2\", \"Topic2\", \"Topic2\", \"Topic2\", \"Topic2\", \"Topic2\", \"Topic2\", \"Topic2\", \"Topic2\", \"Topic2\", \"Topic2\", \"Topic2\", \"Topic2\", \"Topic2\", \"Topic2\", \"Topic2\", \"Topic2\", \"Topic2\", \"Topic2\", \"Topic2\", \"Topic2\", \"Topic2\", \"Topic2\", \"Topic2\", \"Topic2\"], \"logprob\": [30.0, 29.0, 28.0, 27.0, 26.0, 25.0, 24.0, 23.0, 22.0, 21.0, 20.0, 19.0, 18.0, 17.0, 16.0, 15.0, 14.0, 13.0, 12.0, 11.0, 10.0, 9.0, 8.0, 7.0, 6.0, 5.0, 4.0, 3.0, 2.0, 1.0, -3.3067, -4.5331, -4.4171, -4.88, -4.995, -5.1, -5.0937, -3.7835, -5.1883, -5.4753, -5.3393, -5.2199, -5.2686, -5.7168, -5.65, -5.8181, -5.2119, -5.552, -5.4925, -5.2933, -5.7827, -5.8961, -5.269, -5.8916, -5.8441, -5.8625, -6.0482, -6.0779, -5.8109, -6.2499, -4.5243, -3.7861, -5.6727, -5.2835, -4.3306, -4.9353, -5.434, -5.514, -3.6012, -4.6729, -5.1399, -4.7526, -4.7061, -4.6552, -4.9492, -4.8598, -5.1271, -4.7686, -4.899, -4.9664, -5.0776, -4.9549, -4.8917, -5.5969, -5.5621, -5.8387, -5.8366, -5.5135, -5.4076, -5.8077, -5.9267, -5.703, -5.8126, -6.0726, -6.1623, -6.2065, -6.1184, -6.2863, -6.3366, -6.0707, -6.2526, -5.8786, -6.4116, -6.299, -6.4194, -6.4195, -6.2735, -6.2918, -6.2589, -6.2344, -6.4899, -5.4275, -6.464, -5.982, -6.1954, -5.5007, -5.5219, -4.5992, -4.9456, -5.7386, -4.906, -4.1277, -4.6716, -4.9076, -5.4361, -4.6484, -5.3454, -5.5674, -5.1867, -4.6776, -4.4544, -5.854, -4.9671, -5.4646, -5.2036, -5.04, -4.4438, -5.1527, -5.2022, -5.5582, -5.4033, -5.4728, -5.5559, -5.5321, -5.5567], \"loglift\": [30.0, 29.0, 28.0, 27.0, 26.0, 25.0, 24.0, 23.0, 22.0, 21.0, 20.0, 19.0, 18.0, 17.0, 16.0, 15.0, 14.0, 13.0, 12.0, 11.0, 10.0, 9.0, 8.0, 7.0, 6.0, 5.0, 4.0, 3.0, 2.0, 1.0, 0.2535, 0.2523, 0.2517, 0.2499, 0.2494, 0.249, 0.2489, 0.2488, 0.2487, 0.2472, 0.2469, 0.2465, 0.2464, 0.2458, 0.2452, 0.2448, 0.2447, 0.2445, 0.2438, 0.2433, 0.2429, 0.2428, 0.2428, 0.2427, 0.2426, 0.242, 0.2413, 0.2411, 0.239, 0.2388, 0.235, 0.2261, 0.2384, 0.2295, 0.2081, 0.2181, 0.2316, 0.2308, 0.1375, 0.1897, 0.2091, 0.1799, 0.1613, 0.1553, 0.1777, 0.1603, 0.1912, 0.1284, 0.1326, 0.1391, 0.1306, 0.0507, -0.1167, 1.4504, 1.4465, 1.445, 1.4449, 1.4448, 1.4436, 1.4411, 1.4397, 1.4393, 1.4311, 1.4285, 1.427, 1.4266, 1.4253, 1.4202, 1.4199, 1.4188, 1.4181, 1.4174, 1.4133, 1.4124, 1.4119, 1.4118, 1.4113, 1.4111, 1.411, 1.4088, 1.4071, 1.4055, 1.4038, 1.3957, 1.3954, 1.3219, 1.3239, 1.2132, 1.2466, 1.3293, 1.035, 0.7287, 0.7466, 0.8347, 1.0478, 0.6734, 0.9945, 1.097, 0.8676, 0.5176, 0.3206, 1.225, 0.3368, 0.8204, 0.4829, 0.2567, -0.7051, 0.179, -0.1966, 0.63, 0.08, 0.2624, 0.1562, -0.6351, -0.2342]}, \"token.table\": {\"Topic\": [1, 1, 1, 2, 1, 1, 2, 1, 2, 1, 2, 1, 2, 1, 2, 1, 2, 1, 2, 2, 1, 2, 1, 2, 1, 2, 1, 2, 1, 2, 1, 2, 1, 2, 1, 2, 1, 2, 1, 1, 2, 1, 2, 1, 2, 1, 2, 1, 2, 1, 1, 2, 2, 1, 2, 1, 2, 1, 2, 1, 2, 1, 2, 1, 2, 1, 2, 1, 2, 1, 2, 1, 2, 1, 2, 1, 2, 1, 2, 1, 2, 1, 2, 1, 2, 1, 2, 1, 2, 1, 2, 1, 2, 1, 2, 1, 2, 1, 2, 1, 2, 1, 2, 1, 2, 1, 2, 1, 2, 1, 2, 1, 2, 1, 2, 1, 2, 1, 2, 1, 2, 1, 2, 1, 1, 2, 1, 2, 1, 1, 2, 1, 2, 1, 2, 1, 2, 1, 2, 1, 2, 1, 1, 2, 1, 2, 1, 2, 1, 2, 1, 2, 1, 2, 1, 2, 1, 2, 1, 2, 1, 2, 1, 2, 1, 2, 1, 2, 1, 2, 1, 2, 1, 2, 1, 2, 1, 2, 1, 2, 1, 2, 1, 2, 1, 2, 1, 2, 1, 2, 1, 2, 1, 2, 1, 2, 1, 2, 1, 2, 1, 2, 1, 2, 1, 2, 1, 1, 2, 1, 2], \"Freq\": [0.9956900532261767, 0.9946117620463282, 0.5597360114338426, 0.44064324304366326, 0.9995494002167512, 0.6191629678735512, 0.377794353278777, 0.08452219019217555, 0.929744092113931, 0.34263319284876403, 0.6471960309365542, 0.20709167079368943, 0.7593361262435279, 0.1149944367655391, 0.9199554941243128, 0.14647082024306526, 0.8788249214583916, 0.7023204785037929, 0.28813147836053044, 0.9514481646045446, 0.12651084682943173, 0.8855759278060221, 0.977220756948931, 0.020358765769769395, 0.8877728189166468, 0.11250013683241254, 0.06687552731127698, 0.9362573823578777, 0.998068099306828, 0.025591489725816104, 0.986754816190447, 0.024668870404761175, 0.9955385900524052, 0.01914497288562318, 0.08139293370117828, 0.9767152044141394, 0.9071306732550988, 0.09285589568752979, 0.9945494118023083, 0.3539550644488499, 0.6415435543135405, 0.1292891827795311, 0.9050242794567177, 0.10528085787119866, 0.947527720840788, 0.3192067828346195, 0.6840145346456132, 0.9816979072370858, 0.01817959087476085, 1.0007973619851638, 0.0643418201549747, 0.9651273023246204, 0.8732851150409884, 0.1299250190337218, 0.9094751332360527, 0.9960336553249237, 0.006965270316957509, 0.9982415771070924, 0.0020455770022686317, 0.8921862652829721, 0.10552740772164186, 0.7390218039345244, 0.2639363585480444, 0.998026805306808, 0.006198924256564025, 0.9928331859208966, 0.009830031543771253, 0.08471337070022018, 0.931847077702422, 0.12464859850784309, 0.8725401895549016, 0.9330272065905425, 0.06019530365100274, 0.9524259946310036, 0.04898190829530876, 0.530927873945734, 0.471105014909595, 0.8223766393399145, 0.17877753029128576, 0.09306065656562246, 0.9306065656562246, 0.10407271115814656, 0.936654400423319, 0.12013162076980564, 0.9610529661584452, 0.15641864813337733, 0.938511888800264, 0.9741701968586801, 0.016796037876873796, 0.16402506041695278, 0.874800322223748, 0.9937391687411635, 0.014402016938277732, 0.09202087019090884, 0.9202087019090883, 0.9279151186789613, 0.0726194440705274, 0.9709015791197069, 0.028934153020123716, 0.4992807950377667, 0.4992807950377667, 0.6893369273743372, 0.31020161731845175, 0.7084947015546806, 0.29036668096503304, 0.937505444323213, 0.05933578761539323, 0.9908424788790182, 0.01376170109554192, 0.22751383714600956, 0.7962984300110334, 0.06118122173089747, 0.9788995476943595, 0.98999155252714, 0.02605240927703, 0.47073853556992573, 0.5450656727651771, 0.05397381315688059, 0.91755482366697, 0.882402450012977, 0.11694490301376803, 0.1247445733285371, 0.8732120132997597, 0.9932013136675367, 0.5664931530941464, 0.4248698648206098, 0.9213048488775674, 0.07840892330872914, 0.9717251829504581, 0.9939163557595173, 0.006560503998412656, 0.47152556260349254, 0.5259323582885109, 0.9870228574875489, 0.024073728231403635, 0.9971018974608835, 0.012159779237327847, 0.0818108222087174, 0.9817298665046088, 0.6784903330870095, 0.3158489481611941, 0.9930193334140005, 0.12882029269481599, 0.9017420488637119, 0.6345943111361567, 0.3601751495637647, 0.8799886007715509, 0.11681264612011738, 0.13653748942137348, 0.8192249365282408, 0.12135666949402336, 0.9708533559521869, 0.9072415847836652, 0.09072415847836653, 0.16024692434529508, 0.8546502631749071, 0.9875569620924386, 0.021468629610705187, 0.15193264773230686, 0.9115958863938411, 0.9891731941108044, 0.01476377901657917, 0.9072006210194696, 0.08807773019606502, 0.08575495291003254, 0.9433044820103579, 0.054964874342366195, 0.9344028638202253, 0.109869846417945, 0.9888286177615051, 0.23342237628620185, 0.758622722930156, 0.9661152109327172, 0.040254800455529885, 0.9920340062225058, 0.011022600069138954, 0.9915240684004454, 0.018027710334553554, 0.11516763451832075, 0.921341076146566, 0.9928310722160303, 0.015512985503375473, 0.3955585976098808, 0.6263011128823113, 0.07353570072402511, 0.9559641094123265, 0.9912685277441511, 0.012237883058569767, 0.9804782887461222, 0.02883759672782712, 0.9949577707546811, 0.013629558503488782, 0.9545472536754639, 0.04895114121412635, 0.8160437842198447, 0.18230765392145468, 0.8820537647545026, 0.11582524183644984, 0.1464729058442798, 0.8788374350656789, 0.9969092621976016, 0.01444796032170437, 0.7337170899145948, 0.2646192783298539, 0.5245989308512121, 0.4721390377660909, 0.9976046559977779, 0.9888819573892067, 0.013363269694448739, 0.7558239669830922, 0.23794458219838088], \"Term\": [\"age\", \"alpha\", \"also\", \"also\", \"amazing\", \"animal\", \"animal\", \"armor\", \"armor\", \"attack\", \"attack\", \"back\", \"back\", \"bed\", \"bed\", \"blink\", \"blink\", \"block\", \"block\", \"bottom\", \"breed\", \"breed\", \"build\", \"build\", \"can\", \"can\", \"chicken\", \"chicken\", \"come\", \"come\", \"computer\", \"computer\", \"could\", \"could\", \"cow\", \"cow\", \"creative\", \"creative\", \"creativity\", \"creeper\", \"creeper\", \"depend\", \"depend\", \"eat\", \"eat\", \"end\", \"end\", \"even\", \"even\", \"ever\", \"fall\", \"fall\", \"focus\", \"form\", \"form\", \"fun\", \"fun\", \"game\", \"game\", \"get\", \"get\", \"go\", \"go\", \"good\", \"good\", \"great\", \"great\", \"health\", \"health\", \"hotel\", \"hotel\", \"just\", \"just\", \"kid\", \"kid\", \"kill\", \"kill\", \"know\", \"know\", \"language\", \"language\", \"lava\", \"lava\", \"likely\", \"likely\", \"line\", \"line\", \"little\", \"little\", \"look\", \"look\", \"love\", \"love\", \"luck\", \"luck\", \"make\", \"make\", \"minecraft\", \"minecraft\", \"mob\", \"mob\", \"mode\", \"mode\", \"monster\", \"monster\", \"more\", \"more\", \"much\", \"much\", \"multiplayer\", \"multiplayer\", \"nether\", \"nether\", \"new\", \"new\", \"night\", \"night\", \"non\", \"non\", \"only\", \"only\", \"order\", \"order\", \"pc\", \"peaceful\", \"peaceful\", \"people\", \"people\", \"perfect\", \"play\", \"play\", \"player\", \"player\", \"pocket_edition\", \"pocket_edition\", \"really\", \"really\", \"red\", \"red\", \"say\", \"say\", \"scary\", \"second\", \"second\", \"see\", \"see\", \"server\", \"server\", \"sheep\", \"sheep\", \"smoke\", \"smoke\", \"so\", \"so\", \"spider\", \"spider\", \"star\", \"star\", \"strong\", \"strong\", \"stuff\", \"stuff\", \"survival\", \"survival\", \"sword_bow\", \"sword_bow\", \"take\", \"take\", \"teleport\", \"teleport\", \"then\", \"then\", \"thing\", \"thing\", \"think\", \"think\", \"time\", \"time\", \"tip\", \"tip\", \"too\", \"too\", \"turn\", \"turn\", \"turn_red\", \"turn_red\", \"update\", \"update\", \"use\", \"use\", \"version\", \"version\", \"very\", \"very\", \"violence\", \"violence\", \"want\", \"want\", \"wear\", \"wear\", \"well\", \"well\", \"when\", \"when\", \"will\", \"will\", \"worth\", \"would\", \"would\", \"zombie\", \"zombie\"]}, \"R\": 30, \"lambda.step\": 0.01, \"plot.opts\": {\"xlab\": \"PC1\", \"ylab\": \"PC2\"}, \"topic.order\": [2, 1]};\n",
              "\n",
              "function LDAvis_load_lib(url, callback){\n",
              "  var s = document.createElement('script');\n",
              "  s.src = url;\n",
              "  s.async = true;\n",
              "  s.onreadystatechange = s.onload = callback;\n",
              "  s.onerror = function(){console.warn(\"failed to load library \" + url);};\n",
              "  document.getElementsByTagName(\"head\")[0].appendChild(s);\n",
              "}\n",
              "\n",
              "if(typeof(LDAvis) !== \"undefined\"){\n",
              "   // already loaded: just create the visualization\n",
              "   !function(LDAvis){\n",
              "       new LDAvis(\"#\" + \"ldavis_el751406497784072482572582956\", ldavis_el751406497784072482572582956_data);\n",
              "   }(LDAvis);\n",
              "}else if(typeof define === \"function\" && define.amd){\n",
              "   // require.js is available: use it to load d3/LDAvis\n",
              "   require.config({paths: {d3: \"https://d3js.org/d3.v5\"}});\n",
              "   require([\"d3\"], function(d3){\n",
              "      window.d3 = d3;\n",
              "      LDAvis_load_lib(\"https://cdn.jsdelivr.net/gh/bmabey/pyLDAvis@3.3.1/pyLDAvis/js/ldavis.v3.0.0.js\", function(){\n",
              "        new LDAvis(\"#\" + \"ldavis_el751406497784072482572582956\", ldavis_el751406497784072482572582956_data);\n",
              "      });\n",
              "    });\n",
              "}else{\n",
              "    // require.js not available: dynamically load d3 & LDAvis\n",
              "    LDAvis_load_lib(\"https://d3js.org/d3.v5.js\", function(){\n",
              "         LDAvis_load_lib(\"https://cdn.jsdelivr.net/gh/bmabey/pyLDAvis@3.3.1/pyLDAvis/js/ldavis.v3.0.0.js\", function(){\n",
              "                 new LDAvis(\"#\" + \"ldavis_el751406497784072482572582956\", ldavis_el751406497784072482572582956_data);\n",
              "            })\n",
              "         });\n",
              "}\n",
              "</script>"
            ],
            "text/plain": [
              "PreparedData(topic_coordinates=             x         y  topics  cluster       Freq\n",
              "topic                                               \n",
              "1     -0.03735  0.117904       1        1  77.432722\n",
              "0      0.03735 -0.117904       2        1  22.567278, topic_info=       Term        Freq       Total Category  logprob  loglift\n",
              "4      game  488.000000  488.000000  Default  30.0000  30.0000\n",
              "131    kill  133.000000  133.000000  Default  29.0000  29.0000\n",
              "186    then   51.000000   51.000000  Default  28.0000  28.0000\n",
              "14     play  304.000000  304.000000  Default  27.0000  27.0000\n",
              "95     mode  145.000000  145.000000  Default  26.0000  26.0000\n",
              "..      ...         ...         ...      ...      ...      ...\n",
              "192  zombie   17.465893   71.445207   Topic2  -5.4033   0.0800\n",
              "151   block   16.292276   55.530205   Topic2  -5.4728   0.2624\n",
              "353      go   14.994356   56.831882   Topic2  -5.5559   0.1562\n",
              "83   server   15.355202  128.410754   Topic2  -5.5321  -0.6351\n",
              "222    know   14.980979   83.903162   Topic2  -5.5567  -0.2342\n",
              "\n",
              "[145 rows x 6 columns], token_table=      Topic      Freq     Term\n",
              "term                          \n",
              "0         1  0.995690      age\n",
              "798       1  0.994612    alpha\n",
              "53        1  0.559736     also\n",
              "53        2  0.440643     also\n",
              "217       1  0.999549  amazing\n",
              "...     ...       ...      ...\n",
              "113       1  0.997605    worth\n",
              "52        1  0.988882    would\n",
              "52        2  0.013363    would\n",
              "192       1  0.755824   zombie\n",
              "192       2  0.237945   zombie\n",
              "\n",
              "[211 rows x 3 columns], R=30, lambda_step=0.01, plot_opts={'xlab': 'PC1', 'ylab': 'PC2'}, topic_order=[2, 1])"
            ]
          },
          "metadata": {},
          "execution_count": 39
        }
      ]
    },
    {
      "cell_type": "code",
      "source": [
        "# Creating a lookup table for topics\n",
        "topic_data = pd.DataFrame((ldamodel2.print_topics()),columns=['TopicNumber','TopKeywords'])\n",
        "topic_data['TopicName'] = ['Suitable for Kidss', 'Not Suitable for Kids'] #enter selected topics names here\n",
        "topic_data = topic_data[['TopicNumber','TopicName','TopKeywords']]\n",
        "topic_data['TopKeywords'] = topic_data.TopKeywords.str.replace(r'[^a-z]',' ',regex=True).apply(lambda x: x.split())\n",
        "topic_data.style.set_properties(subset=['TopKeywords'], **{'width': '300px'}) #space between columns"
      ],
      "metadata": {
        "colab": {
          "base_uri": "https://localhost:8080/",
          "height": 147
        },
        "id": "f13uviVrdTjF",
        "outputId": "e4201877-a10f-41d4-eb5e-6fd1239b7604"
      },
      "execution_count": 40,
      "outputs": [
        {
          "output_type": "execute_result",
          "data": {
            "text/html": [
              "<style type=\"text/css\">\n",
              "#T_15e68_row0_col2, #T_15e68_row1_col2 {\n",
              "  width: 300px;\n",
              "}\n",
              "</style>\n",
              "<table id=\"T_15e68_\" class=\"dataframe\">\n",
              "  <thead>\n",
              "    <tr>\n",
              "      <th class=\"blank level0\" >&nbsp;</th>\n",
              "      <th class=\"col_heading level0 col0\" >TopicNumber</th>\n",
              "      <th class=\"col_heading level0 col1\" >TopicName</th>\n",
              "      <th class=\"col_heading level0 col2\" >TopKeywords</th>\n",
              "    </tr>\n",
              "  </thead>\n",
              "  <tbody>\n",
              "    <tr>\n",
              "      <th id=\"T_15e68_level0_row0\" class=\"row_heading level0 row0\" >0</th>\n",
              "      <td id=\"T_15e68_row0_col0\" class=\"data row0 col0\" >0</td>\n",
              "      <td id=\"T_15e68_row0_col1\" class=\"data row0 col1\" >Suitable for Kidss</td>\n",
              "      <td id=\"T_15e68_row0_col2\" class=\"data row0 col2\" >['kill', 'can', 'mode', 'then', 'also', 'will', 'animal', 'creeper', 'player', 'multiplayer']</td>\n",
              "    </tr>\n",
              "    <tr>\n",
              "      <th id=\"T_15e68_level0_row1\" class=\"row_heading level0 row1\" >1</th>\n",
              "      <td id=\"T_15e68_row1_col0\" class=\"data row1 col0\" >1</td>\n",
              "      <td id=\"T_15e68_row1_col1\" class=\"data row1 col1\" >Not Suitable for Kids</td>\n",
              "      <td id=\"T_15e68_row1_col2\" class=\"data row1 col2\" >['game', 'can', 'play', 'minecraft', 'kid', 'good', 'build', 'fun', 'creative', 'just']</td>\n",
              "    </tr>\n",
              "  </tbody>\n",
              "</table>\n"
            ],
            "text/plain": [
              "<pandas.io.formats.style.Styler at 0x7feb930272d0>"
            ]
          },
          "metadata": {},
          "execution_count": 40
        }
      ]
    },
    {
      "cell_type": "code",
      "source": [
        "\n",
        "df.isnull().sum()\n"
      ],
      "metadata": {
        "colab": {
          "base_uri": "https://localhost:8080/"
        },
        "id": "tz0jvfaPcxQ0",
        "outputId": "cf1db989-1b41-403e-fe26-fea44a024c91"
      },
      "execution_count": 41,
      "outputs": [
        {
          "output_type": "execute_result",
          "data": {
            "text/plain": [
              "author age         0\n",
              "recommended age    0\n",
              "review             0\n",
              "cleaned_text       0\n",
              "cleaned_text1      0\n",
              "cleaned_text2      0\n",
              "LabelFromVADER     0\n",
              "dtype: int64"
            ]
          },
          "metadata": {},
          "execution_count": 41
        }
      ]
    },
    {
      "cell_type": "code",
      "source": [
        "#Creating new columns and inserting topic numbers and names\n",
        "for y,sent in enumerate(ldamodel2[corpus]):\n",
        "  topic_num =[]\n",
        "  topic_details = sorted(sent,key=lambda x: x[1], reverse=True)[:2] # Getting top 2 topics in descending order\n",
        "  topic_num.append(topic_details[0][0]) # Appending top topic\n",
        "  if len(topic_details) > 1:\n",
        "    if topic_details[1][1] > 0.35: # Appending second topic only if it has more than 35% influence on current row\n",
        "      topic_num.append(topic_details[1][0])\n",
        "  df.loc[y,'TopicNumber'] = ','.join(str(x) for x in sorted(topic_num))"
      ],
      "metadata": {
        "id": "rTrweSM7cnq7"
      },
      "execution_count": 42,
      "outputs": []
    },
    {
      "cell_type": "code",
      "source": [
        "df.dropna(inplace = True)"
      ],
      "metadata": {
        "id": "brmRGKAZd7j1"
      },
      "execution_count": 43,
      "outputs": []
    },
    {
      "cell_type": "code",
      "source": [
        "for index,topic_num in enumerate(df.TopicNumber):\n",
        "  topic_name_list=[]\n",
        "  for single_topic_num in (topic_num).split(','):\n",
        "    single_topic_num=int(single_topic_num)\n",
        "    topic_name_list.append(topic_data.loc[topic_data.TopicNumber == single_topic_num,'TopicName'][single_topic_num]) \n",
        "  # Extracting topic names from lookup table\n",
        "  df.loc[index,'TopicName'] =' & '.join(topic_name_list)"
      ],
      "metadata": {
        "id": "kojaxTvyd7r_"
      },
      "execution_count": 44,
      "outputs": []
    },
    {
      "cell_type": "code",
      "source": [
        "df.head()\n"
      ],
      "metadata": {
        "colab": {
          "base_uri": "https://localhost:8080/",
          "height": 354
        },
        "id": "BeZBbyxweBt0",
        "outputId": "b180499e-11b7-4b9d-da94-d1a640300f30"
      },
      "execution_count": 45,
      "outputs": [
        {
          "output_type": "execute_result",
          "data": {
            "text/html": [
              "\n",
              "  <div id=\"df-6bcd6408-93cb-4517-a237-3e34201d676e\">\n",
              "    <div class=\"colab-df-container\">\n",
              "      <div>\n",
              "<style scoped>\n",
              "    .dataframe tbody tr th:only-of-type {\n",
              "        vertical-align: middle;\n",
              "    }\n",
              "\n",
              "    .dataframe tbody tr th {\n",
              "        vertical-align: top;\n",
              "    }\n",
              "\n",
              "    .dataframe thead th {\n",
              "        text-align: right;\n",
              "    }\n",
              "</style>\n",
              "<table border=\"1\" class=\"dataframe\">\n",
              "  <thead>\n",
              "    <tr style=\"text-align: right;\">\n",
              "      <th></th>\n",
              "      <th>author age</th>\n",
              "      <th>recommended age</th>\n",
              "      <th>review</th>\n",
              "      <th>cleaned_text</th>\n",
              "      <th>cleaned_text1</th>\n",
              "      <th>cleaned_text2</th>\n",
              "      <th>LabelFromVADER</th>\n",
              "      <th>TopicNumber</th>\n",
              "      <th>TopicName</th>\n",
              "    </tr>\n",
              "  </thead>\n",
              "  <tbody>\n",
              "    <tr>\n",
              "      <th>0</th>\n",
              "      <td>Teen, 17 years old</td>\n",
              "      <td>age 7+</td>\n",
              "      <td>Kids dont listent to the parents saying ''ThIs...</td>\n",
              "      <td>kids dont listent to the parents saying this g...</td>\n",
              "      <td>kid listent parent say game sword mean violanc...</td>\n",
              "      <td>[kid, listent, parent, say, game, sword, mean,...</td>\n",
              "      <td>pos</td>\n",
              "      <td>1</td>\n",
              "      <td>Not Suitable for Kids</td>\n",
              "    </tr>\n",
              "    <tr>\n",
              "      <th>1</th>\n",
              "      <td>Kid, 11 years old</td>\n",
              "      <td>age 2+</td>\n",
              "      <td>I have been playing this game for many years a...</td>\n",
              "      <td>i have been playing this game for many years a...</td>\n",
              "      <td>play game many year never get scared nightmare...</td>\n",
              "      <td>[play, game, many, year, never, get, scared, n...</td>\n",
              "      <td>pos</td>\n",
              "      <td>1</td>\n",
              "      <td>Not Suitable for Kids</td>\n",
              "    </tr>\n",
              "    <tr>\n",
              "      <th>2</th>\n",
              "      <td>Kid, 12 years old</td>\n",
              "      <td>age 7+</td>\n",
              "      <td>The game is great with no true inappropriate t...</td>\n",
              "      <td>the game is great with no true inappropriate t...</td>\n",
              "      <td>game great true inappropriate thing</td>\n",
              "      <td>[game, great, true, inappropriate, thing]</td>\n",
              "      <td>pos</td>\n",
              "      <td>1</td>\n",
              "      <td>Not Suitable for Kids</td>\n",
              "    </tr>\n",
              "    <tr>\n",
              "      <th>3</th>\n",
              "      <td>Teen, 13 years old</td>\n",
              "      <td>age 5+</td>\n",
              "      <td>Are you sure you got common sense. I would giv...</td>\n",
              "      <td>are you sure you got common sense i would give...</td>\n",
              "      <td>sure got common sense would give game star dol...</td>\n",
              "      <td>[sure, got, common_sense, would, give, game, s...</td>\n",
              "      <td>neg</td>\n",
              "      <td>1</td>\n",
              "      <td>Not Suitable for Kids</td>\n",
              "    </tr>\n",
              "    <tr>\n",
              "      <th>4</th>\n",
              "      <td>Kid, 10 years old</td>\n",
              "      <td>age 5+</td>\n",
              "      <td>IDK WHAT TO SAY BUT DIS IS DA BEST GAME EVA</td>\n",
              "      <td>idk what to say but dis is da best game eva</td>\n",
              "      <td>say good game</td>\n",
              "      <td>[say, good, game]</td>\n",
              "      <td>neg</td>\n",
              "      <td>1</td>\n",
              "      <td>Not Suitable for Kids</td>\n",
              "    </tr>\n",
              "  </tbody>\n",
              "</table>\n",
              "</div>\n",
              "      <button class=\"colab-df-convert\" onclick=\"convertToInteractive('df-6bcd6408-93cb-4517-a237-3e34201d676e')\"\n",
              "              title=\"Convert this dataframe to an interactive table.\"\n",
              "              style=\"display:none;\">\n",
              "        \n",
              "  <svg xmlns=\"http://www.w3.org/2000/svg\" height=\"24px\"viewBox=\"0 0 24 24\"\n",
              "       width=\"24px\">\n",
              "    <path d=\"M0 0h24v24H0V0z\" fill=\"none\"/>\n",
              "    <path d=\"M18.56 5.44l.94 2.06.94-2.06 2.06-.94-2.06-.94-.94-2.06-.94 2.06-2.06.94zm-11 1L8.5 8.5l.94-2.06 2.06-.94-2.06-.94L8.5 2.5l-.94 2.06-2.06.94zm10 10l.94 2.06.94-2.06 2.06-.94-2.06-.94-.94-2.06-.94 2.06-2.06.94z\"/><path d=\"M17.41 7.96l-1.37-1.37c-.4-.4-.92-.59-1.43-.59-.52 0-1.04.2-1.43.59L10.3 9.45l-7.72 7.72c-.78.78-.78 2.05 0 2.83L4 21.41c.39.39.9.59 1.41.59.51 0 1.02-.2 1.41-.59l7.78-7.78 2.81-2.81c.8-.78.8-2.07 0-2.86zM5.41 20L4 18.59l7.72-7.72 1.47 1.35L5.41 20z\"/>\n",
              "  </svg>\n",
              "      </button>\n",
              "      \n",
              "  <style>\n",
              "    .colab-df-container {\n",
              "      display:flex;\n",
              "      flex-wrap:wrap;\n",
              "      gap: 12px;\n",
              "    }\n",
              "\n",
              "    .colab-df-convert {\n",
              "      background-color: #E8F0FE;\n",
              "      border: none;\n",
              "      border-radius: 50%;\n",
              "      cursor: pointer;\n",
              "      display: none;\n",
              "      fill: #1967D2;\n",
              "      height: 32px;\n",
              "      padding: 0 0 0 0;\n",
              "      width: 32px;\n",
              "    }\n",
              "\n",
              "    .colab-df-convert:hover {\n",
              "      background-color: #E2EBFA;\n",
              "      box-shadow: 0px 1px 2px rgba(60, 64, 67, 0.3), 0px 1px 3px 1px rgba(60, 64, 67, 0.15);\n",
              "      fill: #174EA6;\n",
              "    }\n",
              "\n",
              "    [theme=dark] .colab-df-convert {\n",
              "      background-color: #3B4455;\n",
              "      fill: #D2E3FC;\n",
              "    }\n",
              "\n",
              "    [theme=dark] .colab-df-convert:hover {\n",
              "      background-color: #434B5C;\n",
              "      box-shadow: 0px 1px 3px 1px rgba(0, 0, 0, 0.15);\n",
              "      filter: drop-shadow(0px 1px 2px rgba(0, 0, 0, 0.3));\n",
              "      fill: #FFFFFF;\n",
              "    }\n",
              "  </style>\n",
              "\n",
              "      <script>\n",
              "        const buttonEl =\n",
              "          document.querySelector('#df-6bcd6408-93cb-4517-a237-3e34201d676e button.colab-df-convert');\n",
              "        buttonEl.style.display =\n",
              "          google.colab.kernel.accessAllowed ? 'block' : 'none';\n",
              "\n",
              "        async function convertToInteractive(key) {\n",
              "          const element = document.querySelector('#df-6bcd6408-93cb-4517-a237-3e34201d676e');\n",
              "          const dataTable =\n",
              "            await google.colab.kernel.invokeFunction('convertToInteractive',\n",
              "                                                     [key], {});\n",
              "          if (!dataTable) return;\n",
              "\n",
              "          const docLinkHtml = 'Like what you see? Visit the ' +\n",
              "            '<a target=\"_blank\" href=https://colab.research.google.com/notebooks/data_table.ipynb>data table notebook</a>'\n",
              "            + ' to learn more about interactive tables.';\n",
              "          element.innerHTML = '';\n",
              "          dataTable['output_type'] = 'display_data';\n",
              "          await google.colab.output.renderOutput(dataTable, element);\n",
              "          const docLink = document.createElement('div');\n",
              "          docLink.innerHTML = docLinkHtml;\n",
              "          element.appendChild(docLink);\n",
              "        }\n",
              "      </script>\n",
              "    </div>\n",
              "  </div>\n",
              "  "
            ],
            "text/plain": [
              "           author age recommended age  ... TopicNumber              TopicName\n",
              "0  Teen, 17 years old          age 7+  ...           1  Not Suitable for Kids\n",
              "1   Kid, 11 years old          age 2+  ...           1  Not Suitable for Kids\n",
              "2   Kid, 12 years old          age 7+  ...           1  Not Suitable for Kids\n",
              "3  Teen, 13 years old          age 5+  ...           1  Not Suitable for Kids\n",
              "4   Kid, 10 years old          age 5+  ...           1  Not Suitable for Kids\n",
              "\n",
              "[5 rows x 9 columns]"
            ]
          },
          "metadata": {},
          "execution_count": 45
        }
      ]
    },
    {
      "cell_type": "code",
      "source": [
        "df['label'] = df.TopicName.str.cat(df.LabelFromVADER, sep='_')\n"
      ],
      "metadata": {
        "id": "JXlIuy80eB1_"
      },
      "execution_count": 46,
      "outputs": []
    },
    {
      "cell_type": "code",
      "source": [
        "df.to_csv('Game_Reviews.csv')\n"
      ],
      "metadata": {
        "id": "-2p59POQeB7I"
      },
      "execution_count": 47,
      "outputs": []
    },
    {
      "cell_type": "code",
      "source": [
        ""
      ],
      "metadata": {
        "id": "nRLRLrBTeCAf"
      },
      "execution_count": null,
      "outputs": []
    },
    {
      "cell_type": "code",
      "source": [
        ""
      ],
      "metadata": {
        "id": "ayHkW65LeCGj"
      },
      "execution_count": null,
      "outputs": []
    }
  ]
}