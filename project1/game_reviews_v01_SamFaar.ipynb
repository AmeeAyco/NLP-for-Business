{
 "cells": [
  {
   "cell_type": "code",
   "execution_count": 251,
   "id": "10e736d8",
   "metadata": {
    "ExecuteTime": {
     "end_time": "2022-02-18T03:27:05.227287Z",
     "start_time": "2022-02-18T03:27:05.221279Z"
    }
   },
   "outputs": [],
   "source": [
    "import numpy as np \n",
    "import pandas as pd\n",
    "import matplotlib as mpl\n",
    "import matplotlib.pyplot as plt\n",
    "%matplotlib inline\n",
    "import seaborn as sns\n",
    "import os\n",
    "import warnings\n",
    "warnings.filterwarnings('ignore')\n",
    "\n",
    "sns.set_style('white')\n",
    "mpl.rcParams['figure.figsize'] = (9, 6)\n",
    "sns.set_context('talk', font_scale = 1)"
   ]
  },
  {
   "cell_type": "markdown",
   "id": "c372ce5b",
   "metadata": {},
   "source": [
    "# Import and Clean "
   ]
  },
  {
   "cell_type": "code",
   "execution_count": 252,
   "id": "e182568c",
   "metadata": {
    "ExecuteTime": {
     "end_time": "2022-02-18T03:27:05.243875Z",
     "start_time": "2022-02-18T03:27:05.228542Z"
    }
   },
   "outputs": [],
   "source": [
    "df = pd.read_csv('game_reviews.csv')"
   ]
  },
  {
   "cell_type": "code",
   "execution_count": 253,
   "id": "783eac83",
   "metadata": {
    "ExecuteTime": {
     "end_time": "2022-02-18T03:27:05.250445Z",
     "start_time": "2022-02-18T03:27:05.245120Z"
    }
   },
   "outputs": [
    {
     "data": {
      "text/html": [
       "<div><div id=e5a10303-b38f-48a7-b653-47c8eb6d47f5 style=\"display:none; background-color:#9D6CFF; color:white; width:200px; height:30px; padding-left:5px; border-radius:4px; flex-direction:row; justify-content:space-around; align-items:center;\" onmouseover=\"this.style.backgroundColor='#BA9BF8'\" onmouseout=\"this.style.backgroundColor='#9D6CFF'\" onclick=\"window.commands?.execute('create-mitosheet-from-dataframe-output');\">See Full Dataframe in Mito</div> <script> if (window.commands.hasCommand('create-mitosheet-from-dataframe-output')) document.getElementById('e5a10303-b38f-48a7-b653-47c8eb6d47f5').style.display = 'flex' </script> <table border=\"1\" class=\"dataframe\">\n",
       "  <thead>\n",
       "    <tr style=\"text-align: right;\">\n",
       "      <th></th>\n",
       "      <th>author age</th>\n",
       "      <th>recommended age</th>\n",
       "      <th>review</th>\n",
       "    </tr>\n",
       "  </thead>\n",
       "  <tbody>\n",
       "    <tr>\n",
       "      <th>0</th>\n",
       "      <td>Teen, 17 years old</td>\n",
       "      <td>age 7+</td>\n",
       "      <td>Kids dont listent to the parents saying ''ThIs GaMe HaS sWoRdS tHaT mEaNs ThErE iS vIoLaNcE'' there is no violance but its good to not play all day play like idk 2 hours.I think minecraft is a child friendly game and is open to all ages thats my opinion.</td>\n",
       "    </tr>\n",
       "    <tr>\n",
       "      <th>1</th>\n",
       "      <td>Kid, 11 years old</td>\n",
       "      <td>age 2+</td>\n",
       "      <td>I have been playing this game for many years and I have never gotten scared or had nightmares about the monsters and “violence”. There is no blood or anything very gruesome. All you do is hit the animal/monster. From Minecraft I learned how to build great houses (not that great :( ) and it allows me and my brother to be creative and build.</td>\n",
       "    </tr>\n",
       "    <tr>\n",
       "      <th>2</th>\n",
       "      <td>Kid, 12 years old</td>\n",
       "      <td>age 7+</td>\n",
       "      <td>The game is great with no true inappropriate things</td>\n",
       "    </tr>\n",
       "    <tr>\n",
       "      <th>3</th>\n",
       "      <td>Teen, 13 years old</td>\n",
       "      <td>age 5+</td>\n",
       "      <td>Are you sure you got common sense. I would give this game 3 MILLION stars! 7 dollars isn't a lot of money!</td>\n",
       "    </tr>\n",
       "    <tr>\n",
       "      <th>4</th>\n",
       "      <td>Kid, 10 years old</td>\n",
       "      <td>age 5+</td>\n",
       "      <td>IDK WHAT TO SAY BUT DIS IS DA BEST GAME EVA</td>\n",
       "    </tr>\n",
       "  </tbody>\n",
       "</table></div>"
      ],
      "text/plain": [
       "           author age recommended age  \\\n",
       "0  Teen, 17 years old          age 7+   \n",
       "1   Kid, 11 years old          age 2+   \n",
       "2   Kid, 12 years old          age 7+   \n",
       "3  Teen, 13 years old          age 5+   \n",
       "4   Kid, 10 years old          age 5+   \n",
       "\n",
       "                                              review  \n",
       "0  Kids dont listent to the parents saying ''ThIs...  \n",
       "1  I have been playing this game for many years a...  \n",
       "2  The game is great with no true inappropriate t...  \n",
       "3  Are you sure you got common sense. I would giv...  \n",
       "4        IDK WHAT TO SAY BUT DIS IS DA BEST GAME EVA  "
      ]
     },
     "execution_count": 253,
     "metadata": {},
     "output_type": "execute_result"
    }
   ],
   "source": [
    "df.head()"
   ]
  },
  {
   "cell_type": "code",
   "execution_count": 254,
   "id": "1fe514bf",
   "metadata": {
    "ExecuteTime": {
     "end_time": "2022-02-18T03:27:05.255392Z",
     "start_time": "2022-02-18T03:27:05.251898Z"
    }
   },
   "outputs": [
    {
     "data": {
      "text/plain": [
       "author age         object\n",
       "recommended age    object\n",
       "review             object\n",
       "dtype: object"
      ]
     },
     "execution_count": 254,
     "metadata": {},
     "output_type": "execute_result"
    }
   ],
   "source": [
    "df.dtypes"
   ]
  },
  {
   "cell_type": "code",
   "execution_count": 255,
   "id": "680a2be7",
   "metadata": {
    "ExecuteTime": {
     "end_time": "2022-02-18T03:27:05.261753Z",
     "start_time": "2022-02-18T03:27:05.256704Z"
    }
   },
   "outputs": [
    {
     "data": {
      "text/plain": [
       "age 7+     99\n",
       "age 6+     97\n",
       "age 5+     80\n",
       "age 2+     68\n",
       "age 8+     66\n",
       "age 4+     38\n",
       "age 10+    30\n",
       "age 3+     27\n",
       "age 9+     20\n",
       "age 18+    10\n",
       "age 13+     8\n",
       "age 11+     6\n",
       "age 16+     4\n",
       "age 14+     4\n",
       "age 15+     2\n",
       "age 17+     1\n",
       "age 12+     1\n",
       "Name: recommended age, dtype: int64"
      ]
     },
     "execution_count": 255,
     "metadata": {},
     "output_type": "execute_result"
    }
   ],
   "source": [
    "df['recommended age'].value_counts()"
   ]
  },
  {
   "cell_type": "code",
   "execution_count": 256,
   "id": "13662055",
   "metadata": {
    "ExecuteTime": {
     "end_time": "2022-02-18T03:27:05.267338Z",
     "start_time": "2022-02-18T03:27:05.263099Z"
    }
   },
   "outputs": [],
   "source": [
    "df['recommended age'].replace('[+age\\s]', '', regex=True, inplace=True)"
   ]
  },
  {
   "cell_type": "code",
   "execution_count": 257,
   "id": "276d59a0",
   "metadata": {
    "ExecuteTime": {
     "end_time": "2022-02-18T03:27:05.273737Z",
     "start_time": "2022-02-18T03:27:05.268854Z"
    }
   },
   "outputs": [
    {
     "data": {
      "text/plain": [
       "7     99\n",
       "6     97\n",
       "5     80\n",
       "2     68\n",
       "8     66\n",
       "4     38\n",
       "10    30\n",
       "3     27\n",
       "9     20\n",
       "18    10\n",
       "13     8\n",
       "11     6\n",
       "16     4\n",
       "14     4\n",
       "15     2\n",
       "17     1\n",
       "12     1\n",
       "Name: recommended age, dtype: int64"
      ]
     },
     "execution_count": 257,
     "metadata": {},
     "output_type": "execute_result"
    }
   ],
   "source": [
    "df['recommended age'].value_counts()"
   ]
  },
  {
   "cell_type": "code",
   "execution_count": 258,
   "id": "3903205f",
   "metadata": {
    "ExecuteTime": {
     "end_time": "2022-02-18T03:27:05.278101Z",
     "start_time": "2022-02-18T03:27:05.275110Z"
    }
   },
   "outputs": [],
   "source": [
    "df['recommended age'] = df['recommended age'].astype('int')"
   ]
  },
  {
   "cell_type": "code",
   "execution_count": 259,
   "id": "84a10fa9",
   "metadata": {
    "ExecuteTime": {
     "end_time": "2022-02-18T03:27:05.283128Z",
     "start_time": "2022-02-18T03:27:05.279877Z"
    }
   },
   "outputs": [
    {
     "data": {
      "text/plain": [
       "author age         object\n",
       "recommended age     int64\n",
       "review             object\n",
       "dtype: object"
      ]
     },
     "execution_count": 259,
     "metadata": {},
     "output_type": "execute_result"
    }
   ],
   "source": [
    "df.dtypes"
   ]
  },
  {
   "cell_type": "code",
   "execution_count": 260,
   "id": "18c0b83a",
   "metadata": {
    "ExecuteTime": {
     "end_time": "2022-02-18T03:27:05.287390Z",
     "start_time": "2022-02-18T03:27:05.284617Z"
    }
   },
   "outputs": [],
   "source": [
    "df['not_suitable_age_10'] = np.where(df['recommended age']>10, 1, 0)"
   ]
  },
  {
   "cell_type": "code",
   "execution_count": 261,
   "id": "106142a6",
   "metadata": {
    "ExecuteTime": {
     "end_time": "2022-02-18T03:27:05.294029Z",
     "start_time": "2022-02-18T03:27:05.288836Z"
    }
   },
   "outputs": [
    {
     "data": {
      "text/html": [
       "<div><div id=7a0ebedf-0817-44cc-b497-9662b03f03bd style=\"display:none; background-color:#9D6CFF; color:white; width:200px; height:30px; padding-left:5px; border-radius:4px; flex-direction:row; justify-content:space-around; align-items:center;\" onmouseover=\"this.style.backgroundColor='#BA9BF8'\" onmouseout=\"this.style.backgroundColor='#9D6CFF'\" onclick=\"window.commands?.execute('create-mitosheet-from-dataframe-output');\">See Full Dataframe in Mito</div> <script> if (window.commands.hasCommand('create-mitosheet-from-dataframe-output')) document.getElementById('7a0ebedf-0817-44cc-b497-9662b03f03bd').style.display = 'flex' </script> <table border=\"1\" class=\"dataframe\">\n",
       "  <thead>\n",
       "    <tr style=\"text-align: right;\">\n",
       "      <th></th>\n",
       "      <th>author age</th>\n",
       "      <th>recommended age</th>\n",
       "      <th>review</th>\n",
       "      <th>not_suitable_age_10</th>\n",
       "    </tr>\n",
       "  </thead>\n",
       "  <tbody>\n",
       "    <tr>\n",
       "      <th>0</th>\n",
       "      <td>Teen, 17 years old</td>\n",
       "      <td>7</td>\n",
       "      <td>Kids dont listent to the parents saying ''ThIs GaMe HaS sWoRdS tHaT mEaNs ThErE iS vIoLaNcE'' there is no violance but its good to not play all day play like idk 2 hours.I think minecraft is a child friendly game and is open to all ages thats my opinion.</td>\n",
       "      <td>0</td>\n",
       "    </tr>\n",
       "    <tr>\n",
       "      <th>1</th>\n",
       "      <td>Kid, 11 years old</td>\n",
       "      <td>2</td>\n",
       "      <td>I have been playing this game for many years and I have never gotten scared or had nightmares about the monsters and “violence”. There is no blood or anything very gruesome. All you do is hit the animal/monster. From Minecraft I learned how to build great houses (not that great :( ) and it allows me and my brother to be creative and build.</td>\n",
       "      <td>0</td>\n",
       "    </tr>\n",
       "    <tr>\n",
       "      <th>2</th>\n",
       "      <td>Kid, 12 years old</td>\n",
       "      <td>7</td>\n",
       "      <td>The game is great with no true inappropriate things</td>\n",
       "      <td>0</td>\n",
       "    </tr>\n",
       "    <tr>\n",
       "      <th>3</th>\n",
       "      <td>Teen, 13 years old</td>\n",
       "      <td>5</td>\n",
       "      <td>Are you sure you got common sense. I would give this game 3 MILLION stars! 7 dollars isn't a lot of money!</td>\n",
       "      <td>0</td>\n",
       "    </tr>\n",
       "    <tr>\n",
       "      <th>4</th>\n",
       "      <td>Kid, 10 years old</td>\n",
       "      <td>5</td>\n",
       "      <td>IDK WHAT TO SAY BUT DIS IS DA BEST GAME EVA</td>\n",
       "      <td>0</td>\n",
       "    </tr>\n",
       "  </tbody>\n",
       "</table></div>"
      ],
      "text/plain": [
       "           author age  recommended age  \\\n",
       "0  Teen, 17 years old                7   \n",
       "1   Kid, 11 years old                2   \n",
       "2   Kid, 12 years old                7   \n",
       "3  Teen, 13 years old                5   \n",
       "4   Kid, 10 years old                5   \n",
       "\n",
       "                                              review  not_suitable_age_10  \n",
       "0  Kids dont listent to the parents saying ''ThIs...                    0  \n",
       "1  I have been playing this game for many years a...                    0  \n",
       "2  The game is great with no true inappropriate t...                    0  \n",
       "3  Are you sure you got common sense. I would giv...                    0  \n",
       "4        IDK WHAT TO SAY BUT DIS IS DA BEST GAME EVA                    0  "
      ]
     },
     "execution_count": 261,
     "metadata": {},
     "output_type": "execute_result"
    }
   ],
   "source": [
    "df.head()"
   ]
  },
  {
   "cell_type": "markdown",
   "id": "67b42cf4",
   "metadata": {},
   "source": [
    "# NLP Custom Functions"
   ]
  },
  {
   "cell_type": "code",
   "execution_count": 262,
   "id": "94a3c3f9",
   "metadata": {
    "ExecuteTime": {
     "end_time": "2022-02-18T03:27:05.299500Z",
     "start_time": "2022-02-18T03:27:05.295465Z"
    }
   },
   "outputs": [],
   "source": [
    "import gensim\n",
    "from gensim.utils import simple_preprocess   # Convert a document into a list of lowercase tokens, ignoring tokens that are too short or too long.\n",
    "from gensim.parsing.preprocessing import STOPWORDS\n",
    "\n",
    "import nltk\n",
    "from nltk.stem import WordNetLemmatizer, SnowballStemmer\n",
    "from nltk.stem.porter import *\n",
    "\n",
    "\n",
    "# our nlp pre-processing custom functions\n",
    "stemmer = SnowballStemmer('english')\n",
    "def lemmatize_stemming(text):\n",
    "    return stemmer.stem(WordNetLemmatizer().lemmatize(text, pos='v'))  # pos = \"v\" => only lemmatize verbs and leave nouns 'n' and adjectives 'a' alone\n",
    "\n",
    "def preprocess(text):\n",
    "    result = []\n",
    "    for token in gensim.utils.simple_preprocess(text):\n",
    "        if token not in gensim.parsing.preprocessing.STOPWORDS:\n",
    "            result.append(lemmatize_stemming(token))\n",
    "    return str(result)"
   ]
  },
  {
   "cell_type": "code",
   "execution_count": 263,
   "id": "795c979d",
   "metadata": {
    "ExecuteTime": {
     "end_time": "2022-02-18T03:27:05.306899Z",
     "start_time": "2022-02-18T03:27:05.301093Z"
    }
   },
   "outputs": [
    {
     "data": {
      "text/plain": [
       "author age             0.000000\n",
       "recommended age        0.000000\n",
       "review                 0.062389\n",
       "not_suitable_age_10    0.000000\n",
       "dtype: float64"
      ]
     },
     "execution_count": 263,
     "metadata": {},
     "output_type": "execute_result"
    }
   ],
   "source": [
    "df.isna().mean()"
   ]
  },
  {
   "cell_type": "code",
   "execution_count": 264,
   "id": "8b6eef8d",
   "metadata": {
    "ExecuteTime": {
     "end_time": "2022-02-18T03:27:05.313393Z",
     "start_time": "2022-02-18T03:27:05.308389Z"
    }
   },
   "outputs": [],
   "source": [
    "df.dropna(inplace = True)"
   ]
  },
  {
   "cell_type": "code",
   "execution_count": 265,
   "id": "125676b8",
   "metadata": {
    "ExecuteTime": {
     "end_time": "2022-02-18T03:27:05.558786Z",
     "start_time": "2022-02-18T03:27:05.314837Z"
    }
   },
   "outputs": [],
   "source": [
    "df_nlp = df.copy()\n",
    "\n",
    "# apply our custom function 'preprocess' on all rows of the 'description' column to create tokens\n",
    "df_nlp['tokens'] = df_nlp['review'].map(preprocess)"
   ]
  },
  {
   "cell_type": "code",
   "execution_count": 266,
   "id": "83c654b0",
   "metadata": {
    "ExecuteTime": {
     "end_time": "2022-02-18T03:27:05.566102Z",
     "start_time": "2022-02-18T03:27:05.560079Z"
    }
   },
   "outputs": [
    {
     "data": {
      "text/html": [
       "<div><div id=597d2f68-b81e-4106-80b9-a911fc008fd1 style=\"display:none; background-color:#9D6CFF; color:white; width:200px; height:30px; padding-left:5px; border-radius:4px; flex-direction:row; justify-content:space-around; align-items:center;\" onmouseover=\"this.style.backgroundColor='#BA9BF8'\" onmouseout=\"this.style.backgroundColor='#9D6CFF'\" onclick=\"window.commands?.execute('create-mitosheet-from-dataframe-output');\">See Full Dataframe in Mito</div> <script> if (window.commands.hasCommand('create-mitosheet-from-dataframe-output')) document.getElementById('597d2f68-b81e-4106-80b9-a911fc008fd1').style.display = 'flex' </script> <table border=\"1\" class=\"dataframe\">\n",
       "  <thead>\n",
       "    <tr style=\"text-align: right;\">\n",
       "      <th></th>\n",
       "      <th>author age</th>\n",
       "      <th>recommended age</th>\n",
       "      <th>review</th>\n",
       "      <th>not_suitable_age_10</th>\n",
       "      <th>tokens</th>\n",
       "    </tr>\n",
       "  </thead>\n",
       "  <tbody>\n",
       "    <tr>\n",
       "      <th>0</th>\n",
       "      <td>Teen, 17 years old</td>\n",
       "      <td>7</td>\n",
       "      <td>Kids dont listent to the parents saying ''ThIs GaMe HaS sWoRdS tHaT mEaNs ThErE iS vIoLaNcE'' there is no violance but its good to not play all day play like idk 2 hours.I think minecraft is a child friendly game and is open to all ages thats my opinion.</td>\n",
       "      <td>0</td>\n",
       "      <td>['kid', 'dont', 'listent', 'parent', 'say', 'game', 'sword', 'mean', 'violanc', 'violanc', 'good', 'play', 'day', 'play', 'like', 'idk', 'hour', 'think', 'minecraft', 'child', 'friend', 'game', 'open', 'age', 'that', 'opinion']</td>\n",
       "    </tr>\n",
       "    <tr>\n",
       "      <th>1</th>\n",
       "      <td>Kid, 11 years old</td>\n",
       "      <td>2</td>\n",
       "      <td>I have been playing this game for many years and I have never gotten scared or had nightmares about the monsters and “violence”. There is no blood or anything very gruesome. All you do is hit the animal/monster. From Minecraft I learned how to build great houses (not that great :( ) and it allows me and my brother to be creative and build.</td>\n",
       "      <td>0</td>\n",
       "      <td>['play', 'game', 'year', 'get', 'scar', 'nightmar', 'monster', 'violenc', 'blood', 'gruesom', 'hit', 'anim', 'monster', 'minecraft', 'learn', 'build', 'great', 'hous', 'great', 'allow', 'brother', 'creativ', 'build']</td>\n",
       "    </tr>\n",
       "    <tr>\n",
       "      <th>2</th>\n",
       "      <td>Kid, 12 years old</td>\n",
       "      <td>7</td>\n",
       "      <td>The game is great with no true inappropriate things</td>\n",
       "      <td>0</td>\n",
       "      <td>['game', 'great', 'true', 'inappropri', 'thing']</td>\n",
       "    </tr>\n",
       "    <tr>\n",
       "      <th>3</th>\n",
       "      <td>Teen, 13 years old</td>\n",
       "      <td>5</td>\n",
       "      <td>Are you sure you got common sense. I would give this game 3 MILLION stars! 7 dollars isn't a lot of money!</td>\n",
       "      <td>0</td>\n",
       "      <td>['sure', 'get', 'common', 'sens', 'game', 'million', 'star', 'dollar', 'isn', 'lot', 'money']</td>\n",
       "    </tr>\n",
       "    <tr>\n",
       "      <th>4</th>\n",
       "      <td>Kid, 10 years old</td>\n",
       "      <td>5</td>\n",
       "      <td>IDK WHAT TO SAY BUT DIS IS DA BEST GAME EVA</td>\n",
       "      <td>0</td>\n",
       "      <td>['idk', 'dis', 'da', 'best', 'game', 'eva']</td>\n",
       "    </tr>\n",
       "  </tbody>\n",
       "</table></div>"
      ],
      "text/plain": [
       "           author age  recommended age  \\\n",
       "0  Teen, 17 years old                7   \n",
       "1   Kid, 11 years old                2   \n",
       "2   Kid, 12 years old                7   \n",
       "3  Teen, 13 years old                5   \n",
       "4   Kid, 10 years old                5   \n",
       "\n",
       "                                              review  not_suitable_age_10  \\\n",
       "0  Kids dont listent to the parents saying ''ThIs...                    0   \n",
       "1  I have been playing this game for many years a...                    0   \n",
       "2  The game is great with no true inappropriate t...                    0   \n",
       "3  Are you sure you got common sense. I would giv...                    0   \n",
       "4        IDK WHAT TO SAY BUT DIS IS DA BEST GAME EVA                    0   \n",
       "\n",
       "                                              tokens  \n",
       "0  ['kid', 'dont', 'listent', 'parent', 'say', 'g...  \n",
       "1  ['play', 'game', 'year', 'get', 'scar', 'night...  \n",
       "2   ['game', 'great', 'true', 'inappropri', 'thing']  \n",
       "3  ['sure', 'get', 'common', 'sens', 'game', 'mil...  \n",
       "4        ['idk', 'dis', 'da', 'best', 'game', 'eva']  "
      ]
     },
     "execution_count": 266,
     "metadata": {},
     "output_type": "execute_result"
    }
   ],
   "source": [
    "df_nlp.head()"
   ]
  },
  {
   "cell_type": "code",
   "execution_count": 267,
   "id": "0f6db243",
   "metadata": {
    "ExecuteTime": {
     "end_time": "2022-02-18T03:27:05.574027Z",
     "start_time": "2022-02-18T03:27:05.567626Z"
    }
   },
   "outputs": [
    {
     "data": {
      "text/plain": [
       "0    95.0\n",
       "1     5.0\n",
       "Name: not_suitable_age_10, dtype: float64"
      ]
     },
     "execution_count": 267,
     "metadata": {},
     "output_type": "execute_result"
    }
   ],
   "source": [
    "np.round(df['not_suitable_age_10'].value_counts(normalize = True)*100)"
   ]
  },
  {
   "cell_type": "markdown",
   "id": "e9736bc6",
   "metadata": {},
   "source": [
    "> <span style=\"color:SteelBlue\"> We can see that there is a severe class imbalance in our target, i.e. only 5% of the data is in class 1. This means  that we need to do random resampling before our modeling. However, \"Random Undersampling + SMOTE\" requires numerical features. So, we first encode \"tokens\" column using tfidf_vectorizer, and then do the resampling.\n"
   ]
  },
  {
   "cell_type": "code",
   "execution_count": 437,
   "id": "c66cf043",
   "metadata": {
    "ExecuteTime": {
     "end_time": "2022-02-19T00:05:01.050084Z",
     "start_time": "2022-02-19T00:05:01.044304Z"
    },
    "scrolled": true
   },
   "outputs": [
    {
     "name": "stdout",
     "output_type": "stream",
     "text": [
      "cross_val_df:\n",
      "0    95.454545\n",
      "1     4.545455\n",
      "Name: not_suitable_age_10, dtype: float64\n",
      "\n",
      "test_df:\n",
      "0    94.252874\n",
      "1     5.747126\n",
      "Name: not_suitable_age_10, dtype: float64\n"
     ]
    }
   ],
   "source": [
    "# Create two DFs: one for cross validation with resampling, one for Test with no resampling\n",
    "from sklearn.model_selection import cross_val_score, GridSearchCV, RandomizedSearchCV, train_test_split\n",
    "\n",
    "cross_val_df, test_df = train_test_split(df_nlp, test_size=0.33)\n",
    "\n",
    "print(f'cross_val_df:\\n{cross_val_df[\"not_suitable_age_10\"].value_counts(normalize=True)*100}')\n",
    "print()\n",
    "print(f'test_df:\\n{test_df[\"not_suitable_age_10\"].value_counts(normalize=True)*100}')"
   ]
  },
  {
   "cell_type": "code",
   "execution_count": 438,
   "id": "eb0b0434",
   "metadata": {
    "ExecuteTime": {
     "end_time": "2022-02-19T00:05:01.062680Z",
     "start_time": "2022-02-19T00:05:01.051239Z"
    }
   },
   "outputs": [
    {
     "data": {
      "text/plain": [
       "((352, 5), (174, 5))"
      ]
     },
     "execution_count": 438,
     "metadata": {},
     "output_type": "execute_result"
    }
   ],
   "source": [
    "cross_val_df.shape, test_df.shape"
   ]
  },
  {
   "cell_type": "code",
   "execution_count": 439,
   "id": "9529b809",
   "metadata": {
    "ExecuteTime": {
     "end_time": "2022-02-19T00:05:01.066554Z",
     "start_time": "2022-02-19T00:05:01.064004Z"
    }
   },
   "outputs": [],
   "source": [
    "X_cv = cross_val_df['tokens']\n",
    "y_cv = cross_val_df['not_suitable_age_10']\n",
    "\n",
    "X_test = test_df['tokens']\n",
    "y_test = test_df['not_suitable_age_10']"
   ]
  },
  {
   "cell_type": "code",
   "execution_count": 440,
   "id": "aaf56cf8",
   "metadata": {
    "ExecuteTime": {
     "end_time": "2022-02-19T00:05:01.071489Z",
     "start_time": "2022-02-19T00:05:01.067995Z"
    }
   },
   "outputs": [
    {
     "data": {
      "text/plain": [
       "271                   ['game', 'fun', 'gamm', 'favorit']\n",
       "507    ['play', 'pc', 'pe', 'pe', 'probabl', 'easiest...\n",
       "296    ['final', 'build', 'want', 'reason', 'give', '...\n",
       "291    ['good', 'older', 'kid', 'violenc', 'gore', 'b...\n",
       "391    ['play', 'minecraft', 'mobil', 'edit', 'come',...\n",
       "                             ...                        \n",
       "167    ['thing', 'think', 'inappropri', 'sword', 'bow...\n",
       "449    ['mom', 'buy', 'ipad', 'birthday', 'year', 'us...\n",
       "473    ['minecraft', 'awesom', 'game', 'tri', 'build'...\n",
       "105    ['esrb', 'suck', 'year', 'old', 'play', 'minec...\n",
       "284    ['thorough', 'enjoy', 'game', 'infinit', 'poss...\n",
       "Name: tokens, Length: 352, dtype: object"
      ]
     },
     "execution_count": 440,
     "metadata": {},
     "output_type": "execute_result"
    }
   ],
   "source": [
    "X_cv"
   ]
  },
  {
   "cell_type": "code",
   "execution_count": 441,
   "id": "310efd36",
   "metadata": {
    "ExecuteTime": {
     "end_time": "2022-02-19T00:05:01.076153Z",
     "start_time": "2022-02-19T00:05:01.072636Z"
    }
   },
   "outputs": [
    {
     "data": {
      "text/plain": [
       "0      0\n",
       "1      0\n",
       "2      0\n",
       "3      0\n",
       "4      0\n",
       "      ..\n",
       "347    0\n",
       "348    0\n",
       "349    0\n",
       "350    0\n",
       "351    0\n",
       "Name: not_suitable_age_10, Length: 352, dtype: int64"
      ]
     },
     "execution_count": 441,
     "metadata": {},
     "output_type": "execute_result"
    }
   ],
   "source": [
    "y_cv.reset_index(drop=True)"
   ]
  },
  {
   "cell_type": "code",
   "execution_count": 442,
   "id": "41e93279",
   "metadata": {
    "ExecuteTime": {
     "end_time": "2022-02-19T00:05:01.102054Z",
     "start_time": "2022-02-19T00:05:01.077642Z"
    }
   },
   "outputs": [],
   "source": [
    "# Initialize tf-idf vectorizer\n",
    "from sklearn.feature_extraction.text import CountVectorizer, TfidfVectorizer\n",
    "\n",
    "tfidf_vectorizer = TfidfVectorizer(stop_words='english',\n",
    "#                                    max_df=0.9,\n",
    "#                                    min_df=0.05,\n",
    "                                   max_features = 80)   # we need t0 have the same number of features in cv and test\n",
    "\n",
    "# Create tf-idf (encodes tokens)\n",
    "X_test_tfidf = tfidf_vectorizer.fit_transform(X_test)\n",
    "X_cv_tfidf = tfidf_vectorizer.fit_transform(X_cv)"
   ]
  },
  {
   "cell_type": "code",
   "execution_count": 443,
   "id": "afaf4455",
   "metadata": {
    "ExecuteTime": {
     "end_time": "2022-02-19T00:05:01.105922Z",
     "start_time": "2022-02-19T00:05:01.103089Z"
    }
   },
   "outputs": [
    {
     "data": {
      "text/plain": [
       "((352, 80), (174, 80))"
      ]
     },
     "execution_count": 443,
     "metadata": {},
     "output_type": "execute_result"
    }
   ],
   "source": [
    "X_cv_tfidf.shape, X_test_tfidf.shape"
   ]
  },
  {
   "cell_type": "code",
   "execution_count": 444,
   "id": "9400e1ee",
   "metadata": {
    "ExecuteTime": {
     "end_time": "2022-02-19T00:05:01.110672Z",
     "start_time": "2022-02-19T00:05:01.107028Z"
    },
    "scrolled": true
   },
   "outputs": [
    {
     "name": "stdout",
     "output_type": "stream",
     "text": [
      "80\n"
     ]
    },
    {
     "data": {
      "text/plain": [
       "['age',\n",
       " 'amaz',\n",
       " 'anim',\n",
       " 'bad',\n",
       " 'best',\n",
       " 'better',\n",
       " 'block',\n",
       " 'blood',\n",
       " 'build',\n",
       " 'buy',\n",
       " 'chat',\n",
       " 'child',\n",
       " 'children',\n",
       " 'cool',\n",
       " 'craft',\n",
       " 'creativ',\n",
       " 'die',\n",
       " 'dont',\n",
       " 'easi',\n",
       " 'edit',\n",
       " 'educ',\n",
       " 'end',\n",
       " 'fight',\n",
       " 'food',\n",
       " 'friend',\n",
       " 'fun',\n",
       " 'game',\n",
       " 'good',\n",
       " 'great',\n",
       " 'hit',\n",
       " 'hous',\n",
       " 'inappropri',\n",
       " 'join',\n",
       " 'kid',\n",
       " 'kill',\n",
       " 'know',\n",
       " 'learn',\n",
       " 'let',\n",
       " 'like',\n",
       " 'littl',\n",
       " 'lot',\n",
       " 'love',\n",
       " 'minecraft',\n",
       " 'mob',\n",
       " 'mode',\n",
       " 'monster',\n",
       " 'multiplay',\n",
       " 'need',\n",
       " 'old',\n",
       " 'onlin',\n",
       " 'parent',\n",
       " 'pc',\n",
       " 'peopl',\n",
       " 'play',\n",
       " 'player',\n",
       " 'pretti',\n",
       " 'real',\n",
       " 'recommend',\n",
       " 'review',\n",
       " 'scari',\n",
       " 'server',\n",
       " 'start',\n",
       " 'stuff',\n",
       " 'surviv',\n",
       " 'thing',\n",
       " 'think',\n",
       " 'time',\n",
       " 'tri',\n",
       " 'turn',\n",
       " 'understand',\n",
       " 'updat',\n",
       " 'use',\n",
       " 'version',\n",
       " 'violenc',\n",
       " 'violent',\n",
       " 'want',\n",
       " 'way',\n",
       " 'world',\n",
       " 'year',\n",
       " 'zombi']"
      ]
     },
     "execution_count": 444,
     "metadata": {},
     "output_type": "execute_result"
    }
   ],
   "source": [
    "# list of features for X_cv_tfidf\n",
    "print(len(tfidf_vectorizer.get_feature_names()))\n",
    "\n",
    "tfidf_vectorizer.get_feature_names()"
   ]
  },
  {
   "cell_type": "code",
   "execution_count": null,
   "id": "6d262cf3",
   "metadata": {},
   "outputs": [],
   "source": []
  },
  {
   "cell_type": "markdown",
   "id": "07987afa",
   "metadata": {},
   "source": [
    "- **Random Undersampling + SMOTE**\n",
    "> <span style=\"color:SteelBlue\"> We first need to oversample the minority class using `SMOTE (Synthetic Minority Oversampling Technique)` to have 10 percent the number of examples of the majority class (1:10), then use random undersampling to reduce the number of examples in the majority class to have 50 percent more than the minority class (1:2). This will give us an overall class imbalance of 1:3.\n",
    "\n",
    "    > <span style=\"color:SteelBlue\"> The change to the class distribution should only be applied to the training dataset. The intent is to influence the fit of the models. The resampling is not applied to the test dataset. This is why, we create two DataFrames below: `cross_val_df` for cross validation with resampling, and `test_df` (with no resampling) for testing our model. **The test_df is therefore going to be our holdout test dataset.** This process is shown in the diagram below."
   ]
  },
  {
   "cell_type": "code",
   "execution_count": 445,
   "id": "2b72c529",
   "metadata": {
    "ExecuteTime": {
     "end_time": "2022-02-19T00:05:01.115233Z",
     "start_time": "2022-02-19T00:05:01.112538Z"
    }
   },
   "outputs": [
    {
     "data": {
      "text/plain": [
       "((352, 80), (352,))"
      ]
     },
     "execution_count": 445,
     "metadata": {},
     "output_type": "execute_result"
    }
   ],
   "source": [
    "# For resamplingm, we first need to concatinate X_cv_tfidf and y_cv\n",
    "X_cv_tfidf.shape, y_cv.shape"
   ]
  },
  {
   "cell_type": "code",
   "execution_count": 446,
   "id": "53a77789",
   "metadata": {
    "ExecuteTime": {
     "end_time": "2022-02-19T00:05:01.134872Z",
     "start_time": "2022-02-19T00:05:01.116557Z"
    }
   },
   "outputs": [
    {
     "data": {
      "text/html": [
       "<div><div id=b352ff7e-0e47-4eae-8b8a-dab3c57ec642 style=\"display:none; background-color:#9D6CFF; color:white; width:200px; height:30px; padding-left:5px; border-radius:4px; flex-direction:row; justify-content:space-around; align-items:center;\" onmouseover=\"this.style.backgroundColor='#BA9BF8'\" onmouseout=\"this.style.backgroundColor='#9D6CFF'\" onclick=\"window.commands?.execute('create-mitosheet-from-dataframe-output');\">See Full Dataframe in Mito</div> <script> if (window.commands.hasCommand('create-mitosheet-from-dataframe-output')) document.getElementById('b352ff7e-0e47-4eae-8b8a-dab3c57ec642').style.display = 'flex' </script> <table border=\"1\" class=\"dataframe\">\n",
       "  <thead>\n",
       "    <tr style=\"text-align: right;\">\n",
       "      <th></th>\n",
       "      <th>0</th>\n",
       "      <th>1</th>\n",
       "      <th>2</th>\n",
       "      <th>3</th>\n",
       "      <th>4</th>\n",
       "      <th>5</th>\n",
       "      <th>6</th>\n",
       "      <th>7</th>\n",
       "      <th>8</th>\n",
       "      <th>9</th>\n",
       "      <th>...</th>\n",
       "      <th>70</th>\n",
       "      <th>71</th>\n",
       "      <th>72</th>\n",
       "      <th>73</th>\n",
       "      <th>74</th>\n",
       "      <th>75</th>\n",
       "      <th>76</th>\n",
       "      <th>77</th>\n",
       "      <th>78</th>\n",
       "      <th>79</th>\n",
       "    </tr>\n",
       "  </thead>\n",
       "  <tbody>\n",
       "    <tr>\n",
       "      <th>0</th>\n",
       "      <td>0.0</td>\n",
       "      <td>0.0</td>\n",
       "      <td>0.000000</td>\n",
       "      <td>0.000000</td>\n",
       "      <td>0.000000</td>\n",
       "      <td>0.0</td>\n",
       "      <td>0.0</td>\n",
       "      <td>0.0</td>\n",
       "      <td>0.000000</td>\n",
       "      <td>0.000000</td>\n",
       "      <td>...</td>\n",
       "      <td>0.000000</td>\n",
       "      <td>0.000000</td>\n",
       "      <td>0.000000</td>\n",
       "      <td>0.000000</td>\n",
       "      <td>0.0</td>\n",
       "      <td>0.000000</td>\n",
       "      <td>0.00000</td>\n",
       "      <td>0.0</td>\n",
       "      <td>0.000000</td>\n",
       "      <td>0.000000</td>\n",
       "    </tr>\n",
       "    <tr>\n",
       "      <th>1</th>\n",
       "      <td>0.0</td>\n",
       "      <td>0.0</td>\n",
       "      <td>0.000000</td>\n",
       "      <td>0.000000</td>\n",
       "      <td>0.203862</td>\n",
       "      <td>0.0</td>\n",
       "      <td>0.0</td>\n",
       "      <td>0.0</td>\n",
       "      <td>0.000000</td>\n",
       "      <td>0.000000</td>\n",
       "      <td>...</td>\n",
       "      <td>0.210060</td>\n",
       "      <td>0.000000</td>\n",
       "      <td>0.000000</td>\n",
       "      <td>0.000000</td>\n",
       "      <td>0.0</td>\n",
       "      <td>0.154015</td>\n",
       "      <td>0.21006</td>\n",
       "      <td>0.0</td>\n",
       "      <td>0.000000</td>\n",
       "      <td>0.000000</td>\n",
       "    </tr>\n",
       "    <tr>\n",
       "      <th>2</th>\n",
       "      <td>0.0</td>\n",
       "      <td>0.0</td>\n",
       "      <td>0.000000</td>\n",
       "      <td>0.000000</td>\n",
       "      <td>0.000000</td>\n",
       "      <td>0.0</td>\n",
       "      <td>0.0</td>\n",
       "      <td>0.0</td>\n",
       "      <td>0.377881</td>\n",
       "      <td>0.000000</td>\n",
       "      <td>...</td>\n",
       "      <td>0.000000</td>\n",
       "      <td>0.000000</td>\n",
       "      <td>0.000000</td>\n",
       "      <td>0.422839</td>\n",
       "      <td>0.0</td>\n",
       "      <td>0.429727</td>\n",
       "      <td>0.00000</td>\n",
       "      <td>0.0</td>\n",
       "      <td>0.000000</td>\n",
       "      <td>0.000000</td>\n",
       "    </tr>\n",
       "    <tr>\n",
       "      <th>3</th>\n",
       "      <td>0.0</td>\n",
       "      <td>0.0</td>\n",
       "      <td>0.000000</td>\n",
       "      <td>0.000000</td>\n",
       "      <td>0.000000</td>\n",
       "      <td>0.0</td>\n",
       "      <td>0.0</td>\n",
       "      <td>0.0</td>\n",
       "      <td>0.484264</td>\n",
       "      <td>0.000000</td>\n",
       "      <td>...</td>\n",
       "      <td>0.000000</td>\n",
       "      <td>0.000000</td>\n",
       "      <td>0.000000</td>\n",
       "      <td>0.541878</td>\n",
       "      <td>0.0</td>\n",
       "      <td>0.000000</td>\n",
       "      <td>0.00000</td>\n",
       "      <td>0.0</td>\n",
       "      <td>0.000000</td>\n",
       "      <td>0.000000</td>\n",
       "    </tr>\n",
       "    <tr>\n",
       "      <th>4</th>\n",
       "      <td>0.0</td>\n",
       "      <td>0.0</td>\n",
       "      <td>0.000000</td>\n",
       "      <td>0.170358</td>\n",
       "      <td>0.000000</td>\n",
       "      <td>0.0</td>\n",
       "      <td>0.0</td>\n",
       "      <td>0.0</td>\n",
       "      <td>0.000000</td>\n",
       "      <td>0.000000</td>\n",
       "      <td>...</td>\n",
       "      <td>0.000000</td>\n",
       "      <td>0.000000</td>\n",
       "      <td>0.000000</td>\n",
       "      <td>0.000000</td>\n",
       "      <td>0.0</td>\n",
       "      <td>0.000000</td>\n",
       "      <td>0.00000</td>\n",
       "      <td>0.0</td>\n",
       "      <td>0.000000</td>\n",
       "      <td>0.000000</td>\n",
       "    </tr>\n",
       "    <tr>\n",
       "      <th>...</th>\n",
       "      <td>...</td>\n",
       "      <td>...</td>\n",
       "      <td>...</td>\n",
       "      <td>...</td>\n",
       "      <td>...</td>\n",
       "      <td>...</td>\n",
       "      <td>...</td>\n",
       "      <td>...</td>\n",
       "      <td>...</td>\n",
       "      <td>...</td>\n",
       "      <td>...</td>\n",
       "      <td>...</td>\n",
       "      <td>...</td>\n",
       "      <td>...</td>\n",
       "      <td>...</td>\n",
       "      <td>...</td>\n",
       "      <td>...</td>\n",
       "      <td>...</td>\n",
       "      <td>...</td>\n",
       "      <td>...</td>\n",
       "      <td>...</td>\n",
       "    </tr>\n",
       "    <tr>\n",
       "      <th>347</th>\n",
       "      <td>0.0</td>\n",
       "      <td>0.0</td>\n",
       "      <td>0.000000</td>\n",
       "      <td>0.000000</td>\n",
       "      <td>0.000000</td>\n",
       "      <td>0.0</td>\n",
       "      <td>0.0</td>\n",
       "      <td>0.0</td>\n",
       "      <td>0.000000</td>\n",
       "      <td>0.000000</td>\n",
       "      <td>...</td>\n",
       "      <td>0.000000</td>\n",
       "      <td>0.000000</td>\n",
       "      <td>0.000000</td>\n",
       "      <td>0.000000</td>\n",
       "      <td>0.0</td>\n",
       "      <td>0.000000</td>\n",
       "      <td>0.00000</td>\n",
       "      <td>0.0</td>\n",
       "      <td>0.000000</td>\n",
       "      <td>0.000000</td>\n",
       "    </tr>\n",
       "    <tr>\n",
       "      <th>348</th>\n",
       "      <td>0.0</td>\n",
       "      <td>0.0</td>\n",
       "      <td>0.000000</td>\n",
       "      <td>0.095825</td>\n",
       "      <td>0.000000</td>\n",
       "      <td>0.0</td>\n",
       "      <td>0.0</td>\n",
       "      <td>0.0</td>\n",
       "      <td>0.069424</td>\n",
       "      <td>0.209001</td>\n",
       "      <td>...</td>\n",
       "      <td>0.000000</td>\n",
       "      <td>0.101626</td>\n",
       "      <td>0.000000</td>\n",
       "      <td>0.000000</td>\n",
       "      <td>0.0</td>\n",
       "      <td>0.078949</td>\n",
       "      <td>0.00000</td>\n",
       "      <td>0.0</td>\n",
       "      <td>0.092273</td>\n",
       "      <td>0.209001</td>\n",
       "    </tr>\n",
       "    <tr>\n",
       "      <th>349</th>\n",
       "      <td>0.0</td>\n",
       "      <td>0.0</td>\n",
       "      <td>0.138124</td>\n",
       "      <td>0.000000</td>\n",
       "      <td>0.000000</td>\n",
       "      <td>0.0</td>\n",
       "      <td>0.0</td>\n",
       "      <td>0.0</td>\n",
       "      <td>0.222429</td>\n",
       "      <td>0.000000</td>\n",
       "      <td>...</td>\n",
       "      <td>0.172496</td>\n",
       "      <td>0.000000</td>\n",
       "      <td>0.165822</td>\n",
       "      <td>0.124446</td>\n",
       "      <td>0.0</td>\n",
       "      <td>0.126473</td>\n",
       "      <td>0.00000</td>\n",
       "      <td>0.0</td>\n",
       "      <td>0.000000</td>\n",
       "      <td>0.000000</td>\n",
       "    </tr>\n",
       "    <tr>\n",
       "      <th>350</th>\n",
       "      <td>0.0</td>\n",
       "      <td>0.0</td>\n",
       "      <td>0.000000</td>\n",
       "      <td>0.000000</td>\n",
       "      <td>0.000000</td>\n",
       "      <td>0.0</td>\n",
       "      <td>0.0</td>\n",
       "      <td>0.0</td>\n",
       "      <td>0.000000</td>\n",
       "      <td>0.000000</td>\n",
       "      <td>...</td>\n",
       "      <td>0.000000</td>\n",
       "      <td>0.000000</td>\n",
       "      <td>0.000000</td>\n",
       "      <td>0.000000</td>\n",
       "      <td>0.0</td>\n",
       "      <td>0.000000</td>\n",
       "      <td>0.00000</td>\n",
       "      <td>0.0</td>\n",
       "      <td>0.575234</td>\n",
       "      <td>0.000000</td>\n",
       "    </tr>\n",
       "    <tr>\n",
       "      <th>351</th>\n",
       "      <td>0.0</td>\n",
       "      <td>0.0</td>\n",
       "      <td>0.210368</td>\n",
       "      <td>0.233799</td>\n",
       "      <td>0.000000</td>\n",
       "      <td>0.0</td>\n",
       "      <td>0.0</td>\n",
       "      <td>0.0</td>\n",
       "      <td>0.000000</td>\n",
       "      <td>0.000000</td>\n",
       "      <td>...</td>\n",
       "      <td>0.000000</td>\n",
       "      <td>0.000000</td>\n",
       "      <td>0.000000</td>\n",
       "      <td>0.189536</td>\n",
       "      <td>0.0</td>\n",
       "      <td>0.000000</td>\n",
       "      <td>0.00000</td>\n",
       "      <td>0.0</td>\n",
       "      <td>0.000000</td>\n",
       "      <td>0.000000</td>\n",
       "    </tr>\n",
       "  </tbody>\n",
       "</table></div>"
      ],
      "text/plain": [
       "      0    1         2         3         4    5    6    7         8   \\\n",
       "0    0.0  0.0  0.000000  0.000000  0.000000  0.0  0.0  0.0  0.000000   \n",
       "1    0.0  0.0  0.000000  0.000000  0.203862  0.0  0.0  0.0  0.000000   \n",
       "2    0.0  0.0  0.000000  0.000000  0.000000  0.0  0.0  0.0  0.377881   \n",
       "3    0.0  0.0  0.000000  0.000000  0.000000  0.0  0.0  0.0  0.484264   \n",
       "4    0.0  0.0  0.000000  0.170358  0.000000  0.0  0.0  0.0  0.000000   \n",
       "..   ...  ...       ...       ...       ...  ...  ...  ...       ...   \n",
       "347  0.0  0.0  0.000000  0.000000  0.000000  0.0  0.0  0.0  0.000000   \n",
       "348  0.0  0.0  0.000000  0.095825  0.000000  0.0  0.0  0.0  0.069424   \n",
       "349  0.0  0.0  0.138124  0.000000  0.000000  0.0  0.0  0.0  0.222429   \n",
       "350  0.0  0.0  0.000000  0.000000  0.000000  0.0  0.0  0.0  0.000000   \n",
       "351  0.0  0.0  0.210368  0.233799  0.000000  0.0  0.0  0.0  0.000000   \n",
       "\n",
       "           9   ...        70        71        72        73   74        75  \\\n",
       "0    0.000000  ...  0.000000  0.000000  0.000000  0.000000  0.0  0.000000   \n",
       "1    0.000000  ...  0.210060  0.000000  0.000000  0.000000  0.0  0.154015   \n",
       "2    0.000000  ...  0.000000  0.000000  0.000000  0.422839  0.0  0.429727   \n",
       "3    0.000000  ...  0.000000  0.000000  0.000000  0.541878  0.0  0.000000   \n",
       "4    0.000000  ...  0.000000  0.000000  0.000000  0.000000  0.0  0.000000   \n",
       "..        ...  ...       ...       ...       ...       ...  ...       ...   \n",
       "347  0.000000  ...  0.000000  0.000000  0.000000  0.000000  0.0  0.000000   \n",
       "348  0.209001  ...  0.000000  0.101626  0.000000  0.000000  0.0  0.078949   \n",
       "349  0.000000  ...  0.172496  0.000000  0.165822  0.124446  0.0  0.126473   \n",
       "350  0.000000  ...  0.000000  0.000000  0.000000  0.000000  0.0  0.000000   \n",
       "351  0.000000  ...  0.000000  0.000000  0.000000  0.189536  0.0  0.000000   \n",
       "\n",
       "          76   77        78        79  \n",
       "0    0.00000  0.0  0.000000  0.000000  \n",
       "1    0.21006  0.0  0.000000  0.000000  \n",
       "2    0.00000  0.0  0.000000  0.000000  \n",
       "3    0.00000  0.0  0.000000  0.000000  \n",
       "4    0.00000  0.0  0.000000  0.000000  \n",
       "..       ...  ...       ...       ...  \n",
       "347  0.00000  0.0  0.000000  0.000000  \n",
       "348  0.00000  0.0  0.092273  0.209001  \n",
       "349  0.00000  0.0  0.000000  0.000000  \n",
       "350  0.00000  0.0  0.575234  0.000000  \n",
       "351  0.00000  0.0  0.000000  0.000000  \n",
       "\n",
       "[352 rows x 80 columns]"
      ]
     },
     "execution_count": 446,
     "metadata": {},
     "output_type": "execute_result"
    }
   ],
   "source": [
    "pd.DataFrame(X_cv_tfidf.toarray())"
   ]
  },
  {
   "cell_type": "code",
   "execution_count": 447,
   "id": "acf244cf",
   "metadata": {
    "ExecuteTime": {
     "end_time": "2022-02-19T00:05:01.139714Z",
     "start_time": "2022-02-19T00:05:01.136090Z"
    }
   },
   "outputs": [
    {
     "data": {
      "text/plain": [
       "271    0\n",
       "507    0\n",
       "296    0\n",
       "291    0\n",
       "391    0\n",
       "      ..\n",
       "167    0\n",
       "449    0\n",
       "473    0\n",
       "105    0\n",
       "284    0\n",
       "Name: not_suitable_age_10, Length: 352, dtype: int64"
      ]
     },
     "execution_count": 447,
     "metadata": {},
     "output_type": "execute_result"
    }
   ],
   "source": [
    "y_cv"
   ]
  },
  {
   "cell_type": "code",
   "execution_count": 448,
   "id": "7f1f30d4",
   "metadata": {
    "ExecuteTime": {
     "end_time": "2022-02-19T00:05:01.169729Z",
     "start_time": "2022-02-19T00:05:01.140771Z"
    }
   },
   "outputs": [
    {
     "data": {
      "text/html": [
       "<div><div id=be676732-25c2-4983-8ba1-ebfe6251af3a style=\"display:none; background-color:#9D6CFF; color:white; width:200px; height:30px; padding-left:5px; border-radius:4px; flex-direction:row; justify-content:space-around; align-items:center;\" onmouseover=\"this.style.backgroundColor='#BA9BF8'\" onmouseout=\"this.style.backgroundColor='#9D6CFF'\" onclick=\"window.commands?.execute('create-mitosheet-from-dataframe-output');\">See Full Dataframe in Mito</div> <script> if (window.commands.hasCommand('create-mitosheet-from-dataframe-output')) document.getElementById('be676732-25c2-4983-8ba1-ebfe6251af3a').style.display = 'flex' </script> <table border=\"1\" class=\"dataframe\">\n",
       "  <thead>\n",
       "    <tr style=\"text-align: right;\">\n",
       "      <th></th>\n",
       "      <th>0</th>\n",
       "      <th>1</th>\n",
       "      <th>2</th>\n",
       "      <th>3</th>\n",
       "      <th>4</th>\n",
       "      <th>5</th>\n",
       "      <th>6</th>\n",
       "      <th>7</th>\n",
       "      <th>8</th>\n",
       "      <th>9</th>\n",
       "      <th>...</th>\n",
       "      <th>71</th>\n",
       "      <th>72</th>\n",
       "      <th>73</th>\n",
       "      <th>74</th>\n",
       "      <th>75</th>\n",
       "      <th>76</th>\n",
       "      <th>77</th>\n",
       "      <th>78</th>\n",
       "      <th>79</th>\n",
       "      <th>not_suitable_age_10</th>\n",
       "    </tr>\n",
       "  </thead>\n",
       "  <tbody>\n",
       "    <tr>\n",
       "      <th>0</th>\n",
       "      <td>0.0</td>\n",
       "      <td>0.0</td>\n",
       "      <td>0.000000</td>\n",
       "      <td>0.000000</td>\n",
       "      <td>0.000000</td>\n",
       "      <td>0.0</td>\n",
       "      <td>0.0</td>\n",
       "      <td>0.0</td>\n",
       "      <td>0.000000</td>\n",
       "      <td>0.000000</td>\n",
       "      <td>...</td>\n",
       "      <td>0.000000</td>\n",
       "      <td>0.000000</td>\n",
       "      <td>0.000000</td>\n",
       "      <td>0.0</td>\n",
       "      <td>0.000000</td>\n",
       "      <td>0.00000</td>\n",
       "      <td>0.0</td>\n",
       "      <td>0.000000</td>\n",
       "      <td>0.000000</td>\n",
       "      <td>0</td>\n",
       "    </tr>\n",
       "    <tr>\n",
       "      <th>1</th>\n",
       "      <td>0.0</td>\n",
       "      <td>0.0</td>\n",
       "      <td>0.000000</td>\n",
       "      <td>0.000000</td>\n",
       "      <td>0.203862</td>\n",
       "      <td>0.0</td>\n",
       "      <td>0.0</td>\n",
       "      <td>0.0</td>\n",
       "      <td>0.000000</td>\n",
       "      <td>0.000000</td>\n",
       "      <td>...</td>\n",
       "      <td>0.000000</td>\n",
       "      <td>0.000000</td>\n",
       "      <td>0.000000</td>\n",
       "      <td>0.0</td>\n",
       "      <td>0.154015</td>\n",
       "      <td>0.21006</td>\n",
       "      <td>0.0</td>\n",
       "      <td>0.000000</td>\n",
       "      <td>0.000000</td>\n",
       "      <td>0</td>\n",
       "    </tr>\n",
       "    <tr>\n",
       "      <th>2</th>\n",
       "      <td>0.0</td>\n",
       "      <td>0.0</td>\n",
       "      <td>0.000000</td>\n",
       "      <td>0.000000</td>\n",
       "      <td>0.000000</td>\n",
       "      <td>0.0</td>\n",
       "      <td>0.0</td>\n",
       "      <td>0.0</td>\n",
       "      <td>0.377881</td>\n",
       "      <td>0.000000</td>\n",
       "      <td>...</td>\n",
       "      <td>0.000000</td>\n",
       "      <td>0.000000</td>\n",
       "      <td>0.422839</td>\n",
       "      <td>0.0</td>\n",
       "      <td>0.429727</td>\n",
       "      <td>0.00000</td>\n",
       "      <td>0.0</td>\n",
       "      <td>0.000000</td>\n",
       "      <td>0.000000</td>\n",
       "      <td>0</td>\n",
       "    </tr>\n",
       "    <tr>\n",
       "      <th>3</th>\n",
       "      <td>0.0</td>\n",
       "      <td>0.0</td>\n",
       "      <td>0.000000</td>\n",
       "      <td>0.000000</td>\n",
       "      <td>0.000000</td>\n",
       "      <td>0.0</td>\n",
       "      <td>0.0</td>\n",
       "      <td>0.0</td>\n",
       "      <td>0.484264</td>\n",
       "      <td>0.000000</td>\n",
       "      <td>...</td>\n",
       "      <td>0.000000</td>\n",
       "      <td>0.000000</td>\n",
       "      <td>0.541878</td>\n",
       "      <td>0.0</td>\n",
       "      <td>0.000000</td>\n",
       "      <td>0.00000</td>\n",
       "      <td>0.0</td>\n",
       "      <td>0.000000</td>\n",
       "      <td>0.000000</td>\n",
       "      <td>0</td>\n",
       "    </tr>\n",
       "    <tr>\n",
       "      <th>4</th>\n",
       "      <td>0.0</td>\n",
       "      <td>0.0</td>\n",
       "      <td>0.000000</td>\n",
       "      <td>0.170358</td>\n",
       "      <td>0.000000</td>\n",
       "      <td>0.0</td>\n",
       "      <td>0.0</td>\n",
       "      <td>0.0</td>\n",
       "      <td>0.000000</td>\n",
       "      <td>0.000000</td>\n",
       "      <td>...</td>\n",
       "      <td>0.000000</td>\n",
       "      <td>0.000000</td>\n",
       "      <td>0.000000</td>\n",
       "      <td>0.0</td>\n",
       "      <td>0.000000</td>\n",
       "      <td>0.00000</td>\n",
       "      <td>0.0</td>\n",
       "      <td>0.000000</td>\n",
       "      <td>0.000000</td>\n",
       "      <td>0</td>\n",
       "    </tr>\n",
       "    <tr>\n",
       "      <th>...</th>\n",
       "      <td>...</td>\n",
       "      <td>...</td>\n",
       "      <td>...</td>\n",
       "      <td>...</td>\n",
       "      <td>...</td>\n",
       "      <td>...</td>\n",
       "      <td>...</td>\n",
       "      <td>...</td>\n",
       "      <td>...</td>\n",
       "      <td>...</td>\n",
       "      <td>...</td>\n",
       "      <td>...</td>\n",
       "      <td>...</td>\n",
       "      <td>...</td>\n",
       "      <td>...</td>\n",
       "      <td>...</td>\n",
       "      <td>...</td>\n",
       "      <td>...</td>\n",
       "      <td>...</td>\n",
       "      <td>...</td>\n",
       "      <td>...</td>\n",
       "    </tr>\n",
       "    <tr>\n",
       "      <th>347</th>\n",
       "      <td>0.0</td>\n",
       "      <td>0.0</td>\n",
       "      <td>0.000000</td>\n",
       "      <td>0.000000</td>\n",
       "      <td>0.000000</td>\n",
       "      <td>0.0</td>\n",
       "      <td>0.0</td>\n",
       "      <td>0.0</td>\n",
       "      <td>0.000000</td>\n",
       "      <td>0.000000</td>\n",
       "      <td>...</td>\n",
       "      <td>0.000000</td>\n",
       "      <td>0.000000</td>\n",
       "      <td>0.000000</td>\n",
       "      <td>0.0</td>\n",
       "      <td>0.000000</td>\n",
       "      <td>0.00000</td>\n",
       "      <td>0.0</td>\n",
       "      <td>0.000000</td>\n",
       "      <td>0.000000</td>\n",
       "      <td>0</td>\n",
       "    </tr>\n",
       "    <tr>\n",
       "      <th>348</th>\n",
       "      <td>0.0</td>\n",
       "      <td>0.0</td>\n",
       "      <td>0.000000</td>\n",
       "      <td>0.095825</td>\n",
       "      <td>0.000000</td>\n",
       "      <td>0.0</td>\n",
       "      <td>0.0</td>\n",
       "      <td>0.0</td>\n",
       "      <td>0.069424</td>\n",
       "      <td>0.209001</td>\n",
       "      <td>...</td>\n",
       "      <td>0.101626</td>\n",
       "      <td>0.000000</td>\n",
       "      <td>0.000000</td>\n",
       "      <td>0.0</td>\n",
       "      <td>0.078949</td>\n",
       "      <td>0.00000</td>\n",
       "      <td>0.0</td>\n",
       "      <td>0.092273</td>\n",
       "      <td>0.209001</td>\n",
       "      <td>0</td>\n",
       "    </tr>\n",
       "    <tr>\n",
       "      <th>349</th>\n",
       "      <td>0.0</td>\n",
       "      <td>0.0</td>\n",
       "      <td>0.138124</td>\n",
       "      <td>0.000000</td>\n",
       "      <td>0.000000</td>\n",
       "      <td>0.0</td>\n",
       "      <td>0.0</td>\n",
       "      <td>0.0</td>\n",
       "      <td>0.222429</td>\n",
       "      <td>0.000000</td>\n",
       "      <td>...</td>\n",
       "      <td>0.000000</td>\n",
       "      <td>0.165822</td>\n",
       "      <td>0.124446</td>\n",
       "      <td>0.0</td>\n",
       "      <td>0.126473</td>\n",
       "      <td>0.00000</td>\n",
       "      <td>0.0</td>\n",
       "      <td>0.000000</td>\n",
       "      <td>0.000000</td>\n",
       "      <td>0</td>\n",
       "    </tr>\n",
       "    <tr>\n",
       "      <th>350</th>\n",
       "      <td>0.0</td>\n",
       "      <td>0.0</td>\n",
       "      <td>0.000000</td>\n",
       "      <td>0.000000</td>\n",
       "      <td>0.000000</td>\n",
       "      <td>0.0</td>\n",
       "      <td>0.0</td>\n",
       "      <td>0.0</td>\n",
       "      <td>0.000000</td>\n",
       "      <td>0.000000</td>\n",
       "      <td>...</td>\n",
       "      <td>0.000000</td>\n",
       "      <td>0.000000</td>\n",
       "      <td>0.000000</td>\n",
       "      <td>0.0</td>\n",
       "      <td>0.000000</td>\n",
       "      <td>0.00000</td>\n",
       "      <td>0.0</td>\n",
       "      <td>0.575234</td>\n",
       "      <td>0.000000</td>\n",
       "      <td>0</td>\n",
       "    </tr>\n",
       "    <tr>\n",
       "      <th>351</th>\n",
       "      <td>0.0</td>\n",
       "      <td>0.0</td>\n",
       "      <td>0.210368</td>\n",
       "      <td>0.233799</td>\n",
       "      <td>0.000000</td>\n",
       "      <td>0.0</td>\n",
       "      <td>0.0</td>\n",
       "      <td>0.0</td>\n",
       "      <td>0.000000</td>\n",
       "      <td>0.000000</td>\n",
       "      <td>...</td>\n",
       "      <td>0.000000</td>\n",
       "      <td>0.000000</td>\n",
       "      <td>0.189536</td>\n",
       "      <td>0.0</td>\n",
       "      <td>0.000000</td>\n",
       "      <td>0.00000</td>\n",
       "      <td>0.0</td>\n",
       "      <td>0.000000</td>\n",
       "      <td>0.000000</td>\n",
       "      <td>0</td>\n",
       "    </tr>\n",
       "  </tbody>\n",
       "</table></div>"
      ],
      "text/plain": [
       "       0    1         2         3         4    5    6    7         8  \\\n",
       "0    0.0  0.0  0.000000  0.000000  0.000000  0.0  0.0  0.0  0.000000   \n",
       "1    0.0  0.0  0.000000  0.000000  0.203862  0.0  0.0  0.0  0.000000   \n",
       "2    0.0  0.0  0.000000  0.000000  0.000000  0.0  0.0  0.0  0.377881   \n",
       "3    0.0  0.0  0.000000  0.000000  0.000000  0.0  0.0  0.0  0.484264   \n",
       "4    0.0  0.0  0.000000  0.170358  0.000000  0.0  0.0  0.0  0.000000   \n",
       "..   ...  ...       ...       ...       ...  ...  ...  ...       ...   \n",
       "347  0.0  0.0  0.000000  0.000000  0.000000  0.0  0.0  0.0  0.000000   \n",
       "348  0.0  0.0  0.000000  0.095825  0.000000  0.0  0.0  0.0  0.069424   \n",
       "349  0.0  0.0  0.138124  0.000000  0.000000  0.0  0.0  0.0  0.222429   \n",
       "350  0.0  0.0  0.000000  0.000000  0.000000  0.0  0.0  0.0  0.000000   \n",
       "351  0.0  0.0  0.210368  0.233799  0.000000  0.0  0.0  0.0  0.000000   \n",
       "\n",
       "            9  ...        71        72        73   74        75       76   77  \\\n",
       "0    0.000000  ...  0.000000  0.000000  0.000000  0.0  0.000000  0.00000  0.0   \n",
       "1    0.000000  ...  0.000000  0.000000  0.000000  0.0  0.154015  0.21006  0.0   \n",
       "2    0.000000  ...  0.000000  0.000000  0.422839  0.0  0.429727  0.00000  0.0   \n",
       "3    0.000000  ...  0.000000  0.000000  0.541878  0.0  0.000000  0.00000  0.0   \n",
       "4    0.000000  ...  0.000000  0.000000  0.000000  0.0  0.000000  0.00000  0.0   \n",
       "..        ...  ...       ...       ...       ...  ...       ...      ...  ...   \n",
       "347  0.000000  ...  0.000000  0.000000  0.000000  0.0  0.000000  0.00000  0.0   \n",
       "348  0.209001  ...  0.101626  0.000000  0.000000  0.0  0.078949  0.00000  0.0   \n",
       "349  0.000000  ...  0.000000  0.165822  0.124446  0.0  0.126473  0.00000  0.0   \n",
       "350  0.000000  ...  0.000000  0.000000  0.000000  0.0  0.000000  0.00000  0.0   \n",
       "351  0.000000  ...  0.000000  0.000000  0.189536  0.0  0.000000  0.00000  0.0   \n",
       "\n",
       "           78        79  not_suitable_age_10  \n",
       "0    0.000000  0.000000                    0  \n",
       "1    0.000000  0.000000                    0  \n",
       "2    0.000000  0.000000                    0  \n",
       "3    0.000000  0.000000                    0  \n",
       "4    0.000000  0.000000                    0  \n",
       "..        ...       ...                  ...  \n",
       "347  0.000000  0.000000                    0  \n",
       "348  0.092273  0.209001                    0  \n",
       "349  0.000000  0.000000                    0  \n",
       "350  0.575234  0.000000                    0  \n",
       "351  0.000000  0.000000                    0  \n",
       "\n",
       "[352 rows x 81 columns]"
      ]
     },
     "execution_count": 448,
     "metadata": {},
     "output_type": "execute_result"
    }
   ],
   "source": [
    "df_resamp = pd.concat([pd.DataFrame(X_cv_tfidf.toarray()), y_cv.reset_index(drop=True)], axis = 1)\n",
    "df_resamp"
   ]
  },
  {
   "cell_type": "code",
   "execution_count": null,
   "id": "d82118d1",
   "metadata": {},
   "outputs": [],
   "source": []
  },
  {
   "cell_type": "code",
   "execution_count": 449,
   "id": "e2bf4fca",
   "metadata": {
    "ExecuteTime": {
     "end_time": "2022-02-19T00:05:01.176690Z",
     "start_time": "2022-02-19T00:05:01.171368Z"
    }
   },
   "outputs": [],
   "source": [
    "def RandomUnderSampler_SMOTE(df):\n",
    "    '''>>> returns resampled X and y using a combination of Random Undersampling & SMOTE\n",
    "       >>> X: Independent variables as a DataFrame;\n",
    "       >>> y: Dependent variable as a Series \n",
    "    '''\n",
    "    \n",
    "    import imblearn\n",
    "    from imblearn.over_sampling import SMOTE\n",
    "    from imblearn.under_sampling import RandomUnderSampler\n",
    "    from imblearn.pipeline import Pipeline\n",
    "    \n",
    "    y = df.not_suitable_age_10\n",
    "    X = df[df.columns[~df.columns.isin(['not_suitable_age_10'])]]\n",
    "    \n",
    "    # define pipeline\n",
    "    over = SMOTE(k_neighbors=5, sampling_strategy=0.1)\n",
    "    under = RandomUnderSampler(sampling_strategy=0.5)\n",
    "    steps = [('o', over), ('u', under)]\n",
    "    pipeline = Pipeline(steps=steps)\n",
    "    \n",
    "    # transform the dataset\n",
    "    X, y = pipeline.fit_resample(X, y)\n",
    "    \n",
    "    return X, y"
   ]
  },
  {
   "cell_type": "code",
   "execution_count": 450,
   "id": "7004e457",
   "metadata": {
    "ExecuteTime": {
     "end_time": "2022-02-19T00:05:01.210776Z",
     "start_time": "2022-02-19T00:05:01.177960Z"
    },
    "scrolled": false
   },
   "outputs": [],
   "source": [
    "X, y = RandomUnderSampler_SMOTE(df_resamp)"
   ]
  },
  {
   "cell_type": "code",
   "execution_count": 451,
   "id": "e3ebe17c",
   "metadata": {
    "ExecuteTime": {
     "end_time": "2022-02-19T00:05:01.215927Z",
     "start_time": "2022-02-19T00:05:01.212016Z"
    }
   },
   "outputs": [
    {
     "name": "stdout",
     "output_type": "stream",
     "text": [
      "== New Class Imbalance (Ratio) in cross_val_df == \n",
      "0    66.67\n",
      "1    33.33\n",
      "Name: not_suitable_age_10, dtype: float64\n",
      "\n"
     ]
    }
   ],
   "source": [
    "# class imbalance\n",
    "print(f\"== New Class Imbalance (Ratio) in cross_val_df == \\n{y.value_counts(normalize = True).round(4)*100}\\n\")"
   ]
  },
  {
   "cell_type": "code",
   "execution_count": 452,
   "id": "5e555c8e",
   "metadata": {
    "ExecuteTime": {
     "end_time": "2022-02-19T00:05:01.238461Z",
     "start_time": "2022-02-19T00:05:01.217409Z"
    }
   },
   "outputs": [
    {
     "data": {
      "text/html": [
       "<div><div id=1389701b-e23f-4e09-b255-0a5e762af529 style=\"display:none; background-color:#9D6CFF; color:white; width:200px; height:30px; padding-left:5px; border-radius:4px; flex-direction:row; justify-content:space-around; align-items:center;\" onmouseover=\"this.style.backgroundColor='#BA9BF8'\" onmouseout=\"this.style.backgroundColor='#9D6CFF'\" onclick=\"window.commands?.execute('create-mitosheet-from-dataframe-output');\">See Full Dataframe in Mito</div> <script> if (window.commands.hasCommand('create-mitosheet-from-dataframe-output')) document.getElementById('1389701b-e23f-4e09-b255-0a5e762af529').style.display = 'flex' </script> <table border=\"1\" class=\"dataframe\">\n",
       "  <thead>\n",
       "    <tr style=\"text-align: right;\">\n",
       "      <th></th>\n",
       "      <th>0</th>\n",
       "      <th>1</th>\n",
       "      <th>2</th>\n",
       "      <th>3</th>\n",
       "      <th>4</th>\n",
       "      <th>5</th>\n",
       "      <th>6</th>\n",
       "      <th>7</th>\n",
       "      <th>8</th>\n",
       "      <th>9</th>\n",
       "      <th>...</th>\n",
       "      <th>70</th>\n",
       "      <th>71</th>\n",
       "      <th>72</th>\n",
       "      <th>73</th>\n",
       "      <th>74</th>\n",
       "      <th>75</th>\n",
       "      <th>76</th>\n",
       "      <th>77</th>\n",
       "      <th>78</th>\n",
       "      <th>79</th>\n",
       "    </tr>\n",
       "  </thead>\n",
       "  <tbody>\n",
       "    <tr>\n",
       "      <th>0</th>\n",
       "      <td>0.000000</td>\n",
       "      <td>0.120178</td>\n",
       "      <td>0.0</td>\n",
       "      <td>0.109134</td>\n",
       "      <td>0.119014</td>\n",
       "      <td>0.0</td>\n",
       "      <td>0.0</td>\n",
       "      <td>0.000000</td>\n",
       "      <td>0.158132</td>\n",
       "      <td>0.000000</td>\n",
       "      <td>...</td>\n",
       "      <td>0.0</td>\n",
       "      <td>0.000000</td>\n",
       "      <td>0.0</td>\n",
       "      <td>0.000000</td>\n",
       "      <td>0.122633</td>\n",
       "      <td>0.000000</td>\n",
       "      <td>0.0</td>\n",
       "      <td>0.000000</td>\n",
       "      <td>0.000000</td>\n",
       "      <td>0.0</td>\n",
       "    </tr>\n",
       "    <tr>\n",
       "      <th>1</th>\n",
       "      <td>0.000000</td>\n",
       "      <td>0.000000</td>\n",
       "      <td>0.0</td>\n",
       "      <td>0.000000</td>\n",
       "      <td>0.180916</td>\n",
       "      <td>0.0</td>\n",
       "      <td>0.0</td>\n",
       "      <td>0.000000</td>\n",
       "      <td>0.360569</td>\n",
       "      <td>0.000000</td>\n",
       "      <td>...</td>\n",
       "      <td>0.0</td>\n",
       "      <td>0.000000</td>\n",
       "      <td>0.0</td>\n",
       "      <td>0.000000</td>\n",
       "      <td>0.000000</td>\n",
       "      <td>0.000000</td>\n",
       "      <td>0.0</td>\n",
       "      <td>0.000000</td>\n",
       "      <td>0.000000</td>\n",
       "      <td>0.0</td>\n",
       "    </tr>\n",
       "    <tr>\n",
       "      <th>2</th>\n",
       "      <td>0.365668</td>\n",
       "      <td>0.000000</td>\n",
       "      <td>0.0</td>\n",
       "      <td>0.000000</td>\n",
       "      <td>0.000000</td>\n",
       "      <td>0.0</td>\n",
       "      <td>0.0</td>\n",
       "      <td>0.000000</td>\n",
       "      <td>0.000000</td>\n",
       "      <td>0.000000</td>\n",
       "      <td>...</td>\n",
       "      <td>0.0</td>\n",
       "      <td>0.000000</td>\n",
       "      <td>0.0</td>\n",
       "      <td>0.000000</td>\n",
       "      <td>0.000000</td>\n",
       "      <td>0.000000</td>\n",
       "      <td>0.0</td>\n",
       "      <td>0.000000</td>\n",
       "      <td>0.000000</td>\n",
       "      <td>0.0</td>\n",
       "    </tr>\n",
       "    <tr>\n",
       "      <th>3</th>\n",
       "      <td>0.211155</td>\n",
       "      <td>0.000000</td>\n",
       "      <td>0.0</td>\n",
       "      <td>0.000000</td>\n",
       "      <td>0.000000</td>\n",
       "      <td>0.0</td>\n",
       "      <td>0.0</td>\n",
       "      <td>0.221558</td>\n",
       "      <td>0.000000</td>\n",
       "      <td>0.000000</td>\n",
       "      <td>...</td>\n",
       "      <td>0.0</td>\n",
       "      <td>0.000000</td>\n",
       "      <td>0.0</td>\n",
       "      <td>0.173848</td>\n",
       "      <td>0.000000</td>\n",
       "      <td>0.000000</td>\n",
       "      <td>0.0</td>\n",
       "      <td>0.000000</td>\n",
       "      <td>0.000000</td>\n",
       "      <td>0.0</td>\n",
       "    </tr>\n",
       "    <tr>\n",
       "      <th>4</th>\n",
       "      <td>0.000000</td>\n",
       "      <td>0.000000</td>\n",
       "      <td>0.0</td>\n",
       "      <td>0.439402</td>\n",
       "      <td>0.000000</td>\n",
       "      <td>0.0</td>\n",
       "      <td>0.0</td>\n",
       "      <td>0.226986</td>\n",
       "      <td>0.000000</td>\n",
       "      <td>0.239592</td>\n",
       "      <td>...</td>\n",
       "      <td>0.0</td>\n",
       "      <td>0.233002</td>\n",
       "      <td>0.0</td>\n",
       "      <td>0.356215</td>\n",
       "      <td>0.000000</td>\n",
       "      <td>0.000000</td>\n",
       "      <td>0.0</td>\n",
       "      <td>0.000000</td>\n",
       "      <td>0.000000</td>\n",
       "      <td>0.0</td>\n",
       "    </tr>\n",
       "    <tr>\n",
       "      <th>...</th>\n",
       "      <td>...</td>\n",
       "      <td>...</td>\n",
       "      <td>...</td>\n",
       "      <td>...</td>\n",
       "      <td>...</td>\n",
       "      <td>...</td>\n",
       "      <td>...</td>\n",
       "      <td>...</td>\n",
       "      <td>...</td>\n",
       "      <td>...</td>\n",
       "      <td>...</td>\n",
       "      <td>...</td>\n",
       "      <td>...</td>\n",
       "      <td>...</td>\n",
       "      <td>...</td>\n",
       "      <td>...</td>\n",
       "      <td>...</td>\n",
       "      <td>...</td>\n",
       "      <td>...</td>\n",
       "      <td>...</td>\n",
       "      <td>...</td>\n",
       "    </tr>\n",
       "    <tr>\n",
       "      <th>94</th>\n",
       "      <td>0.000000</td>\n",
       "      <td>0.000000</td>\n",
       "      <td>0.0</td>\n",
       "      <td>0.000000</td>\n",
       "      <td>0.000000</td>\n",
       "      <td>0.0</td>\n",
       "      <td>0.0</td>\n",
       "      <td>0.000000</td>\n",
       "      <td>0.444683</td>\n",
       "      <td>0.000000</td>\n",
       "      <td>...</td>\n",
       "      <td>0.0</td>\n",
       "      <td>0.000000</td>\n",
       "      <td>0.0</td>\n",
       "      <td>0.000000</td>\n",
       "      <td>0.000000</td>\n",
       "      <td>0.505694</td>\n",
       "      <td>0.0</td>\n",
       "      <td>0.639584</td>\n",
       "      <td>0.000000</td>\n",
       "      <td>0.0</td>\n",
       "    </tr>\n",
       "    <tr>\n",
       "      <th>95</th>\n",
       "      <td>0.000000</td>\n",
       "      <td>0.000000</td>\n",
       "      <td>0.0</td>\n",
       "      <td>0.008260</td>\n",
       "      <td>0.000000</td>\n",
       "      <td>0.0</td>\n",
       "      <td>0.0</td>\n",
       "      <td>0.000000</td>\n",
       "      <td>0.000000</td>\n",
       "      <td>0.000000</td>\n",
       "      <td>...</td>\n",
       "      <td>0.0</td>\n",
       "      <td>0.008760</td>\n",
       "      <td>0.0</td>\n",
       "      <td>0.003348</td>\n",
       "      <td>0.009281</td>\n",
       "      <td>0.000000</td>\n",
       "      <td>0.0</td>\n",
       "      <td>0.008607</td>\n",
       "      <td>0.003977</td>\n",
       "      <td>0.0</td>\n",
       "    </tr>\n",
       "    <tr>\n",
       "      <th>96</th>\n",
       "      <td>0.000000</td>\n",
       "      <td>0.237395</td>\n",
       "      <td>0.0</td>\n",
       "      <td>0.000000</td>\n",
       "      <td>0.000000</td>\n",
       "      <td>0.0</td>\n",
       "      <td>0.0</td>\n",
       "      <td>0.000000</td>\n",
       "      <td>0.000000</td>\n",
       "      <td>0.000000</td>\n",
       "      <td>...</td>\n",
       "      <td>0.0</td>\n",
       "      <td>0.457258</td>\n",
       "      <td>0.0</td>\n",
       "      <td>0.000000</td>\n",
       "      <td>0.000000</td>\n",
       "      <td>0.000000</td>\n",
       "      <td>0.0</td>\n",
       "      <td>0.000000</td>\n",
       "      <td>0.000000</td>\n",
       "      <td>0.0</td>\n",
       "    </tr>\n",
       "    <tr>\n",
       "      <th>97</th>\n",
       "      <td>0.000000</td>\n",
       "      <td>0.000000</td>\n",
       "      <td>0.0</td>\n",
       "      <td>0.000000</td>\n",
       "      <td>0.000000</td>\n",
       "      <td>0.0</td>\n",
       "      <td>0.0</td>\n",
       "      <td>0.000000</td>\n",
       "      <td>0.000000</td>\n",
       "      <td>0.000000</td>\n",
       "      <td>...</td>\n",
       "      <td>0.0</td>\n",
       "      <td>0.000000</td>\n",
       "      <td>0.0</td>\n",
       "      <td>0.000000</td>\n",
       "      <td>0.000000</td>\n",
       "      <td>0.000000</td>\n",
       "      <td>0.0</td>\n",
       "      <td>0.000000</td>\n",
       "      <td>0.000000</td>\n",
       "      <td>0.0</td>\n",
       "    </tr>\n",
       "    <tr>\n",
       "      <th>98</th>\n",
       "      <td>0.000000</td>\n",
       "      <td>0.000000</td>\n",
       "      <td>0.0</td>\n",
       "      <td>0.413773</td>\n",
       "      <td>0.000000</td>\n",
       "      <td>0.0</td>\n",
       "      <td>0.0</td>\n",
       "      <td>0.000000</td>\n",
       "      <td>0.000000</td>\n",
       "      <td>0.451234</td>\n",
       "      <td>...</td>\n",
       "      <td>0.0</td>\n",
       "      <td>0.000000</td>\n",
       "      <td>0.0</td>\n",
       "      <td>0.000000</td>\n",
       "      <td>0.000000</td>\n",
       "      <td>0.000000</td>\n",
       "      <td>0.0</td>\n",
       "      <td>0.000000</td>\n",
       "      <td>0.000000</td>\n",
       "      <td>0.0</td>\n",
       "    </tr>\n",
       "  </tbody>\n",
       "</table></div>"
      ],
      "text/plain": [
       "          0         1    2         3         4    5    6         7         8   \\\n",
       "0   0.000000  0.120178  0.0  0.109134  0.119014  0.0  0.0  0.000000  0.158132   \n",
       "1   0.000000  0.000000  0.0  0.000000  0.180916  0.0  0.0  0.000000  0.360569   \n",
       "2   0.365668  0.000000  0.0  0.000000  0.000000  0.0  0.0  0.000000  0.000000   \n",
       "3   0.211155  0.000000  0.0  0.000000  0.000000  0.0  0.0  0.221558  0.000000   \n",
       "4   0.000000  0.000000  0.0  0.439402  0.000000  0.0  0.0  0.226986  0.000000   \n",
       "..       ...       ...  ...       ...       ...  ...  ...       ...       ...   \n",
       "94  0.000000  0.000000  0.0  0.000000  0.000000  0.0  0.0  0.000000  0.444683   \n",
       "95  0.000000  0.000000  0.0  0.008260  0.000000  0.0  0.0  0.000000  0.000000   \n",
       "96  0.000000  0.237395  0.0  0.000000  0.000000  0.0  0.0  0.000000  0.000000   \n",
       "97  0.000000  0.000000  0.0  0.000000  0.000000  0.0  0.0  0.000000  0.000000   \n",
       "98  0.000000  0.000000  0.0  0.413773  0.000000  0.0  0.0  0.000000  0.000000   \n",
       "\n",
       "          9   ...   70        71   72        73        74        75   76  \\\n",
       "0   0.000000  ...  0.0  0.000000  0.0  0.000000  0.122633  0.000000  0.0   \n",
       "1   0.000000  ...  0.0  0.000000  0.0  0.000000  0.000000  0.000000  0.0   \n",
       "2   0.000000  ...  0.0  0.000000  0.0  0.000000  0.000000  0.000000  0.0   \n",
       "3   0.000000  ...  0.0  0.000000  0.0  0.173848  0.000000  0.000000  0.0   \n",
       "4   0.239592  ...  0.0  0.233002  0.0  0.356215  0.000000  0.000000  0.0   \n",
       "..       ...  ...  ...       ...  ...       ...       ...       ...  ...   \n",
       "94  0.000000  ...  0.0  0.000000  0.0  0.000000  0.000000  0.505694  0.0   \n",
       "95  0.000000  ...  0.0  0.008760  0.0  0.003348  0.009281  0.000000  0.0   \n",
       "96  0.000000  ...  0.0  0.457258  0.0  0.000000  0.000000  0.000000  0.0   \n",
       "97  0.000000  ...  0.0  0.000000  0.0  0.000000  0.000000  0.000000  0.0   \n",
       "98  0.451234  ...  0.0  0.000000  0.0  0.000000  0.000000  0.000000  0.0   \n",
       "\n",
       "          77        78   79  \n",
       "0   0.000000  0.000000  0.0  \n",
       "1   0.000000  0.000000  0.0  \n",
       "2   0.000000  0.000000  0.0  \n",
       "3   0.000000  0.000000  0.0  \n",
       "4   0.000000  0.000000  0.0  \n",
       "..       ...       ...  ...  \n",
       "94  0.639584  0.000000  0.0  \n",
       "95  0.008607  0.003977  0.0  \n",
       "96  0.000000  0.000000  0.0  \n",
       "97  0.000000  0.000000  0.0  \n",
       "98  0.000000  0.000000  0.0  \n",
       "\n",
       "[99 rows x 80 columns]"
      ]
     },
     "execution_count": 452,
     "metadata": {},
     "output_type": "execute_result"
    }
   ],
   "source": [
    "X"
   ]
  },
  {
   "cell_type": "code",
   "execution_count": 453,
   "id": "0c82f453",
   "metadata": {
    "ExecuteTime": {
     "end_time": "2022-02-19T00:05:01.243712Z",
     "start_time": "2022-02-19T00:05:01.239725Z"
    }
   },
   "outputs": [
    {
     "data": {
      "text/plain": [
       "0     0\n",
       "1     0\n",
       "2     0\n",
       "3     0\n",
       "4     0\n",
       "     ..\n",
       "94    1\n",
       "95    1\n",
       "96    1\n",
       "97    1\n",
       "98    1\n",
       "Name: not_suitable_age_10, Length: 99, dtype: int64"
      ]
     },
     "execution_count": 453,
     "metadata": {},
     "output_type": "execute_result"
    }
   ],
   "source": [
    "y"
   ]
  },
  {
   "cell_type": "markdown",
   "id": "c8348361",
   "metadata": {},
   "source": [
    "#  XGBoost (XGB) with CV"
   ]
  },
  {
   "cell_type": "code",
   "execution_count": 462,
   "id": "3efea564",
   "metadata": {
    "ExecuteTime": {
     "end_time": "2022-02-19T00:05:11.340926Z",
     "start_time": "2022-02-19T00:05:08.688887Z"
    },
    "scrolled": true
   },
   "outputs": [
    {
     "name": "stdout",
     "output_type": "stream",
     "text": [
      "[19:05:08] WARNING: ../src/learner.cc:1115: Starting in XGBoost 1.3.0, the default evaluation metric used with the objective 'binary:logistic' was changed from 'error' to 'logloss'. Explicitly set eval_metric if you'd like to restore the old behavior.\n",
      "[19:05:08] WARNING: ../src/learner.cc:1115: Starting in XGBoost 1.3.0, the default evaluation metric used with the objective 'binary:logistic' was changed from 'error' to 'logloss'. Explicitly set eval_metric if you'd like to restore the old behavior.\n",
      "[19:05:09] WARNING: ../src/learner.cc:1115: Starting in XGBoost 1.3.0, the default evaluation metric used with the objective 'binary:logistic' was changed from 'error' to 'logloss'. Explicitly set eval_metric if you'd like to restore the old behavior.\n",
      "[19:05:09] WARNING: ../src/learner.cc:1115: Starting in XGBoost 1.3.0, the default evaluation metric used with the objective 'binary:logistic' was changed from 'error' to 'logloss'. Explicitly set eval_metric if you'd like to restore the old behavior.\n",
      "[19:05:09] WARNING: ../src/learner.cc:1115: Starting in XGBoost 1.3.0, the default evaluation metric used with the objective 'binary:logistic' was changed from 'error' to 'logloss'. Explicitly set eval_metric if you'd like to restore the old behavior.\n",
      "[19:05:09] WARNING: ../src/learner.cc:1115: Starting in XGBoost 1.3.0, the default evaluation metric used with the objective 'binary:logistic' was changed from 'error' to 'logloss'. Explicitly set eval_metric if you'd like to restore the old behavior.\n",
      "[19:05:09] WARNING: ../src/learner.cc:1115: Starting in XGBoost 1.3.0, the default evaluation metric used with the objective 'binary:logistic' was changed from 'error' to 'logloss'. Explicitly set eval_metric if you'd like to restore the old behavior.\n",
      "[19:05:09] WARNING: ../src/learner.cc:1115: Starting in XGBoost 1.3.0, the default evaluation metric used with the objective 'binary:logistic' was changed from 'error' to 'logloss'. Explicitly set eval_metric if you'd like to restore the old behavior.\n",
      "[19:05:09] WARNING: ../src/learner.cc:1115: Starting in XGBoost 1.3.0, the default evaluation metric used with the objective 'binary:logistic' was changed from 'error' to 'logloss'. Explicitly set eval_metric if you'd like to restore the old behavior.\n",
      "[19:05:09] WARNING: ../src/learner.cc:1115: Starting in XGBoost 1.3.0, the default evaluation metric used with the objective 'binary:logistic' was changed from 'error' to 'logloss'. Explicitly set eval_metric if you'd like to restore the old behavior.\n",
      "[19:05:09] WARNING: ../src/learner.cc:1115: Starting in XGBoost 1.3.0, the default evaluation metric used with the objective 'binary:logistic' was changed from 'error' to 'logloss'. Explicitly set eval_metric if you'd like to restore the old behavior.\n",
      "[19:05:09] WARNING: ../src/learner.cc:1115: Starting in XGBoost 1.3.0, the default evaluation metric used with the objective 'binary:logistic' was changed from 'error' to 'logloss'. Explicitly set eval_metric if you'd like to restore the old behavior.\n",
      "[19:05:09] WARNING: ../src/learner.cc:1115: Starting in XGBoost 1.3.0, the default evaluation metric used with the objective 'binary:logistic' was changed from 'error' to 'logloss'. Explicitly set eval_metric if you'd like to restore the old behavior.\n",
      "[19:05:09] WARNING: ../src/learner.cc:1115: Starting in XGBoost 1.3.0, the default evaluation metric used with the objective 'binary:logistic' was changed from 'error' to 'logloss'. Explicitly set eval_metric if you'd like to restore the old behavior.\n",
      "[19:05:09] WARNING: ../src/learner.cc:1115: Starting in XGBoost 1.3.0, the default evaluation metric used with the objective 'binary:logistic' was changed from 'error' to 'logloss'. Explicitly set eval_metric if you'd like to restore the old behavior.\n",
      "[19:05:10] WARNING: ../src/learner.cc:1115: Starting in XGBoost 1.3.0, the default evaluation metric used with the objective 'binary:logistic' was changed from 'error' to 'logloss'. Explicitly set eval_metric if you'd like to restore the old behavior.\n",
      "[19:05:10] WARNING: ../src/learner.cc:1115: Starting in XGBoost 1.3.0, the default evaluation metric used with the objective 'binary:logistic' was changed from 'error' to 'logloss'. Explicitly set eval_metric if you'd like to restore the old behavior.\n",
      "[19:05:10] WARNING: ../src/learner.cc:1115: Starting in XGBoost 1.3.0, the default evaluation metric used with the objective 'binary:logistic' was changed from 'error' to 'logloss'. Explicitly set eval_metric if you'd like to restore the old behavior.\n",
      "[19:05:10] WARNING: ../src/learner.cc:1115: Starting in XGBoost 1.3.0, the default evaluation metric used with the objective 'binary:logistic' was changed from 'error' to 'logloss'. Explicitly set eval_metric if you'd like to restore the old behavior.\n",
      "[19:05:10] WARNING: ../src/learner.cc:1115: Starting in XGBoost 1.3.0, the default evaluation metric used with the objective 'binary:logistic' was changed from 'error' to 'logloss'. Explicitly set eval_metric if you'd like to restore the old behavior.\n",
      "[19:05:10] WARNING: ../src/learner.cc:1115: Starting in XGBoost 1.3.0, the default evaluation metric used with the objective 'binary:logistic' was changed from 'error' to 'logloss'. Explicitly set eval_metric if you'd like to restore the old behavior.\n",
      "[19:05:10] WARNING: ../src/learner.cc:1115: Starting in XGBoost 1.3.0, the default evaluation metric used with the objective 'binary:logistic' was changed from 'error' to 'logloss'. Explicitly set eval_metric if you'd like to restore the old behavior.\n",
      "[19:05:10] WARNING: ../src/learner.cc:1115: Starting in XGBoost 1.3.0, the default evaluation metric used with the objective 'binary:logistic' was changed from 'error' to 'logloss'. Explicitly set eval_metric if you'd like to restore the old behavior.\n",
      "[19:05:10] WARNING: ../src/learner.cc:1115: Starting in XGBoost 1.3.0, the default evaluation metric used with the objective 'binary:logistic' was changed from 'error' to 'logloss'. Explicitly set eval_metric if you'd like to restore the old behavior.\n",
      "[19:05:10] WARNING: ../src/learner.cc:1115: Starting in XGBoost 1.3.0, the default evaluation metric used with the objective 'binary:logistic' was changed from 'error' to 'logloss'. Explicitly set eval_metric if you'd like to restore the old behavior.\n",
      "[19:05:10] WARNING: ../src/learner.cc:1115: Starting in XGBoost 1.3.0, the default evaluation metric used with the objective 'binary:logistic' was changed from 'error' to 'logloss'. Explicitly set eval_metric if you'd like to restore the old behavior.\n",
      "[19:05:10] WARNING: ../src/learner.cc:1115: Starting in XGBoost 1.3.0, the default evaluation metric used with the objective 'binary:logistic' was changed from 'error' to 'logloss'. Explicitly set eval_metric if you'd like to restore the old behavior.\n",
      "[19:05:11] WARNING: ../src/learner.cc:1115: Starting in XGBoost 1.3.0, the default evaluation metric used with the objective 'binary:logistic' was changed from 'error' to 'logloss'. Explicitly set eval_metric if you'd like to restore the old behavior.\n",
      "[19:05:11] WARNING: ../src/learner.cc:1115: Starting in XGBoost 1.3.0, the default evaluation metric used with the objective 'binary:logistic' was changed from 'error' to 'logloss'. Explicitly set eval_metric if you'd like to restore the old behavior.\n",
      "[19:05:11] WARNING: ../src/learner.cc:1115: Starting in XGBoost 1.3.0, the default evaluation metric used with the objective 'binary:logistic' was changed from 'error' to 'logloss'. Explicitly set eval_metric if you'd like to restore the old behavior.\n",
      "[19:05:11] WARNING: ../src/learner.cc:1115: Starting in XGBoost 1.3.0, the default evaluation metric used with the objective 'binary:logistic' was changed from 'error' to 'logloss'. Explicitly set eval_metric if you'd like to restore the old behavior.\n"
     ]
    },
    {
     "data": {
      "text/plain": [
       "RandomizedSearchCV(cv=3,\n",
       "                   estimator=XGBClassifier(base_score=None, booster=None,\n",
       "                                           colsample_bylevel=None,\n",
       "                                           colsample_bynode=None,\n",
       "                                           colsample_bytree=None,\n",
       "                                           enable_categorical=False, gamma=None,\n",
       "                                           gpu_id=None, importance_type=None,\n",
       "                                           interaction_constraints=None,\n",
       "                                           learning_rate=None,\n",
       "                                           max_delta_step=None, max_depth=None,\n",
       "                                           min_child_weight=None, missing=nan,\n",
       "                                           monotone_constraints...\n",
       "       37.4, 37.5, 37.6, 37.7, 37.8, 37.9, 38. , 38.1, 38.2, 38.3, 38.4,\n",
       "       38.5, 38.6, 38.7, 38.8, 38.9, 39. , 39.1, 39.2, 39.3, 39.4, 39.5,\n",
       "       39.6, 39.7, 39.8, 39.9]),\n",
       "                                        'learning_rate': array([0.05, 0.1 , 0.15, 0.2 , 0.25, 0.3 , 0.35, 0.4 , 0.45]),\n",
       "                                        'max_depth': [2, 3, 6, 8, 10, 12],\n",
       "                                        'min_child_weight': array([0.05, 0.1 , 0.15, 0.2 , 0.25, 0.3 , 0.35, 0.4 , 0.45]),\n",
       "                                        'reg_lambda': [1.0, 1.25, 1.75, 2.0],\n",
       "                                        'subsample': array([0.5, 0.6, 0.7, 0.8, 0.9])},\n",
       "                   scoring='f1_macro')"
      ]
     },
     "execution_count": 462,
     "metadata": {},
     "output_type": "execute_result"
    }
   ],
   "source": [
    "# XGBoost\n",
    "from xgboost import XGBClassifier\n",
    "\n",
    "params = {\n",
    "    \"learning_rate\": np.arange(0.05, 0.5, 0.05),         # eta = [default = 0.3]\n",
    "    \"subsample\": np.arange(0.5, 1.0, 0.1),               # 0.5 means that XGBoost would randomly sample half of the training data prior to growing trees\n",
    "    \"min_child_weight\": np.arange(0.05, 0.5, 0.05),      # [default = 1]: Higher values prevent a model from learning relations which might be specific to the particular sample selected for a tree\n",
    "    \"colsample_bytree\": [0.5, 0.75, 1.00],               # [default = 1]: Fraction of columns to be subsampled\n",
    "    \"max_depth\": [2, 3, 6, 8, 10, 12],                   # [default = 6]: nb of tree levels\n",
    "    \"reg_lambda\": [1.0, 1.25, 1.75, 2.0],                # [default = 1]: lambda > 0 prevents overfitting, acts like Learning Rate, does Pruning even if gamma = 0\n",
    "    \"gamma\": np.arange(0.0, 40.0, 0.1),                  # pruning parameter\n",
    "}\n",
    "\n",
    "xgb_clf = XGBClassifier()\n",
    "xgb_clf_cv = RandomizedSearchCV(estimator=xgb_clf,\n",
    "                                cv=3,\n",
    "                                param_distributions=params,\n",
    "                                scoring='f1_macro')\n",
    "xgb_clf_cv.fit(X, y)"
   ]
  },
  {
   "cell_type": "code",
   "execution_count": 463,
   "id": "e101a935",
   "metadata": {
    "ExecuteTime": {
     "end_time": "2022-02-19T00:05:11.345518Z",
     "start_time": "2022-02-19T00:05:11.342713Z"
    }
   },
   "outputs": [
    {
     "name": "stdout",
     "output_type": "stream",
     "text": [
      "{'subsample': 0.5, 'reg_lambda': 2.0, 'min_child_weight': 0.1, 'max_depth': 8, 'learning_rate': 0.35000000000000003, 'gamma': 0.5, 'colsample_bytree': 0.5}\n",
      "0.5972453778145198\n"
     ]
    }
   ],
   "source": [
    "print(xgb_clf_cv.best_params_)\n",
    "print(xgb_clf_cv.best_score_)"
   ]
  },
  {
   "cell_type": "code",
   "execution_count": 464,
   "id": "e37ffd60",
   "metadata": {
    "ExecuteTime": {
     "end_time": "2022-02-19T00:05:11.395738Z",
     "start_time": "2022-02-19T00:05:11.347326Z"
    }
   },
   "outputs": [
    {
     "data": {
      "text/plain": [
       "0.2381"
      ]
     },
     "execution_count": 464,
     "metadata": {},
     "output_type": "execute_result"
    }
   ],
   "source": [
    "# check test dataset\n",
    "from sklearn.metrics import f1_score\n",
    "round(f1_score(y_test, xgb_clf_cv.predict(X_test_tfidf)), 4)"
   ]
  },
  {
   "cell_type": "code",
   "execution_count": 465,
   "id": "382c9438",
   "metadata": {
    "ExecuteTime": {
     "end_time": "2022-02-19T00:05:11.420501Z",
     "start_time": "2022-02-19T00:05:11.397970Z"
    }
   },
   "outputs": [
    {
     "name": "stdout",
     "output_type": "stream",
     "text": [
      "=== XGB classification_report on TEST dataset ===\n",
      "              precision    recall  f1-score   support\n",
      "\n",
      "           0   0.964789  0.835366  0.895425       164\n",
      "           1   0.156250  0.500000  0.238095        10\n",
      "\n",
      "    accuracy                       0.816092       174\n",
      "   macro avg   0.560519  0.667683  0.566760       174\n",
      "weighted avg   0.918321  0.816092  0.857647       174\n",
      "\n"
     ]
    }
   ],
   "source": [
    "from sklearn.metrics import classification_report\n",
    "print('=== XGB classification_report on TEST dataset ===')\n",
    "print(classification_report(y_test, xgb_clf_cv.predict(X_test_tfidf), digits=6))"
   ]
  },
  {
   "cell_type": "markdown",
   "id": "543f0495",
   "metadata": {},
   "source": [
    "> Very low Precision for class 1 (0.156) with macro avg f1-score of 0.567."
   ]
  },
  {
   "cell_type": "markdown",
   "id": "40dddd09",
   "metadata": {},
   "source": [
    "## ROC"
   ]
  },
  {
   "cell_type": "code",
   "execution_count": 466,
   "id": "4ccdc8b7",
   "metadata": {
    "ExecuteTime": {
     "end_time": "2022-02-19T00:05:40.998711Z",
     "start_time": "2022-02-19T00:05:40.955296Z"
    }
   },
   "outputs": [
    {
     "data": {
      "text/html": [
       "<div><div id=167e77f0-7cd9-4727-aaee-922a103083f0 style=\"display:none; background-color:#9D6CFF; color:white; width:200px; height:30px; padding-left:5px; border-radius:4px; flex-direction:row; justify-content:space-around; align-items:center;\" onmouseover=\"this.style.backgroundColor='#BA9BF8'\" onmouseout=\"this.style.backgroundColor='#9D6CFF'\" onclick=\"window.commands?.execute('create-mitosheet-from-dataframe-output');\">See Full Dataframe in Mito</div> <script> if (window.commands.hasCommand('create-mitosheet-from-dataframe-output')) document.getElementById('167e77f0-7cd9-4727-aaee-922a103083f0').style.display = 'flex' </script> <table border=\"1\" class=\"dataframe\">\n",
       "  <thead>\n",
       "    <tr style=\"text-align: right;\">\n",
       "      <th></th>\n",
       "      <th>FPR(Fall-out)_xgb_clf_cv</th>\n",
       "      <th>TPRate(Recall)_xgb_clf_cv</th>\n",
       "    </tr>\n",
       "  </thead>\n",
       "  <tbody>\n",
       "    <tr>\n",
       "      <th>0</th>\n",
       "      <td>0.000000</td>\n",
       "      <td>0.0</td>\n",
       "    </tr>\n",
       "    <tr>\n",
       "      <th>1</th>\n",
       "      <td>0.006098</td>\n",
       "      <td>0.0</td>\n",
       "    </tr>\n",
       "    <tr>\n",
       "      <th>2</th>\n",
       "      <td>0.060976</td>\n",
       "      <td>0.0</td>\n",
       "    </tr>\n",
       "    <tr>\n",
       "      <th>3</th>\n",
       "      <td>0.085366</td>\n",
       "      <td>0.4</td>\n",
       "    </tr>\n",
       "    <tr>\n",
       "      <th>4</th>\n",
       "      <td>0.164634</td>\n",
       "      <td>0.4</td>\n",
       "    </tr>\n",
       "    <tr>\n",
       "      <th>...</th>\n",
       "      <td>...</td>\n",
       "      <td>...</td>\n",
       "    </tr>\n",
       "    <tr>\n",
       "      <th>20</th>\n",
       "      <td>0.768293</td>\n",
       "      <td>0.8</td>\n",
       "    </tr>\n",
       "    <tr>\n",
       "      <th>21</th>\n",
       "      <td>0.774390</td>\n",
       "      <td>0.9</td>\n",
       "    </tr>\n",
       "    <tr>\n",
       "      <th>22</th>\n",
       "      <td>0.890244</td>\n",
       "      <td>0.9</td>\n",
       "    </tr>\n",
       "    <tr>\n",
       "      <th>23</th>\n",
       "      <td>0.890244</td>\n",
       "      <td>1.0</td>\n",
       "    </tr>\n",
       "    <tr>\n",
       "      <th>24</th>\n",
       "      <td>1.000000</td>\n",
       "      <td>1.0</td>\n",
       "    </tr>\n",
       "  </tbody>\n",
       "</table></div>"
      ],
      "text/plain": [
       "    FPR(Fall-out)_xgb_clf_cv  TPRate(Recall)_xgb_clf_cv\n",
       "0                   0.000000                        0.0\n",
       "1                   0.006098                        0.0\n",
       "2                   0.060976                        0.0\n",
       "3                   0.085366                        0.4\n",
       "4                   0.164634                        0.4\n",
       "5                   0.164634                        0.5\n",
       "6                   0.256098                        0.5\n",
       "7                   0.268293                        0.5\n",
       "8                   0.274390                        0.5\n",
       "9                   0.274390                        0.6\n",
       "10                  0.280488                        0.6\n",
       "11                  0.280488                        0.7\n",
       "12                  0.304878                        0.7\n",
       "13                  0.317073                        0.7\n",
       "14                  0.493902                        0.7\n",
       "15                  0.506098                        0.7\n",
       "16                  0.621951                        0.7\n",
       "17                  0.640244                        0.7\n",
       "18                  0.737805                        0.7\n",
       "19                  0.762195                        0.8\n",
       "20                  0.768293                        0.8\n",
       "21                  0.774390                        0.9\n",
       "22                  0.890244                        0.9\n",
       "23                  0.890244                        1.0\n",
       "24                  1.000000                        1.0"
      ]
     },
     "execution_count": 466,
     "metadata": {},
     "output_type": "execute_result"
    }
   ],
   "source": [
    "# ROC data to a DataFrame\n",
    "from sklearn.metrics import roc_curve\n",
    "\n",
    "models = ['xgb_clf_cv']\n",
    "roc = pd.DataFrame()\n",
    "\n",
    "for m in models:\n",
    "    y_pred_proba_test = locals()[m].predict_proba(X_test_tfidf)[:, 1]\n",
    "    fpr, tpr, thresholds = roc_curve(y_test, y_pred_proba_test)\n",
    "    roc = pd.concat([\n",
    "        roc,\n",
    "        pd.DataFrame({\n",
    "            f'FPR(Fall-out)_{m}': fpr,\n",
    "            f'TPRate(Recall)_{m}': tpr,\n",
    "            f'Threshold_{m}': thresholds\n",
    "        })\n",
    "    ],\n",
    "              axis=1)\n",
    "\n",
    "roc.drop(roc.columns[roc.columns.str.contains('Threshold')], axis = 1, inplace = True)\n",
    "roc"
   ]
  },
  {
   "cell_type": "code",
   "execution_count": 467,
   "id": "276d4bc2",
   "metadata": {
    "ExecuteTime": {
     "end_time": "2022-02-19T00:05:41.391423Z",
     "start_time": "2022-02-19T00:05:41.274041Z"
    }
   },
   "outputs": [
    {
     "data": {
      "image/png": "[encoded data removed]",
      "text/plain": [
       "<Figure size 648x432 with 1 Axes>"
      ]
     },
     "metadata": {},
     "output_type": "display_data"
    }
   ],
   "source": [
    "# comparing ROC curves\n",
    "mpl.rcParams['figure.figsize'] = (9, 6)\n",
    "sns.set_context('talk', font_scale = 1)\n",
    "\n",
    "plt.plot(roc['FPR(Fall-out)_xgb_clf_cv'], roc['TPRate(Recall)_xgb_clf_cv'], label = 'XGB')\n",
    "\n",
    "plt.xlabel(\"FPR (Fall-out)\")\n",
    "plt.ylabel(\"TPR (Recall)\")\n",
    "plt.title('ROC Curves')\n",
    "plt.legend(loc = 'best')\n",
    "plt.show()"
   ]
  },
  {
   "cell_type": "code",
   "execution_count": null,
   "id": "30f03be5",
   "metadata": {},
   "outputs": [],
   "source": []
  },
  {
   "cell_type": "markdown",
   "id": "dd8125fb",
   "metadata": {},
   "source": [
    "## Precision-Recall Curve"
   ]
  },
  {
   "cell_type": "code",
   "execution_count": 470,
   "id": "89c43b1b",
   "metadata": {
    "ExecuteTime": {
     "end_time": "2022-02-19T00:05:50.382742Z",
     "start_time": "2022-02-19T00:05:50.347207Z"
    }
   },
   "outputs": [
    {
     "data": {
      "text/html": [
       "<div><div id=31cced73-3af2-41d5-a84c-f09761884075 style=\"display:none; background-color:#9D6CFF; color:white; width:200px; height:30px; padding-left:5px; border-radius:4px; flex-direction:row; justify-content:space-around; align-items:center;\" onmouseover=\"this.style.backgroundColor='#BA9BF8'\" onmouseout=\"this.style.backgroundColor='#9D6CFF'\" onclick=\"window.commands?.execute('create-mitosheet-from-dataframe-output');\">See Full Dataframe in Mito</div> <script> if (window.commands.hasCommand('create-mitosheet-from-dataframe-output')) document.getElementById('31cced73-3af2-41d5-a84c-f09761884075').style.display = 'flex' </script> <table border=\"1\" class=\"dataframe\">\n",
       "  <thead>\n",
       "    <tr style=\"text-align: right;\">\n",
       "      <th></th>\n",
       "      <th>Precision_xgb_clf_cv</th>\n",
       "      <th>Recall_xgb_clf_cv</th>\n",
       "    </tr>\n",
       "  </thead>\n",
       "  <tbody>\n",
       "    <tr>\n",
       "      <th>0</th>\n",
       "      <td>0.064103</td>\n",
       "      <td>1.0</td>\n",
       "    </tr>\n",
       "    <tr>\n",
       "      <th>1</th>\n",
       "      <td>0.058065</td>\n",
       "      <td>0.9</td>\n",
       "    </tr>\n",
       "    <tr>\n",
       "      <th>2</th>\n",
       "      <td>0.058442</td>\n",
       "      <td>0.9</td>\n",
       "    </tr>\n",
       "    <tr>\n",
       "      <th>3</th>\n",
       "      <td>0.058824</td>\n",
       "      <td>0.9</td>\n",
       "    </tr>\n",
       "    <tr>\n",
       "      <th>4</th>\n",
       "      <td>0.059211</td>\n",
       "      <td>0.9</td>\n",
       "    </tr>\n",
       "    <tr>\n",
       "      <th>...</th>\n",
       "      <td>...</td>\n",
       "      <td>...</td>\n",
       "    </tr>\n",
       "    <tr>\n",
       "      <th>135</th>\n",
       "      <td>0.000000</td>\n",
       "      <td>0.0</td>\n",
       "    </tr>\n",
       "    <tr>\n",
       "      <th>136</th>\n",
       "      <td>0.000000</td>\n",
       "      <td>0.0</td>\n",
       "    </tr>\n",
       "    <tr>\n",
       "      <th>137</th>\n",
       "      <td>0.000000</td>\n",
       "      <td>0.0</td>\n",
       "    </tr>\n",
       "    <tr>\n",
       "      <th>138</th>\n",
       "      <td>0.000000</td>\n",
       "      <td>0.0</td>\n",
       "    </tr>\n",
       "    <tr>\n",
       "      <th>139</th>\n",
       "      <td>1.000000</td>\n",
       "      <td>0.0</td>\n",
       "    </tr>\n",
       "  </tbody>\n",
       "</table></div>"
      ],
      "text/plain": [
       "     Precision_xgb_clf_cv  Recall_xgb_clf_cv\n",
       "0                0.064103                1.0\n",
       "1                0.058065                0.9\n",
       "2                0.058442                0.9\n",
       "3                0.058824                0.9\n",
       "4                0.059211                0.9\n",
       "..                    ...                ...\n",
       "135              0.000000                0.0\n",
       "136              0.000000                0.0\n",
       "137              0.000000                0.0\n",
       "138              0.000000                0.0\n",
       "139              1.000000                0.0\n",
       "\n",
       "[140 rows x 2 columns]"
      ]
     },
     "execution_count": 470,
     "metadata": {},
     "output_type": "execute_result"
    }
   ],
   "source": [
    "# Precision-Recall data to a DataFrame\n",
    "from sklearn.metrics import precision_recall_curve\n",
    "\n",
    "models = ['xgb_clf_cv']\n",
    "pr = pd.DataFrame()\n",
    "\n",
    "for m in models:\n",
    "    y_pred_proba_test = locals()[m].predict_proba(X_test_tfidf)[:, 1]\n",
    "    precision, recall, thresholds = precision_recall_curve(y_test, y_pred_proba_test)\n",
    "    pr = pd.concat([\n",
    "        pr,\n",
    "        pd.DataFrame({\n",
    "            f'Precision_{m}': precision,\n",
    "            f'Recall_{m}': recall\n",
    "        })\n",
    "    ],\n",
    "                   axis=1)\n",
    "\n",
    "pr.drop(pr.columns[pr.columns.str.contains('Threshold')], axis=1, inplace=True)\n",
    "pr"
   ]
  },
  {
   "cell_type": "code",
   "execution_count": 471,
   "id": "df749854",
   "metadata": {
    "ExecuteTime": {
     "end_time": "2022-02-19T00:05:51.073739Z",
     "start_time": "2022-02-19T00:05:50.930124Z"
    }
   },
   "outputs": [
    {
     "data": {
      "image/png": "[encoded data removed]",
      "text/plain": [
       "<Figure size 648x432 with 1 Axes>"
      ]
     },
     "metadata": {},
     "output_type": "display_data"
    }
   ],
   "source": [
    "# comparing PR curves\n",
    "mpl.rcParams['figure.figsize'] = (9, 6)\n",
    "sns.set_context('talk', font_scale = 1)\n",
    "\n",
    "plt.plot(pr['Recall_xgb_clf_cv'], pr['Precision_xgb_clf_cv'], label = 'XGB')\n",
    "\n",
    "plt.xlabel(\"Recall\")\n",
    "plt.ylabel(\"Precision\")\n",
    "plt.title('Precision-Recall Curves')\n",
    "plt.legend(loc = 'best')\n",
    "plt.show()"
   ]
  },
  {
   "cell_type": "markdown",
   "id": "56084ced",
   "metadata": {},
   "source": [
    "> Both ROC and PR curves show a model that is not very skillful, most probably due to low number of observations for calss 1."
   ]
  }
 ],
 "metadata": {
  "kernelspec": {
   "display_name": "Python 3 (ipykernel)",
   "language": "python",
   "name": "python3"
  },
  "language_info": {
   "codemirror_mode": {
    "name": "ipython",
    "version": 3
   },
   "file_extension": ".py",
   "mimetype": "text/x-python",
   "name": "python",
   "nbconvert_exporter": "python",
   "pygments_lexer": "ipython3",
   "version": "3.8.12"
  },
  "toc": {
   "base_numbering": 1,
   "nav_menu": {},
   "number_sections": true,
   "sideBar": true,
   "skip_h1_title": false,
   "title_cell": "Table of Contents",
   "title_sidebar": "Contents",
   "toc_cell": false,
   "toc_position": {},
   "toc_section_display": true,
   "toc_window_display": true
  }
 },
 "nbformat": 4,
 "nbformat_minor": 5
}
