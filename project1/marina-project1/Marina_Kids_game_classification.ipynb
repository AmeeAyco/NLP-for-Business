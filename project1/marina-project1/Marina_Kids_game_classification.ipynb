{
  "nbformat": 4,
  "nbformat_minor": 0,
  "metadata": {
    "colab": {
      "name": "Marina_Kids-game-classification.ipynb",
      "provenance": [],
      "collapsed_sections": [],
      "toc_visible": true
    },
    "kernelspec": {
      "name": "python3",
      "display_name": "Python 3"
    },
    "language_info": {
      "name": "python"
    }
  },
  "cells": [
    {
      "cell_type": "markdown",
      "source": [
        "# Kids Game Classification with NLP\n",
        "\n",
        "*by [Marina Villaschi](https://www.linkedin.com/in/marinavillaschi)*"
      ],
      "metadata": {
        "id": "voDTc7UwILHI"
      }
    },
    {
      "cell_type": "code",
      "execution_count": 41,
      "metadata": {
        "id": "jtbCA4ux5uhU",
        "colab": {
          "base_uri": "https://localhost:8080/"
        },
        "outputId": "1182f548-327b-4e17-c8d7-2d34274d3d2d"
      },
      "outputs": [
        {
          "output_type": "stream",
          "name": "stdout",
          "text": [
            "[nltk_data] Downloading package stopwords to /root/nltk_data...\n",
            "[nltk_data]   Package stopwords is already up-to-date!\n",
            "[nltk_data] Downloading package punkt to /root/nltk_data...\n",
            "[nltk_data]   Package punkt is already up-to-date!\n",
            "[nltk_data] Downloading package wordnet to /root/nltk_data...\n",
            "[nltk_data]   Package wordnet is already up-to-date!\n"
          ]
        }
      ],
      "source": [
        "import pandas as pd\n",
        "import numpy as np\n",
        "import matplotlib.pyplot as plt\n",
        "import seaborn as sns\n",
        "np.random.seed(2018)\n",
        "\n",
        "import gensim\n",
        "from gensim.utils import simple_preprocess\n",
        "from gensim.parsing.preprocessing import STOPWORDS, remove_stopwords\n",
        "from nltk.stem import WordNetLemmatizer, SnowballStemmer\n",
        "from nltk.stem.porter import *\n",
        "\n",
        "import nltk\n",
        "nltk.download('stopwords')\n",
        "nltk.download('punkt')\n",
        "nltk.download('wordnet')\n",
        "\n",
        "from sklearn.model_selection import cross_val_score\n",
        "from sklearn.model_selection import cross_val_predict\n",
        "from sklearn.metrics import confusion_matrix\n",
        "from sklearn.model_selection import KFold\n",
        "from sklearn.model_selection import GridSearchCV, RandomizedSearchCV\n",
        "\n",
        "from sklearn.feature_extraction.text import CountVectorizer, TfidfVectorizer\n",
        "from sklearn.model_selection import train_test_split\n",
        "from sklearn.naive_bayes import MultinomialNB\n",
        "from sklearn.svm import LinearSVC, SVC\n",
        "from sklearn import metrics\n",
        "from sklearn.ensemble import RandomForestClassifier, AdaBoostClassifier, BaggingClassifier, GradientBoostingClassifier\n",
        "\n",
        "# setting seed for project\n",
        "seed = 2018"
      ]
    },
    {
      "cell_type": "code",
      "source": [
        "from google.colab import drive\n",
        "drive.mount('/content/drive', force_remount=True)"
      ],
      "metadata": {
        "colab": {
          "base_uri": "https://localhost:8080/"
        },
        "id": "dueOEYS053rE",
        "outputId": "a62389ff-f30c-4b5a-98f3-15bf9993a602"
      },
      "execution_count": 2,
      "outputs": [
        {
          "output_type": "stream",
          "name": "stdout",
          "text": [
            "Mounted at /content/drive\n"
          ]
        }
      ]
    },
    {
      "cell_type": "code",
      "source": [
        "# read scrapped review data\n",
        "df= pd.read_csv('/content/drive/MyDrive/NLP Omdena/game_reviews - game_reviews.csv')\n",
        "df.shape"
      ],
      "metadata": {
        "id": "RADNtBV5zDIx",
        "colab": {
          "base_uri": "https://localhost:8080/"
        },
        "outputId": "765695e3-6a00-4b30-e297-16d672df0ee7"
      },
      "execution_count": 10,
      "outputs": [
        {
          "output_type": "execute_result",
          "data": {
            "text/plain": [
              "(561, 3)"
            ]
          },
          "metadata": {},
          "execution_count": 10
        }
      ]
    },
    {
      "cell_type": "code",
      "source": [
        "df.head()"
      ],
      "metadata": {
        "colab": {
          "base_uri": "https://localhost:8080/",
          "height": 206
        },
        "id": "kJeAc5C0zFQe",
        "outputId": "0b894649-efc6-4238-e1df-9b61f6933480"
      },
      "execution_count": 12,
      "outputs": [
        {
          "output_type": "execute_result",
          "data": {
            "text/html": [
              "\n",
              "  <div id=\"df-90f756cd-7e18-4e82-813a-6c5f0aff0b9d\">\n",
              "    <div class=\"colab-df-container\">\n",
              "      <div>\n",
              "<style scoped>\n",
              "    .dataframe tbody tr th:only-of-type {\n",
              "        vertical-align: middle;\n",
              "    }\n",
              "\n",
              "    .dataframe tbody tr th {\n",
              "        vertical-align: top;\n",
              "    }\n",
              "\n",
              "    .dataframe thead th {\n",
              "        text-align: right;\n",
              "    }\n",
              "</style>\n",
              "<table border=\"1\" class=\"dataframe\">\n",
              "  <thead>\n",
              "    <tr style=\"text-align: right;\">\n",
              "      <th></th>\n",
              "      <th>author age</th>\n",
              "      <th>recommended age</th>\n",
              "      <th>review</th>\n",
              "    </tr>\n",
              "  </thead>\n",
              "  <tbody>\n",
              "    <tr>\n",
              "      <th>0</th>\n",
              "      <td>Teen, 17 years old</td>\n",
              "      <td>age 7+</td>\n",
              "      <td>Kids dont listent to the parents saying ''ThIs...</td>\n",
              "    </tr>\n",
              "    <tr>\n",
              "      <th>1</th>\n",
              "      <td>Kid, 11 years old</td>\n",
              "      <td>age 2+</td>\n",
              "      <td>I have been playing this game for many years a...</td>\n",
              "    </tr>\n",
              "    <tr>\n",
              "      <th>2</th>\n",
              "      <td>Kid, 12 years old</td>\n",
              "      <td>age 7+</td>\n",
              "      <td>The game is great with no true inappropriate t...</td>\n",
              "    </tr>\n",
              "    <tr>\n",
              "      <th>3</th>\n",
              "      <td>Teen, 13 years old</td>\n",
              "      <td>age 5+</td>\n",
              "      <td>Are you sure you got common sense. I would giv...</td>\n",
              "    </tr>\n",
              "    <tr>\n",
              "      <th>4</th>\n",
              "      <td>Kid, 10 years old</td>\n",
              "      <td>age 5+</td>\n",
              "      <td>IDK WHAT TO SAY BUT DIS IS DA BEST GAME EVA</td>\n",
              "    </tr>\n",
              "  </tbody>\n",
              "</table>\n",
              "</div>\n",
              "      <button class=\"colab-df-convert\" onclick=\"convertToInteractive('df-90f756cd-7e18-4e82-813a-6c5f0aff0b9d')\"\n",
              "              title=\"Convert this dataframe to an interactive table.\"\n",
              "              style=\"display:none;\">\n",
              "        \n",
              "  <svg xmlns=\"http://www.w3.org/2000/svg\" height=\"24px\"viewBox=\"0 0 24 24\"\n",
              "       width=\"24px\">\n",
              "    <path d=\"M0 0h24v24H0V0z\" fill=\"none\"/>\n",
              "    <path d=\"M18.56 5.44l.94 2.06.94-2.06 2.06-.94-2.06-.94-.94-2.06-.94 2.06-2.06.94zm-11 1L8.5 8.5l.94-2.06 2.06-.94-2.06-.94L8.5 2.5l-.94 2.06-2.06.94zm10 10l.94 2.06.94-2.06 2.06-.94-2.06-.94-.94-2.06-.94 2.06-2.06.94z\"/><path d=\"M17.41 7.96l-1.37-1.37c-.4-.4-.92-.59-1.43-.59-.52 0-1.04.2-1.43.59L10.3 9.45l-7.72 7.72c-.78.78-.78 2.05 0 2.83L4 21.41c.39.39.9.59 1.41.59.51 0 1.02-.2 1.41-.59l7.78-7.78 2.81-2.81c.8-.78.8-2.07 0-2.86zM5.41 20L4 18.59l7.72-7.72 1.47 1.35L5.41 20z\"/>\n",
              "  </svg>\n",
              "      </button>\n",
              "      \n",
              "  <style>\n",
              "    .colab-df-container {\n",
              "      display:flex;\n",
              "      flex-wrap:wrap;\n",
              "      gap: 12px;\n",
              "    }\n",
              "\n",
              "    .colab-df-convert {\n",
              "      background-color: #E8F0FE;\n",
              "      border: none;\n",
              "      border-radius: 50%;\n",
              "      cursor: pointer;\n",
              "      display: none;\n",
              "      fill: #1967D2;\n",
              "      height: 32px;\n",
              "      padding: 0 0 0 0;\n",
              "      width: 32px;\n",
              "    }\n",
              "\n",
              "    .colab-df-convert:hover {\n",
              "      background-color: #E2EBFA;\n",
              "      box-shadow: 0px 1px 2px rgba(60, 64, 67, 0.3), 0px 1px 3px 1px rgba(60, 64, 67, 0.15);\n",
              "      fill: #174EA6;\n",
              "    }\n",
              "\n",
              "    [theme=dark] .colab-df-convert {\n",
              "      background-color: #3B4455;\n",
              "      fill: #D2E3FC;\n",
              "    }\n",
              "\n",
              "    [theme=dark] .colab-df-convert:hover {\n",
              "      background-color: #434B5C;\n",
              "      box-shadow: 0px 1px 3px 1px rgba(0, 0, 0, 0.15);\n",
              "      filter: drop-shadow(0px 1px 2px rgba(0, 0, 0, 0.3));\n",
              "      fill: #FFFFFF;\n",
              "    }\n",
              "  </style>\n",
              "\n",
              "      <script>\n",
              "        const buttonEl =\n",
              "          document.querySelector('#df-90f756cd-7e18-4e82-813a-6c5f0aff0b9d button.colab-df-convert');\n",
              "        buttonEl.style.display =\n",
              "          google.colab.kernel.accessAllowed ? 'block' : 'none';\n",
              "\n",
              "        async function convertToInteractive(key) {\n",
              "          const element = document.querySelector('#df-90f756cd-7e18-4e82-813a-6c5f0aff0b9d');\n",
              "          const dataTable =\n",
              "            await google.colab.kernel.invokeFunction('convertToInteractive',\n",
              "                                                     [key], {});\n",
              "          if (!dataTable) return;\n",
              "\n",
              "          const docLinkHtml = 'Like what you see? Visit the ' +\n",
              "            '<a target=\"_blank\" href=https://colab.research.google.com/notebooks/data_table.ipynb>data table notebook</a>'\n",
              "            + ' to learn more about interactive tables.';\n",
              "          element.innerHTML = '';\n",
              "          dataTable['output_type'] = 'display_data';\n",
              "          await google.colab.output.renderOutput(dataTable, element);\n",
              "          const docLink = document.createElement('div');\n",
              "          docLink.innerHTML = docLinkHtml;\n",
              "          element.appendChild(docLink);\n",
              "        }\n",
              "      </script>\n",
              "    </div>\n",
              "  </div>\n",
              "  "
            ],
            "text/plain": [
              "           author age  ...                                             review\n",
              "0  Teen, 17 years old  ...  Kids dont listent to the parents saying ''ThIs...\n",
              "1   Kid, 11 years old  ...  I have been playing this game for many years a...\n",
              "2   Kid, 12 years old  ...  The game is great with no true inappropriate t...\n",
              "3  Teen, 13 years old  ...  Are you sure you got common sense. I would giv...\n",
              "4   Kid, 10 years old  ...        IDK WHAT TO SAY BUT DIS IS DA BEST GAME EVA\n",
              "\n",
              "[5 rows x 3 columns]"
            ]
          },
          "metadata": {},
          "execution_count": 12
        }
      ]
    },
    {
      "cell_type": "code",
      "source": [
        "df.dtypes"
      ],
      "metadata": {
        "colab": {
          "base_uri": "https://localhost:8080/"
        },
        "id": "w9J7TrcPJIDx",
        "outputId": "550e56da-12b6-4192-c71a-e70dfcb65c4a"
      },
      "execution_count": 17,
      "outputs": [
        {
          "output_type": "execute_result",
          "data": {
            "text/plain": [
              "author age         object\n",
              "recommended age    object\n",
              "review             object\n",
              "dtype: object"
            ]
          },
          "metadata": {},
          "execution_count": 17
        }
      ]
    },
    {
      "cell_type": "markdown",
      "source": [
        "## Step 1 - Labeling data"
      ],
      "metadata": {
        "id": "3eeP-wGwInCj"
      }
    },
    {
      "cell_type": "code",
      "source": [
        "df['recommended age'] = df['recommended age'].str.replace(\"age \",\"\")\n",
        "df['recommended age'] = df['recommended age'].str.replace(\"+\",\"\")\n",
        "df['recommended age'] = df['recommended age'].astype(int)"
      ],
      "metadata": {
        "colab": {
          "base_uri": "https://localhost:8080/"
        },
        "id": "V6Jnob1jJM7a",
        "outputId": "c63aea35-d696-482c-f89d-c9d5b9751610"
      },
      "execution_count": 18,
      "outputs": [
        {
          "output_type": "stream",
          "name": "stderr",
          "text": [
            "/usr/local/lib/python3.7/dist-packages/ipykernel_launcher.py:2: FutureWarning: The default value of regex will change from True to False in a future version. In addition, single character regular expressions will *not* be treated as literal strings when regex=True.\n",
            "  \n"
          ]
        }
      ]
    },
    {
      "cell_type": "code",
      "source": [
        "# checking the types of columns\n",
        "df.dtypes"
      ],
      "metadata": {
        "colab": {
          "base_uri": "https://localhost:8080/"
        },
        "id": "XcK2b0q-KDyf",
        "outputId": "2d49b297-5bc4-419e-9653-f83d57036fce"
      },
      "execution_count": 20,
      "outputs": [
        {
          "output_type": "execute_result",
          "data": {
            "text/plain": [
              "author age         object\n",
              "recommended age     int64\n",
              "review             object\n",
              "dtype: object"
            ]
          },
          "metadata": {},
          "execution_count": 20
        }
      ]
    },
    {
      "cell_type": "code",
      "source": [
        "# great! now our recommended age column is int and we can finally make a label column based on it\n",
        "# creating a label column where 1 is suitable for kids (less than 10yo) and 0 is not suitable (ok for kids 10+)\n",
        "df['label'] = np.where(df['recommended age'] <10 , 1, 0)"
      ],
      "metadata": {
        "id": "SE1bYg6UI4AB"
      },
      "execution_count": 21,
      "outputs": []
    },
    {
      "cell_type": "code",
      "source": [
        "# making sure we only get the non na reviews rows for the final dataset\n",
        "df = df[~df.review.isna()]\n",
        "df"
      ],
      "metadata": {
        "colab": {
          "base_uri": "https://localhost:8080/",
          "height": 424
        },
        "id": "CKqLbR_JOWZu",
        "outputId": "a75b20ec-c106-415a-ee38-318c97a8f945"
      },
      "execution_count": 33,
      "outputs": [
        {
          "output_type": "execute_result",
          "data": {
            "text/html": [
              "\n",
              "  <div id=\"df-e1dd3fbc-2982-4d1f-a9b0-bfd8f3a7e339\">\n",
              "    <div class=\"colab-df-container\">\n",
              "      <div>\n",
              "<style scoped>\n",
              "    .dataframe tbody tr th:only-of-type {\n",
              "        vertical-align: middle;\n",
              "    }\n",
              "\n",
              "    .dataframe tbody tr th {\n",
              "        vertical-align: top;\n",
              "    }\n",
              "\n",
              "    .dataframe thead th {\n",
              "        text-align: right;\n",
              "    }\n",
              "</style>\n",
              "<table border=\"1\" class=\"dataframe\">\n",
              "  <thead>\n",
              "    <tr style=\"text-align: right;\">\n",
              "      <th></th>\n",
              "      <th>author age</th>\n",
              "      <th>recommended age</th>\n",
              "      <th>review</th>\n",
              "      <th>label</th>\n",
              "    </tr>\n",
              "  </thead>\n",
              "  <tbody>\n",
              "    <tr>\n",
              "      <th>0</th>\n",
              "      <td>Teen, 17 years old</td>\n",
              "      <td>7</td>\n",
              "      <td>Kids dont listent to the parents saying ''ThIs...</td>\n",
              "      <td>1</td>\n",
              "    </tr>\n",
              "    <tr>\n",
              "      <th>1</th>\n",
              "      <td>Kid, 11 years old</td>\n",
              "      <td>2</td>\n",
              "      <td>I have been playing this game for many years a...</td>\n",
              "      <td>1</td>\n",
              "    </tr>\n",
              "    <tr>\n",
              "      <th>2</th>\n",
              "      <td>Kid, 12 years old</td>\n",
              "      <td>7</td>\n",
              "      <td>The game is great with no true inappropriate t...</td>\n",
              "      <td>1</td>\n",
              "    </tr>\n",
              "    <tr>\n",
              "      <th>3</th>\n",
              "      <td>Teen, 13 years old</td>\n",
              "      <td>5</td>\n",
              "      <td>Are you sure you got common sense. I would giv...</td>\n",
              "      <td>1</td>\n",
              "    </tr>\n",
              "    <tr>\n",
              "      <th>4</th>\n",
              "      <td>Kid, 10 years old</td>\n",
              "      <td>5</td>\n",
              "      <td>IDK WHAT TO SAY BUT DIS IS DA BEST GAME EVA</td>\n",
              "      <td>1</td>\n",
              "    </tr>\n",
              "    <tr>\n",
              "      <th>...</th>\n",
              "      <td>...</td>\n",
              "      <td>...</td>\n",
              "      <td>...</td>\n",
              "      <td>...</td>\n",
              "    </tr>\n",
              "    <tr>\n",
              "      <th>556</th>\n",
              "      <td>Teen, 14 years old</td>\n",
              "      <td>7</td>\n",
              "      <td>Wow. Just wow. Common Sense, THIS GAME IS IN A...</td>\n",
              "      <td>1</td>\n",
              "    </tr>\n",
              "    <tr>\n",
              "      <th>557</th>\n",
              "      <td>Teen, 13 years old</td>\n",
              "      <td>4</td>\n",
              "      <td>A quite popular gem on the app store/google pl...</td>\n",
              "      <td>1</td>\n",
              "    </tr>\n",
              "    <tr>\n",
              "      <th>558</th>\n",
              "      <td>Kid, 12 years old</td>\n",
              "      <td>2</td>\n",
              "      <td>It's a abhorrent try by Mojang, though a excel...</td>\n",
              "      <td>1</td>\n",
              "    </tr>\n",
              "    <tr>\n",
              "      <th>559</th>\n",
              "      <td>Teen, 15 years old</td>\n",
              "      <td>6</td>\n",
              "      <td>Minecraft: Pocket Edition is an app which you ...</td>\n",
              "      <td>1</td>\n",
              "    </tr>\n",
              "    <tr>\n",
              "      <th>560</th>\n",
              "      <td>Kid, 11 years old</td>\n",
              "      <td>4</td>\n",
              "      <td>Give it a little time CommonSense, the game is...</td>\n",
              "      <td>1</td>\n",
              "    </tr>\n",
              "  </tbody>\n",
              "</table>\n",
              "<p>526 rows × 4 columns</p>\n",
              "</div>\n",
              "      <button class=\"colab-df-convert\" onclick=\"convertToInteractive('df-e1dd3fbc-2982-4d1f-a9b0-bfd8f3a7e339')\"\n",
              "              title=\"Convert this dataframe to an interactive table.\"\n",
              "              style=\"display:none;\">\n",
              "        \n",
              "  <svg xmlns=\"http://www.w3.org/2000/svg\" height=\"24px\"viewBox=\"0 0 24 24\"\n",
              "       width=\"24px\">\n",
              "    <path d=\"M0 0h24v24H0V0z\" fill=\"none\"/>\n",
              "    <path d=\"M18.56 5.44l.94 2.06.94-2.06 2.06-.94-2.06-.94-.94-2.06-.94 2.06-2.06.94zm-11 1L8.5 8.5l.94-2.06 2.06-.94-2.06-.94L8.5 2.5l-.94 2.06-2.06.94zm10 10l.94 2.06.94-2.06 2.06-.94-2.06-.94-.94-2.06-.94 2.06-2.06.94z\"/><path d=\"M17.41 7.96l-1.37-1.37c-.4-.4-.92-.59-1.43-.59-.52 0-1.04.2-1.43.59L10.3 9.45l-7.72 7.72c-.78.78-.78 2.05 0 2.83L4 21.41c.39.39.9.59 1.41.59.51 0 1.02-.2 1.41-.59l7.78-7.78 2.81-2.81c.8-.78.8-2.07 0-2.86zM5.41 20L4 18.59l7.72-7.72 1.47 1.35L5.41 20z\"/>\n",
              "  </svg>\n",
              "      </button>\n",
              "      \n",
              "  <style>\n",
              "    .colab-df-container {\n",
              "      display:flex;\n",
              "      flex-wrap:wrap;\n",
              "      gap: 12px;\n",
              "    }\n",
              "\n",
              "    .colab-df-convert {\n",
              "      background-color: #E8F0FE;\n",
              "      border: none;\n",
              "      border-radius: 50%;\n",
              "      cursor: pointer;\n",
              "      display: none;\n",
              "      fill: #1967D2;\n",
              "      height: 32px;\n",
              "      padding: 0 0 0 0;\n",
              "      width: 32px;\n",
              "    }\n",
              "\n",
              "    .colab-df-convert:hover {\n",
              "      background-color: #E2EBFA;\n",
              "      box-shadow: 0px 1px 2px rgba(60, 64, 67, 0.3), 0px 1px 3px 1px rgba(60, 64, 67, 0.15);\n",
              "      fill: #174EA6;\n",
              "    }\n",
              "\n",
              "    [theme=dark] .colab-df-convert {\n",
              "      background-color: #3B4455;\n",
              "      fill: #D2E3FC;\n",
              "    }\n",
              "\n",
              "    [theme=dark] .colab-df-convert:hover {\n",
              "      background-color: #434B5C;\n",
              "      box-shadow: 0px 1px 3px 1px rgba(0, 0, 0, 0.15);\n",
              "      filter: drop-shadow(0px 1px 2px rgba(0, 0, 0, 0.3));\n",
              "      fill: #FFFFFF;\n",
              "    }\n",
              "  </style>\n",
              "\n",
              "      <script>\n",
              "        const buttonEl =\n",
              "          document.querySelector('#df-e1dd3fbc-2982-4d1f-a9b0-bfd8f3a7e339 button.colab-df-convert');\n",
              "        buttonEl.style.display =\n",
              "          google.colab.kernel.accessAllowed ? 'block' : 'none';\n",
              "\n",
              "        async function convertToInteractive(key) {\n",
              "          const element = document.querySelector('#df-e1dd3fbc-2982-4d1f-a9b0-bfd8f3a7e339');\n",
              "          const dataTable =\n",
              "            await google.colab.kernel.invokeFunction('convertToInteractive',\n",
              "                                                     [key], {});\n",
              "          if (!dataTable) return;\n",
              "\n",
              "          const docLinkHtml = 'Like what you see? Visit the ' +\n",
              "            '<a target=\"_blank\" href=https://colab.research.google.com/notebooks/data_table.ipynb>data table notebook</a>'\n",
              "            + ' to learn more about interactive tables.';\n",
              "          element.innerHTML = '';\n",
              "          dataTable['output_type'] = 'display_data';\n",
              "          await google.colab.output.renderOutput(dataTable, element);\n",
              "          const docLink = document.createElement('div');\n",
              "          docLink.innerHTML = docLinkHtml;\n",
              "          element.appendChild(docLink);\n",
              "        }\n",
              "      </script>\n",
              "    </div>\n",
              "  </div>\n",
              "  "
            ],
            "text/plain": [
              "             author age  ...  label\n",
              "0    Teen, 17 years old  ...      1\n",
              "1     Kid, 11 years old  ...      1\n",
              "2     Kid, 12 years old  ...      1\n",
              "3    Teen, 13 years old  ...      1\n",
              "4     Kid, 10 years old  ...      1\n",
              "..                  ...  ...    ...\n",
              "556  Teen, 14 years old  ...      1\n",
              "557  Teen, 13 years old  ...      1\n",
              "558   Kid, 12 years old  ...      1\n",
              "559  Teen, 15 years old  ...      1\n",
              "560   Kid, 11 years old  ...      1\n",
              "\n",
              "[526 rows x 4 columns]"
            ]
          },
          "metadata": {},
          "execution_count": 33
        }
      ]
    },
    {
      "cell_type": "code",
      "source": [
        "# plotting the distribution of the target column\n",
        "fig, ax = plt.subplots(figsize=(4,4))\n",
        "sns.countplot(x=df['label'], ax=ax)\n",
        "ax.set_title('Target distribution', size = 15)\n",
        "plt.tight_layout()\n",
        "\n",
        "df.label.value_counts(ascending=True)"
      ],
      "metadata": {
        "colab": {
          "base_uri": "https://localhost:8080/",
          "height": 349
        },
        "id": "Q2sC8LWHKX45",
        "outputId": "58c9ee5f-2386-4b80-dcbc-d6856e5db4fb"
      },
      "execution_count": 34,
      "outputs": [
        {
          "output_type": "execute_result",
          "data": {
            "text/plain": [
              "0     55\n",
              "1    471\n",
              "Name: label, dtype: int64"
            ]
          },
          "metadata": {},
          "execution_count": 34
        },
        {
          "output_type": "display_data",
          "data": {
            "image/png": "[encoded data removed]",
            "text/plain": [
              "<Figure size 288x288 with 1 Axes>"
            ]
          },
          "metadata": {
            "needs_background": "light"
          }
        }
      ]
    },
    {
      "cell_type": "markdown",
      "source": [
        "## Step 2 - Tokenize"
      ],
      "metadata": {
        "id": "ZnNkxXaQITfh"
      }
    },
    {
      "cell_type": "code",
      "source": [
        "# nlp pre-processing\n",
        "stemmer = SnowballStemmer('english')\n",
        "\n",
        "def lemmatize_stemming(text):\n",
        "    return stemmer.stem(WordNetLemmatizer().lemmatize(text, pos='v'))\n",
        "\n",
        "def preprocess(text):\n",
        "    result = []\n",
        "    for token in gensim.utils.simple_preprocess(text):\n",
        "        if token not in gensim.parsing.preprocessing.STOPWORDS:\n",
        "            result.append(lemmatize_stemming(token))\n",
        "    return str(result)"
      ],
      "metadata": {
        "id": "wVo7m0NgIqUr"
      },
      "execution_count": 36,
      "outputs": []
    },
    {
      "cell_type": "code",
      "source": [
        "# making a tokens column\n",
        "df['tokens'] = df.review.map(preprocess)"
      ],
      "metadata": {
        "colab": {
          "base_uri": "https://localhost:8080/"
        },
        "id": "Tx1G8RhiWd0s",
        "outputId": "e51bd674-6697-46e8-a903-f0a5a4b7fe03"
      },
      "execution_count": 39,
      "outputs": [
        {
          "output_type": "stream",
          "name": "stderr",
          "text": [
            "/usr/local/lib/python3.7/dist-packages/ipykernel_launcher.py:2: SettingWithCopyWarning: \n",
            "A value is trying to be set on a copy of a slice from a DataFrame.\n",
            "Try using .loc[row_indexer,col_indexer] = value instead\n",
            "\n",
            "See the caveats in the documentation: https://pandas.pydata.org/pandas-docs/stable/user_guide/indexing.html#returning-a-view-versus-a-copy\n",
            "  \n"
          ]
        }
      ]
    },
    {
      "cell_type": "markdown",
      "source": [
        "## Step 3 - Modeling"
      ],
      "metadata": {
        "id": "uYTiQMAhXC9h"
      }
    },
    {
      "cell_type": "code",
      "source": [
        "# define custom functions for machine learning\n",
        "\n",
        "def crossvalidate_classifier(model, X, y, cm=False):\n",
        "    \n",
        "    scores = cross_val_score(model, X, y, scoring='f1_macro', cv=5)\n",
        "    #scores = cross_val_score(model, X, y, scoring='accuracy', cv=5)\n",
        "    print(\"%0.2f f-1 score with a standard deviation of %0.2f\" % (scores.mean(), scores.std()))\n",
        "    y_pred = cross_val_predict(model, X, y, cv=5)\n",
        "\n",
        "    if(cm):\n",
        "        conf_mat = confusion_matrix(y, y_pred, labels=['fulfillment','other'])\n",
        "        plot_confusion_matrix(conf_mat, classes = ['fulfillment','other'])\n",
        "    \n",
        "def evaluate_classifier(model, X_train, X_test, y_train, y_test):\n",
        "      \n",
        "    # ... fit your model here ...\n",
        "    model.fit(X_train,y_train)\n",
        "\n",
        "    # Run predict on your tfidf test data to get your predictions\n",
        "    pred = model.predict(X_test)\n",
        "\n",
        "    # Calculate your accuracy using the metrics module\n",
        "    acc_score = metrics.accuracy_score(pred, y_test)\n",
        "    print(\"Accuracy Score:   %0.3f\" % acc_score)\n",
        "    \n",
        "    f1score = metrics.f1_score(pred, y_test, average='macro')\n",
        "    print(\"F-1 Score:   %0.3f\" % f1score)\n",
        "\n",
        "    # Calculate the confusion matrices for the tfidf_svc model\n",
        "    #svc_cm = metrics.confusion_matrix(y_test, pred, labels=['fulfillment','other'])\n",
        "\n",
        "    # Plot the confusion matrix using the plot_confusion_matrix function\n",
        "    #plot_confusion_matrix(svc_cm, classes = ['fulfillment','other'], title=\"Confusion Matrix\")\n",
        "    \n",
        "    return model\n",
        "\n",
        "def best_hyperparam(X_train_data, X_test_data, y_train_data, y_test_data, \n",
        "                       model, param_grid, cv=5, scoring_fit='f1_score',\n",
        "                       do_probabilities = False):\n",
        "    gs = RandomizedSearchCV(\n",
        "        estimator=model,\n",
        "        param_grid=param_grid, \n",
        "        cv=cv, \n",
        "        n_jobs=-1, \n",
        "        scoring=scoring_fit,\n",
        "        verbose=2\n",
        "    )\n",
        "    fitted_model = gs.fit(X_train_data, y_train_data, epochs=100)\n",
        "    \n",
        "    if do_probabilities:\n",
        "      pred = fitted_model.predict_proba(X_test_data)\n",
        "    else:\n",
        "      pred = fitted_model.predict(X_test_data)\n",
        "    \n",
        "    return fitted_model, pred"
      ],
      "metadata": {
        "id": "iQ66DWUuOSlY"
      },
      "execution_count": 42,
      "outputs": []
    },
    {
      "cell_type": "code",
      "source": [
        "# making the feature and target\n",
        "X = df['tokens']\n",
        "y= df['label']"
      ],
      "metadata": {
        "id": "4UIOcFa9XIs8"
      },
      "execution_count": 43,
      "outputs": []
    },
    {
      "cell_type": "code",
      "source": [
        "# split training and testing sets\n",
        "X_train, X_test, y_train, y_test = train_test_split(X, y, random_state=seed, test_size=0.2, shuffle=True, stratify=y)"
      ],
      "metadata": {
        "id": "3EKMP54qXpy7"
      },
      "execution_count": 46,
      "outputs": []
    },
    {
      "cell_type": "code",
      "source": [
        "# count vectorizer\n",
        "count_vectorizer = CountVectorizer(stop_words='english', max_df=0.9, min_df=0.05)\n",
        "\n",
        "# make count train and count test variables\n",
        "count_train = count_vectorizer.fit_transform(X_train)\n",
        "count_test = count_vectorizer.transform(X_test)\n",
        "\n",
        "# tfidf vectorizer\n",
        "tfidf_vectorizer = TfidfVectorizer(stop_words='english', max_df=0.9, min_df=0.05)\n",
        "\n",
        "# make tfidf train and tfidf test variables\n",
        "tfidf_train = tfidf_vectorizer.fit_transform(X_train)\n",
        "tfidf_test = tfidf_vectorizer.transform(X_test)"
      ],
      "metadata": {
        "id": "Q7bmP0r2YpG1"
      },
      "execution_count": 50,
      "outputs": []
    },
    {
      "cell_type": "code",
      "source": [
        "print(count_train.shape, tfidf_train.shape)"
      ],
      "metadata": {
        "colab": {
          "base_uri": "https://localhost:8080/"
        },
        "id": "h9l8UwBTY9Wd",
        "outputId": "fab95220-b235-455f-84e1-7d7b5af78903"
      },
      "execution_count": 51,
      "outputs": [
        {
          "output_type": "stream",
          "name": "stdout",
          "text": [
            "(420, 91) (420, 91)\n"
          ]
        }
      ]
    },
    {
      "cell_type": "code",
      "source": [
        "print(count_vectorizer.vocabulary_)"
      ],
      "metadata": {
        "colab": {
          "base_uri": "https://localhost:8080/"
        },
        "id": "A6zO6ZdwZAvt",
        "outputId": "b92bf9ff-bd86-4a30-b627-fc94f6d6854f"
      },
      "execution_count": 52,
      "outputs": [
        {
          "output_type": "stream",
          "name": "stdout",
          "text": [
            "{'build': 10, 'like': 41, 'server': 68, 'edit': 23, 'game': 29, 'way': 85, 'want': 84, 'peopl': 58, 'play': 59, 'minecraft': 46, 'great': 31, 'littl': 42, 'onlin': 53, 'worri': 87, 'lot': 43, 'friend': 27, 'stuff': 70, 'swear': 72, 'fun': 28, 'creativ': 18, 'make': 45, 'think': 75, 'updat': 79, 'bad': 4, 'better': 6, 'bite': 7, 'parent': 55, 'kill': 36, 'anim': 3, 'real': 63, 'life': 40, 'let': 39, 'kid': 35, 'pretti': 62, 'age': 0, 'come': 15, 'learn': 38, 'red': 65, 'worth': 88, 'good': 30, 'recommend': 64, 'children': 14, 'time': 76, 'buy': 11, 'world': 86, 'overal': 54, 'easi': 22, 'surviv': 71, 'mode': 48, 'know': 37, 'violenc': 82, 'food': 26, 'year': 89, 'old': 52, 'thing': 74, 'creat': 17, 'amaz': 2, 'chat': 12, 'love': 44, 'blood': 9, 'block': 8, 'monster': 49, 'hit': 33, 'tri': 77, 'hard': 32, 'use': 80, 'multiplay': 50, 'zombi': 90, 'scari': 67, 'educ': 24, 'child': 13, 'allow': 1, 'turn': 78, 'dont': 21, 'start': 69, 'sword': 73, 'best': 5, 'say': 66, 'player': 60, 'need': 51, 'violent': 83, 'pocket': 61, 'pc': 56, 'version': 81, 'hous': 34, 'fight': 25, 'peac': 57, 'die': 19, 'differ': 20, 'cool': 16, 'mob': 47}\n"
          ]
        }
      ]
    },
    {
      "cell_type": "code",
      "source": [
        "# random forest\n",
        "# using bag of words\n",
        "crossvalidate_classifier(RandomForestClassifier(), count_train, y_train)"
      ],
      "metadata": {
        "colab": {
          "base_uri": "https://localhost:8080/"
        },
        "id": "wBrbHj14ZESU",
        "outputId": "62d34417-8ecc-49e9-a14f-7b6df5d16dd5"
      },
      "execution_count": 53,
      "outputs": [
        {
          "output_type": "stream",
          "name": "stdout",
          "text": [
            "0.56 f-1 score with a standard deviation of 0.06\n"
          ]
        }
      ]
    },
    {
      "cell_type": "code",
      "source": [
        "# random forest\n",
        "# using tfidf\n",
        "crossvalidate_classifier(RandomForestClassifier(), tfidf_train, y_train)"
      ],
      "metadata": {
        "colab": {
          "base_uri": "https://localhost:8080/"
        },
        "id": "dH65pXOMZGrN",
        "outputId": "c5fa6f71-b416-4273-84e4-5bddcbf99a0b"
      },
      "execution_count": 54,
      "outputs": [
        {
          "output_type": "stream",
          "name": "stdout",
          "text": [
            "0.51 f-1 score with a standard deviation of 0.05\n"
          ]
        }
      ]
    },
    {
      "cell_type": "code",
      "source": [
        "# gradient boosting\n",
        "# using bag of words\n",
        "crossvalidate_classifier(GradientBoostingClassifier(), count_train, y_train)"
      ],
      "metadata": {
        "colab": {
          "base_uri": "https://localhost:8080/"
        },
        "id": "-zkw_9B3ZJft",
        "outputId": "6f6e363d-5fdd-47b0-a7df-fe1e7f7a2795"
      },
      "execution_count": 55,
      "outputs": [
        {
          "output_type": "stream",
          "name": "stdout",
          "text": [
            "0.47 f-1 score with a standard deviation of 0.00\n"
          ]
        }
      ]
    },
    {
      "cell_type": "code",
      "source": [
        "# gradient boosting\n",
        "# using tfidf\n",
        "crossvalidate_classifier(GradientBoostingClassifier(), tfidf_train, y_train)"
      ],
      "metadata": {
        "colab": {
          "base_uri": "https://localhost:8080/"
        },
        "id": "egmMfkAYZrBS",
        "outputId": "88587ba8-af3b-4d31-e99b-d83bc87c3bc6"
      },
      "execution_count": 56,
      "outputs": [
        {
          "output_type": "stream",
          "name": "stdout",
          "text": [
            "0.58 f-1 score with a standard deviation of 0.09\n"
          ]
        }
      ]
    },
    {
      "cell_type": "markdown",
      "source": [
        "## Conclusion\n",
        "\n",
        "The Gradient Boosting Classifier using tfidf showed the best results."
      ],
      "metadata": {
        "id": "mcTBTksCbGrE"
      }
    }
  ]
}