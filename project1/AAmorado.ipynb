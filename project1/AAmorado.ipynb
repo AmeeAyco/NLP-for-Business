{
  "cells": [
    {
      "cell_type": "markdown",
      "source": [
        "# Project 1\n",
        "**Name**: Adriane Mikko Amorado<br>\n",
        "**Course Name**: Solving Business Problems with NLP<br>\n",
        "**Instructor**: Juber Rahman\n",
        "\n",
        "For this project, I opted to use the dataset provided in the slack channel via google drive that was shared to the learners. I tried to predict if the review was written by a kid or a teen.\n"
      ],
      "metadata": {
        "id": "O4AYyAlkhZIq"
      },
      "id": "O4AYyAlkhZIq"
    },
    {
      "cell_type": "markdown",
      "source": [
        "## Import tools"
      ],
      "metadata": {
        "id": "VC7crq4dasDZ"
      },
      "id": "VC7crq4dasDZ"
    },
    {
      "cell_type": "code",
      "execution_count": 1,
      "id": "different-lighter",
      "metadata": {
        "id": "different-lighter",
        "colab": {
          "base_uri": "https://localhost:8080/"
        },
        "outputId": "d403a43b-d7d5-4b2d-d839-b48dfc3bf001"
      },
      "outputs": [
        {
          "output_type": "stream",
          "name": "stdout",
          "text": [
            "[nltk_data] Downloading package stopwords to /root/nltk_data...\n",
            "[nltk_data]   Package stopwords is already up-to-date!\n",
            "[nltk_data] Downloading package averaged_perceptron_tagger to\n",
            "[nltk_data]     /root/nltk_data...\n",
            "[nltk_data]   Package averaged_perceptron_tagger is already up-to-\n",
            "[nltk_data]       date!\n",
            "[nltk_data] Downloading package wordnet to /root/nltk_data...\n",
            "[nltk_data]   Package wordnet is already up-to-date!\n"
          ]
        },
        {
          "output_type": "execute_result",
          "data": {
            "text/plain": [
              "True"
            ]
          },
          "metadata": {},
          "execution_count": 1
        }
      ],
      "source": [
        "import pandas as pd\n",
        "import numpy as np\n",
        "import matplotlib.pyplot as plt\n",
        "\n",
        "from sklearn.model_selection import train_test_split\n",
        "from sklearn.feature_extraction.text import CountVectorizer\n",
        "from sklearn.feature_extraction.text import TfidfVectorizer\n",
        "from sklearn.ensemble import GradientBoostingClassifier\n",
        "from sklearn.pipeline import Pipeline\n",
        "\n",
        "import nltk\n",
        "from nltk.corpus import stopwords\n",
        "from nltk.tokenize import RegexpTokenizer\n",
        "from nltk.stem import WordNetLemmatizer\n",
        "\n",
        "nltk.download('stopwords')\n",
        "nltk.download('averaged_perceptron_tagger')\n",
        "nltk.download('wordnet')"
      ]
    },
    {
      "cell_type": "markdown",
      "source": [
        "## Part A\n",
        "Prepare a dataset for online games classification. Scrape game reviews from commonsense media https://www.commonsensemedia.org/game-reviews. You may use ParseHub software for the scraping following this tutorial https://www.parsehub.com/blog/web-scraper-tutorial/\n",
        "\n",
        "Manually label each row (game review) as safe or adult"
      ],
      "metadata": {
        "id": "bHE7KTHDhuSW"
      },
      "id": "bHE7KTHDhuSW"
    },
    {
      "cell_type": "code",
      "source": [
        "from google.colab import drive\n",
        "drive.mount('/content/drive')"
      ],
      "metadata": {
        "colab": {
          "base_uri": "https://localhost:8080/"
        },
        "id": "REmoLstrhx5E",
        "outputId": "68a4fb48-92f7-460b-f921-05dbfdc4ba7c"
      },
      "id": "REmoLstrhx5E",
      "execution_count": 3,
      "outputs": [
        {
          "output_type": "stream",
          "name": "stdout",
          "text": [
            "Drive already mounted at /content/drive; to attempt to forcibly remount, call drive.mount(\"/content/drive\", force_remount=True).\n"
          ]
        }
      ]
    },
    {
      "cell_type": "code",
      "source": [
        "%cd \"/content/drive/MyDrive/NLP for BP/week 1\""
      ],
      "metadata": {
        "colab": {
          "base_uri": "https://localhost:8080/"
        },
        "id": "3ZJDbB0wiB5K",
        "outputId": "fa2fce91-b569-4fcb-d6d2-68175722dc15"
      },
      "id": "3ZJDbB0wiB5K",
      "execution_count": 4,
      "outputs": [
        {
          "output_type": "stream",
          "name": "stdout",
          "text": [
            "/content/drive/.shortcut-targets-by-id/11XCV4AIVZEkert2XR_xH0ZhxeSjnuqDA/NLP for BP/week 1\n"
          ]
        }
      ]
    },
    {
      "cell_type": "code",
      "source": [
        "# read target class data\n",
        "df = pd.read_csv('game_reviews.csv')"
      ],
      "metadata": {
        "id": "EKGKw5UoiDbp"
      },
      "id": "EKGKw5UoiDbp",
      "execution_count": 5,
      "outputs": []
    },
    {
      "cell_type": "code",
      "source": [
        "df"
      ],
      "metadata": {
        "colab": {
          "base_uri": "https://localhost:8080/",
          "height": 419
        },
        "id": "t30bPYzXiFQB",
        "outputId": "2a7d517c-c8c5-40ae-964f-6d80ead12b2a"
      },
      "id": "t30bPYzXiFQB",
      "execution_count": 6,
      "outputs": [
        {
          "output_type": "execute_result",
          "data": {
            "text/html": [
              "\n",
              "  <div id=\"df-f452d8ff-43e4-4c82-b73c-425efdb02eff\">\n",
              "    <div class=\"colab-df-container\">\n",
              "      <div>\n",
              "<style scoped>\n",
              "    .dataframe tbody tr th:only-of-type {\n",
              "        vertical-align: middle;\n",
              "    }\n",
              "\n",
              "    .dataframe tbody tr th {\n",
              "        vertical-align: top;\n",
              "    }\n",
              "\n",
              "    .dataframe thead th {\n",
              "        text-align: right;\n",
              "    }\n",
              "</style>\n",
              "<table border=\"1\" class=\"dataframe\">\n",
              "  <thead>\n",
              "    <tr style=\"text-align: right;\">\n",
              "      <th></th>\n",
              "      <th>selection1_name</th>\n",
              "      <th>selection1_selection2</th>\n",
              "      <th>selection1_selection3</th>\n",
              "    </tr>\n",
              "  </thead>\n",
              "  <tbody>\n",
              "    <tr>\n",
              "      <th>0</th>\n",
              "      <td>Teen, 17 years old</td>\n",
              "      <td>age 7+</td>\n",
              "      <td>Kids dont listent to the parents saying ''ThIs...</td>\n",
              "    </tr>\n",
              "    <tr>\n",
              "      <th>1</th>\n",
              "      <td>Kid, 11 years old</td>\n",
              "      <td>age 2+</td>\n",
              "      <td>I have been playing this game for many years a...</td>\n",
              "    </tr>\n",
              "    <tr>\n",
              "      <th>2</th>\n",
              "      <td>Kid, 12 years old</td>\n",
              "      <td>age 7+</td>\n",
              "      <td>The game is great with no true inappropriate t...</td>\n",
              "    </tr>\n",
              "    <tr>\n",
              "      <th>3</th>\n",
              "      <td>Teen, 13 years old</td>\n",
              "      <td>age 5+</td>\n",
              "      <td>Are you sure you got common sense. I would giv...</td>\n",
              "    </tr>\n",
              "    <tr>\n",
              "      <th>4</th>\n",
              "      <td>Kid, 10 years old</td>\n",
              "      <td>age 5+</td>\n",
              "      <td>IDK WHAT TO SAY BUT DIS IS DA BEST GAME EVA</td>\n",
              "    </tr>\n",
              "    <tr>\n",
              "      <th>...</th>\n",
              "      <td>...</td>\n",
              "      <td>...</td>\n",
              "      <td>...</td>\n",
              "    </tr>\n",
              "    <tr>\n",
              "      <th>556</th>\n",
              "      <td>Teen, 14 years old</td>\n",
              "      <td>age 7+</td>\n",
              "      <td>Wow. Just wow. Common Sense, THIS GAME IS IN A...</td>\n",
              "    </tr>\n",
              "    <tr>\n",
              "      <th>557</th>\n",
              "      <td>Teen, 13 years old</td>\n",
              "      <td>age 4+</td>\n",
              "      <td>A quite popular gem on the app store/google pl...</td>\n",
              "    </tr>\n",
              "    <tr>\n",
              "      <th>558</th>\n",
              "      <td>Kid, 12 years old</td>\n",
              "      <td>age 2+</td>\n",
              "      <td>It's a abhorrent try by Mojang, though a excel...</td>\n",
              "    </tr>\n",
              "    <tr>\n",
              "      <th>559</th>\n",
              "      <td>Teen, 15 years old</td>\n",
              "      <td>age 6+</td>\n",
              "      <td>Minecraft: Pocket Edition is an app which you ...</td>\n",
              "    </tr>\n",
              "    <tr>\n",
              "      <th>560</th>\n",
              "      <td>Kid, 11 years old</td>\n",
              "      <td>age 4+</td>\n",
              "      <td>Give it a little time CommonSense, the game is...</td>\n",
              "    </tr>\n",
              "  </tbody>\n",
              "</table>\n",
              "<p>561 rows × 3 columns</p>\n",
              "</div>\n",
              "      <button class=\"colab-df-convert\" onclick=\"convertToInteractive('df-f452d8ff-43e4-4c82-b73c-425efdb02eff')\"\n",
              "              title=\"Convert this dataframe to an interactive table.\"\n",
              "              style=\"display:none;\">\n",
              "        \n",
              "  <svg xmlns=\"http://www.w3.org/2000/svg\" height=\"24px\"viewBox=\"0 0 24 24\"\n",
              "       width=\"24px\">\n",
              "    <path d=\"M0 0h24v24H0V0z\" fill=\"none\"/>\n",
              "    <path d=\"M18.56 5.44l.94 2.06.94-2.06 2.06-.94-2.06-.94-.94-2.06-.94 2.06-2.06.94zm-11 1L8.5 8.5l.94-2.06 2.06-.94-2.06-.94L8.5 2.5l-.94 2.06-2.06.94zm10 10l.94 2.06.94-2.06 2.06-.94-2.06-.94-.94-2.06-.94 2.06-2.06.94z\"/><path d=\"M17.41 7.96l-1.37-1.37c-.4-.4-.92-.59-1.43-.59-.52 0-1.04.2-1.43.59L10.3 9.45l-7.72 7.72c-.78.78-.78 2.05 0 2.83L4 21.41c.39.39.9.59 1.41.59.51 0 1.02-.2 1.41-.59l7.78-7.78 2.81-2.81c.8-.78.8-2.07 0-2.86zM5.41 20L4 18.59l7.72-7.72 1.47 1.35L5.41 20z\"/>\n",
              "  </svg>\n",
              "      </button>\n",
              "      \n",
              "  <style>\n",
              "    .colab-df-container {\n",
              "      display:flex;\n",
              "      flex-wrap:wrap;\n",
              "      gap: 12px;\n",
              "    }\n",
              "\n",
              "    .colab-df-convert {\n",
              "      background-color: #E8F0FE;\n",
              "      border: none;\n",
              "      border-radius: 50%;\n",
              "      cursor: pointer;\n",
              "      display: none;\n",
              "      fill: #1967D2;\n",
              "      height: 32px;\n",
              "      padding: 0 0 0 0;\n",
              "      width: 32px;\n",
              "    }\n",
              "\n",
              "    .colab-df-convert:hover {\n",
              "      background-color: #E2EBFA;\n",
              "      box-shadow: 0px 1px 2px rgba(60, 64, 67, 0.3), 0px 1px 3px 1px rgba(60, 64, 67, 0.15);\n",
              "      fill: #174EA6;\n",
              "    }\n",
              "\n",
              "    [theme=dark] .colab-df-convert {\n",
              "      background-color: #3B4455;\n",
              "      fill: #D2E3FC;\n",
              "    }\n",
              "\n",
              "    [theme=dark] .colab-df-convert:hover {\n",
              "      background-color: #434B5C;\n",
              "      box-shadow: 0px 1px 3px 1px rgba(0, 0, 0, 0.15);\n",
              "      filter: drop-shadow(0px 1px 2px rgba(0, 0, 0, 0.3));\n",
              "      fill: #FFFFFF;\n",
              "    }\n",
              "  </style>\n",
              "\n",
              "      <script>\n",
              "        const buttonEl =\n",
              "          document.querySelector('#df-f452d8ff-43e4-4c82-b73c-425efdb02eff button.colab-df-convert');\n",
              "        buttonEl.style.display =\n",
              "          google.colab.kernel.accessAllowed ? 'block' : 'none';\n",
              "\n",
              "        async function convertToInteractive(key) {\n",
              "          const element = document.querySelector('#df-f452d8ff-43e4-4c82-b73c-425efdb02eff');\n",
              "          const dataTable =\n",
              "            await google.colab.kernel.invokeFunction('convertToInteractive',\n",
              "                                                     [key], {});\n",
              "          if (!dataTable) return;\n",
              "\n",
              "          const docLinkHtml = 'Like what you see? Visit the ' +\n",
              "            '<a target=\"_blank\" href=https://colab.research.google.com/notebooks/data_table.ipynb>data table notebook</a>'\n",
              "            + ' to learn more about interactive tables.';\n",
              "          element.innerHTML = '';\n",
              "          dataTable['output_type'] = 'display_data';\n",
              "          await google.colab.output.renderOutput(dataTable, element);\n",
              "          const docLink = document.createElement('div');\n",
              "          docLink.innerHTML = docLinkHtml;\n",
              "          element.appendChild(docLink);\n",
              "        }\n",
              "      </script>\n",
              "    </div>\n",
              "  </div>\n",
              "  "
            ],
            "text/plain": [
              "        selection1_name  ...                              selection1_selection3\n",
              "0    Teen, 17 years old  ...  Kids dont listent to the parents saying ''ThIs...\n",
              "1     Kid, 11 years old  ...  I have been playing this game for many years a...\n",
              "2     Kid, 12 years old  ...  The game is great with no true inappropriate t...\n",
              "3    Teen, 13 years old  ...  Are you sure you got common sense. I would giv...\n",
              "4     Kid, 10 years old  ...        IDK WHAT TO SAY BUT DIS IS DA BEST GAME EVA\n",
              "..                  ...  ...                                                ...\n",
              "556  Teen, 14 years old  ...  Wow. Just wow. Common Sense, THIS GAME IS IN A...\n",
              "557  Teen, 13 years old  ...  A quite popular gem on the app store/google pl...\n",
              "558   Kid, 12 years old  ...  It's a abhorrent try by Mojang, though a excel...\n",
              "559  Teen, 15 years old  ...  Minecraft: Pocket Edition is an app which you ...\n",
              "560   Kid, 11 years old  ...  Give it a little time CommonSense, the game is...\n",
              "\n",
              "[561 rows x 3 columns]"
            ]
          },
          "metadata": {},
          "execution_count": 6
        }
      ]
    },
    {
      "cell_type": "code",
      "source": [
        "df['label'] = df['selection1_name'].str.split(',', n=1).str[0]"
      ],
      "metadata": {
        "id": "KpEok8t8iFCv"
      },
      "id": "KpEok8t8iFCv",
      "execution_count": 7,
      "outputs": []
    },
    {
      "cell_type": "code",
      "source": [
        "df.dropna(inplace=True)\n",
        "df"
      ],
      "metadata": {
        "colab": {
          "base_uri": "https://localhost:8080/",
          "height": 419
        },
        "id": "SE9PVq58iEze",
        "outputId": "11e531cb-ba31-4065-f376-25c42f413788"
      },
      "id": "SE9PVq58iEze",
      "execution_count": 8,
      "outputs": [
        {
          "output_type": "execute_result",
          "data": {
            "text/html": [
              "\n",
              "  <div id=\"df-d1710fac-56f0-4ca1-b56d-cd20e04281d4\">\n",
              "    <div class=\"colab-df-container\">\n",
              "      <div>\n",
              "<style scoped>\n",
              "    .dataframe tbody tr th:only-of-type {\n",
              "        vertical-align: middle;\n",
              "    }\n",
              "\n",
              "    .dataframe tbody tr th {\n",
              "        vertical-align: top;\n",
              "    }\n",
              "\n",
              "    .dataframe thead th {\n",
              "        text-align: right;\n",
              "    }\n",
              "</style>\n",
              "<table border=\"1\" class=\"dataframe\">\n",
              "  <thead>\n",
              "    <tr style=\"text-align: right;\">\n",
              "      <th></th>\n",
              "      <th>selection1_name</th>\n",
              "      <th>selection1_selection2</th>\n",
              "      <th>selection1_selection3</th>\n",
              "      <th>label</th>\n",
              "    </tr>\n",
              "  </thead>\n",
              "  <tbody>\n",
              "    <tr>\n",
              "      <th>0</th>\n",
              "      <td>Teen, 17 years old</td>\n",
              "      <td>age 7+</td>\n",
              "      <td>Kids dont listent to the parents saying ''ThIs...</td>\n",
              "      <td>Teen</td>\n",
              "    </tr>\n",
              "    <tr>\n",
              "      <th>1</th>\n",
              "      <td>Kid, 11 years old</td>\n",
              "      <td>age 2+</td>\n",
              "      <td>I have been playing this game for many years a...</td>\n",
              "      <td>Kid</td>\n",
              "    </tr>\n",
              "    <tr>\n",
              "      <th>2</th>\n",
              "      <td>Kid, 12 years old</td>\n",
              "      <td>age 7+</td>\n",
              "      <td>The game is great with no true inappropriate t...</td>\n",
              "      <td>Kid</td>\n",
              "    </tr>\n",
              "    <tr>\n",
              "      <th>3</th>\n",
              "      <td>Teen, 13 years old</td>\n",
              "      <td>age 5+</td>\n",
              "      <td>Are you sure you got common sense. I would giv...</td>\n",
              "      <td>Teen</td>\n",
              "    </tr>\n",
              "    <tr>\n",
              "      <th>4</th>\n",
              "      <td>Kid, 10 years old</td>\n",
              "      <td>age 5+</td>\n",
              "      <td>IDK WHAT TO SAY BUT DIS IS DA BEST GAME EVA</td>\n",
              "      <td>Kid</td>\n",
              "    </tr>\n",
              "    <tr>\n",
              "      <th>...</th>\n",
              "      <td>...</td>\n",
              "      <td>...</td>\n",
              "      <td>...</td>\n",
              "      <td>...</td>\n",
              "    </tr>\n",
              "    <tr>\n",
              "      <th>556</th>\n",
              "      <td>Teen, 14 years old</td>\n",
              "      <td>age 7+</td>\n",
              "      <td>Wow. Just wow. Common Sense, THIS GAME IS IN A...</td>\n",
              "      <td>Teen</td>\n",
              "    </tr>\n",
              "    <tr>\n",
              "      <th>557</th>\n",
              "      <td>Teen, 13 years old</td>\n",
              "      <td>age 4+</td>\n",
              "      <td>A quite popular gem on the app store/google pl...</td>\n",
              "      <td>Teen</td>\n",
              "    </tr>\n",
              "    <tr>\n",
              "      <th>558</th>\n",
              "      <td>Kid, 12 years old</td>\n",
              "      <td>age 2+</td>\n",
              "      <td>It's a abhorrent try by Mojang, though a excel...</td>\n",
              "      <td>Kid</td>\n",
              "    </tr>\n",
              "    <tr>\n",
              "      <th>559</th>\n",
              "      <td>Teen, 15 years old</td>\n",
              "      <td>age 6+</td>\n",
              "      <td>Minecraft: Pocket Edition is an app which you ...</td>\n",
              "      <td>Teen</td>\n",
              "    </tr>\n",
              "    <tr>\n",
              "      <th>560</th>\n",
              "      <td>Kid, 11 years old</td>\n",
              "      <td>age 4+</td>\n",
              "      <td>Give it a little time CommonSense, the game is...</td>\n",
              "      <td>Kid</td>\n",
              "    </tr>\n",
              "  </tbody>\n",
              "</table>\n",
              "<p>526 rows × 4 columns</p>\n",
              "</div>\n",
              "      <button class=\"colab-df-convert\" onclick=\"convertToInteractive('df-d1710fac-56f0-4ca1-b56d-cd20e04281d4')\"\n",
              "              title=\"Convert this dataframe to an interactive table.\"\n",
              "              style=\"display:none;\">\n",
              "        \n",
              "  <svg xmlns=\"http://www.w3.org/2000/svg\" height=\"24px\"viewBox=\"0 0 24 24\"\n",
              "       width=\"24px\">\n",
              "    <path d=\"M0 0h24v24H0V0z\" fill=\"none\"/>\n",
              "    <path d=\"M18.56 5.44l.94 2.06.94-2.06 2.06-.94-2.06-.94-.94-2.06-.94 2.06-2.06.94zm-11 1L8.5 8.5l.94-2.06 2.06-.94-2.06-.94L8.5 2.5l-.94 2.06-2.06.94zm10 10l.94 2.06.94-2.06 2.06-.94-2.06-.94-.94-2.06-.94 2.06-2.06.94z\"/><path d=\"M17.41 7.96l-1.37-1.37c-.4-.4-.92-.59-1.43-.59-.52 0-1.04.2-1.43.59L10.3 9.45l-7.72 7.72c-.78.78-.78 2.05 0 2.83L4 21.41c.39.39.9.59 1.41.59.51 0 1.02-.2 1.41-.59l7.78-7.78 2.81-2.81c.8-.78.8-2.07 0-2.86zM5.41 20L4 18.59l7.72-7.72 1.47 1.35L5.41 20z\"/>\n",
              "  </svg>\n",
              "      </button>\n",
              "      \n",
              "  <style>\n",
              "    .colab-df-container {\n",
              "      display:flex;\n",
              "      flex-wrap:wrap;\n",
              "      gap: 12px;\n",
              "    }\n",
              "\n",
              "    .colab-df-convert {\n",
              "      background-color: #E8F0FE;\n",
              "      border: none;\n",
              "      border-radius: 50%;\n",
              "      cursor: pointer;\n",
              "      display: none;\n",
              "      fill: #1967D2;\n",
              "      height: 32px;\n",
              "      padding: 0 0 0 0;\n",
              "      width: 32px;\n",
              "    }\n",
              "\n",
              "    .colab-df-convert:hover {\n",
              "      background-color: #E2EBFA;\n",
              "      box-shadow: 0px 1px 2px rgba(60, 64, 67, 0.3), 0px 1px 3px 1px rgba(60, 64, 67, 0.15);\n",
              "      fill: #174EA6;\n",
              "    }\n",
              "\n",
              "    [theme=dark] .colab-df-convert {\n",
              "      background-color: #3B4455;\n",
              "      fill: #D2E3FC;\n",
              "    }\n",
              "\n",
              "    [theme=dark] .colab-df-convert:hover {\n",
              "      background-color: #434B5C;\n",
              "      box-shadow: 0px 1px 3px 1px rgba(0, 0, 0, 0.15);\n",
              "      filter: drop-shadow(0px 1px 2px rgba(0, 0, 0, 0.3));\n",
              "      fill: #FFFFFF;\n",
              "    }\n",
              "  </style>\n",
              "\n",
              "      <script>\n",
              "        const buttonEl =\n",
              "          document.querySelector('#df-d1710fac-56f0-4ca1-b56d-cd20e04281d4 button.colab-df-convert');\n",
              "        buttonEl.style.display =\n",
              "          google.colab.kernel.accessAllowed ? 'block' : 'none';\n",
              "\n",
              "        async function convertToInteractive(key) {\n",
              "          const element = document.querySelector('#df-d1710fac-56f0-4ca1-b56d-cd20e04281d4');\n",
              "          const dataTable =\n",
              "            await google.colab.kernel.invokeFunction('convertToInteractive',\n",
              "                                                     [key], {});\n",
              "          if (!dataTable) return;\n",
              "\n",
              "          const docLinkHtml = 'Like what you see? Visit the ' +\n",
              "            '<a target=\"_blank\" href=https://colab.research.google.com/notebooks/data_table.ipynb>data table notebook</a>'\n",
              "            + ' to learn more about interactive tables.';\n",
              "          element.innerHTML = '';\n",
              "          dataTable['output_type'] = 'display_data';\n",
              "          await google.colab.output.renderOutput(dataTable, element);\n",
              "          const docLink = document.createElement('div');\n",
              "          docLink.innerHTML = docLinkHtml;\n",
              "          element.appendChild(docLink);\n",
              "        }\n",
              "      </script>\n",
              "    </div>\n",
              "  </div>\n",
              "  "
            ],
            "text/plain": [
              "        selection1_name  ... label\n",
              "0    Teen, 17 years old  ...  Teen\n",
              "1     Kid, 11 years old  ...   Kid\n",
              "2     Kid, 12 years old  ...   Kid\n",
              "3    Teen, 13 years old  ...  Teen\n",
              "4     Kid, 10 years old  ...   Kid\n",
              "..                  ...  ...   ...\n",
              "556  Teen, 14 years old  ...  Teen\n",
              "557  Teen, 13 years old  ...  Teen\n",
              "558   Kid, 12 years old  ...   Kid\n",
              "559  Teen, 15 years old  ...  Teen\n",
              "560   Kid, 11 years old  ...   Kid\n",
              "\n",
              "[526 rows x 4 columns]"
            ]
          },
          "metadata": {},
          "execution_count": 8
        }
      ]
    },
    {
      "cell_type": "markdown",
      "source": [
        "## Part B\n",
        "Train an NLP model for classification Split your data into train and test sets. Preprocess the reviews for tokenization/ stop word removals Prepare two set of embeddings using Bag-of-Words and TF-IDF Train a machine learning model to classify the reviews into safe and adult Evaluate your model on the test set. Compare the performance for each embeddings Upload your notebook in the course GitHub repo."
      ],
      "metadata": {
        "id": "YJASH8E2klki"
      },
      "id": "YJASH8E2klki"
    },
    {
      "cell_type": "code",
      "source": [
        "X_train, X_test, y_train, y_test = train_test_split(\n",
        "    df['selection1_selection3'], df['label'],\n",
        "    random_state=42\n",
        ")"
      ],
      "metadata": {
        "id": "jXWBigwgkf7S"
      },
      "id": "jXWBigwgkf7S",
      "execution_count": 9,
      "outputs": []
    },
    {
      "cell_type": "code",
      "source": [
        "def tokenizer(doc):\n",
        "    \"\"\"Tokenizes docs by applying pos with lemmatizer for each token\"\"\"\n",
        "    tokenizer = RegexpTokenizer(r'(?u)\\b(\\w(?:\\w|\\-)+)\\b')\n",
        "    tokens = tokenizer.tokenize(doc)\n",
        "\n",
        "    postags = [\n",
        "        (token.lower(), 'a' if pos[0] == 'J' else pos[0].lower())\n",
        "        for token, pos in nltk.pos_tag(tokens)\n",
        "        if pos[0] in 'JNVR']\n",
        "    \n",
        "    lemmatizer = WordNetLemmatizer()\n",
        "    lemmas = [lemmatizer.lemmatize(*t) for t in postags]\n",
        "\n",
        "    return lemmas"
      ],
      "metadata": {
        "id": "nj8QuavsrIlS"
      },
      "id": "nj8QuavsrIlS",
      "execution_count": 10,
      "outputs": []
    },
    {
      "cell_type": "markdown",
      "source": [
        "### Bag-of-Words"
      ],
      "metadata": {
        "id": "0llzomIExCbu"
      },
      "id": "0llzomIExCbu"
    },
    {
      "cell_type": "code",
      "source": [
        "bow_pipeline = Pipeline(\n",
        "    [\n",
        "        (\"bow\",\n",
        "         CountVectorizer(tokenizer=tokenizer, stop_words=stopwords.words('english'))\n",
        "        ),\n",
        "        (\"clf\", GradientBoostingClassifier()),\n",
        "    ]\n",
        ")"
      ],
      "metadata": {
        "id": "UjUeSxLzkfzD"
      },
      "id": "UjUeSxLzkfzD",
      "execution_count": 11,
      "outputs": []
    },
    {
      "cell_type": "code",
      "source": [
        "bow_pipeline.fit(X_train, y_train)"
      ],
      "metadata": {
        "colab": {
          "base_uri": "https://localhost:8080/"
        },
        "id": "t8xr0ez-kfq-",
        "outputId": "c4ba1c67-511a-42f8-c15b-5e675d989e0e"
      },
      "id": "t8xr0ez-kfq-",
      "execution_count": 12,
      "outputs": [
        {
          "output_type": "stream",
          "name": "stderr",
          "text": [
            "/usr/local/lib/python3.7/dist-packages/sklearn/feature_extraction/text.py:401: UserWarning: Your stop_words may be inconsistent with your preprocessing. Tokenizing the stop words generated tokens ['far'] not in stop_words.\n",
            "  % sorted(inconsistent)\n"
          ]
        },
        {
          "output_type": "execute_result",
          "data": {
            "text/plain": [
              "Pipeline(steps=[('bow',\n",
              "                 CountVectorizer(stop_words=['i', 'me', 'my', 'myself', 'we',\n",
              "                                             'our', 'ours', 'ourselves', 'you',\n",
              "                                             \"you're\", \"you've\", \"you'll\",\n",
              "                                             \"you'd\", 'your', 'yours',\n",
              "                                             'yourself', 'yourselves', 'he',\n",
              "                                             'him', 'his', 'himself', 'she',\n",
              "                                             \"she's\", 'her', 'hers', 'herself',\n",
              "                                             'it', \"it's\", 'its', 'itself', ...],\n",
              "                                 tokenizer=<function tokenizer at 0x7fb8bd387050>)),\n",
              "                ('clf', GradientBoostingClassifier())])"
            ]
          },
          "metadata": {},
          "execution_count": 12
        }
      ]
    },
    {
      "cell_type": "code",
      "source": [
        "bow_pipeline.score(X_train, y_train), bow_pipeline.score(X_test, y_test)"
      ],
      "metadata": {
        "colab": {
          "base_uri": "https://localhost:8080/"
        },
        "id": "ip5W_p00kfhG",
        "outputId": "7ec45de8-59ae-4a98-ec9c-697b86e5157f"
      },
      "id": "ip5W_p00kfhG",
      "execution_count": 13,
      "outputs": [
        {
          "output_type": "execute_result",
          "data": {
            "text/plain": [
              "(0.8730964467005076, 0.5454545454545454)"
            ]
          },
          "metadata": {},
          "execution_count": 13
        }
      ]
    },
    {
      "cell_type": "markdown",
      "source": [
        "### TF-IDF"
      ],
      "metadata": {
        "id": "WTX8G5CT1QZZ"
      },
      "id": "WTX8G5CT1QZZ"
    },
    {
      "cell_type": "code",
      "source": [
        "tfidf_pipeline = Pipeline(\n",
        "    [\n",
        "        (\"tfidf\",\n",
        "         TfidfVectorizer(tokenizer=tokenizer, stop_words=stopwords.words('english'))\n",
        "        ),\n",
        "        (\"clf\", GradientBoostingClassifier()),\n",
        "    ]\n",
        ")"
      ],
      "metadata": {
        "id": "Av9mVobpkfWM"
      },
      "id": "Av9mVobpkfWM",
      "execution_count": 14,
      "outputs": []
    },
    {
      "cell_type": "code",
      "source": [
        "tfidf_pipeline.fit(X_train, y_train)"
      ],
      "metadata": {
        "colab": {
          "base_uri": "https://localhost:8080/"
        },
        "id": "faFXBW3ykfJe",
        "outputId": "303be9af-14a8-4269-d8e1-f3362b2bf4dd"
      },
      "id": "faFXBW3ykfJe",
      "execution_count": 15,
      "outputs": [
        {
          "output_type": "stream",
          "name": "stderr",
          "text": [
            "/usr/local/lib/python3.7/dist-packages/sklearn/feature_extraction/text.py:401: UserWarning: Your stop_words may be inconsistent with your preprocessing. Tokenizing the stop words generated tokens ['far'] not in stop_words.\n",
            "  % sorted(inconsistent)\n"
          ]
        },
        {
          "output_type": "execute_result",
          "data": {
            "text/plain": [
              "Pipeline(steps=[('tfidf',\n",
              "                 TfidfVectorizer(stop_words=['i', 'me', 'my', 'myself', 'we',\n",
              "                                             'our', 'ours', 'ourselves', 'you',\n",
              "                                             \"you're\", \"you've\", \"you'll\",\n",
              "                                             \"you'd\", 'your', 'yours',\n",
              "                                             'yourself', 'yourselves', 'he',\n",
              "                                             'him', 'his', 'himself', 'she',\n",
              "                                             \"she's\", 'her', 'hers', 'herself',\n",
              "                                             'it', \"it's\", 'its', 'itself', ...],\n",
              "                                 tokenizer=<function tokenizer at 0x7fb8bd387050>)),\n",
              "                ('clf', GradientBoostingClassifier())])"
            ]
          },
          "metadata": {},
          "execution_count": 15
        }
      ]
    },
    {
      "cell_type": "code",
      "source": [
        "tfidf_pipeline.score(X_train, y_train), tfidf_pipeline.score(X_test, y_test)"
      ],
      "metadata": {
        "colab": {
          "base_uri": "https://localhost:8080/"
        },
        "id": "Dkh7n12V0sA9",
        "outputId": "7aea5216-0f16-4d46-c666-f97d089670cb"
      },
      "id": "Dkh7n12V0sA9",
      "execution_count": 16,
      "outputs": [
        {
          "output_type": "execute_result",
          "data": {
            "text/plain": [
              "(0.9441624365482234, 0.5833333333333334)"
            ]
          },
          "metadata": {},
          "execution_count": 16
        }
      ]
    },
    {
      "cell_type": "markdown",
      "source": [
        "## Reference\n",
        "https://omdena.com/blog/internet-safety-children/"
      ],
      "metadata": {
        "id": "qrMpmcQZkube"
      },
      "id": "qrMpmcQZkube"
    }
  ],
  "metadata": {
    "kernelspec": {
      "display_name": "Python 3",
      "language": "python",
      "name": "python3"
    },
    "language_info": {
      "codemirror_mode": {
        "name": "ipython",
        "version": 3
      },
      "file_extension": ".py",
      "mimetype": "text/x-python",
      "name": "python",
      "nbconvert_exporter": "python",
      "pygments_lexer": "ipython3",
      "version": "3.7.10"
    },
    "colab": {
      "name": "NLP for Solving BP-NB-1.ipynb",
      "provenance": [],
      "toc_visible": true
    }
  },
  "nbformat": 4,
  "nbformat_minor": 5
}